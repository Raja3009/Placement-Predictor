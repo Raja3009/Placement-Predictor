{
 "cells": [
  {
   "cell_type": "code",
   "execution_count": 1,
   "id": "2525674b",
   "metadata": {},
   "outputs": [],
   "source": [
    "import pandas as pd\n",
    "import numpy as np\n",
    "import seaborn as sns\n",
    "import matplotlib.pyplot as plt\n",
    "%matplotlib inline"
   ]
  },
  {
   "cell_type": "code",
   "execution_count": 2,
   "id": "2d893e81",
   "metadata": {},
   "outputs": [
    {
     "data": {
      "text/html": [
       "<div>\n",
       "<style scoped>\n",
       "    .dataframe tbody tr th:only-of-type {\n",
       "        vertical-align: middle;\n",
       "    }\n",
       "\n",
       "    .dataframe tbody tr th {\n",
       "        vertical-align: top;\n",
       "    }\n",
       "\n",
       "    .dataframe thead th {\n",
       "        text-align: right;\n",
       "    }\n",
       "</style>\n",
       "<table border=\"1\" class=\"dataframe\">\n",
       "  <thead>\n",
       "    <tr style=\"text-align: right;\">\n",
       "      <th></th>\n",
       "      <th>sl_no</th>\n",
       "      <th>gender</th>\n",
       "      <th>ssc_p</th>\n",
       "      <th>ssc_b</th>\n",
       "      <th>hsc_p</th>\n",
       "      <th>hsc_b</th>\n",
       "      <th>hsc_s</th>\n",
       "      <th>degree_p</th>\n",
       "      <th>degree_t</th>\n",
       "      <th>workex</th>\n",
       "      <th>etest_p</th>\n",
       "      <th>specialisation</th>\n",
       "      <th>status</th>\n",
       "      <th>salary</th>\n",
       "    </tr>\n",
       "  </thead>\n",
       "  <tbody>\n",
       "    <tr>\n",
       "      <th>0</th>\n",
       "      <td>1</td>\n",
       "      <td>M</td>\n",
       "      <td>67.00</td>\n",
       "      <td>Others</td>\n",
       "      <td>91.00</td>\n",
       "      <td>Others</td>\n",
       "      <td>Commerce</td>\n",
       "      <td>58.00</td>\n",
       "      <td>Sci&amp;Tech</td>\n",
       "      <td>No</td>\n",
       "      <td>55.0</td>\n",
       "      <td>Mkt&amp;HR</td>\n",
       "      <td>Placed</td>\n",
       "      <td>270000.0</td>\n",
       "    </tr>\n",
       "    <tr>\n",
       "      <th>1</th>\n",
       "      <td>2</td>\n",
       "      <td>M</td>\n",
       "      <td>79.33</td>\n",
       "      <td>Central</td>\n",
       "      <td>78.33</td>\n",
       "      <td>Others</td>\n",
       "      <td>Science</td>\n",
       "      <td>77.48</td>\n",
       "      <td>Sci&amp;Tech</td>\n",
       "      <td>Yes</td>\n",
       "      <td>86.5</td>\n",
       "      <td>Mkt&amp;Fin</td>\n",
       "      <td>Placed</td>\n",
       "      <td>200000.0</td>\n",
       "    </tr>\n",
       "    <tr>\n",
       "      <th>2</th>\n",
       "      <td>3</td>\n",
       "      <td>M</td>\n",
       "      <td>65.00</td>\n",
       "      <td>Central</td>\n",
       "      <td>68.00</td>\n",
       "      <td>Central</td>\n",
       "      <td>Arts</td>\n",
       "      <td>64.00</td>\n",
       "      <td>Comm&amp;Mgmt</td>\n",
       "      <td>No</td>\n",
       "      <td>75.0</td>\n",
       "      <td>Mkt&amp;Fin</td>\n",
       "      <td>Placed</td>\n",
       "      <td>250000.0</td>\n",
       "    </tr>\n",
       "    <tr>\n",
       "      <th>3</th>\n",
       "      <td>4</td>\n",
       "      <td>M</td>\n",
       "      <td>56.00</td>\n",
       "      <td>Central</td>\n",
       "      <td>52.00</td>\n",
       "      <td>Central</td>\n",
       "      <td>Science</td>\n",
       "      <td>52.00</td>\n",
       "      <td>Sci&amp;Tech</td>\n",
       "      <td>No</td>\n",
       "      <td>66.0</td>\n",
       "      <td>Mkt&amp;HR</td>\n",
       "      <td>Not Placed</td>\n",
       "      <td>NaN</td>\n",
       "    </tr>\n",
       "    <tr>\n",
       "      <th>4</th>\n",
       "      <td>5</td>\n",
       "      <td>M</td>\n",
       "      <td>85.80</td>\n",
       "      <td>Central</td>\n",
       "      <td>73.60</td>\n",
       "      <td>Central</td>\n",
       "      <td>Commerce</td>\n",
       "      <td>73.30</td>\n",
       "      <td>Comm&amp;Mgmt</td>\n",
       "      <td>No</td>\n",
       "      <td>96.8</td>\n",
       "      <td>Mkt&amp;Fin</td>\n",
       "      <td>Placed</td>\n",
       "      <td>425000.0</td>\n",
       "    </tr>\n",
       "  </tbody>\n",
       "</table>\n",
       "</div>"
      ],
      "text/plain": [
       "   sl_no gender  ssc_p    ssc_b  hsc_p    hsc_b     hsc_s  degree_p  \\\n",
       "0      1      M  67.00   Others  91.00   Others  Commerce     58.00   \n",
       "1      2      M  79.33  Central  78.33   Others   Science     77.48   \n",
       "2      3      M  65.00  Central  68.00  Central      Arts     64.00   \n",
       "3      4      M  56.00  Central  52.00  Central   Science     52.00   \n",
       "4      5      M  85.80  Central  73.60  Central  Commerce     73.30   \n",
       "\n",
       "    degree_t workex  etest_p specialisation      status    salary  \n",
       "0   Sci&Tech     No     55.0         Mkt&HR      Placed  270000.0  \n",
       "1   Sci&Tech    Yes     86.5        Mkt&Fin      Placed  200000.0  \n",
       "2  Comm&Mgmt     No     75.0        Mkt&Fin      Placed  250000.0  \n",
       "3   Sci&Tech     No     66.0         Mkt&HR  Not Placed       NaN  \n",
       "4  Comm&Mgmt     No     96.8        Mkt&Fin      Placed  425000.0  "
      ]
     },
     "execution_count": 2,
     "metadata": {},
     "output_type": "execute_result"
    }
   ],
   "source": [
    "df = pd.read_csv('Placement_Data_Full_Class.csv')\n",
    "df.head()"
   ]
  },
  {
   "cell_type": "code",
   "execution_count": 3,
   "id": "a776d552",
   "metadata": {
    "scrolled": true
   },
   "outputs": [
    {
     "name": "stdout",
     "output_type": "stream",
     "text": [
      "<class 'pandas.core.frame.DataFrame'>\n",
      "RangeIndex: 215 entries, 0 to 214\n",
      "Data columns (total 14 columns):\n",
      " #   Column          Non-Null Count  Dtype  \n",
      "---  ------          --------------  -----  \n",
      " 0   sl_no           215 non-null    int64  \n",
      " 1   gender          215 non-null    object \n",
      " 2   ssc_p           215 non-null    float64\n",
      " 3   ssc_b           215 non-null    object \n",
      " 4   hsc_p           215 non-null    float64\n",
      " 5   hsc_b           215 non-null    object \n",
      " 6   hsc_s           215 non-null    object \n",
      " 7   degree_p        215 non-null    float64\n",
      " 8   degree_t        215 non-null    object \n",
      " 9   workex          215 non-null    object \n",
      " 10  etest_p         215 non-null    float64\n",
      " 11  specialisation  215 non-null    object \n",
      " 12  status          215 non-null    object \n",
      " 13  salary          148 non-null    float64\n",
      "dtypes: float64(5), int64(1), object(8)\n",
      "memory usage: 23.6+ KB\n"
     ]
    }
   ],
   "source": [
    "df.info()"
   ]
  },
  {
   "cell_type": "code",
   "execution_count": 4,
   "id": "1c880b62",
   "metadata": {},
   "outputs": [
    {
     "name": "stdout",
     "output_type": "stream",
     "text": [
      "['gender', 'ssc_b', 'hsc_b', 'hsc_s', 'degree_t', 'workex', 'specialisation', 'status'] ['sl_no', 'ssc_p', 'hsc_p', 'degree_p', 'etest_p', 'salary']\n"
     ]
    }
   ],
   "source": [
    "# seperating the categorical and numerical columns\n",
    "\n",
    "catvars = list(df.select_dtypes(include=['object']).columns)\n",
    "\n",
    "numvars = list(df.select_dtypes(include=['int32','int64','float32','float64']).columns)\n",
    "\n",
    "\n",
    "print(catvars,numvars)"
   ]
  },
  {
   "cell_type": "code",
   "execution_count": 5,
   "id": "ec157315",
   "metadata": {
    "scrolled": false
   },
   "outputs": [
    {
     "data": {
      "text/plain": [
       "sl_no              0\n",
       "gender             0\n",
       "ssc_p              0\n",
       "ssc_b              0\n",
       "hsc_p              0\n",
       "hsc_b              0\n",
       "hsc_s              0\n",
       "degree_p           0\n",
       "degree_t           0\n",
       "workex             0\n",
       "etest_p            0\n",
       "specialisation     0\n",
       "status             0\n",
       "salary            67\n",
       "dtype: int64"
      ]
     },
     "execution_count": 5,
     "metadata": {},
     "output_type": "execute_result"
    }
   ],
   "source": [
    "df.isnull().sum()"
   ]
  },
  {
   "cell_type": "markdown",
   "id": "fcf9febc",
   "metadata": {},
   "source": [
    "### Handling Null values"
   ]
  },
  {
   "cell_type": "code",
   "execution_count": 6,
   "id": "2390ae4e",
   "metadata": {},
   "outputs": [
    {
     "data": {
      "text/plain": [
       "(215, 14)"
      ]
     },
     "execution_count": 6,
     "metadata": {},
     "output_type": "execute_result"
    }
   ],
   "source": [
    "df.shape"
   ]
  },
  {
   "cell_type": "code",
   "execution_count": 7,
   "id": "162953cb",
   "metadata": {},
   "outputs": [],
   "source": [
    "def plotdistplot(col):\n",
    "    \n",
    "    plt.figure(figsize=(15,7))\n",
    "    sns.distplot(df['salary'],kde=True,hist=False,label='Actual Salary',color='orange')\n",
    "    sns.distplot(df[col],kde=True,hist=False,label=col,color='black')\n",
    "    "
   ]
  },
  {
   "cell_type": "code",
   "execution_count": 8,
   "id": "2d30055d",
   "metadata": {},
   "outputs": [
    {
     "data": {
      "text/plain": [
       "(300000.0, 22)"
      ]
     },
     "execution_count": 8,
     "metadata": {},
     "output_type": "execute_result"
    }
   ],
   "source": [
    "mostfreq = list(dict(df['salary'].value_counts()).items())[0]\n",
    "mostfreq"
   ]
  },
  {
   "cell_type": "code",
   "execution_count": 9,
   "id": "c1afa735",
   "metadata": {},
   "outputs": [
    {
     "data": {
      "text/plain": [
       "300000.0"
      ]
     },
     "execution_count": 9,
     "metadata": {},
     "output_type": "execute_result"
    }
   ],
   "source": [
    "df['salary'].mode()[0]"
   ]
  },
  {
   "cell_type": "code",
   "execution_count": 10,
   "id": "e97f55cf",
   "metadata": {},
   "outputs": [
    {
     "data": {
      "text/html": [
       "<div>\n",
       "<style scoped>\n",
       "    .dataframe tbody tr th:only-of-type {\n",
       "        vertical-align: middle;\n",
       "    }\n",
       "\n",
       "    .dataframe tbody tr th {\n",
       "        vertical-align: top;\n",
       "    }\n",
       "\n",
       "    .dataframe thead th {\n",
       "        text-align: right;\n",
       "    }\n",
       "</style>\n",
       "<table border=\"1\" class=\"dataframe\">\n",
       "  <thead>\n",
       "    <tr style=\"text-align: right;\">\n",
       "      <th></th>\n",
       "      <th>sl_no</th>\n",
       "      <th>gender</th>\n",
       "      <th>ssc_p</th>\n",
       "      <th>ssc_b</th>\n",
       "      <th>hsc_p</th>\n",
       "      <th>hsc_b</th>\n",
       "      <th>hsc_s</th>\n",
       "      <th>degree_p</th>\n",
       "      <th>degree_t</th>\n",
       "      <th>workex</th>\n",
       "      <th>etest_p</th>\n",
       "      <th>specialisation</th>\n",
       "      <th>status</th>\n",
       "      <th>salary</th>\n",
       "      <th>salary_mean</th>\n",
       "      <th>salary_median</th>\n",
       "      <th>salary_mode</th>\n",
       "    </tr>\n",
       "  </thead>\n",
       "  <tbody>\n",
       "    <tr>\n",
       "      <th>0</th>\n",
       "      <td>1</td>\n",
       "      <td>M</td>\n",
       "      <td>67.00</td>\n",
       "      <td>Others</td>\n",
       "      <td>91.00</td>\n",
       "      <td>Others</td>\n",
       "      <td>Commerce</td>\n",
       "      <td>58.00</td>\n",
       "      <td>Sci&amp;Tech</td>\n",
       "      <td>No</td>\n",
       "      <td>55.0</td>\n",
       "      <td>Mkt&amp;HR</td>\n",
       "      <td>Placed</td>\n",
       "      <td>270000.0</td>\n",
       "      <td>270000.000000</td>\n",
       "      <td>270000.0</td>\n",
       "      <td>270000.0</td>\n",
       "    </tr>\n",
       "    <tr>\n",
       "      <th>1</th>\n",
       "      <td>2</td>\n",
       "      <td>M</td>\n",
       "      <td>79.33</td>\n",
       "      <td>Central</td>\n",
       "      <td>78.33</td>\n",
       "      <td>Others</td>\n",
       "      <td>Science</td>\n",
       "      <td>77.48</td>\n",
       "      <td>Sci&amp;Tech</td>\n",
       "      <td>Yes</td>\n",
       "      <td>86.5</td>\n",
       "      <td>Mkt&amp;Fin</td>\n",
       "      <td>Placed</td>\n",
       "      <td>200000.0</td>\n",
       "      <td>200000.000000</td>\n",
       "      <td>200000.0</td>\n",
       "      <td>200000.0</td>\n",
       "    </tr>\n",
       "    <tr>\n",
       "      <th>2</th>\n",
       "      <td>3</td>\n",
       "      <td>M</td>\n",
       "      <td>65.00</td>\n",
       "      <td>Central</td>\n",
       "      <td>68.00</td>\n",
       "      <td>Central</td>\n",
       "      <td>Arts</td>\n",
       "      <td>64.00</td>\n",
       "      <td>Comm&amp;Mgmt</td>\n",
       "      <td>No</td>\n",
       "      <td>75.0</td>\n",
       "      <td>Mkt&amp;Fin</td>\n",
       "      <td>Placed</td>\n",
       "      <td>250000.0</td>\n",
       "      <td>250000.000000</td>\n",
       "      <td>250000.0</td>\n",
       "      <td>250000.0</td>\n",
       "    </tr>\n",
       "    <tr>\n",
       "      <th>3</th>\n",
       "      <td>4</td>\n",
       "      <td>M</td>\n",
       "      <td>56.00</td>\n",
       "      <td>Central</td>\n",
       "      <td>52.00</td>\n",
       "      <td>Central</td>\n",
       "      <td>Science</td>\n",
       "      <td>52.00</td>\n",
       "      <td>Sci&amp;Tech</td>\n",
       "      <td>No</td>\n",
       "      <td>66.0</td>\n",
       "      <td>Mkt&amp;HR</td>\n",
       "      <td>Not Placed</td>\n",
       "      <td>NaN</td>\n",
       "      <td>288655.405405</td>\n",
       "      <td>265000.0</td>\n",
       "      <td>300000.0</td>\n",
       "    </tr>\n",
       "    <tr>\n",
       "      <th>4</th>\n",
       "      <td>5</td>\n",
       "      <td>M</td>\n",
       "      <td>85.80</td>\n",
       "      <td>Central</td>\n",
       "      <td>73.60</td>\n",
       "      <td>Central</td>\n",
       "      <td>Commerce</td>\n",
       "      <td>73.30</td>\n",
       "      <td>Comm&amp;Mgmt</td>\n",
       "      <td>No</td>\n",
       "      <td>96.8</td>\n",
       "      <td>Mkt&amp;Fin</td>\n",
       "      <td>Placed</td>\n",
       "      <td>425000.0</td>\n",
       "      <td>425000.000000</td>\n",
       "      <td>425000.0</td>\n",
       "      <td>425000.0</td>\n",
       "    </tr>\n",
       "  </tbody>\n",
       "</table>\n",
       "</div>"
      ],
      "text/plain": [
       "   sl_no gender  ssc_p    ssc_b  hsc_p    hsc_b     hsc_s  degree_p  \\\n",
       "0      1      M  67.00   Others  91.00   Others  Commerce     58.00   \n",
       "1      2      M  79.33  Central  78.33   Others   Science     77.48   \n",
       "2      3      M  65.00  Central  68.00  Central      Arts     64.00   \n",
       "3      4      M  56.00  Central  52.00  Central   Science     52.00   \n",
       "4      5      M  85.80  Central  73.60  Central  Commerce     73.30   \n",
       "\n",
       "    degree_t workex  etest_p specialisation      status    salary  \\\n",
       "0   Sci&Tech     No     55.0         Mkt&HR      Placed  270000.0   \n",
       "1   Sci&Tech    Yes     86.5        Mkt&Fin      Placed  200000.0   \n",
       "2  Comm&Mgmt     No     75.0        Mkt&Fin      Placed  250000.0   \n",
       "3   Sci&Tech     No     66.0         Mkt&HR  Not Placed       NaN   \n",
       "4  Comm&Mgmt     No     96.8        Mkt&Fin      Placed  425000.0   \n",
       "\n",
       "     salary_mean  salary_median  salary_mode  \n",
       "0  270000.000000       270000.0     270000.0  \n",
       "1  200000.000000       200000.0     200000.0  \n",
       "2  250000.000000       250000.0     250000.0  \n",
       "3  288655.405405       265000.0     300000.0  \n",
       "4  425000.000000       425000.0     425000.0  "
      ]
     },
     "execution_count": 10,
     "metadata": {},
     "output_type": "execute_result"
    }
   ],
   "source": [
    "df['salary_mean'] = df['salary'].fillna(df['salary'].mean())\n",
    "df['salary_median'] = df['salary'].fillna(df['salary'].median())\n",
    "df['salary_mode'] = df['salary'].fillna(df['salary'].mode()[0])\n",
    "df.head()"
   ]
  },
  {
   "cell_type": "code",
   "execution_count": 11,
   "id": "fb2b4c4f",
   "metadata": {
    "scrolled": true
   },
   "outputs": [
    {
     "name": "stderr",
     "output_type": "stream",
     "text": [
      "C:\\Users\\91939\\anaconda3\\lib\\site-packages\\seaborn\\distributions.py:2557: FutureWarning: `distplot` is a deprecated function and will be removed in a future version. Please adapt your code to use either `displot` (a figure-level function with similar flexibility) or `kdeplot` (an axes-level function for kernel density plots).\n",
      "  warnings.warn(msg, FutureWarning)\n",
      "C:\\Users\\91939\\anaconda3\\lib\\site-packages\\seaborn\\distributions.py:2557: FutureWarning: `distplot` is a deprecated function and will be removed in a future version. Please adapt your code to use either `displot` (a figure-level function with similar flexibility) or `kdeplot` (an axes-level function for kernel density plots).\n",
      "  warnings.warn(msg, FutureWarning)\n",
      "C:\\Users\\91939\\anaconda3\\lib\\site-packages\\seaborn\\distributions.py:2557: FutureWarning: `distplot` is a deprecated function and will be removed in a future version. Please adapt your code to use either `displot` (a figure-level function with similar flexibility) or `kdeplot` (an axes-level function for kernel density plots).\n",
      "  warnings.warn(msg, FutureWarning)\n",
      "C:\\Users\\91939\\anaconda3\\lib\\site-packages\\seaborn\\distributions.py:2557: FutureWarning: `distplot` is a deprecated function and will be removed in a future version. Please adapt your code to use either `displot` (a figure-level function with similar flexibility) or `kdeplot` (an axes-level function for kernel density plots).\n",
      "  warnings.warn(msg, FutureWarning)\n",
      "C:\\Users\\91939\\anaconda3\\lib\\site-packages\\seaborn\\distributions.py:2557: FutureWarning: `distplot` is a deprecated function and will be removed in a future version. Please adapt your code to use either `displot` (a figure-level function with similar flexibility) or `kdeplot` (an axes-level function for kernel density plots).\n",
      "  warnings.warn(msg, FutureWarning)\n",
      "C:\\Users\\91939\\anaconda3\\lib\\site-packages\\seaborn\\distributions.py:2557: FutureWarning: `distplot` is a deprecated function and will be removed in a future version. Please adapt your code to use either `displot` (a figure-level function with similar flexibility) or `kdeplot` (an axes-level function for kernel density plots).\n",
      "  warnings.warn(msg, FutureWarning)\n"
     ]
    },
    {
     "data": {
      "image/png": "[encoded data removed]",
      "text/plain": [
       "<Figure size 1080x504 with 1 Axes>"
      ]
     },
     "metadata": {
      "needs_background": "light"
     },
     "output_type": "display_data"
    },
    {
     "data": {
      "image/png": "[encoded data removed]",
      "text/plain": [
       "<Figure size 1080x504 with 1 Axes>"
      ]
     },
     "metadata": {
      "needs_background": "light"
     },
     "output_type": "display_data"
    },
    {
     "data": {
      "image/png": "[encoded data removed]",
      "text/plain": [
       "<Figure size 1080x504 with 1 Axes>"
      ]
     },
     "metadata": {
      "needs_background": "light"
     },
     "output_type": "display_data"
    }
   ],
   "source": [
    "sallist = ['salary_mean','salary_median','salary_mode']\n",
    "for sal in sallist:\n",
    "    plotdistplot(sal)"
   ]
  },
  {
   "cell_type": "code",
   "execution_count": 12,
   "id": "67b5c71b",
   "metadata": {},
   "outputs": [
    {
     "data": {
      "text/html": [
       "<div>\n",
       "<style scoped>\n",
       "    .dataframe tbody tr th:only-of-type {\n",
       "        vertical-align: middle;\n",
       "    }\n",
       "\n",
       "    .dataframe tbody tr th {\n",
       "        vertical-align: top;\n",
       "    }\n",
       "\n",
       "    .dataframe thead th {\n",
       "        text-align: right;\n",
       "    }\n",
       "</style>\n",
       "<table border=\"1\" class=\"dataframe\">\n",
       "  <thead>\n",
       "    <tr style=\"text-align: right;\">\n",
       "      <th></th>\n",
       "      <th>sl_no</th>\n",
       "      <th>gender</th>\n",
       "      <th>ssc_p</th>\n",
       "      <th>ssc_b</th>\n",
       "      <th>hsc_p</th>\n",
       "      <th>hsc_b</th>\n",
       "      <th>hsc_s</th>\n",
       "      <th>degree_p</th>\n",
       "      <th>degree_t</th>\n",
       "      <th>workex</th>\n",
       "      <th>etest_p</th>\n",
       "      <th>specialisation</th>\n",
       "      <th>status</th>\n",
       "      <th>salary</th>\n",
       "      <th>salary_mean</th>\n",
       "      <th>salary_median</th>\n",
       "      <th>salary_mode</th>\n",
       "    </tr>\n",
       "  </thead>\n",
       "  <tbody>\n",
       "    <tr>\n",
       "      <th>0</th>\n",
       "      <td>1</td>\n",
       "      <td>M</td>\n",
       "      <td>67.00</td>\n",
       "      <td>Others</td>\n",
       "      <td>91.00</td>\n",
       "      <td>Others</td>\n",
       "      <td>Commerce</td>\n",
       "      <td>58.00</td>\n",
       "      <td>Sci&amp;Tech</td>\n",
       "      <td>No</td>\n",
       "      <td>55.0</td>\n",
       "      <td>Mkt&amp;HR</td>\n",
       "      <td>Placed</td>\n",
       "      <td>270000.000000</td>\n",
       "      <td>270000.000000</td>\n",
       "      <td>270000.0</td>\n",
       "      <td>270000.0</td>\n",
       "    </tr>\n",
       "    <tr>\n",
       "      <th>1</th>\n",
       "      <td>2</td>\n",
       "      <td>M</td>\n",
       "      <td>79.33</td>\n",
       "      <td>Central</td>\n",
       "      <td>78.33</td>\n",
       "      <td>Others</td>\n",
       "      <td>Science</td>\n",
       "      <td>77.48</td>\n",
       "      <td>Sci&amp;Tech</td>\n",
       "      <td>Yes</td>\n",
       "      <td>86.5</td>\n",
       "      <td>Mkt&amp;Fin</td>\n",
       "      <td>Placed</td>\n",
       "      <td>200000.000000</td>\n",
       "      <td>200000.000000</td>\n",
       "      <td>200000.0</td>\n",
       "      <td>200000.0</td>\n",
       "    </tr>\n",
       "    <tr>\n",
       "      <th>2</th>\n",
       "      <td>3</td>\n",
       "      <td>M</td>\n",
       "      <td>65.00</td>\n",
       "      <td>Central</td>\n",
       "      <td>68.00</td>\n",
       "      <td>Central</td>\n",
       "      <td>Arts</td>\n",
       "      <td>64.00</td>\n",
       "      <td>Comm&amp;Mgmt</td>\n",
       "      <td>No</td>\n",
       "      <td>75.0</td>\n",
       "      <td>Mkt&amp;Fin</td>\n",
       "      <td>Placed</td>\n",
       "      <td>250000.000000</td>\n",
       "      <td>250000.000000</td>\n",
       "      <td>250000.0</td>\n",
       "      <td>250000.0</td>\n",
       "    </tr>\n",
       "    <tr>\n",
       "      <th>3</th>\n",
       "      <td>4</td>\n",
       "      <td>M</td>\n",
       "      <td>56.00</td>\n",
       "      <td>Central</td>\n",
       "      <td>52.00</td>\n",
       "      <td>Central</td>\n",
       "      <td>Science</td>\n",
       "      <td>52.00</td>\n",
       "      <td>Sci&amp;Tech</td>\n",
       "      <td>No</td>\n",
       "      <td>66.0</td>\n",
       "      <td>Mkt&amp;HR</td>\n",
       "      <td>Not Placed</td>\n",
       "      <td>288655.405405</td>\n",
       "      <td>288655.405405</td>\n",
       "      <td>265000.0</td>\n",
       "      <td>300000.0</td>\n",
       "    </tr>\n",
       "    <tr>\n",
       "      <th>4</th>\n",
       "      <td>5</td>\n",
       "      <td>M</td>\n",
       "      <td>85.80</td>\n",
       "      <td>Central</td>\n",
       "      <td>73.60</td>\n",
       "      <td>Central</td>\n",
       "      <td>Commerce</td>\n",
       "      <td>73.30</td>\n",
       "      <td>Comm&amp;Mgmt</td>\n",
       "      <td>No</td>\n",
       "      <td>96.8</td>\n",
       "      <td>Mkt&amp;Fin</td>\n",
       "      <td>Placed</td>\n",
       "      <td>425000.000000</td>\n",
       "      <td>425000.000000</td>\n",
       "      <td>425000.0</td>\n",
       "      <td>425000.0</td>\n",
       "    </tr>\n",
       "  </tbody>\n",
       "</table>\n",
       "</div>"
      ],
      "text/plain": [
       "   sl_no gender  ssc_p    ssc_b  hsc_p    hsc_b     hsc_s  degree_p  \\\n",
       "0      1      M  67.00   Others  91.00   Others  Commerce     58.00   \n",
       "1      2      M  79.33  Central  78.33   Others   Science     77.48   \n",
       "2      3      M  65.00  Central  68.00  Central      Arts     64.00   \n",
       "3      4      M  56.00  Central  52.00  Central   Science     52.00   \n",
       "4      5      M  85.80  Central  73.60  Central  Commerce     73.30   \n",
       "\n",
       "    degree_t workex  etest_p specialisation      status         salary  \\\n",
       "0   Sci&Tech     No     55.0         Mkt&HR      Placed  270000.000000   \n",
       "1   Sci&Tech    Yes     86.5        Mkt&Fin      Placed  200000.000000   \n",
       "2  Comm&Mgmt     No     75.0        Mkt&Fin      Placed  250000.000000   \n",
       "3   Sci&Tech     No     66.0         Mkt&HR  Not Placed  288655.405405   \n",
       "4  Comm&Mgmt     No     96.8        Mkt&Fin      Placed  425000.000000   \n",
       "\n",
       "     salary_mean  salary_median  salary_mode  \n",
       "0  270000.000000       270000.0     270000.0  \n",
       "1  200000.000000       200000.0     200000.0  \n",
       "2  250000.000000       250000.0     250000.0  \n",
       "3  288655.405405       265000.0     300000.0  \n",
       "4  425000.000000       425000.0     425000.0  "
      ]
     },
     "execution_count": 12,
     "metadata": {},
     "output_type": "execute_result"
    }
   ],
   "source": [
    "# filling the salary with mean\n",
    "\n",
    "df['salary'] = df['salary'].fillna(df['salary'].mean())\n",
    "df.head()"
   ]
  },
  {
   "cell_type": "code",
   "execution_count": 13,
   "id": "b67468ff",
   "metadata": {},
   "outputs": [
    {
     "data": {
      "text/plain": [
       "sl_no             0\n",
       "gender            0\n",
       "ssc_p             0\n",
       "ssc_b             0\n",
       "hsc_p             0\n",
       "hsc_b             0\n",
       "hsc_s             0\n",
       "degree_p          0\n",
       "degree_t          0\n",
       "workex            0\n",
       "etest_p           0\n",
       "specialisation    0\n",
       "status            0\n",
       "salary            0\n",
       "dtype: int64"
      ]
     },
     "execution_count": 13,
     "metadata": {},
     "output_type": "execute_result"
    }
   ],
   "source": [
    "df = df.drop(columns=['salary_mean', 'salary_median', 'salary_mode'],axis=1)\n",
    "df.isnull().sum()"
   ]
  },
  {
   "cell_type": "markdown",
   "id": "81e2e84e",
   "metadata": {},
   "source": [
    "## EDA"
   ]
  },
  {
   "cell_type": "code",
   "execution_count": 14,
   "id": "ace02cd1",
   "metadata": {},
   "outputs": [
    {
     "name": "stderr",
     "output_type": "stream",
     "text": [
      "C:\\Users\\91939\\anaconda3\\lib\\site-packages\\seaborn\\_decorators.py:36: FutureWarning: Pass the following variable as a keyword arg: x. From version 0.12, the only valid positional argument will be `data`, and passing other arguments without an explicit keyword will result in an error or misinterpretation.\n",
      "  warnings.warn(\n"
     ]
    },
    {
     "data": {
      "text/plain": [
       "<AxesSubplot:xlabel='status', ylabel='count'>"
      ]
     },
     "execution_count": 14,
     "metadata": {},
     "output_type": "execute_result"
    },
    {
     "data": {
      "image/png": "[encoded data removed]",
      "text/plain": [
       "<Figure size 432x288 with 1 Axes>"
      ]
     },
     "metadata": {
      "needs_background": "light"
     },
     "output_type": "display_data"
    }
   ],
   "source": [
    "sns.countplot(df['status'],palette='plasma')"
   ]
  },
  {
   "cell_type": "code",
   "execution_count": 15,
   "id": "6f934e89",
   "metadata": {},
   "outputs": [
    {
     "name": "stderr",
     "output_type": "stream",
     "text": [
      "C:\\Users\\91939\\anaconda3\\lib\\site-packages\\seaborn\\_decorators.py:36: FutureWarning: Pass the following variable as a keyword arg: x. From version 0.12, the only valid positional argument will be `data`, and passing other arguments without an explicit keyword will result in an error or misinterpretation.\n",
      "  warnings.warn(\n"
     ]
    },
    {
     "name": "stdout",
     "output_type": "stream",
     "text": [
      "Count Plot for feature gender is shown ↓\n"
     ]
    },
    {
     "data": {
      "image/png": "[encoded data removed]",
      "text/plain": [
       "<Figure size 432x288 with 1 Axes>"
      ]
     },
     "metadata": {
      "needs_background": "light"
     },
     "output_type": "display_data"
    },
    {
     "name": "stdout",
     "output_type": "stream",
     "text": [
      "===========================================================================\n",
      "Count Plot for feature ssc_b is shown ↓\n"
     ]
    },
    {
     "name": "stderr",
     "output_type": "stream",
     "text": [
      "C:\\Users\\91939\\anaconda3\\lib\\site-packages\\seaborn\\_decorators.py:36: FutureWarning: Pass the following variable as a keyword arg: x. From version 0.12, the only valid positional argument will be `data`, and passing other arguments without an explicit keyword will result in an error or misinterpretation.\n",
      "  warnings.warn(\n"
     ]
    },
    {
     "data": {
      "image/png": "[encoded data removed]",
      "text/plain": [
       "<Figure size 432x288 with 1 Axes>"
      ]
     },
     "metadata": {
      "needs_background": "light"
     },
     "output_type": "display_data"
    },
    {
     "name": "stdout",
     "output_type": "stream",
     "text": [
      "===========================================================================\n",
      "Count Plot for feature hsc_b is shown ↓\n"
     ]
    },
    {
     "name": "stderr",
     "output_type": "stream",
     "text": [
      "C:\\Users\\91939\\anaconda3\\lib\\site-packages\\seaborn\\_decorators.py:36: FutureWarning: Pass the following variable as a keyword arg: x. From version 0.12, the only valid positional argument will be `data`, and passing other arguments without an explicit keyword will result in an error or misinterpretation.\n",
      "  warnings.warn(\n"
     ]
    },
    {
     "data": {
      "image/png": "[encoded data removed]",
      "text/plain": [
       "<Figure size 432x288 with 1 Axes>"
      ]
     },
     "metadata": {
      "needs_background": "light"
     },
     "output_type": "display_data"
    },
    {
     "name": "stdout",
     "output_type": "stream",
     "text": [
      "===========================================================================\n",
      "Count Plot for feature hsc_s is shown ↓\n"
     ]
    },
    {
     "name": "stderr",
     "output_type": "stream",
     "text": [
      "C:\\Users\\91939\\anaconda3\\lib\\site-packages\\seaborn\\_decorators.py:36: FutureWarning: Pass the following variable as a keyword arg: x. From version 0.12, the only valid positional argument will be `data`, and passing other arguments without an explicit keyword will result in an error or misinterpretation.\n",
      "  warnings.warn(\n"
     ]
    },
    {
     "data": {
      "image/png": "[encoded data removed]",
      "text/plain": [
       "<Figure size 432x288 with 1 Axes>"
      ]
     },
     "metadata": {
      "needs_background": "light"
     },
     "output_type": "display_data"
    },
    {
     "name": "stderr",
     "output_type": "stream",
     "text": [
      "C:\\Users\\91939\\anaconda3\\lib\\site-packages\\seaborn\\_decorators.py:36: FutureWarning: Pass the following variable as a keyword arg: x. From version 0.12, the only valid positional argument will be `data`, and passing other arguments without an explicit keyword will result in an error or misinterpretation.\n",
      "  warnings.warn(\n"
     ]
    },
    {
     "name": "stdout",
     "output_type": "stream",
     "text": [
      "===========================================================================\n",
      "Count Plot for feature degree_t is shown ↓\n"
     ]
    },
    {
     "data": {
      "image/png": "[encoded data removed]",
      "text/plain": [
       "<Figure size 432x288 with 1 Axes>"
      ]
     },
     "metadata": {
      "needs_background": "light"
     },
     "output_type": "display_data"
    },
    {
     "name": "stderr",
     "output_type": "stream",
     "text": [
      "C:\\Users\\91939\\anaconda3\\lib\\site-packages\\seaborn\\_decorators.py:36: FutureWarning: Pass the following variable as a keyword arg: x. From version 0.12, the only valid positional argument will be `data`, and passing other arguments without an explicit keyword will result in an error or misinterpretation.\n",
      "  warnings.warn(\n"
     ]
    },
    {
     "name": "stdout",
     "output_type": "stream",
     "text": [
      "===========================================================================\n",
      "Count Plot for feature workex is shown ↓\n"
     ]
    },
    {
     "data": {
      "image/png": "[encoded data removed]",
      "text/plain": [
       "<Figure size 432x288 with 1 Axes>"
      ]
     },
     "metadata": {
      "needs_background": "light"
     },
     "output_type": "display_data"
    },
    {
     "name": "stdout",
     "output_type": "stream",
     "text": [
      "===========================================================================\n",
      "Count Plot for feature specialisation is shown ↓\n"
     ]
    },
    {
     "name": "stderr",
     "output_type": "stream",
     "text": [
      "C:\\Users\\91939\\anaconda3\\lib\\site-packages\\seaborn\\_decorators.py:36: FutureWarning: Pass the following variable as a keyword arg: x. From version 0.12, the only valid positional argument will be `data`, and passing other arguments without an explicit keyword will result in an error or misinterpretation.\n",
      "  warnings.warn(\n"
     ]
    },
    {
     "data": {
      "image/png": "[encoded data removed]",
      "text/plain": [
       "<Figure size 432x288 with 1 Axes>"
      ]
     },
     "metadata": {
      "needs_background": "light"
     },
     "output_type": "display_data"
    },
    {
     "name": "stderr",
     "output_type": "stream",
     "text": [
      "C:\\Users\\91939\\anaconda3\\lib\\site-packages\\seaborn\\_decorators.py:36: FutureWarning: Pass the following variable as a keyword arg: x. From version 0.12, the only valid positional argument will be `data`, and passing other arguments without an explicit keyword will result in an error or misinterpretation.\n",
      "  warnings.warn(\n"
     ]
    },
    {
     "name": "stdout",
     "output_type": "stream",
     "text": [
      "===========================================================================\n",
      "Count Plot for feature status is shown ↓\n"
     ]
    },
    {
     "data": {
      "image/png": "[encoded data removed]",
      "text/plain": [
       "<Figure size 432x288 with 1 Axes>"
      ]
     },
     "metadata": {
      "needs_background": "light"
     },
     "output_type": "display_data"
    },
    {
     "name": "stdout",
     "output_type": "stream",
     "text": [
      "===========================================================================\n"
     ]
    }
   ],
   "source": [
    "def valuecount(col):\n",
    "    \n",
    "    return dict(df[col].value_counts())\n",
    "\n",
    "def getcountplot(col):\n",
    "    \n",
    "    sns.countplot(df[col],palette='plasma')\n",
    "    plt.xticks(rotation = '45',fontweight = 'bold',fontsize = '10')\n",
    "    plt.yticks(rotation = '45',fontweight = 'bold',fontsize = '10')\n",
    "    plt.show()\n",
    "    \n",
    "\n",
    "for col in catvars:\n",
    "    print(f'Count Plot for feature {col} is shown ↓')\n",
    "    getcountplot(col)\n",
    "    print('='*75)"
   ]
  },
  {
   "cell_type": "code",
   "execution_count": 16,
   "id": "03903e41",
   "metadata": {},
   "outputs": [
    {
     "data": {
      "text/plain": [
       "{'gender': {'M': 139, 'F': 76},\n",
       " 'ssc_b': {'Central': 116, 'Others': 99},\n",
       " 'hsc_b': {'Others': 131, 'Central': 84},\n",
       " 'hsc_s': {'Commerce': 113, 'Science': 91, 'Arts': 11},\n",
       " 'degree_t': {'Comm&Mgmt': 145, 'Sci&Tech': 59, 'Others': 11},\n",
       " 'workex': {'No': 141, 'Yes': 74},\n",
       " 'specialisation': {'Mkt&Fin': 120, 'Mkt&HR': 95},\n",
       " 'status': {'Placed': 148, 'Not Placed': 67}}"
      ]
     },
     "execution_count": 16,
     "metadata": {},
     "output_type": "execute_result"
    }
   ],
   "source": [
    "getfinaldict = {}\n",
    "for col in catvars:\n",
    "    getfinaldict[col] = valuecount(col)\n",
    "    \n",
    "getfinaldict"
   ]
  },
  {
   "cell_type": "code",
   "execution_count": 17,
   "id": "e0312088",
   "metadata": {
    "scrolled": true
   },
   "outputs": [
    {
     "data": {
      "text/html": [
       "<div>\n",
       "<style scoped>\n",
       "    .dataframe tbody tr th:only-of-type {\n",
       "        vertical-align: middle;\n",
       "    }\n",
       "\n",
       "    .dataframe tbody tr th {\n",
       "        vertical-align: top;\n",
       "    }\n",
       "\n",
       "    .dataframe thead th {\n",
       "        text-align: right;\n",
       "    }\n",
       "</style>\n",
       "<table border=\"1\" class=\"dataframe\">\n",
       "  <thead>\n",
       "    <tr style=\"text-align: right;\">\n",
       "      <th></th>\n",
       "      <th>index</th>\n",
       "      <th>sl_no</th>\n",
       "      <th>gender</th>\n",
       "      <th>ssc_p</th>\n",
       "      <th>ssc_b</th>\n",
       "      <th>hsc_p</th>\n",
       "      <th>hsc_b</th>\n",
       "      <th>hsc_s</th>\n",
       "      <th>degree_p</th>\n",
       "      <th>degree_t</th>\n",
       "      <th>workex</th>\n",
       "      <th>etest_p</th>\n",
       "      <th>specialisation</th>\n",
       "      <th>status</th>\n",
       "      <th>salary</th>\n",
       "    </tr>\n",
       "  </thead>\n",
       "  <tbody>\n",
       "    <tr>\n",
       "      <th>0</th>\n",
       "      <td>150</td>\n",
       "      <td>151</td>\n",
       "      <td>M</td>\n",
       "      <td>71.00</td>\n",
       "      <td>Central</td>\n",
       "      <td>58.66</td>\n",
       "      <td>Central</td>\n",
       "      <td>Science</td>\n",
       "      <td>58.00</td>\n",
       "      <td>Sci&amp;Tech</td>\n",
       "      <td>Yes</td>\n",
       "      <td>56.0</td>\n",
       "      <td>Mkt&amp;Fin</td>\n",
       "      <td>Placed</td>\n",
       "      <td>690000.0</td>\n",
       "    </tr>\n",
       "    <tr>\n",
       "      <th>1</th>\n",
       "      <td>77</td>\n",
       "      <td>78</td>\n",
       "      <td>M</td>\n",
       "      <td>64.00</td>\n",
       "      <td>Others</td>\n",
       "      <td>80.00</td>\n",
       "      <td>Others</td>\n",
       "      <td>Science</td>\n",
       "      <td>65.00</td>\n",
       "      <td>Sci&amp;Tech</td>\n",
       "      <td>Yes</td>\n",
       "      <td>69.0</td>\n",
       "      <td>Mkt&amp;Fin</td>\n",
       "      <td>Placed</td>\n",
       "      <td>500000.0</td>\n",
       "    </tr>\n",
       "    <tr>\n",
       "      <th>2</th>\n",
       "      <td>163</td>\n",
       "      <td>164</td>\n",
       "      <td>M</td>\n",
       "      <td>63.00</td>\n",
       "      <td>Others</td>\n",
       "      <td>67.00</td>\n",
       "      <td>Others</td>\n",
       "      <td>Science</td>\n",
       "      <td>64.00</td>\n",
       "      <td>Sci&amp;Tech</td>\n",
       "      <td>No</td>\n",
       "      <td>75.0</td>\n",
       "      <td>Mkt&amp;Fin</td>\n",
       "      <td>Placed</td>\n",
       "      <td>500000.0</td>\n",
       "    </tr>\n",
       "    <tr>\n",
       "      <th>3</th>\n",
       "      <td>174</td>\n",
       "      <td>175</td>\n",
       "      <td>M</td>\n",
       "      <td>73.24</td>\n",
       "      <td>Others</td>\n",
       "      <td>50.83</td>\n",
       "      <td>Others</td>\n",
       "      <td>Science</td>\n",
       "      <td>64.27</td>\n",
       "      <td>Sci&amp;Tech</td>\n",
       "      <td>Yes</td>\n",
       "      <td>64.0</td>\n",
       "      <td>Mkt&amp;Fin</td>\n",
       "      <td>Placed</td>\n",
       "      <td>500000.0</td>\n",
       "    </tr>\n",
       "    <tr>\n",
       "      <th>4</th>\n",
       "      <td>53</td>\n",
       "      <td>54</td>\n",
       "      <td>M</td>\n",
       "      <td>80.00</td>\n",
       "      <td>Others</td>\n",
       "      <td>70.00</td>\n",
       "      <td>Others</td>\n",
       "      <td>Science</td>\n",
       "      <td>72.00</td>\n",
       "      <td>Sci&amp;Tech</td>\n",
       "      <td>No</td>\n",
       "      <td>87.0</td>\n",
       "      <td>Mkt&amp;HR</td>\n",
       "      <td>Placed</td>\n",
       "      <td>450000.0</td>\n",
       "    </tr>\n",
       "  </tbody>\n",
       "</table>\n",
       "</div>"
      ],
      "text/plain": [
       "   index  sl_no gender  ssc_p    ssc_b  hsc_p    hsc_b    hsc_s  degree_p  \\\n",
       "0    150    151      M  71.00  Central  58.66  Central  Science     58.00   \n",
       "1     77     78      M  64.00   Others  80.00   Others  Science     65.00   \n",
       "2    163    164      M  63.00   Others  67.00   Others  Science     64.00   \n",
       "3    174    175      M  73.24   Others  50.83   Others  Science     64.27   \n",
       "4     53     54      M  80.00   Others  70.00   Others  Science     72.00   \n",
       "\n",
       "   degree_t workex  etest_p specialisation  status    salary  \n",
       "0  Sci&Tech    Yes     56.0        Mkt&Fin  Placed  690000.0  \n",
       "1  Sci&Tech    Yes     69.0        Mkt&Fin  Placed  500000.0  \n",
       "2  Sci&Tech     No     75.0        Mkt&Fin  Placed  500000.0  \n",
       "3  Sci&Tech    Yes     64.0        Mkt&Fin  Placed  500000.0  \n",
       "4  Sci&Tech     No     87.0         Mkt&HR  Placed  450000.0  "
      ]
     },
     "execution_count": 17,
     "metadata": {},
     "output_type": "execute_result"
    }
   ],
   "source": [
    "# top science students placed\n",
    "\n",
    "df[(df['degree_t']=='Sci&Tech')&(df['status']=='Placed')].sort_values(by = 'salary',ascending = False).reset_index().head(5)\n",
    "    "
   ]
  },
  {
   "cell_type": "code",
   "execution_count": 18,
   "id": "9ff64669",
   "metadata": {},
   "outputs": [
    {
     "data": {
      "text/html": [
       "<div>\n",
       "<style scoped>\n",
       "    .dataframe tbody tr th:only-of-type {\n",
       "        vertical-align: middle;\n",
       "    }\n",
       "\n",
       "    .dataframe tbody tr th {\n",
       "        vertical-align: top;\n",
       "    }\n",
       "\n",
       "    .dataframe thead th {\n",
       "        text-align: right;\n",
       "    }\n",
       "</style>\n",
       "<table border=\"1\" class=\"dataframe\">\n",
       "  <thead>\n",
       "    <tr style=\"text-align: right;\">\n",
       "      <th></th>\n",
       "      <th>index</th>\n",
       "      <th>sl_no</th>\n",
       "      <th>gender</th>\n",
       "      <th>ssc_p</th>\n",
       "      <th>ssc_b</th>\n",
       "      <th>hsc_p</th>\n",
       "      <th>hsc_b</th>\n",
       "      <th>hsc_s</th>\n",
       "      <th>degree_p</th>\n",
       "      <th>degree_t</th>\n",
       "      <th>workex</th>\n",
       "      <th>etest_p</th>\n",
       "      <th>specialisation</th>\n",
       "      <th>status</th>\n",
       "      <th>salary</th>\n",
       "    </tr>\n",
       "  </thead>\n",
       "  <tbody>\n",
       "    <tr>\n",
       "      <th>0</th>\n",
       "      <td>119</td>\n",
       "      <td>120</td>\n",
       "      <td>M</td>\n",
       "      <td>60.8</td>\n",
       "      <td>Central</td>\n",
       "      <td>68.4</td>\n",
       "      <td>Central</td>\n",
       "      <td>Commerce</td>\n",
       "      <td>64.6</td>\n",
       "      <td>Comm&amp;Mgmt</td>\n",
       "      <td>Yes</td>\n",
       "      <td>82.66</td>\n",
       "      <td>Mkt&amp;Fin</td>\n",
       "      <td>Placed</td>\n",
       "      <td>940000.0</td>\n",
       "    </tr>\n",
       "    <tr>\n",
       "      <th>1</th>\n",
       "      <td>177</td>\n",
       "      <td>178</td>\n",
       "      <td>F</td>\n",
       "      <td>73.0</td>\n",
       "      <td>Central</td>\n",
       "      <td>97.0</td>\n",
       "      <td>Others</td>\n",
       "      <td>Commerce</td>\n",
       "      <td>79.0</td>\n",
       "      <td>Comm&amp;Mgmt</td>\n",
       "      <td>Yes</td>\n",
       "      <td>89.00</td>\n",
       "      <td>Mkt&amp;Fin</td>\n",
       "      <td>Placed</td>\n",
       "      <td>650000.0</td>\n",
       "    </tr>\n",
       "    <tr>\n",
       "      <th>2</th>\n",
       "      <td>4</td>\n",
       "      <td>5</td>\n",
       "      <td>M</td>\n",
       "      <td>85.8</td>\n",
       "      <td>Central</td>\n",
       "      <td>73.6</td>\n",
       "      <td>Central</td>\n",
       "      <td>Commerce</td>\n",
       "      <td>73.3</td>\n",
       "      <td>Comm&amp;Mgmt</td>\n",
       "      <td>No</td>\n",
       "      <td>96.80</td>\n",
       "      <td>Mkt&amp;Fin</td>\n",
       "      <td>Placed</td>\n",
       "      <td>425000.0</td>\n",
       "    </tr>\n",
       "    <tr>\n",
       "      <th>3</th>\n",
       "      <td>95</td>\n",
       "      <td>96</td>\n",
       "      <td>M</td>\n",
       "      <td>73.0</td>\n",
       "      <td>Central</td>\n",
       "      <td>78.0</td>\n",
       "      <td>Others</td>\n",
       "      <td>Commerce</td>\n",
       "      <td>65.0</td>\n",
       "      <td>Comm&amp;Mgmt</td>\n",
       "      <td>Yes</td>\n",
       "      <td>95.46</td>\n",
       "      <td>Mkt&amp;Fin</td>\n",
       "      <td>Placed</td>\n",
       "      <td>420000.0</td>\n",
       "    </tr>\n",
       "    <tr>\n",
       "      <th>4</th>\n",
       "      <td>210</td>\n",
       "      <td>211</td>\n",
       "      <td>M</td>\n",
       "      <td>80.6</td>\n",
       "      <td>Others</td>\n",
       "      <td>82.0</td>\n",
       "      <td>Others</td>\n",
       "      <td>Commerce</td>\n",
       "      <td>77.6</td>\n",
       "      <td>Comm&amp;Mgmt</td>\n",
       "      <td>No</td>\n",
       "      <td>91.00</td>\n",
       "      <td>Mkt&amp;Fin</td>\n",
       "      <td>Placed</td>\n",
       "      <td>400000.0</td>\n",
       "    </tr>\n",
       "  </tbody>\n",
       "</table>\n",
       "</div>"
      ],
      "text/plain": [
       "   index  sl_no gender  ssc_p    ssc_b  hsc_p    hsc_b     hsc_s  degree_p  \\\n",
       "0    119    120      M   60.8  Central   68.4  Central  Commerce      64.6   \n",
       "1    177    178      F   73.0  Central   97.0   Others  Commerce      79.0   \n",
       "2      4      5      M   85.8  Central   73.6  Central  Commerce      73.3   \n",
       "3     95     96      M   73.0  Central   78.0   Others  Commerce      65.0   \n",
       "4    210    211      M   80.6   Others   82.0   Others  Commerce      77.6   \n",
       "\n",
       "    degree_t workex  etest_p specialisation  status    salary  \n",
       "0  Comm&Mgmt    Yes    82.66        Mkt&Fin  Placed  940000.0  \n",
       "1  Comm&Mgmt    Yes    89.00        Mkt&Fin  Placed  650000.0  \n",
       "2  Comm&Mgmt     No    96.80        Mkt&Fin  Placed  425000.0  \n",
       "3  Comm&Mgmt    Yes    95.46        Mkt&Fin  Placed  420000.0  \n",
       "4  Comm&Mgmt     No    91.00        Mkt&Fin  Placed  400000.0  "
      ]
     },
     "execution_count": 18,
     "metadata": {},
     "output_type": "execute_result"
    }
   ],
   "source": [
    "# top Comm&Mgt students placed\n",
    "\n",
    "df[(df['degree_t']=='Comm&Mgmt')&(df['status']=='Placed')].sort_values(by = 'salary',ascending = False).reset_index().head(5)\n",
    " "
   ]
  },
  {
   "cell_type": "code",
   "execution_count": 19,
   "id": "23da2f87",
   "metadata": {},
   "outputs": [
    {
     "data": {
      "text/html": [
       "<div>\n",
       "<style scoped>\n",
       "    .dataframe tbody tr th:only-of-type {\n",
       "        vertical-align: middle;\n",
       "    }\n",
       "\n",
       "    .dataframe tbody tr th {\n",
       "        vertical-align: top;\n",
       "    }\n",
       "\n",
       "    .dataframe thead th {\n",
       "        text-align: right;\n",
       "    }\n",
       "</style>\n",
       "<table border=\"1\" class=\"dataframe\">\n",
       "  <thead>\n",
       "    <tr style=\"text-align: right;\">\n",
       "      <th></th>\n",
       "      <th>sl_no</th>\n",
       "      <th>gender</th>\n",
       "      <th>ssc_p</th>\n",
       "      <th>ssc_b</th>\n",
       "      <th>hsc_p</th>\n",
       "      <th>hsc_b</th>\n",
       "      <th>hsc_s</th>\n",
       "      <th>degree_p</th>\n",
       "      <th>degree_t</th>\n",
       "      <th>workex</th>\n",
       "      <th>etest_p</th>\n",
       "      <th>specialisation</th>\n",
       "      <th>status</th>\n",
       "      <th>salary</th>\n",
       "    </tr>\n",
       "  </thead>\n",
       "  <tbody>\n",
       "    <tr>\n",
       "      <th>1</th>\n",
       "      <td>2</td>\n",
       "      <td>M</td>\n",
       "      <td>79.33</td>\n",
       "      <td>Central</td>\n",
       "      <td>78.33</td>\n",
       "      <td>Others</td>\n",
       "      <td>Science</td>\n",
       "      <td>77.48</td>\n",
       "      <td>Sci&amp;Tech</td>\n",
       "      <td>Yes</td>\n",
       "      <td>86.50</td>\n",
       "      <td>Mkt&amp;Fin</td>\n",
       "      <td>Placed</td>\n",
       "      <td>200000.0</td>\n",
       "    </tr>\n",
       "    <tr>\n",
       "      <th>15</th>\n",
       "      <td>16</td>\n",
       "      <td>F</td>\n",
       "      <td>65.00</td>\n",
       "      <td>Central</td>\n",
       "      <td>75.00</td>\n",
       "      <td>Central</td>\n",
       "      <td>Commerce</td>\n",
       "      <td>69.00</td>\n",
       "      <td>Comm&amp;Mgmt</td>\n",
       "      <td>Yes</td>\n",
       "      <td>72.00</td>\n",
       "      <td>Mkt&amp;Fin</td>\n",
       "      <td>Placed</td>\n",
       "      <td>200000.0</td>\n",
       "    </tr>\n",
       "    <tr>\n",
       "      <th>44</th>\n",
       "      <td>45</td>\n",
       "      <td>F</td>\n",
       "      <td>77.00</td>\n",
       "      <td>Others</td>\n",
       "      <td>73.00</td>\n",
       "      <td>Others</td>\n",
       "      <td>Commerce</td>\n",
       "      <td>81.00</td>\n",
       "      <td>Comm&amp;Mgmt</td>\n",
       "      <td>Yes</td>\n",
       "      <td>89.00</td>\n",
       "      <td>Mkt&amp;Fin</td>\n",
       "      <td>Placed</td>\n",
       "      <td>200000.0</td>\n",
       "    </tr>\n",
       "    <tr>\n",
       "      <th>50</th>\n",
       "      <td>51</td>\n",
       "      <td>F</td>\n",
       "      <td>75.20</td>\n",
       "      <td>Central</td>\n",
       "      <td>73.20</td>\n",
       "      <td>Central</td>\n",
       "      <td>Science</td>\n",
       "      <td>68.40</td>\n",
       "      <td>Comm&amp;Mgmt</td>\n",
       "      <td>No</td>\n",
       "      <td>65.00</td>\n",
       "      <td>Mkt&amp;HR</td>\n",
       "      <td>Placed</td>\n",
       "      <td>200000.0</td>\n",
       "    </tr>\n",
       "    <tr>\n",
       "      <th>107</th>\n",
       "      <td>108</td>\n",
       "      <td>M</td>\n",
       "      <td>82.00</td>\n",
       "      <td>Others</td>\n",
       "      <td>90.00</td>\n",
       "      <td>Others</td>\n",
       "      <td>Commerce</td>\n",
       "      <td>83.00</td>\n",
       "      <td>Comm&amp;Mgmt</td>\n",
       "      <td>No</td>\n",
       "      <td>80.00</td>\n",
       "      <td>Mkt&amp;HR</td>\n",
       "      <td>Placed</td>\n",
       "      <td>200000.0</td>\n",
       "    </tr>\n",
       "    <tr>\n",
       "      <th>119</th>\n",
       "      <td>120</td>\n",
       "      <td>M</td>\n",
       "      <td>60.80</td>\n",
       "      <td>Central</td>\n",
       "      <td>68.40</td>\n",
       "      <td>Central</td>\n",
       "      <td>Commerce</td>\n",
       "      <td>64.60</td>\n",
       "      <td>Comm&amp;Mgmt</td>\n",
       "      <td>Yes</td>\n",
       "      <td>82.66</td>\n",
       "      <td>Mkt&amp;Fin</td>\n",
       "      <td>Placed</td>\n",
       "      <td>940000.0</td>\n",
       "    </tr>\n",
       "    <tr>\n",
       "      <th>135</th>\n",
       "      <td>136</td>\n",
       "      <td>F</td>\n",
       "      <td>72.00</td>\n",
       "      <td>Central</td>\n",
       "      <td>56.00</td>\n",
       "      <td>Others</td>\n",
       "      <td>Science</td>\n",
       "      <td>69.00</td>\n",
       "      <td>Comm&amp;Mgmt</td>\n",
       "      <td>No</td>\n",
       "      <td>55.60</td>\n",
       "      <td>Mkt&amp;HR</td>\n",
       "      <td>Placed</td>\n",
       "      <td>200000.0</td>\n",
       "    </tr>\n",
       "  </tbody>\n",
       "</table>\n",
       "</div>"
      ],
      "text/plain": [
       "     sl_no gender  ssc_p    ssc_b  hsc_p    hsc_b     hsc_s  degree_p  \\\n",
       "1        2      M  79.33  Central  78.33   Others   Science     77.48   \n",
       "15      16      F  65.00  Central  75.00  Central  Commerce     69.00   \n",
       "44      45      F  77.00   Others  73.00   Others  Commerce     81.00   \n",
       "50      51      F  75.20  Central  73.20  Central   Science     68.40   \n",
       "107    108      M  82.00   Others  90.00   Others  Commerce     83.00   \n",
       "119    120      M  60.80  Central  68.40  Central  Commerce     64.60   \n",
       "135    136      F  72.00  Central  56.00   Others   Science     69.00   \n",
       "\n",
       "      degree_t workex  etest_p specialisation  status    salary  \n",
       "1     Sci&Tech    Yes    86.50        Mkt&Fin  Placed  200000.0  \n",
       "15   Comm&Mgmt    Yes    72.00        Mkt&Fin  Placed  200000.0  \n",
       "44   Comm&Mgmt    Yes    89.00        Mkt&Fin  Placed  200000.0  \n",
       "50   Comm&Mgmt     No    65.00         Mkt&HR  Placed  200000.0  \n",
       "107  Comm&Mgmt     No    80.00         Mkt&HR  Placed  200000.0  \n",
       "119  Comm&Mgmt    Yes    82.66        Mkt&Fin  Placed  940000.0  \n",
       "135  Comm&Mgmt     No    55.60         Mkt&HR  Placed  200000.0  "
      ]
     },
     "execution_count": 19,
     "metadata": {},
     "output_type": "execute_result"
    }
   ],
   "source": [
    "# max and min salary\n",
    "# observation : max salary : 9,40,000 and min salary : 2,00,000\n",
    "\n",
    "df[(df['salary']==max(df['salary'])) | (df['salary']==min(df['salary']))]"
   ]
  },
  {
   "cell_type": "code",
   "execution_count": 20,
   "id": "08fa61f5",
   "metadata": {
    "scrolled": true
   },
   "outputs": [
    {
     "data": {
      "text/html": [
       "<div>\n",
       "<style scoped>\n",
       "    .dataframe tbody tr th:only-of-type {\n",
       "        vertical-align: middle;\n",
       "    }\n",
       "\n",
       "    .dataframe tbody tr th {\n",
       "        vertical-align: top;\n",
       "    }\n",
       "\n",
       "    .dataframe thead th {\n",
       "        text-align: right;\n",
       "    }\n",
       "</style>\n",
       "<table border=\"1\" class=\"dataframe\">\n",
       "  <thead>\n",
       "    <tr style=\"text-align: right;\">\n",
       "      <th></th>\n",
       "      <th>index</th>\n",
       "      <th>sl_no</th>\n",
       "      <th>gender</th>\n",
       "      <th>ssc_p</th>\n",
       "      <th>ssc_b</th>\n",
       "      <th>hsc_p</th>\n",
       "      <th>hsc_b</th>\n",
       "      <th>hsc_s</th>\n",
       "      <th>degree_p</th>\n",
       "      <th>degree_t</th>\n",
       "      <th>workex</th>\n",
       "      <th>etest_p</th>\n",
       "      <th>specialisation</th>\n",
       "      <th>status</th>\n",
       "      <th>salary</th>\n",
       "    </tr>\n",
       "  </thead>\n",
       "  <tbody>\n",
       "    <tr>\n",
       "      <th>0</th>\n",
       "      <td>150</td>\n",
       "      <td>151</td>\n",
       "      <td>M</td>\n",
       "      <td>71.00</td>\n",
       "      <td>Central</td>\n",
       "      <td>58.66</td>\n",
       "      <td>Central</td>\n",
       "      <td>Science</td>\n",
       "      <td>58.00</td>\n",
       "      <td>Sci&amp;Tech</td>\n",
       "      <td>Yes</td>\n",
       "      <td>56.00</td>\n",
       "      <td>Mkt&amp;Fin</td>\n",
       "      <td>Placed</td>\n",
       "      <td>690000.000000</td>\n",
       "    </tr>\n",
       "    <tr>\n",
       "      <th>1</th>\n",
       "      <td>77</td>\n",
       "      <td>78</td>\n",
       "      <td>M</td>\n",
       "      <td>64.00</td>\n",
       "      <td>Others</td>\n",
       "      <td>80.00</td>\n",
       "      <td>Others</td>\n",
       "      <td>Science</td>\n",
       "      <td>65.00</td>\n",
       "      <td>Sci&amp;Tech</td>\n",
       "      <td>Yes</td>\n",
       "      <td>69.00</td>\n",
       "      <td>Mkt&amp;Fin</td>\n",
       "      <td>Placed</td>\n",
       "      <td>500000.000000</td>\n",
       "    </tr>\n",
       "    <tr>\n",
       "      <th>2</th>\n",
       "      <td>174</td>\n",
       "      <td>175</td>\n",
       "      <td>M</td>\n",
       "      <td>73.24</td>\n",
       "      <td>Others</td>\n",
       "      <td>50.83</td>\n",
       "      <td>Others</td>\n",
       "      <td>Science</td>\n",
       "      <td>64.27</td>\n",
       "      <td>Sci&amp;Tech</td>\n",
       "      <td>Yes</td>\n",
       "      <td>64.00</td>\n",
       "      <td>Mkt&amp;Fin</td>\n",
       "      <td>Placed</td>\n",
       "      <td>500000.000000</td>\n",
       "    </tr>\n",
       "    <tr>\n",
       "      <th>3</th>\n",
       "      <td>163</td>\n",
       "      <td>164</td>\n",
       "      <td>M</td>\n",
       "      <td>63.00</td>\n",
       "      <td>Others</td>\n",
       "      <td>67.00</td>\n",
       "      <td>Others</td>\n",
       "      <td>Science</td>\n",
       "      <td>64.00</td>\n",
       "      <td>Sci&amp;Tech</td>\n",
       "      <td>No</td>\n",
       "      <td>75.00</td>\n",
       "      <td>Mkt&amp;Fin</td>\n",
       "      <td>Placed</td>\n",
       "      <td>500000.000000</td>\n",
       "    </tr>\n",
       "    <tr>\n",
       "      <th>4</th>\n",
       "      <td>53</td>\n",
       "      <td>54</td>\n",
       "      <td>M</td>\n",
       "      <td>80.00</td>\n",
       "      <td>Others</td>\n",
       "      <td>70.00</td>\n",
       "      <td>Others</td>\n",
       "      <td>Science</td>\n",
       "      <td>72.00</td>\n",
       "      <td>Sci&amp;Tech</td>\n",
       "      <td>No</td>\n",
       "      <td>87.00</td>\n",
       "      <td>Mkt&amp;HR</td>\n",
       "      <td>Placed</td>\n",
       "      <td>450000.000000</td>\n",
       "    </tr>\n",
       "    <tr>\n",
       "      <th>5</th>\n",
       "      <td>39</td>\n",
       "      <td>40</td>\n",
       "      <td>M</td>\n",
       "      <td>81.00</td>\n",
       "      <td>Others</td>\n",
       "      <td>68.00</td>\n",
       "      <td>Others</td>\n",
       "      <td>Science</td>\n",
       "      <td>64.00</td>\n",
       "      <td>Sci&amp;Tech</td>\n",
       "      <td>No</td>\n",
       "      <td>93.00</td>\n",
       "      <td>Mkt&amp;Fin</td>\n",
       "      <td>Placed</td>\n",
       "      <td>411000.000000</td>\n",
       "    </tr>\n",
       "    <tr>\n",
       "      <th>6</th>\n",
       "      <td>145</td>\n",
       "      <td>146</td>\n",
       "      <td>M</td>\n",
       "      <td>89.40</td>\n",
       "      <td>Others</td>\n",
       "      <td>65.66</td>\n",
       "      <td>Others</td>\n",
       "      <td>Science</td>\n",
       "      <td>71.25</td>\n",
       "      <td>Sci&amp;Tech</td>\n",
       "      <td>No</td>\n",
       "      <td>72.00</td>\n",
       "      <td>Mkt&amp;HR</td>\n",
       "      <td>Placed</td>\n",
       "      <td>400000.000000</td>\n",
       "    </tr>\n",
       "    <tr>\n",
       "      <th>7</th>\n",
       "      <td>128</td>\n",
       "      <td>129</td>\n",
       "      <td>M</td>\n",
       "      <td>80.40</td>\n",
       "      <td>Central</td>\n",
       "      <td>73.40</td>\n",
       "      <td>Central</td>\n",
       "      <td>Science</td>\n",
       "      <td>77.72</td>\n",
       "      <td>Sci&amp;Tech</td>\n",
       "      <td>Yes</td>\n",
       "      <td>81.20</td>\n",
       "      <td>Mkt&amp;HR</td>\n",
       "      <td>Placed</td>\n",
       "      <td>400000.000000</td>\n",
       "    </tr>\n",
       "    <tr>\n",
       "      <th>8</th>\n",
       "      <td>22</td>\n",
       "      <td>23</td>\n",
       "      <td>F</td>\n",
       "      <td>69.80</td>\n",
       "      <td>Others</td>\n",
       "      <td>60.80</td>\n",
       "      <td>Others</td>\n",
       "      <td>Science</td>\n",
       "      <td>72.23</td>\n",
       "      <td>Sci&amp;Tech</td>\n",
       "      <td>No</td>\n",
       "      <td>55.53</td>\n",
       "      <td>Mkt&amp;HR</td>\n",
       "      <td>Placed</td>\n",
       "      <td>360000.000000</td>\n",
       "    </tr>\n",
       "    <tr>\n",
       "      <th>9</th>\n",
       "      <td>24</td>\n",
       "      <td>25</td>\n",
       "      <td>M</td>\n",
       "      <td>76.50</td>\n",
       "      <td>Others</td>\n",
       "      <td>97.70</td>\n",
       "      <td>Others</td>\n",
       "      <td>Science</td>\n",
       "      <td>78.86</td>\n",
       "      <td>Sci&amp;Tech</td>\n",
       "      <td>No</td>\n",
       "      <td>97.40</td>\n",
       "      <td>Mkt&amp;Fin</td>\n",
       "      <td>Placed</td>\n",
       "      <td>360000.000000</td>\n",
       "    </tr>\n",
       "    <tr>\n",
       "      <th>10</th>\n",
       "      <td>70</td>\n",
       "      <td>71</td>\n",
       "      <td>M</td>\n",
       "      <td>82.00</td>\n",
       "      <td>Others</td>\n",
       "      <td>61.00</td>\n",
       "      <td>Others</td>\n",
       "      <td>Science</td>\n",
       "      <td>62.00</td>\n",
       "      <td>Sci&amp;Tech</td>\n",
       "      <td>No</td>\n",
       "      <td>89.00</td>\n",
       "      <td>Mkt&amp;Fin</td>\n",
       "      <td>Placed</td>\n",
       "      <td>360000.000000</td>\n",
       "    </tr>\n",
       "    <tr>\n",
       "      <th>11</th>\n",
       "      <td>178</td>\n",
       "      <td>179</td>\n",
       "      <td>M</td>\n",
       "      <td>68.00</td>\n",
       "      <td>Others</td>\n",
       "      <td>56.00</td>\n",
       "      <td>Others</td>\n",
       "      <td>Science</td>\n",
       "      <td>68.00</td>\n",
       "      <td>Sci&amp;Tech</td>\n",
       "      <td>No</td>\n",
       "      <td>73.00</td>\n",
       "      <td>Mkt&amp;HR</td>\n",
       "      <td>Placed</td>\n",
       "      <td>350000.000000</td>\n",
       "    </tr>\n",
       "    <tr>\n",
       "      <th>12</th>\n",
       "      <td>153</td>\n",
       "      <td>154</td>\n",
       "      <td>M</td>\n",
       "      <td>49.00</td>\n",
       "      <td>Others</td>\n",
       "      <td>59.00</td>\n",
       "      <td>Others</td>\n",
       "      <td>Science</td>\n",
       "      <td>65.00</td>\n",
       "      <td>Sci&amp;Tech</td>\n",
       "      <td>Yes</td>\n",
       "      <td>86.00</td>\n",
       "      <td>Mkt&amp;Fin</td>\n",
       "      <td>Placed</td>\n",
       "      <td>340000.000000</td>\n",
       "    </tr>\n",
       "    <tr>\n",
       "      <th>13</th>\n",
       "      <td>37</td>\n",
       "      <td>38</td>\n",
       "      <td>F</td>\n",
       "      <td>79.00</td>\n",
       "      <td>Central</td>\n",
       "      <td>76.00</td>\n",
       "      <td>Central</td>\n",
       "      <td>Science</td>\n",
       "      <td>65.60</td>\n",
       "      <td>Sci&amp;Tech</td>\n",
       "      <td>No</td>\n",
       "      <td>58.00</td>\n",
       "      <td>Mkt&amp;HR</td>\n",
       "      <td>Placed</td>\n",
       "      <td>320000.000000</td>\n",
       "    </tr>\n",
       "    <tr>\n",
       "      <th>14</th>\n",
       "      <td>83</td>\n",
       "      <td>84</td>\n",
       "      <td>M</td>\n",
       "      <td>84.00</td>\n",
       "      <td>Others</td>\n",
       "      <td>79.00</td>\n",
       "      <td>Others</td>\n",
       "      <td>Science</td>\n",
       "      <td>68.00</td>\n",
       "      <td>Sci&amp;Tech</td>\n",
       "      <td>Yes</td>\n",
       "      <td>84.00</td>\n",
       "      <td>Mkt&amp;Fin</td>\n",
       "      <td>Placed</td>\n",
       "      <td>300000.000000</td>\n",
       "    </tr>\n",
       "    <tr>\n",
       "      <th>15</th>\n",
       "      <td>84</td>\n",
       "      <td>85</td>\n",
       "      <td>M</td>\n",
       "      <td>70.00</td>\n",
       "      <td>Central</td>\n",
       "      <td>63.00</td>\n",
       "      <td>Others</td>\n",
       "      <td>Science</td>\n",
       "      <td>70.00</td>\n",
       "      <td>Sci&amp;Tech</td>\n",
       "      <td>Yes</td>\n",
       "      <td>55.00</td>\n",
       "      <td>Mkt&amp;Fin</td>\n",
       "      <td>Placed</td>\n",
       "      <td>300000.000000</td>\n",
       "    </tr>\n",
       "    <tr>\n",
       "      <th>16</th>\n",
       "      <td>160</td>\n",
       "      <td>161</td>\n",
       "      <td>M</td>\n",
       "      <td>87.00</td>\n",
       "      <td>Central</td>\n",
       "      <td>74.00</td>\n",
       "      <td>Central</td>\n",
       "      <td>Science</td>\n",
       "      <td>65.00</td>\n",
       "      <td>Sci&amp;Tech</td>\n",
       "      <td>Yes</td>\n",
       "      <td>75.00</td>\n",
       "      <td>Mkt&amp;HR</td>\n",
       "      <td>Placed</td>\n",
       "      <td>300000.000000</td>\n",
       "    </tr>\n",
       "    <tr>\n",
       "      <th>17</th>\n",
       "      <td>23</td>\n",
       "      <td>24</td>\n",
       "      <td>F</td>\n",
       "      <td>77.40</td>\n",
       "      <td>Others</td>\n",
       "      <td>60.00</td>\n",
       "      <td>Others</td>\n",
       "      <td>Science</td>\n",
       "      <td>64.74</td>\n",
       "      <td>Sci&amp;Tech</td>\n",
       "      <td>Yes</td>\n",
       "      <td>92.00</td>\n",
       "      <td>Mkt&amp;Fin</td>\n",
       "      <td>Placed</td>\n",
       "      <td>300000.000000</td>\n",
       "    </tr>\n",
       "    <tr>\n",
       "      <th>18</th>\n",
       "      <td>158</td>\n",
       "      <td>159</td>\n",
       "      <td>M</td>\n",
       "      <td>67.00</td>\n",
       "      <td>Others</td>\n",
       "      <td>63.00</td>\n",
       "      <td>Others</td>\n",
       "      <td>Science</td>\n",
       "      <td>64.00</td>\n",
       "      <td>Sci&amp;Tech</td>\n",
       "      <td>No</td>\n",
       "      <td>60.00</td>\n",
       "      <td>Mkt&amp;Fin</td>\n",
       "      <td>Not Placed</td>\n",
       "      <td>288655.405405</td>\n",
       "    </tr>\n",
       "    <tr>\n",
       "      <th>19</th>\n",
       "      <td>173</td>\n",
       "      <td>174</td>\n",
       "      <td>F</td>\n",
       "      <td>52.00</td>\n",
       "      <td>Others</td>\n",
       "      <td>52.00</td>\n",
       "      <td>Others</td>\n",
       "      <td>Science</td>\n",
       "      <td>55.00</td>\n",
       "      <td>Sci&amp;Tech</td>\n",
       "      <td>No</td>\n",
       "      <td>67.00</td>\n",
       "      <td>Mkt&amp;HR</td>\n",
       "      <td>Not Placed</td>\n",
       "      <td>288655.405405</td>\n",
       "    </tr>\n",
       "    <tr>\n",
       "      <th>20</th>\n",
       "      <td>169</td>\n",
       "      <td>170</td>\n",
       "      <td>M</td>\n",
       "      <td>59.96</td>\n",
       "      <td>Others</td>\n",
       "      <td>42.16</td>\n",
       "      <td>Others</td>\n",
       "      <td>Science</td>\n",
       "      <td>61.26</td>\n",
       "      <td>Sci&amp;Tech</td>\n",
       "      <td>No</td>\n",
       "      <td>54.48</td>\n",
       "      <td>Mkt&amp;HR</td>\n",
       "      <td>Not Placed</td>\n",
       "      <td>288655.405405</td>\n",
       "    </tr>\n",
       "    <tr>\n",
       "      <th>21</th>\n",
       "      <td>167</td>\n",
       "      <td>168</td>\n",
       "      <td>M</td>\n",
       "      <td>67.90</td>\n",
       "      <td>Others</td>\n",
       "      <td>62.00</td>\n",
       "      <td>Others</td>\n",
       "      <td>Science</td>\n",
       "      <td>67.00</td>\n",
       "      <td>Sci&amp;Tech</td>\n",
       "      <td>Yes</td>\n",
       "      <td>58.10</td>\n",
       "      <td>Mkt&amp;Fin</td>\n",
       "      <td>Not Placed</td>\n",
       "      <td>288655.405405</td>\n",
       "    </tr>\n",
       "    <tr>\n",
       "      <th>22</th>\n",
       "      <td>175</td>\n",
       "      <td>176</td>\n",
       "      <td>M</td>\n",
       "      <td>63.00</td>\n",
       "      <td>Others</td>\n",
       "      <td>62.00</td>\n",
       "      <td>Others</td>\n",
       "      <td>Science</td>\n",
       "      <td>65.00</td>\n",
       "      <td>Sci&amp;Tech</td>\n",
       "      <td>No</td>\n",
       "      <td>87.50</td>\n",
       "      <td>Mkt&amp;HR</td>\n",
       "      <td>Not Placed</td>\n",
       "      <td>288655.405405</td>\n",
       "    </tr>\n",
       "    <tr>\n",
       "      <th>23</th>\n",
       "      <td>179</td>\n",
       "      <td>180</td>\n",
       "      <td>F</td>\n",
       "      <td>77.80</td>\n",
       "      <td>Central</td>\n",
       "      <td>64.00</td>\n",
       "      <td>Central</td>\n",
       "      <td>Science</td>\n",
       "      <td>64.20</td>\n",
       "      <td>Sci&amp;Tech</td>\n",
       "      <td>No</td>\n",
       "      <td>75.50</td>\n",
       "      <td>Mkt&amp;HR</td>\n",
       "      <td>Not Placed</td>\n",
       "      <td>288655.405405</td>\n",
       "    </tr>\n",
       "    <tr>\n",
       "      <th>24</th>\n",
       "      <td>3</td>\n",
       "      <td>4</td>\n",
       "      <td>M</td>\n",
       "      <td>56.00</td>\n",
       "      <td>Central</td>\n",
       "      <td>52.00</td>\n",
       "      <td>Central</td>\n",
       "      <td>Science</td>\n",
       "      <td>52.00</td>\n",
       "      <td>Sci&amp;Tech</td>\n",
       "      <td>No</td>\n",
       "      <td>66.00</td>\n",
       "      <td>Mkt&amp;HR</td>\n",
       "      <td>Not Placed</td>\n",
       "      <td>288655.405405</td>\n",
       "    </tr>\n",
       "    <tr>\n",
       "      <th>25</th>\n",
       "      <td>106</td>\n",
       "      <td>107</td>\n",
       "      <td>M</td>\n",
       "      <td>61.08</td>\n",
       "      <td>Others</td>\n",
       "      <td>50.00</td>\n",
       "      <td>Others</td>\n",
       "      <td>Science</td>\n",
       "      <td>54.00</td>\n",
       "      <td>Sci&amp;Tech</td>\n",
       "      <td>No</td>\n",
       "      <td>71.00</td>\n",
       "      <td>Mkt&amp;Fin</td>\n",
       "      <td>Not Placed</td>\n",
       "      <td>288655.405405</td>\n",
       "    </tr>\n",
       "    <tr>\n",
       "      <th>26</th>\n",
       "      <td>111</td>\n",
       "      <td>112</td>\n",
       "      <td>M</td>\n",
       "      <td>51.00</td>\n",
       "      <td>Others</td>\n",
       "      <td>54.00</td>\n",
       "      <td>Others</td>\n",
       "      <td>Science</td>\n",
       "      <td>61.00</td>\n",
       "      <td>Sci&amp;Tech</td>\n",
       "      <td>No</td>\n",
       "      <td>60.00</td>\n",
       "      <td>Mkt&amp;HR</td>\n",
       "      <td>Not Placed</td>\n",
       "      <td>288655.405405</td>\n",
       "    </tr>\n",
       "    <tr>\n",
       "      <th>27</th>\n",
       "      <td>109</td>\n",
       "      <td>110</td>\n",
       "      <td>M</td>\n",
       "      <td>52.00</td>\n",
       "      <td>Central</td>\n",
       "      <td>63.00</td>\n",
       "      <td>Others</td>\n",
       "      <td>Science</td>\n",
       "      <td>65.00</td>\n",
       "      <td>Sci&amp;Tech</td>\n",
       "      <td>Yes</td>\n",
       "      <td>86.00</td>\n",
       "      <td>Mkt&amp;HR</td>\n",
       "      <td>Not Placed</td>\n",
       "      <td>288655.405405</td>\n",
       "    </tr>\n",
       "    <tr>\n",
       "      <th>28</th>\n",
       "      <td>5</td>\n",
       "      <td>6</td>\n",
       "      <td>M</td>\n",
       "      <td>55.00</td>\n",
       "      <td>Others</td>\n",
       "      <td>49.80</td>\n",
       "      <td>Others</td>\n",
       "      <td>Science</td>\n",
       "      <td>67.25</td>\n",
       "      <td>Sci&amp;Tech</td>\n",
       "      <td>Yes</td>\n",
       "      <td>55.00</td>\n",
       "      <td>Mkt&amp;Fin</td>\n",
       "      <td>Not Placed</td>\n",
       "      <td>288655.405405</td>\n",
       "    </tr>\n",
       "    <tr>\n",
       "      <th>29</th>\n",
       "      <td>105</td>\n",
       "      <td>106</td>\n",
       "      <td>M</td>\n",
       "      <td>59.00</td>\n",
       "      <td>Central</td>\n",
       "      <td>64.00</td>\n",
       "      <td>Others</td>\n",
       "      <td>Science</td>\n",
       "      <td>58.00</td>\n",
       "      <td>Sci&amp;Tech</td>\n",
       "      <td>No</td>\n",
       "      <td>85.00</td>\n",
       "      <td>Mkt&amp;HR</td>\n",
       "      <td>Not Placed</td>\n",
       "      <td>288655.405405</td>\n",
       "    </tr>\n",
       "    <tr>\n",
       "      <th>30</th>\n",
       "      <td>99</td>\n",
       "      <td>100</td>\n",
       "      <td>M</td>\n",
       "      <td>54.00</td>\n",
       "      <td>Central</td>\n",
       "      <td>82.00</td>\n",
       "      <td>Others</td>\n",
       "      <td>Commerce</td>\n",
       "      <td>63.00</td>\n",
       "      <td>Sci&amp;Tech</td>\n",
       "      <td>No</td>\n",
       "      <td>50.00</td>\n",
       "      <td>Mkt&amp;Fin</td>\n",
       "      <td>Not Placed</td>\n",
       "      <td>288655.405405</td>\n",
       "    </tr>\n",
       "    <tr>\n",
       "      <th>31</th>\n",
       "      <td>79</td>\n",
       "      <td>80</td>\n",
       "      <td>F</td>\n",
       "      <td>69.00</td>\n",
       "      <td>Central</td>\n",
       "      <td>62.00</td>\n",
       "      <td>Central</td>\n",
       "      <td>Science</td>\n",
       "      <td>66.00</td>\n",
       "      <td>Sci&amp;Tech</td>\n",
       "      <td>No</td>\n",
       "      <td>75.00</td>\n",
       "      <td>Mkt&amp;HR</td>\n",
       "      <td>Not Placed</td>\n",
       "      <td>288655.405405</td>\n",
       "    </tr>\n",
       "    <tr>\n",
       "      <th>32</th>\n",
       "      <td>68</td>\n",
       "      <td>69</td>\n",
       "      <td>F</td>\n",
       "      <td>69.70</td>\n",
       "      <td>Central</td>\n",
       "      <td>47.00</td>\n",
       "      <td>Central</td>\n",
       "      <td>Commerce</td>\n",
       "      <td>72.70</td>\n",
       "      <td>Sci&amp;Tech</td>\n",
       "      <td>No</td>\n",
       "      <td>79.00</td>\n",
       "      <td>Mkt&amp;HR</td>\n",
       "      <td>Not Placed</td>\n",
       "      <td>288655.405405</td>\n",
       "    </tr>\n",
       "    <tr>\n",
       "      <th>33</th>\n",
       "      <td>45</td>\n",
       "      <td>46</td>\n",
       "      <td>F</td>\n",
       "      <td>76.00</td>\n",
       "      <td>Central</td>\n",
       "      <td>64.00</td>\n",
       "      <td>Central</td>\n",
       "      <td>Science</td>\n",
       "      <td>72.00</td>\n",
       "      <td>Sci&amp;Tech</td>\n",
       "      <td>No</td>\n",
       "      <td>58.00</td>\n",
       "      <td>Mkt&amp;HR</td>\n",
       "      <td>Not Placed</td>\n",
       "      <td>288655.405405</td>\n",
       "    </tr>\n",
       "    <tr>\n",
       "      <th>34</th>\n",
       "      <td>31</td>\n",
       "      <td>32</td>\n",
       "      <td>F</td>\n",
       "      <td>67.00</td>\n",
       "      <td>Central</td>\n",
       "      <td>53.00</td>\n",
       "      <td>Central</td>\n",
       "      <td>Science</td>\n",
       "      <td>65.00</td>\n",
       "      <td>Sci&amp;Tech</td>\n",
       "      <td>No</td>\n",
       "      <td>64.00</td>\n",
       "      <td>Mkt&amp;HR</td>\n",
       "      <td>Not Placed</td>\n",
       "      <td>288655.405405</td>\n",
       "    </tr>\n",
       "    <tr>\n",
       "      <th>35</th>\n",
       "      <td>181</td>\n",
       "      <td>182</td>\n",
       "      <td>M</td>\n",
       "      <td>62.00</td>\n",
       "      <td>Central</td>\n",
       "      <td>60.33</td>\n",
       "      <td>Others</td>\n",
       "      <td>Science</td>\n",
       "      <td>64.21</td>\n",
       "      <td>Sci&amp;Tech</td>\n",
       "      <td>No</td>\n",
       "      <td>63.00</td>\n",
       "      <td>Mkt&amp;HR</td>\n",
       "      <td>Not Placed</td>\n",
       "      <td>288655.405405</td>\n",
       "    </tr>\n",
       "  </tbody>\n",
       "</table>\n",
       "</div>"
      ],
      "text/plain": [
       "    index  sl_no gender  ssc_p    ssc_b  hsc_p    hsc_b     hsc_s  degree_p  \\\n",
       "0     150    151      M  71.00  Central  58.66  Central   Science     58.00   \n",
       "1      77     78      M  64.00   Others  80.00   Others   Science     65.00   \n",
       "2     174    175      M  73.24   Others  50.83   Others   Science     64.27   \n",
       "3     163    164      M  63.00   Others  67.00   Others   Science     64.00   \n",
       "4      53     54      M  80.00   Others  70.00   Others   Science     72.00   \n",
       "5      39     40      M  81.00   Others  68.00   Others   Science     64.00   \n",
       "6     145    146      M  89.40   Others  65.66   Others   Science     71.25   \n",
       "7     128    129      M  80.40  Central  73.40  Central   Science     77.72   \n",
       "8      22     23      F  69.80   Others  60.80   Others   Science     72.23   \n",
       "9      24     25      M  76.50   Others  97.70   Others   Science     78.86   \n",
       "10     70     71      M  82.00   Others  61.00   Others   Science     62.00   \n",
       "11    178    179      M  68.00   Others  56.00   Others   Science     68.00   \n",
       "12    153    154      M  49.00   Others  59.00   Others   Science     65.00   \n",
       "13     37     38      F  79.00  Central  76.00  Central   Science     65.60   \n",
       "14     83     84      M  84.00   Others  79.00   Others   Science     68.00   \n",
       "15     84     85      M  70.00  Central  63.00   Others   Science     70.00   \n",
       "16    160    161      M  87.00  Central  74.00  Central   Science     65.00   \n",
       "17     23     24      F  77.40   Others  60.00   Others   Science     64.74   \n",
       "18    158    159      M  67.00   Others  63.00   Others   Science     64.00   \n",
       "19    173    174      F  52.00   Others  52.00   Others   Science     55.00   \n",
       "20    169    170      M  59.96   Others  42.16   Others   Science     61.26   \n",
       "21    167    168      M  67.90   Others  62.00   Others   Science     67.00   \n",
       "22    175    176      M  63.00   Others  62.00   Others   Science     65.00   \n",
       "23    179    180      F  77.80  Central  64.00  Central   Science     64.20   \n",
       "24      3      4      M  56.00  Central  52.00  Central   Science     52.00   \n",
       "25    106    107      M  61.08   Others  50.00   Others   Science     54.00   \n",
       "26    111    112      M  51.00   Others  54.00   Others   Science     61.00   \n",
       "27    109    110      M  52.00  Central  63.00   Others   Science     65.00   \n",
       "28      5      6      M  55.00   Others  49.80   Others   Science     67.25   \n",
       "29    105    106      M  59.00  Central  64.00   Others   Science     58.00   \n",
       "30     99    100      M  54.00  Central  82.00   Others  Commerce     63.00   \n",
       "31     79     80      F  69.00  Central  62.00  Central   Science     66.00   \n",
       "32     68     69      F  69.70  Central  47.00  Central  Commerce     72.70   \n",
       "33     45     46      F  76.00  Central  64.00  Central   Science     72.00   \n",
       "34     31     32      F  67.00  Central  53.00  Central   Science     65.00   \n",
       "35    181    182      M  62.00  Central  60.33   Others   Science     64.21   \n",
       "\n",
       "    degree_t workex  etest_p specialisation      status         salary  \n",
       "0   Sci&Tech    Yes    56.00        Mkt&Fin      Placed  690000.000000  \n",
       "1   Sci&Tech    Yes    69.00        Mkt&Fin      Placed  500000.000000  \n",
       "2   Sci&Tech    Yes    64.00        Mkt&Fin      Placed  500000.000000  \n",
       "3   Sci&Tech     No    75.00        Mkt&Fin      Placed  500000.000000  \n",
       "4   Sci&Tech     No    87.00         Mkt&HR      Placed  450000.000000  \n",
       "5   Sci&Tech     No    93.00        Mkt&Fin      Placed  411000.000000  \n",
       "6   Sci&Tech     No    72.00         Mkt&HR      Placed  400000.000000  \n",
       "7   Sci&Tech    Yes    81.20         Mkt&HR      Placed  400000.000000  \n",
       "8   Sci&Tech     No    55.53         Mkt&HR      Placed  360000.000000  \n",
       "9   Sci&Tech     No    97.40        Mkt&Fin      Placed  360000.000000  \n",
       "10  Sci&Tech     No    89.00        Mkt&Fin      Placed  360000.000000  \n",
       "11  Sci&Tech     No    73.00         Mkt&HR      Placed  350000.000000  \n",
       "12  Sci&Tech    Yes    86.00        Mkt&Fin      Placed  340000.000000  \n",
       "13  Sci&Tech     No    58.00         Mkt&HR      Placed  320000.000000  \n",
       "14  Sci&Tech    Yes    84.00        Mkt&Fin      Placed  300000.000000  \n",
       "15  Sci&Tech    Yes    55.00        Mkt&Fin      Placed  300000.000000  \n",
       "16  Sci&Tech    Yes    75.00         Mkt&HR      Placed  300000.000000  \n",
       "17  Sci&Tech    Yes    92.00        Mkt&Fin      Placed  300000.000000  \n",
       "18  Sci&Tech     No    60.00        Mkt&Fin  Not Placed  288655.405405  \n",
       "19  Sci&Tech     No    67.00         Mkt&HR  Not Placed  288655.405405  \n",
       "20  Sci&Tech     No    54.48         Mkt&HR  Not Placed  288655.405405  \n",
       "21  Sci&Tech    Yes    58.10        Mkt&Fin  Not Placed  288655.405405  \n",
       "22  Sci&Tech     No    87.50         Mkt&HR  Not Placed  288655.405405  \n",
       "23  Sci&Tech     No    75.50         Mkt&HR  Not Placed  288655.405405  \n",
       "24  Sci&Tech     No    66.00         Mkt&HR  Not Placed  288655.405405  \n",
       "25  Sci&Tech     No    71.00        Mkt&Fin  Not Placed  288655.405405  \n",
       "26  Sci&Tech     No    60.00         Mkt&HR  Not Placed  288655.405405  \n",
       "27  Sci&Tech    Yes    86.00         Mkt&HR  Not Placed  288655.405405  \n",
       "28  Sci&Tech    Yes    55.00        Mkt&Fin  Not Placed  288655.405405  \n",
       "29  Sci&Tech     No    85.00         Mkt&HR  Not Placed  288655.405405  \n",
       "30  Sci&Tech     No    50.00        Mkt&Fin  Not Placed  288655.405405  \n",
       "31  Sci&Tech     No    75.00         Mkt&HR  Not Placed  288655.405405  \n",
       "32  Sci&Tech     No    79.00         Mkt&HR  Not Placed  288655.405405  \n",
       "33  Sci&Tech     No    58.00         Mkt&HR  Not Placed  288655.405405  \n",
       "34  Sci&Tech     No    64.00         Mkt&HR  Not Placed  288655.405405  \n",
       "35  Sci&Tech     No    63.00         Mkt&HR  Not Placed  288655.405405  "
      ]
     },
     "execution_count": 20,
     "metadata": {},
     "output_type": "execute_result"
    }
   ],
   "source": [
    "# students with salary more than avg salary science dept\n",
    "\n",
    "df[(df['degree_t']=='Sci&Tech')&(df['salary']>df['salary'].mean())].sort_values(by = 'salary',ascending = False).reset_index()"
   ]
  },
  {
   "cell_type": "code",
   "execution_count": 21,
   "id": "a6e1f713",
   "metadata": {
    "scrolled": true
   },
   "outputs": [
    {
     "data": {
      "text/html": [
       "<div>\n",
       "<style scoped>\n",
       "    .dataframe tbody tr th:only-of-type {\n",
       "        vertical-align: middle;\n",
       "    }\n",
       "\n",
       "    .dataframe tbody tr th {\n",
       "        vertical-align: top;\n",
       "    }\n",
       "\n",
       "    .dataframe thead th {\n",
       "        text-align: right;\n",
       "    }\n",
       "</style>\n",
       "<table border=\"1\" class=\"dataframe\">\n",
       "  <thead>\n",
       "    <tr style=\"text-align: right;\">\n",
       "      <th></th>\n",
       "      <th>index</th>\n",
       "      <th>sl_no</th>\n",
       "      <th>gender</th>\n",
       "      <th>ssc_p</th>\n",
       "      <th>ssc_b</th>\n",
       "      <th>hsc_p</th>\n",
       "      <th>hsc_b</th>\n",
       "      <th>hsc_s</th>\n",
       "      <th>degree_p</th>\n",
       "      <th>degree_t</th>\n",
       "      <th>workex</th>\n",
       "      <th>etest_p</th>\n",
       "      <th>specialisation</th>\n",
       "      <th>status</th>\n",
       "      <th>salary</th>\n",
       "    </tr>\n",
       "  </thead>\n",
       "  <tbody>\n",
       "    <tr>\n",
       "      <th>0</th>\n",
       "      <td>119</td>\n",
       "      <td>120</td>\n",
       "      <td>M</td>\n",
       "      <td>60.8</td>\n",
       "      <td>Central</td>\n",
       "      <td>68.4</td>\n",
       "      <td>Central</td>\n",
       "      <td>Commerce</td>\n",
       "      <td>64.6</td>\n",
       "      <td>Comm&amp;Mgmt</td>\n",
       "      <td>Yes</td>\n",
       "      <td>82.66</td>\n",
       "      <td>Mkt&amp;Fin</td>\n",
       "      <td>Placed</td>\n",
       "      <td>940000.000000</td>\n",
       "    </tr>\n",
       "    <tr>\n",
       "      <th>1</th>\n",
       "      <td>177</td>\n",
       "      <td>178</td>\n",
       "      <td>F</td>\n",
       "      <td>73.0</td>\n",
       "      <td>Central</td>\n",
       "      <td>97.0</td>\n",
       "      <td>Others</td>\n",
       "      <td>Commerce</td>\n",
       "      <td>79.0</td>\n",
       "      <td>Comm&amp;Mgmt</td>\n",
       "      <td>Yes</td>\n",
       "      <td>89.00</td>\n",
       "      <td>Mkt&amp;Fin</td>\n",
       "      <td>Placed</td>\n",
       "      <td>650000.000000</td>\n",
       "    </tr>\n",
       "    <tr>\n",
       "      <th>2</th>\n",
       "      <td>4</td>\n",
       "      <td>5</td>\n",
       "      <td>M</td>\n",
       "      <td>85.8</td>\n",
       "      <td>Central</td>\n",
       "      <td>73.6</td>\n",
       "      <td>Central</td>\n",
       "      <td>Commerce</td>\n",
       "      <td>73.3</td>\n",
       "      <td>Comm&amp;Mgmt</td>\n",
       "      <td>No</td>\n",
       "      <td>96.80</td>\n",
       "      <td>Mkt&amp;Fin</td>\n",
       "      <td>Placed</td>\n",
       "      <td>425000.000000</td>\n",
       "    </tr>\n",
       "    <tr>\n",
       "      <th>3</th>\n",
       "      <td>95</td>\n",
       "      <td>96</td>\n",
       "      <td>M</td>\n",
       "      <td>73.0</td>\n",
       "      <td>Central</td>\n",
       "      <td>78.0</td>\n",
       "      <td>Others</td>\n",
       "      <td>Commerce</td>\n",
       "      <td>65.0</td>\n",
       "      <td>Comm&amp;Mgmt</td>\n",
       "      <td>Yes</td>\n",
       "      <td>95.46</td>\n",
       "      <td>Mkt&amp;Fin</td>\n",
       "      <td>Placed</td>\n",
       "      <td>420000.000000</td>\n",
       "    </tr>\n",
       "    <tr>\n",
       "      <th>4</th>\n",
       "      <td>210</td>\n",
       "      <td>211</td>\n",
       "      <td>M</td>\n",
       "      <td>80.6</td>\n",
       "      <td>Others</td>\n",
       "      <td>82.0</td>\n",
       "      <td>Others</td>\n",
       "      <td>Commerce</td>\n",
       "      <td>77.6</td>\n",
       "      <td>Comm&amp;Mgmt</td>\n",
       "      <td>No</td>\n",
       "      <td>91.00</td>\n",
       "      <td>Mkt&amp;Fin</td>\n",
       "      <td>Placed</td>\n",
       "      <td>400000.000000</td>\n",
       "    </tr>\n",
       "    <tr>\n",
       "      <th>...</th>\n",
       "      <td>...</td>\n",
       "      <td>...</td>\n",
       "      <td>...</td>\n",
       "      <td>...</td>\n",
       "      <td>...</td>\n",
       "      <td>...</td>\n",
       "      <td>...</td>\n",
       "      <td>...</td>\n",
       "      <td>...</td>\n",
       "      <td>...</td>\n",
       "      <td>...</td>\n",
       "      <td>...</td>\n",
       "      <td>...</td>\n",
       "      <td>...</td>\n",
       "      <td>...</td>\n",
       "    </tr>\n",
       "    <tr>\n",
       "      <th>70</th>\n",
       "      <td>120</td>\n",
       "      <td>121</td>\n",
       "      <td>M</td>\n",
       "      <td>58.0</td>\n",
       "      <td>Others</td>\n",
       "      <td>40.0</td>\n",
       "      <td>Others</td>\n",
       "      <td>Science</td>\n",
       "      <td>59.0</td>\n",
       "      <td>Comm&amp;Mgmt</td>\n",
       "      <td>No</td>\n",
       "      <td>73.00</td>\n",
       "      <td>Mkt&amp;HR</td>\n",
       "      <td>Not Placed</td>\n",
       "      <td>288655.405405</td>\n",
       "    </tr>\n",
       "    <tr>\n",
       "      <th>71</th>\n",
       "      <td>29</td>\n",
       "      <td>30</td>\n",
       "      <td>M</td>\n",
       "      <td>62.0</td>\n",
       "      <td>Central</td>\n",
       "      <td>67.0</td>\n",
       "      <td>Central</td>\n",
       "      <td>Commerce</td>\n",
       "      <td>58.0</td>\n",
       "      <td>Comm&amp;Mgmt</td>\n",
       "      <td>No</td>\n",
       "      <td>77.00</td>\n",
       "      <td>Mkt&amp;Fin</td>\n",
       "      <td>Not Placed</td>\n",
       "      <td>288655.405405</td>\n",
       "    </tr>\n",
       "    <tr>\n",
       "      <th>72</th>\n",
       "      <td>36</td>\n",
       "      <td>37</td>\n",
       "      <td>M</td>\n",
       "      <td>51.0</td>\n",
       "      <td>Central</td>\n",
       "      <td>44.0</td>\n",
       "      <td>Central</td>\n",
       "      <td>Commerce</td>\n",
       "      <td>57.0</td>\n",
       "      <td>Comm&amp;Mgmt</td>\n",
       "      <td>No</td>\n",
       "      <td>64.00</td>\n",
       "      <td>Mkt&amp;Fin</td>\n",
       "      <td>Not Placed</td>\n",
       "      <td>288655.405405</td>\n",
       "    </tr>\n",
       "    <tr>\n",
       "      <th>73</th>\n",
       "      <td>136</td>\n",
       "      <td>137</td>\n",
       "      <td>F</td>\n",
       "      <td>47.0</td>\n",
       "      <td>Central</td>\n",
       "      <td>59.0</td>\n",
       "      <td>Central</td>\n",
       "      <td>Arts</td>\n",
       "      <td>64.0</td>\n",
       "      <td>Comm&amp;Mgmt</td>\n",
       "      <td>No</td>\n",
       "      <td>78.00</td>\n",
       "      <td>Mkt&amp;Fin</td>\n",
       "      <td>Not Placed</td>\n",
       "      <td>288655.405405</td>\n",
       "    </tr>\n",
       "    <tr>\n",
       "      <th>74</th>\n",
       "      <td>214</td>\n",
       "      <td>215</td>\n",
       "      <td>M</td>\n",
       "      <td>62.0</td>\n",
       "      <td>Central</td>\n",
       "      <td>58.0</td>\n",
       "      <td>Others</td>\n",
       "      <td>Science</td>\n",
       "      <td>53.0</td>\n",
       "      <td>Comm&amp;Mgmt</td>\n",
       "      <td>No</td>\n",
       "      <td>89.00</td>\n",
       "      <td>Mkt&amp;HR</td>\n",
       "      <td>Not Placed</td>\n",
       "      <td>288655.405405</td>\n",
       "    </tr>\n",
       "  </tbody>\n",
       "</table>\n",
       "<p>75 rows × 15 columns</p>\n",
       "</div>"
      ],
      "text/plain": [
       "    index  sl_no gender  ssc_p    ssc_b  hsc_p    hsc_b     hsc_s  degree_p  \\\n",
       "0     119    120      M   60.8  Central   68.4  Central  Commerce      64.6   \n",
       "1     177    178      F   73.0  Central   97.0   Others  Commerce      79.0   \n",
       "2       4      5      M   85.8  Central   73.6  Central  Commerce      73.3   \n",
       "3      95     96      M   73.0  Central   78.0   Others  Commerce      65.0   \n",
       "4     210    211      M   80.6   Others   82.0   Others  Commerce      77.6   \n",
       "..    ...    ...    ...    ...      ...    ...      ...       ...       ...   \n",
       "70    120    121      M   58.0   Others   40.0   Others   Science      59.0   \n",
       "71     29     30      M   62.0  Central   67.0  Central  Commerce      58.0   \n",
       "72     36     37      M   51.0  Central   44.0  Central  Commerce      57.0   \n",
       "73    136    137      F   47.0  Central   59.0  Central      Arts      64.0   \n",
       "74    214    215      M   62.0  Central   58.0   Others   Science      53.0   \n",
       "\n",
       "     degree_t workex  etest_p specialisation      status         salary  \n",
       "0   Comm&Mgmt    Yes    82.66        Mkt&Fin      Placed  940000.000000  \n",
       "1   Comm&Mgmt    Yes    89.00        Mkt&Fin      Placed  650000.000000  \n",
       "2   Comm&Mgmt     No    96.80        Mkt&Fin      Placed  425000.000000  \n",
       "3   Comm&Mgmt    Yes    95.46        Mkt&Fin      Placed  420000.000000  \n",
       "4   Comm&Mgmt     No    91.00        Mkt&Fin      Placed  400000.000000  \n",
       "..        ...    ...      ...            ...         ...            ...  \n",
       "70  Comm&Mgmt     No    73.00         Mkt&HR  Not Placed  288655.405405  \n",
       "71  Comm&Mgmt     No    77.00        Mkt&Fin  Not Placed  288655.405405  \n",
       "72  Comm&Mgmt     No    64.00        Mkt&Fin  Not Placed  288655.405405  \n",
       "73  Comm&Mgmt     No    78.00        Mkt&Fin  Not Placed  288655.405405  \n",
       "74  Comm&Mgmt     No    89.00         Mkt&HR  Not Placed  288655.405405  \n",
       "\n",
       "[75 rows x 15 columns]"
      ]
     },
     "execution_count": 21,
     "metadata": {},
     "output_type": "execute_result"
    }
   ],
   "source": [
    "# students with salary more than avg salary Comm&Mgmt dept\n",
    "\n",
    "df[(df['degree_t']=='Comm&Mgmt')&(df['salary']>df['salary'].mean())].sort_values(by = 'salary',ascending = False).reset_index()"
   ]
  },
  {
   "cell_type": "code",
   "execution_count": 22,
   "id": "056786cc",
   "metadata": {},
   "outputs": [
    {
     "data": {
      "text/plain": [
       "<AxesSubplot:xlabel='degree_t'>"
      ]
     },
     "execution_count": 22,
     "metadata": {},
     "output_type": "execute_result"
    },
    {
     "data": {
      "image/png": "[encoded data removed]",
      "text/plain": [
       "<Figure size 432x288 with 1 Axes>"
      ]
     },
     "metadata": {
      "needs_background": "light"
     },
     "output_type": "display_data"
    }
   ],
   "source": [
    "# maximum students placed are from comm&mgt\n",
    "\n",
    "df.groupby(['degree_t'])['status'].count().plot(kind = 'bar',color = 'magenta')"
   ]
  },
  {
   "cell_type": "code",
   "execution_count": 23,
   "id": "a9460ccb",
   "metadata": {},
   "outputs": [
    {
     "data": {
      "text/plain": [
       "<AxesSubplot:xlabel='specialisation'>"
      ]
     },
     "execution_count": 23,
     "metadata": {},
     "output_type": "execute_result"
    },
    {
     "data": {
      "image/png": "[encoded data removed]",
      "text/plain": [
       "<Figure size 432x288 with 1 Axes>"
      ]
     },
     "metadata": {
      "needs_background": "light"
     },
     "output_type": "display_data"
    }
   ],
   "source": [
    "# Marketing and Finance specialisation are placed more\n",
    "\n",
    "df.groupby(['specialisation'])['status'].count().plot(kind = 'bar',color = 'magenta')"
   ]
  },
  {
   "cell_type": "code",
   "execution_count": 24,
   "id": "38a6447d",
   "metadata": {},
   "outputs": [
    {
     "data": {
      "text/plain": [
       "<AxesSubplot:ylabel='status'>"
      ]
     },
     "execution_count": 24,
     "metadata": {},
     "output_type": "execute_result"
    },
    {
     "data": {
      "image/png": "[encoded data removed]",
      "text/plain": [
       "<Figure size 432x288 with 1 Axes>"
      ]
     },
     "metadata": {},
     "output_type": "display_data"
    }
   ],
   "source": [
    "# females placed 35% and males 65%\n",
    "\n",
    "df.groupby(['gender'])['status'].count().plot(kind = 'pie',autopct='%1.0f%%')"
   ]
  },
  {
   "cell_type": "code",
   "execution_count": 25,
   "id": "486d1475",
   "metadata": {},
   "outputs": [
    {
     "data": {
      "text/html": [
       "<style  type=\"text/css\" >\n",
       "#T_f4c4f_row0_col0,#T_f4c4f_row0_col2,#T_f4c4f_row0_col4,#T_f4c4f_row0_col7,#T_f4c4f_row0_col10,#T_f4c4f_row0_col13{\n",
       "            background-color:  #0d0887;\n",
       "            color:  #f1f1f1;\n",
       "        }</style><table id=\"T_f4c4f_\" ><thead>    <tr>        <th class=\"blank level0\" ></th>        <th class=\"col_heading level0 col0\" >sl_no</th>        <th class=\"col_heading level0 col1\" >gender</th>        <th class=\"col_heading level0 col2\" >ssc_p</th>        <th class=\"col_heading level0 col3\" >ssc_b</th>        <th class=\"col_heading level0 col4\" >hsc_p</th>        <th class=\"col_heading level0 col5\" >hsc_b</th>        <th class=\"col_heading level0 col6\" >hsc_s</th>        <th class=\"col_heading level0 col7\" >degree_p</th>        <th class=\"col_heading level0 col8\" >degree_t</th>        <th class=\"col_heading level0 col9\" >workex</th>        <th class=\"col_heading level0 col10\" >etest_p</th>        <th class=\"col_heading level0 col11\" >specialisation</th>        <th class=\"col_heading level0 col12\" >status</th>        <th class=\"col_heading level0 col13\" >salary</th>    </tr></thead><tbody>\n",
       "                <tr>\n",
       "                        <th id=\"T_f4c4f_level0_row0\" class=\"row_heading level0 row0\" >177</th>\n",
       "                        <td id=\"T_f4c4f_row0_col0\" class=\"data row0 col0\" >178</td>\n",
       "                        <td id=\"T_f4c4f_row0_col1\" class=\"data row0 col1\" >F</td>\n",
       "                        <td id=\"T_f4c4f_row0_col2\" class=\"data row0 col2\" >73.000000</td>\n",
       "                        <td id=\"T_f4c4f_row0_col3\" class=\"data row0 col3\" >Central</td>\n",
       "                        <td id=\"T_f4c4f_row0_col4\" class=\"data row0 col4\" >97.000000</td>\n",
       "                        <td id=\"T_f4c4f_row0_col5\" class=\"data row0 col5\" >Others</td>\n",
       "                        <td id=\"T_f4c4f_row0_col6\" class=\"data row0 col6\" >Commerce</td>\n",
       "                        <td id=\"T_f4c4f_row0_col7\" class=\"data row0 col7\" >79.000000</td>\n",
       "                        <td id=\"T_f4c4f_row0_col8\" class=\"data row0 col8\" >Comm&Mgmt</td>\n",
       "                        <td id=\"T_f4c4f_row0_col9\" class=\"data row0 col9\" >Yes</td>\n",
       "                        <td id=\"T_f4c4f_row0_col10\" class=\"data row0 col10\" >89.000000</td>\n",
       "                        <td id=\"T_f4c4f_row0_col11\" class=\"data row0 col11\" >Mkt&Fin</td>\n",
       "                        <td id=\"T_f4c4f_row0_col12\" class=\"data row0 col12\" >Placed</td>\n",
       "                        <td id=\"T_f4c4f_row0_col13\" class=\"data row0 col13\" >650000.000000</td>\n",
       "            </tr>\n",
       "    </tbody></table>"
      ],
      "text/plain": [
       "<pandas.io.formats.style.Styler at 0x2082f9e3a60>"
      ]
     },
     "execution_count": 25,
     "metadata": {},
     "output_type": "execute_result"
    }
   ],
   "source": [
    "# max female salary ~ 6,50,000\n",
    "\n",
    "temp = df[df['gender']=='F']\n",
    "temp[temp['salary']==max(temp['salary'])].style.background_gradient(cmap = 'plasma')"
   ]
  },
  {
   "cell_type": "code",
   "execution_count": 26,
   "id": "93aa0662",
   "metadata": {},
   "outputs": [
    {
     "data": {
      "text/plain": [
       "<AxesSubplot:ylabel='status'>"
      ]
     },
     "execution_count": 26,
     "metadata": {},
     "output_type": "execute_result"
    },
    {
     "data": {
      "image/png": "[encoded data removed]",
      "text/plain": [
       "<Figure size 1080x504 with 1 Axes>"
      ]
     },
     "metadata": {},
     "output_type": "display_data"
    }
   ],
   "source": [
    "df.groupby(['hsc_s'])['status'].count().plot(kind = 'pie',autopct='%1.0f%%',figsize=(15,7))"
   ]
  },
  {
   "cell_type": "code",
   "execution_count": 27,
   "id": "dbb990d3",
   "metadata": {},
   "outputs": [
    {
     "data": {
      "text/html": [
       "<div>\n",
       "<style scoped>\n",
       "    .dataframe tbody tr th:only-of-type {\n",
       "        vertical-align: middle;\n",
       "    }\n",
       "\n",
       "    .dataframe tbody tr th {\n",
       "        vertical-align: top;\n",
       "    }\n",
       "\n",
       "    .dataframe thead th {\n",
       "        text-align: right;\n",
       "    }\n",
       "</style>\n",
       "<table border=\"1\" class=\"dataframe\">\n",
       "  <thead>\n",
       "    <tr style=\"text-align: right;\">\n",
       "      <th></th>\n",
       "      <th>sl_no</th>\n",
       "      <th>gender</th>\n",
       "      <th>ssc_p</th>\n",
       "      <th>ssc_b</th>\n",
       "      <th>hsc_p</th>\n",
       "      <th>hsc_b</th>\n",
       "      <th>hsc_s</th>\n",
       "      <th>degree_p</th>\n",
       "      <th>degree_t</th>\n",
       "      <th>workex</th>\n",
       "      <th>etest_p</th>\n",
       "      <th>specialisation</th>\n",
       "      <th>status</th>\n",
       "      <th>salary</th>\n",
       "    </tr>\n",
       "  </thead>\n",
       "  <tbody>\n",
       "    <tr>\n",
       "      <th>0</th>\n",
       "      <td>1</td>\n",
       "      <td>M</td>\n",
       "      <td>67.00</td>\n",
       "      <td>Others</td>\n",
       "      <td>91.00</td>\n",
       "      <td>Others</td>\n",
       "      <td>Commerce</td>\n",
       "      <td>58.00</td>\n",
       "      <td>Sci&amp;Tech</td>\n",
       "      <td>No</td>\n",
       "      <td>55.0</td>\n",
       "      <td>Mkt&amp;HR</td>\n",
       "      <td>Placed</td>\n",
       "      <td>270000.000000</td>\n",
       "    </tr>\n",
       "    <tr>\n",
       "      <th>1</th>\n",
       "      <td>2</td>\n",
       "      <td>M</td>\n",
       "      <td>79.33</td>\n",
       "      <td>Central</td>\n",
       "      <td>78.33</td>\n",
       "      <td>Others</td>\n",
       "      <td>Science</td>\n",
       "      <td>77.48</td>\n",
       "      <td>Sci&amp;Tech</td>\n",
       "      <td>Yes</td>\n",
       "      <td>86.5</td>\n",
       "      <td>Mkt&amp;Fin</td>\n",
       "      <td>Placed</td>\n",
       "      <td>200000.000000</td>\n",
       "    </tr>\n",
       "    <tr>\n",
       "      <th>2</th>\n",
       "      <td>3</td>\n",
       "      <td>M</td>\n",
       "      <td>65.00</td>\n",
       "      <td>Central</td>\n",
       "      <td>68.00</td>\n",
       "      <td>Central</td>\n",
       "      <td>Arts</td>\n",
       "      <td>64.00</td>\n",
       "      <td>Comm&amp;Mgmt</td>\n",
       "      <td>No</td>\n",
       "      <td>75.0</td>\n",
       "      <td>Mkt&amp;Fin</td>\n",
       "      <td>Placed</td>\n",
       "      <td>250000.000000</td>\n",
       "    </tr>\n",
       "    <tr>\n",
       "      <th>3</th>\n",
       "      <td>4</td>\n",
       "      <td>M</td>\n",
       "      <td>56.00</td>\n",
       "      <td>Central</td>\n",
       "      <td>52.00</td>\n",
       "      <td>Central</td>\n",
       "      <td>Science</td>\n",
       "      <td>52.00</td>\n",
       "      <td>Sci&amp;Tech</td>\n",
       "      <td>No</td>\n",
       "      <td>66.0</td>\n",
       "      <td>Mkt&amp;HR</td>\n",
       "      <td>Not Placed</td>\n",
       "      <td>288655.405405</td>\n",
       "    </tr>\n",
       "    <tr>\n",
       "      <th>4</th>\n",
       "      <td>5</td>\n",
       "      <td>M</td>\n",
       "      <td>85.80</td>\n",
       "      <td>Central</td>\n",
       "      <td>73.60</td>\n",
       "      <td>Central</td>\n",
       "      <td>Commerce</td>\n",
       "      <td>73.30</td>\n",
       "      <td>Comm&amp;Mgmt</td>\n",
       "      <td>No</td>\n",
       "      <td>96.8</td>\n",
       "      <td>Mkt&amp;Fin</td>\n",
       "      <td>Placed</td>\n",
       "      <td>425000.000000</td>\n",
       "    </tr>\n",
       "  </tbody>\n",
       "</table>\n",
       "</div>"
      ],
      "text/plain": [
       "   sl_no gender  ssc_p    ssc_b  hsc_p    hsc_b     hsc_s  degree_p  \\\n",
       "0      1      M  67.00   Others  91.00   Others  Commerce     58.00   \n",
       "1      2      M  79.33  Central  78.33   Others   Science     77.48   \n",
       "2      3      M  65.00  Central  68.00  Central      Arts     64.00   \n",
       "3      4      M  56.00  Central  52.00  Central   Science     52.00   \n",
       "4      5      M  85.80  Central  73.60  Central  Commerce     73.30   \n",
       "\n",
       "    degree_t workex  etest_p specialisation      status         salary  \n",
       "0   Sci&Tech     No     55.0         Mkt&HR      Placed  270000.000000  \n",
       "1   Sci&Tech    Yes     86.5        Mkt&Fin      Placed  200000.000000  \n",
       "2  Comm&Mgmt     No     75.0        Mkt&Fin      Placed  250000.000000  \n",
       "3   Sci&Tech     No     66.0         Mkt&HR  Not Placed  288655.405405  \n",
       "4  Comm&Mgmt     No     96.8        Mkt&Fin      Placed  425000.000000  "
      ]
     },
     "execution_count": 27,
     "metadata": {},
     "output_type": "execute_result"
    }
   ],
   "source": [
    "df.head()"
   ]
  },
  {
   "cell_type": "code",
   "execution_count": 28,
   "id": "3ce3a231",
   "metadata": {},
   "outputs": [
    {
     "data": {
      "text/plain": [
       "{'gender': {'M': 139, 'F': 76},\n",
       " 'ssc_b': {'Central': 116, 'Others': 99},\n",
       " 'hsc_b': {'Others': 131, 'Central': 84},\n",
       " 'hsc_s': {'Commerce': 113, 'Science': 91, 'Arts': 11},\n",
       " 'degree_t': {'Comm&Mgmt': 145, 'Sci&Tech': 59, 'Others': 11},\n",
       " 'workex': {'No': 141, 'Yes': 74},\n",
       " 'specialisation': {'Mkt&Fin': 120, 'Mkt&HR': 95},\n",
       " 'status': {'Placed': 148, 'Not Placed': 67}}"
      ]
     },
     "execution_count": 28,
     "metadata": {},
     "output_type": "execute_result"
    }
   ],
   "source": [
    "getfinaldict"
   ]
  },
  {
   "cell_type": "code",
   "execution_count": 29,
   "id": "403c884c",
   "metadata": {},
   "outputs": [
    {
     "data": {
      "text/plain": [
       "(2, 3)"
      ]
     },
     "execution_count": 29,
     "metadata": {},
     "output_type": "execute_result"
    }
   ],
   "source": [
    "len(getfinaldict['status']),len(getfinaldict['degree_t'])"
   ]
  },
  {
   "cell_type": "code",
   "execution_count": 30,
   "id": "5b3a1ea2",
   "metadata": {},
   "outputs": [
    {
     "name": "stdout",
     "output_type": "stream",
     "text": [
      "['gender', 'ssc_b', 'hsc_b', 'workex', 'specialisation', 'status'] ['hsc_s', 'degree_t']\n"
     ]
    }
   ],
   "source": [
    "boolcols = [key for key,value in getfinaldict.items() if len(getfinaldict[key])==2]\n",
    "tripcols = [key for key in list(getfinaldict.keys()) if key not in boolcols]\n",
    "\n",
    "print(boolcols,tripcols)"
   ]
  },
  {
   "cell_type": "markdown",
   "id": "0677b89c",
   "metadata": {},
   "source": [
    "## Label Encoding process"
   ]
  },
  {
   "cell_type": "code",
   "execution_count": 31,
   "id": "46809739",
   "metadata": {},
   "outputs": [
    {
     "data": {
      "text/html": [
       "<div>\n",
       "<style scoped>\n",
       "    .dataframe tbody tr th:only-of-type {\n",
       "        vertical-align: middle;\n",
       "    }\n",
       "\n",
       "    .dataframe tbody tr th {\n",
       "        vertical-align: top;\n",
       "    }\n",
       "\n",
       "    .dataframe thead th {\n",
       "        text-align: right;\n",
       "    }\n",
       "</style>\n",
       "<table border=\"1\" class=\"dataframe\">\n",
       "  <thead>\n",
       "    <tr style=\"text-align: right;\">\n",
       "      <th></th>\n",
       "      <th>sl_no</th>\n",
       "      <th>gender</th>\n",
       "      <th>ssc_p</th>\n",
       "      <th>ssc_b</th>\n",
       "      <th>hsc_p</th>\n",
       "      <th>hsc_b</th>\n",
       "      <th>hsc_s</th>\n",
       "      <th>degree_p</th>\n",
       "      <th>degree_t</th>\n",
       "      <th>workex</th>\n",
       "      <th>etest_p</th>\n",
       "      <th>specialisation</th>\n",
       "      <th>status</th>\n",
       "      <th>salary</th>\n",
       "    </tr>\n",
       "  </thead>\n",
       "  <tbody>\n",
       "    <tr>\n",
       "      <th>0</th>\n",
       "      <td>1</td>\n",
       "      <td>1</td>\n",
       "      <td>67.00</td>\n",
       "      <td>1</td>\n",
       "      <td>91.00</td>\n",
       "      <td>1</td>\n",
       "      <td>1</td>\n",
       "      <td>58.00</td>\n",
       "      <td>2</td>\n",
       "      <td>0</td>\n",
       "      <td>55.0</td>\n",
       "      <td>1</td>\n",
       "      <td>1</td>\n",
       "      <td>270000.000000</td>\n",
       "    </tr>\n",
       "    <tr>\n",
       "      <th>1</th>\n",
       "      <td>2</td>\n",
       "      <td>1</td>\n",
       "      <td>79.33</td>\n",
       "      <td>0</td>\n",
       "      <td>78.33</td>\n",
       "      <td>1</td>\n",
       "      <td>2</td>\n",
       "      <td>77.48</td>\n",
       "      <td>2</td>\n",
       "      <td>1</td>\n",
       "      <td>86.5</td>\n",
       "      <td>0</td>\n",
       "      <td>1</td>\n",
       "      <td>200000.000000</td>\n",
       "    </tr>\n",
       "    <tr>\n",
       "      <th>2</th>\n",
       "      <td>3</td>\n",
       "      <td>1</td>\n",
       "      <td>65.00</td>\n",
       "      <td>0</td>\n",
       "      <td>68.00</td>\n",
       "      <td>0</td>\n",
       "      <td>0</td>\n",
       "      <td>64.00</td>\n",
       "      <td>0</td>\n",
       "      <td>0</td>\n",
       "      <td>75.0</td>\n",
       "      <td>0</td>\n",
       "      <td>1</td>\n",
       "      <td>250000.000000</td>\n",
       "    </tr>\n",
       "    <tr>\n",
       "      <th>3</th>\n",
       "      <td>4</td>\n",
       "      <td>1</td>\n",
       "      <td>56.00</td>\n",
       "      <td>0</td>\n",
       "      <td>52.00</td>\n",
       "      <td>0</td>\n",
       "      <td>2</td>\n",
       "      <td>52.00</td>\n",
       "      <td>2</td>\n",
       "      <td>0</td>\n",
       "      <td>66.0</td>\n",
       "      <td>1</td>\n",
       "      <td>0</td>\n",
       "      <td>288655.405405</td>\n",
       "    </tr>\n",
       "    <tr>\n",
       "      <th>4</th>\n",
       "      <td>5</td>\n",
       "      <td>1</td>\n",
       "      <td>85.80</td>\n",
       "      <td>0</td>\n",
       "      <td>73.60</td>\n",
       "      <td>0</td>\n",
       "      <td>1</td>\n",
       "      <td>73.30</td>\n",
       "      <td>0</td>\n",
       "      <td>0</td>\n",
       "      <td>96.8</td>\n",
       "      <td>0</td>\n",
       "      <td>1</td>\n",
       "      <td>425000.000000</td>\n",
       "    </tr>\n",
       "  </tbody>\n",
       "</table>\n",
       "</div>"
      ],
      "text/plain": [
       "   sl_no  gender  ssc_p  ssc_b  hsc_p  hsc_b  hsc_s  degree_p  degree_t  \\\n",
       "0      1       1  67.00      1  91.00      1      1     58.00         2   \n",
       "1      2       1  79.33      0  78.33      1      2     77.48         2   \n",
       "2      3       1  65.00      0  68.00      0      0     64.00         0   \n",
       "3      4       1  56.00      0  52.00      0      2     52.00         2   \n",
       "4      5       1  85.80      0  73.60      0      1     73.30         0   \n",
       "\n",
       "   workex  etest_p  specialisation  status         salary  \n",
       "0       0     55.0               1       1  270000.000000  \n",
       "1       1     86.5               0       1  200000.000000  \n",
       "2       0     75.0               0       1  250000.000000  \n",
       "3       0     66.0               1       0  288655.405405  \n",
       "4       0     96.8               0       1  425000.000000  "
      ]
     },
     "execution_count": 31,
     "metadata": {},
     "output_type": "execute_result"
    }
   ],
   "source": [
    "def labelencode(le,col):\n",
    "    \n",
    "    df[col] = le.fit_transform(df[col])\n",
    "    \n",
    "    \n",
    "getmappings = {}\n",
    "from sklearn.preprocessing import LabelEncoder\n",
    "le = LabelEncoder()\n",
    "for col in list(getfinaldict.keys()):\n",
    "    labelencode(le,col)\n",
    "    getmappings[col] = dict(zip(le.classes_,le.transform(le.classes_)))\n",
    "    \n",
    "\n",
    "df.head()\n"
   ]
  },
  {
   "cell_type": "code",
   "execution_count": 32,
   "id": "50031634",
   "metadata": {},
   "outputs": [
    {
     "data": {
      "text/plain": [
       "{'gender': {'F': 0, 'M': 1},\n",
       " 'ssc_b': {'Central': 0, 'Others': 1},\n",
       " 'hsc_b': {'Central': 0, 'Others': 1},\n",
       " 'hsc_s': {'Arts': 0, 'Commerce': 1, 'Science': 2},\n",
       " 'degree_t': {'Comm&Mgmt': 0, 'Others': 1, 'Sci&Tech': 2},\n",
       " 'workex': {'No': 0, 'Yes': 1},\n",
       " 'specialisation': {'Mkt&Fin': 0, 'Mkt&HR': 1},\n",
       " 'status': {'Not Placed': 0, 'Placed': 1}}"
      ]
     },
     "execution_count": 32,
     "metadata": {},
     "output_type": "execute_result"
    }
   ],
   "source": [
    "# this was the internal mapping structure followed by label encoder for mapping\n",
    "\n",
    "getmappings"
   ]
  },
  {
   "cell_type": "code",
   "execution_count": 33,
   "id": "01b54656",
   "metadata": {},
   "outputs": [
    {
     "data": {
      "text/html": [
       "<div>\n",
       "<style scoped>\n",
       "    .dataframe tbody tr th:only-of-type {\n",
       "        vertical-align: middle;\n",
       "    }\n",
       "\n",
       "    .dataframe tbody tr th {\n",
       "        vertical-align: top;\n",
       "    }\n",
       "\n",
       "    .dataframe thead th {\n",
       "        text-align: right;\n",
       "    }\n",
       "</style>\n",
       "<table border=\"1\" class=\"dataframe\">\n",
       "  <thead>\n",
       "    <tr style=\"text-align: right;\">\n",
       "      <th></th>\n",
       "      <th>gender</th>\n",
       "      <th>ssc_p</th>\n",
       "      <th>ssc_b</th>\n",
       "      <th>hsc_p</th>\n",
       "      <th>hsc_b</th>\n",
       "      <th>hsc_s</th>\n",
       "      <th>degree_p</th>\n",
       "      <th>degree_t</th>\n",
       "      <th>workex</th>\n",
       "      <th>etest_p</th>\n",
       "      <th>specialisation</th>\n",
       "      <th>status</th>\n",
       "      <th>salary</th>\n",
       "    </tr>\n",
       "  </thead>\n",
       "  <tbody>\n",
       "    <tr>\n",
       "      <th>0</th>\n",
       "      <td>1</td>\n",
       "      <td>67.00</td>\n",
       "      <td>1</td>\n",
       "      <td>91.00</td>\n",
       "      <td>1</td>\n",
       "      <td>1</td>\n",
       "      <td>58.00</td>\n",
       "      <td>2</td>\n",
       "      <td>0</td>\n",
       "      <td>55.0</td>\n",
       "      <td>1</td>\n",
       "      <td>1</td>\n",
       "      <td>270000.0</td>\n",
       "    </tr>\n",
       "    <tr>\n",
       "      <th>1</th>\n",
       "      <td>1</td>\n",
       "      <td>79.33</td>\n",
       "      <td>0</td>\n",
       "      <td>78.33</td>\n",
       "      <td>1</td>\n",
       "      <td>2</td>\n",
       "      <td>77.48</td>\n",
       "      <td>2</td>\n",
       "      <td>1</td>\n",
       "      <td>86.5</td>\n",
       "      <td>0</td>\n",
       "      <td>1</td>\n",
       "      <td>200000.0</td>\n",
       "    </tr>\n",
       "  </tbody>\n",
       "</table>\n",
       "</div>"
      ],
      "text/plain": [
       "   gender  ssc_p  ssc_b  hsc_p  hsc_b  hsc_s  degree_p  degree_t  workex  \\\n",
       "0       1  67.00      1  91.00      1      1     58.00         2       0   \n",
       "1       1  79.33      0  78.33      1      2     77.48         2       1   \n",
       "\n",
       "   etest_p  specialisation  status    salary  \n",
       "0     55.0               1       1  270000.0  \n",
       "1     86.5               0       1  200000.0  "
      ]
     },
     "execution_count": 33,
     "metadata": {},
     "output_type": "execute_result"
    }
   ],
   "source": [
    "# removing unwated columns\n",
    "\n",
    "df = df.drop(['sl_no'],axis=1)\n",
    "df.head(2)"
   ]
  },
  {
   "cell_type": "markdown",
   "id": "c3771a22",
   "metadata": {},
   "source": [
    "## Numerical Columns EDA"
   ]
  },
  {
   "cell_type": "code",
   "execution_count": 34,
   "id": "2e98d3ae",
   "metadata": {},
   "outputs": [
    {
     "data": {
      "text/plain": [
       "['ssc_p', 'hsc_p', 'degree_p', 'etest_p', 'salary']"
      ]
     },
     "execution_count": 34,
     "metadata": {},
     "output_type": "execute_result"
    }
   ],
   "source": [
    "numvars[1:]"
   ]
  },
  {
   "cell_type": "code",
   "execution_count": 35,
   "id": "eb3430c6",
   "metadata": {
    "scrolled": true
   },
   "outputs": [
    {
     "name": "stdout",
     "output_type": "stream",
     "text": [
      "Distribution plots for col : ssc_p are shown ↓\n"
     ]
    },
    {
     "name": "stderr",
     "output_type": "stream",
     "text": [
      "C:\\Users\\91939\\anaconda3\\lib\\site-packages\\seaborn\\_decorators.py:36: FutureWarning: Pass the following variable as a keyword arg: x. From version 0.12, the only valid positional argument will be `data`, and passing other arguments without an explicit keyword will result in an error or misinterpretation.\n",
      "  warnings.warn(\n"
     ]
    },
    {
     "data": {
      "image/png": "[encoded data removed]",
      "text/plain": [
       "<Figure size 1080x504 with 3 Axes>"
      ]
     },
     "metadata": {
      "needs_background": "light"
     },
     "output_type": "display_data"
    },
    {
     "name": "stdout",
     "output_type": "stream",
     "text": [
      "==========\n",
      "Distribution plots for col : hsc_p are shown ↓\n"
     ]
    },
    {
     "name": "stderr",
     "output_type": "stream",
     "text": [
      "C:\\Users\\91939\\anaconda3\\lib\\site-packages\\seaborn\\_decorators.py:36: FutureWarning: Pass the following variable as a keyword arg: x. From version 0.12, the only valid positional argument will be `data`, and passing other arguments without an explicit keyword will result in an error or misinterpretation.\n",
      "  warnings.warn(\n"
     ]
    },
    {
     "data": {
      "image/png": "[encoded data removed]",
      "text/plain": [
       "<Figure size 1080x504 with 3 Axes>"
      ]
     },
     "metadata": {
      "needs_background": "light"
     },
     "output_type": "display_data"
    },
    {
     "name": "stdout",
     "output_type": "stream",
     "text": [
      "==========\n",
      "Distribution plots for col : degree_p are shown ↓\n"
     ]
    },
    {
     "name": "stderr",
     "output_type": "stream",
     "text": [
      "C:\\Users\\91939\\anaconda3\\lib\\site-packages\\seaborn\\_decorators.py:36: FutureWarning: Pass the following variable as a keyword arg: x. From version 0.12, the only valid positional argument will be `data`, and passing other arguments without an explicit keyword will result in an error or misinterpretation.\n",
      "  warnings.warn(\n"
     ]
    },
    {
     "data": {
      "image/png": "[encoded data removed]",
      "text/plain": [
       "<Figure size 1080x504 with 3 Axes>"
      ]
     },
     "metadata": {
      "needs_background": "light"
     },
     "output_type": "display_data"
    },
    {
     "name": "stdout",
     "output_type": "stream",
     "text": [
      "==========\n",
      "Distribution plots for col : etest_p are shown ↓\n"
     ]
    },
    {
     "name": "stderr",
     "output_type": "stream",
     "text": [
      "C:\\Users\\91939\\anaconda3\\lib\\site-packages\\seaborn\\_decorators.py:36: FutureWarning: Pass the following variable as a keyword arg: x. From version 0.12, the only valid positional argument will be `data`, and passing other arguments without an explicit keyword will result in an error or misinterpretation.\n",
      "  warnings.warn(\n"
     ]
    },
    {
     "data": {
      "image/png": "[encoded data removed]",
      "text/plain": [
       "<Figure size 1080x504 with 3 Axes>"
      ]
     },
     "metadata": {
      "needs_background": "light"
     },
     "output_type": "display_data"
    },
    {
     "name": "stdout",
     "output_type": "stream",
     "text": [
      "==========\n",
      "Distribution plots for col : salary are shown ↓\n"
     ]
    },
    {
     "name": "stderr",
     "output_type": "stream",
     "text": [
      "C:\\Users\\91939\\anaconda3\\lib\\site-packages\\seaborn\\_decorators.py:36: FutureWarning: Pass the following variable as a keyword arg: x. From version 0.12, the only valid positional argument will be `data`, and passing other arguments without an explicit keyword will result in an error or misinterpretation.\n",
      "  warnings.warn(\n"
     ]
    },
    {
     "data": {
      "image/png": "[encoded data removed]",
      "text/plain": [
       "<Figure size 1080x504 with 3 Axes>"
      ]
     },
     "metadata": {
      "needs_background": "light"
     },
     "output_type": "display_data"
    },
    {
     "name": "stdout",
     "output_type": "stream",
     "text": [
      "==========\n"
     ]
    }
   ],
   "source": [
    "import scipy.stats as stats\n",
    "\n",
    "def getplots(df,col):\n",
    "    \n",
    "    plt.figure(figsize=(15,7))\n",
    "    plt.subplot(1,3,1)\n",
    "    plt.hist(df[col],color='magenta')\n",
    "    \n",
    "    plt.subplot(1,3,2)\n",
    "    stats.probplot(df[col],dist='norm',plot=plt)\n",
    "    \n",
    "    plt.subplot(1,3,3)\n",
    "    sns.boxplot(df[col],color='magenta')\n",
    "    \n",
    "    plt.show()\n",
    "    \n",
    "    \n",
    "for col in numvars[1:]:\n",
    "    print(f'Distribution plots for col : {col} are shown ↓')\n",
    "    getplots(df,col)\n",
    "    print('='*10)"
   ]
  },
  {
   "cell_type": "markdown",
   "id": "72e1a610",
   "metadata": {},
   "source": [
    "# Feature Selection"
   ]
  },
  {
   "cell_type": "code",
   "execution_count": 36,
   "id": "3ff7194e",
   "metadata": {},
   "outputs": [
    {
     "data": {
      "text/plain": [
       "<AxesSubplot:>"
      ]
     },
     "execution_count": 36,
     "metadata": {},
     "output_type": "execute_result"
    },
    {
     "data": {
      "image/png": "[encoded data removed]",
      "text/plain": [
       "<Figure size 1080x504 with 2 Axes>"
      ]
     },
     "metadata": {
      "needs_background": "light"
     },
     "output_type": "display_data"
    }
   ],
   "source": [
    "# checking for tightly correlated features\n",
    "\n",
    "plt.figure(figsize=(15,7))\n",
    "sns.heatmap(df.corr(),annot=True,cmap='plasma')"
   ]
  },
  {
   "cell_type": "code",
   "execution_count": 37,
   "id": "fe7dcad9",
   "metadata": {},
   "outputs": [
    {
     "data": {
      "text/html": [
       "<div>\n",
       "<style scoped>\n",
       "    .dataframe tbody tr th:only-of-type {\n",
       "        vertical-align: middle;\n",
       "    }\n",
       "\n",
       "    .dataframe tbody tr th {\n",
       "        vertical-align: top;\n",
       "    }\n",
       "\n",
       "    .dataframe thead th {\n",
       "        text-align: right;\n",
       "    }\n",
       "</style>\n",
       "<table border=\"1\" class=\"dataframe\">\n",
       "  <thead>\n",
       "    <tr style=\"text-align: right;\">\n",
       "      <th></th>\n",
       "      <th>gender</th>\n",
       "      <th>ssc_p</th>\n",
       "      <th>ssc_b</th>\n",
       "      <th>hsc_p</th>\n",
       "      <th>hsc_b</th>\n",
       "      <th>hsc_s</th>\n",
       "      <th>degree_p</th>\n",
       "      <th>degree_t</th>\n",
       "      <th>workex</th>\n",
       "      <th>etest_p</th>\n",
       "      <th>specialisation</th>\n",
       "    </tr>\n",
       "  </thead>\n",
       "  <tbody>\n",
       "    <tr>\n",
       "      <th>0</th>\n",
       "      <td>1</td>\n",
       "      <td>67.00</td>\n",
       "      <td>1</td>\n",
       "      <td>91.00</td>\n",
       "      <td>1</td>\n",
       "      <td>1</td>\n",
       "      <td>58.00</td>\n",
       "      <td>2</td>\n",
       "      <td>0</td>\n",
       "      <td>55.0</td>\n",
       "      <td>1</td>\n",
       "    </tr>\n",
       "    <tr>\n",
       "      <th>1</th>\n",
       "      <td>1</td>\n",
       "      <td>79.33</td>\n",
       "      <td>0</td>\n",
       "      <td>78.33</td>\n",
       "      <td>1</td>\n",
       "      <td>2</td>\n",
       "      <td>77.48</td>\n",
       "      <td>2</td>\n",
       "      <td>1</td>\n",
       "      <td>86.5</td>\n",
       "      <td>0</td>\n",
       "    </tr>\n",
       "  </tbody>\n",
       "</table>\n",
       "</div>"
      ],
      "text/plain": [
       "   gender  ssc_p  ssc_b  hsc_p  hsc_b  hsc_s  degree_p  degree_t  workex  \\\n",
       "0       1  67.00      1  91.00      1      1     58.00         2       0   \n",
       "1       1  79.33      0  78.33      1      2     77.48         2       1   \n",
       "\n",
       "   etest_p  specialisation  \n",
       "0     55.0               1  \n",
       "1     86.5               0  "
      ]
     },
     "execution_count": 37,
     "metadata": {},
     "output_type": "execute_result"
    }
   ],
   "source": [
    "'''\n",
    "We will drop the salary column as well\n",
    "coz after getting the placement we will get to know the salary right!\n",
    "\n",
    "'''\n",
    "\n",
    "\n",
    "data = df.copy()\n",
    "test = data['status']\n",
    "train = data.drop(['status','salary'],axis = 1)\n",
    "train.head(2)\n"
   ]
  },
  {
   "cell_type": "code",
   "execution_count": 38,
   "id": "ef2e6f09",
   "metadata": {},
   "outputs": [
    {
     "data": {
      "text/plain": [
       "ExtraTreesClassifier()"
      ]
     },
     "execution_count": 38,
     "metadata": {},
     "output_type": "execute_result"
    }
   ],
   "source": [
    "## extratrees classifier\n",
    "\n",
    "from sklearn.ensemble import ExtraTreesClassifier\n",
    "ec = ExtraTreesClassifier()\n",
    "ec.fit(train,test)"
   ]
  },
  {
   "cell_type": "code",
   "execution_count": 39,
   "id": "a6d5f61a",
   "metadata": {},
   "outputs": [
    {
     "data": {
      "text/plain": [
       "<AxesSubplot:>"
      ]
     },
     "execution_count": 39,
     "metadata": {},
     "output_type": "execute_result"
    },
    {
     "data": {
      "image/png": "[encoded data removed]",
      "text/plain": [
       "<Figure size 432x288 with 1 Axes>"
      ]
     },
     "metadata": {
      "needs_background": "light"
     },
     "output_type": "display_data"
    }
   ],
   "source": [
    "featbar = pd.Series(ec.feature_importances_,index=train.columns)\n",
    "featbar.nlargest(7).plot(kind = 'barh')"
   ]
  },
  {
   "cell_type": "code",
   "execution_count": 40,
   "id": "770290a4",
   "metadata": {},
   "outputs": [
    {
     "name": "stderr",
     "output_type": "stream",
     "text": [
      "C:\\Users\\91939\\anaconda3\\lib\\site-packages\\pandas\\plotting\\_matplotlib\\core.py:1583: MatplotlibDeprecationWarning: normalize=None does not normalize if the sum is less than 1 but this behavior is deprecated since 3.3 until two minor releases later. After the deprecation period the default value will be normalize=True. To prevent normalization pass normalize=False \n",
      "  results = ax.pie(y, labels=blabels, **kwds)\n"
     ]
    },
    {
     "data": {
      "text/plain": [
       "<AxesSubplot:ylabel='None'>"
      ]
     },
     "execution_count": 40,
     "metadata": {},
     "output_type": "execute_result"
    },
    {
     "data": {
      "image/png": "[encoded data removed]",
      "text/plain": [
       "<Figure size 1080x504 with 1 Axes>"
      ]
     },
     "metadata": {},
     "output_type": "display_data"
    }
   ],
   "source": [
    "featbar.nlargest(7).plot(kind='pie',autopct='%1.0f%%',figsize = (15,7))"
   ]
  },
  {
   "cell_type": "code",
   "execution_count": 41,
   "id": "8d76a5fd",
   "metadata": {},
   "outputs": [
    {
     "data": {
      "text/plain": [
       "<AxesSubplot:>"
      ]
     },
     "execution_count": 41,
     "metadata": {},
     "output_type": "execute_result"
    },
    {
     "data": {
      "image/png": "[encoded data removed]",
      "text/plain": [
       "<Figure size 432x288 with 1 Axes>"
      ]
     },
     "metadata": {
      "needs_background": "light"
     },
     "output_type": "display_data"
    }
   ],
   "source": [
    "# mutual classif\n",
    "\n",
    "from sklearn.feature_selection import mutual_info_classif\n",
    "mc = mutual_info_classif(train,test)\n",
    "ax = pd.Series(mc,index=train.columns)\n",
    "ax.nlargest(7).plot(kind = 'barh')"
   ]
  },
  {
   "cell_type": "code",
   "execution_count": 42,
   "id": "781f6be4",
   "metadata": {},
   "outputs": [
    {
     "name": "stderr",
     "output_type": "stream",
     "text": [
      "C:\\Users\\91939\\anaconda3\\lib\\site-packages\\pandas\\plotting\\_matplotlib\\core.py:1583: MatplotlibDeprecationWarning: normalize=None does not normalize if the sum is less than 1 but this behavior is deprecated since 3.3 until two minor releases later. After the deprecation period the default value will be normalize=True. To prevent normalization pass normalize=False \n",
      "  results = ax.pie(y, labels=blabels, **kwds)\n"
     ]
    },
    {
     "data": {
      "text/plain": [
       "<AxesSubplot:ylabel='None'>"
      ]
     },
     "execution_count": 42,
     "metadata": {},
     "output_type": "execute_result"
    },
    {
     "data": {
      "image/png": "[encoded data removed]",
      "text/plain": [
       "<Figure size 1080x504 with 1 Axes>"
      ]
     },
     "metadata": {},
     "output_type": "display_data"
    }
   ],
   "source": [
    "pd.Series(mc,index=train.columns).plot(kind = 'pie',autopct='%1.0f%%',figsize = (15,7))"
   ]
  },
  {
   "cell_type": "code",
   "execution_count": 43,
   "id": "c5e10a7a",
   "metadata": {},
   "outputs": [
    {
     "name": "stdout",
     "output_type": "stream",
     "text": [
      "['gender', 'degree_p', 'ssc_p', 'hsc_p', 'degree_t', 'specialisation', 'workex', 'ssc_b', 'hsc_s']\n"
     ]
    }
   ],
   "source": [
    "'''\n",
    "Selecting the top 10 contributing features in both cases\n",
    "and then we will do the intersection of both the results\n",
    "so that we will get atleast top 5 most contributing features!\n",
    "\n",
    "'''\n",
    "\n",
    "featcol = list(featbar.nlargest(10).index)\n",
    "mutclasif = list(ax.nlargest(10).index)\n",
    "commoncols = list(set(featcol).intersection(set(mutclasif)))\n",
    "print(commoncols)"
   ]
  },
  {
   "cell_type": "code",
   "execution_count": 44,
   "id": "2930a587",
   "metadata": {},
   "outputs": [
    {
     "data": {
      "text/html": [
       "<div>\n",
       "<style scoped>\n",
       "    .dataframe tbody tr th:only-of-type {\n",
       "        vertical-align: middle;\n",
       "    }\n",
       "\n",
       "    .dataframe tbody tr th {\n",
       "        vertical-align: top;\n",
       "    }\n",
       "\n",
       "    .dataframe thead th {\n",
       "        text-align: right;\n",
       "    }\n",
       "</style>\n",
       "<table border=\"1\" class=\"dataframe\">\n",
       "  <thead>\n",
       "    <tr style=\"text-align: right;\">\n",
       "      <th></th>\n",
       "      <th>gender</th>\n",
       "      <th>degree_p</th>\n",
       "      <th>ssc_p</th>\n",
       "      <th>hsc_p</th>\n",
       "      <th>degree_t</th>\n",
       "      <th>specialisation</th>\n",
       "      <th>workex</th>\n",
       "      <th>ssc_b</th>\n",
       "      <th>hsc_s</th>\n",
       "    </tr>\n",
       "  </thead>\n",
       "  <tbody>\n",
       "    <tr>\n",
       "      <th>0</th>\n",
       "      <td>1</td>\n",
       "      <td>58.00</td>\n",
       "      <td>67.00</td>\n",
       "      <td>91.00</td>\n",
       "      <td>2</td>\n",
       "      <td>1</td>\n",
       "      <td>0</td>\n",
       "      <td>1</td>\n",
       "      <td>1</td>\n",
       "    </tr>\n",
       "    <tr>\n",
       "      <th>1</th>\n",
       "      <td>1</td>\n",
       "      <td>77.48</td>\n",
       "      <td>79.33</td>\n",
       "      <td>78.33</td>\n",
       "      <td>2</td>\n",
       "      <td>0</td>\n",
       "      <td>1</td>\n",
       "      <td>0</td>\n",
       "      <td>2</td>\n",
       "    </tr>\n",
       "    <tr>\n",
       "      <th>2</th>\n",
       "      <td>1</td>\n",
       "      <td>64.00</td>\n",
       "      <td>65.00</td>\n",
       "      <td>68.00</td>\n",
       "      <td>0</td>\n",
       "      <td>0</td>\n",
       "      <td>0</td>\n",
       "      <td>0</td>\n",
       "      <td>0</td>\n",
       "    </tr>\n",
       "    <tr>\n",
       "      <th>3</th>\n",
       "      <td>1</td>\n",
       "      <td>52.00</td>\n",
       "      <td>56.00</td>\n",
       "      <td>52.00</td>\n",
       "      <td>2</td>\n",
       "      <td>1</td>\n",
       "      <td>0</td>\n",
       "      <td>0</td>\n",
       "      <td>2</td>\n",
       "    </tr>\n",
       "    <tr>\n",
       "      <th>4</th>\n",
       "      <td>1</td>\n",
       "      <td>73.30</td>\n",
       "      <td>85.80</td>\n",
       "      <td>73.60</td>\n",
       "      <td>0</td>\n",
       "      <td>0</td>\n",
       "      <td>0</td>\n",
       "      <td>0</td>\n",
       "      <td>1</td>\n",
       "    </tr>\n",
       "  </tbody>\n",
       "</table>\n",
       "</div>"
      ],
      "text/plain": [
       "   gender  degree_p  ssc_p  hsc_p  degree_t  specialisation  workex  ssc_b  \\\n",
       "0       1     58.00  67.00  91.00         2               1       0      1   \n",
       "1       1     77.48  79.33  78.33         2               0       1      0   \n",
       "2       1     64.00  65.00  68.00         0               0       0      0   \n",
       "3       1     52.00  56.00  52.00         2               1       0      0   \n",
       "4       1     73.30  85.80  73.60         0               0       0      0   \n",
       "\n",
       "   hsc_s  \n",
       "0      1  \n",
       "1      2  \n",
       "2      0  \n",
       "3      2  \n",
       "4      1  "
      ]
     },
     "execution_count": 44,
     "metadata": {},
     "output_type": "execute_result"
    }
   ],
   "source": [
    "# selecting the common cols and will do training on these cols!\n",
    "# these cols were selected as a nlargest result of 2 feature selection techniques!\n",
    "\n",
    "train = df[commoncols]\n",
    "train.head()"
   ]
  },
  {
   "cell_type": "code",
   "execution_count": 45,
   "id": "54a3d1db",
   "metadata": {},
   "outputs": [
    {
     "data": {
      "text/plain": [
       "{'gender': {'F': 0, 'M': 1},\n",
       " 'ssc_b': {'Central': 0, 'Others': 1},\n",
       " 'hsc_b': {'Central': 0, 'Others': 1},\n",
       " 'hsc_s': {'Arts': 0, 'Commerce': 1, 'Science': 2},\n",
       " 'degree_t': {'Comm&Mgmt': 0, 'Others': 1, 'Sci&Tech': 2},\n",
       " 'workex': {'No': 0, 'Yes': 1},\n",
       " 'specialisation': {'Mkt&Fin': 0, 'Mkt&HR': 1},\n",
       " 'status': {'Not Placed': 0, 'Placed': 1}}"
      ]
     },
     "execution_count": 45,
     "metadata": {},
     "output_type": "execute_result"
    }
   ],
   "source": [
    "'''\n",
    "From the above DF we notice that gender,specialisation,degree_t,workex are the \n",
    "categorical columns and they make sense isn't it?,for any placement drive\n",
    "students are first filtered on basis of their boards,sem scores which in this case are {mba_p,ssc_p,degree_p,hsc_p}\n",
    "and then workexperience also matters a lot!,then specialisation as well,gender is also important\n",
    "because now-a-days few companies focus on women empowerment,so yes,all the features make perfect sense!\n",
    "\n",
    "'''\n",
    "getmappings"
   ]
  },
  {
   "cell_type": "code",
   "execution_count": 46,
   "id": "71e5ac5e",
   "metadata": {},
   "outputs": [
    {
     "data": {
      "text/html": [
       "<div>\n",
       "<style scoped>\n",
       "    .dataframe tbody tr th:only-of-type {\n",
       "        vertical-align: middle;\n",
       "    }\n",
       "\n",
       "    .dataframe tbody tr th {\n",
       "        vertical-align: top;\n",
       "    }\n",
       "\n",
       "    .dataframe thead th {\n",
       "        text-align: right;\n",
       "    }\n",
       "</style>\n",
       "<table border=\"1\" class=\"dataframe\">\n",
       "  <thead>\n",
       "    <tr style=\"text-align: right;\">\n",
       "      <th></th>\n",
       "      <th>Gender</th>\n",
       "      <th>Specialisation</th>\n",
       "      <th>Techinal Degree</th>\n",
       "      <th>Work Experience</th>\n",
       "      <th>SSC_p</th>\n",
       "      <th>High School_p</th>\n",
       "      <th>Degree_p</th>\n",
       "    </tr>\n",
       "  </thead>\n",
       "  <tbody>\n",
       "    <tr>\n",
       "      <th>0</th>\n",
       "      <td>1</td>\n",
       "      <td>1</td>\n",
       "      <td>2</td>\n",
       "      <td>0</td>\n",
       "      <td>67.00</td>\n",
       "      <td>91.00</td>\n",
       "      <td>58.00</td>\n",
       "    </tr>\n",
       "    <tr>\n",
       "      <th>1</th>\n",
       "      <td>1</td>\n",
       "      <td>0</td>\n",
       "      <td>2</td>\n",
       "      <td>1</td>\n",
       "      <td>79.33</td>\n",
       "      <td>78.33</td>\n",
       "      <td>77.48</td>\n",
       "    </tr>\n",
       "    <tr>\n",
       "      <th>2</th>\n",
       "      <td>1</td>\n",
       "      <td>0</td>\n",
       "      <td>0</td>\n",
       "      <td>0</td>\n",
       "      <td>65.00</td>\n",
       "      <td>68.00</td>\n",
       "      <td>64.00</td>\n",
       "    </tr>\n",
       "    <tr>\n",
       "      <th>3</th>\n",
       "      <td>1</td>\n",
       "      <td>1</td>\n",
       "      <td>2</td>\n",
       "      <td>0</td>\n",
       "      <td>56.00</td>\n",
       "      <td>52.00</td>\n",
       "      <td>52.00</td>\n",
       "    </tr>\n",
       "    <tr>\n",
       "      <th>4</th>\n",
       "      <td>1</td>\n",
       "      <td>0</td>\n",
       "      <td>0</td>\n",
       "      <td>0</td>\n",
       "      <td>85.80</td>\n",
       "      <td>73.60</td>\n",
       "      <td>73.30</td>\n",
       "    </tr>\n",
       "  </tbody>\n",
       "</table>\n",
       "</div>"
      ],
      "text/plain": [
       "   Gender  Specialisation  Techinal Degree  Work Experience  SSC_p  \\\n",
       "0       1               1                2                0  67.00   \n",
       "1       1               0                2                1  79.33   \n",
       "2       1               0                0                0  65.00   \n",
       "3       1               1                2                0  56.00   \n",
       "4       1               0                0                0  85.80   \n",
       "\n",
       "   High School_p  Degree_p  \n",
       "0          91.00     58.00  \n",
       "1          78.33     77.48  \n",
       "2          68.00     64.00  \n",
       "3          52.00     52.00  \n",
       "4          73.60     73.30  "
      ]
     },
     "execution_count": 46,
     "metadata": {},
     "output_type": "execute_result"
    }
   ],
   "source": [
    "# renaming the cols\n",
    "\n",
    "train = train[['gender','specialisation','degree_t','workex','ssc_p','hsc_p','degree_p']]\n",
    "train.columns = ['Gender','Specialisation','Techinal Degree','Work Experience','SSC_p','High School_p','Degree_p']\n",
    "train.head()"
   ]
  },
  {
   "cell_type": "code",
   "execution_count": 47,
   "id": "6af6c716",
   "metadata": {},
   "outputs": [
    {
     "data": {
      "text/plain": [
       "0    145\n",
       "2     59\n",
       "1     11\n",
       "Name: Techinal Degree, dtype: int64"
      ]
     },
     "execution_count": 47,
     "metadata": {},
     "output_type": "execute_result"
    }
   ],
   "source": [
    "train['Techinal Degree'].value_counts()"
   ]
  },
  {
   "cell_type": "markdown",
   "id": "4a1c275e",
   "metadata": {},
   "source": [
    "## Model Building"
   ]
  },
  {
   "cell_type": "code",
   "execution_count": 48,
   "id": "0eb4e950",
   "metadata": {},
   "outputs": [],
   "source": [
    "from sklearn.linear_model import LogisticRegression\n",
    "from sklearn.tree import DecisionTreeClassifier\n",
    "from sklearn.ensemble import RandomForestClassifier\n",
    "from sklearn import tree\n",
    "from sklearn.svm import SVC\n",
    "from sklearn.model_selection import train_test_split,RandomizedSearchCV,cross_val_score\n",
    "from sklearn import metrics"
   ]
  },
  {
   "cell_type": "code",
   "execution_count": 49,
   "id": "9df7c1a0",
   "metadata": {},
   "outputs": [
    {
     "data": {
      "text/plain": [
       "((172, 7), (43, 7))"
      ]
     },
     "execution_count": 49,
     "metadata": {},
     "output_type": "execute_result"
    }
   ],
   "source": [
    "X_train, X_test, y_train, y_test = train_test_split(train,test,test_size=0.2)\n",
    "X_train.shape,X_test.shape"
   ]
  },
  {
   "cell_type": "code",
   "execution_count": 50,
   "id": "d673737a",
   "metadata": {},
   "outputs": [
    {
     "data": {
      "text/plain": [
       "[Text(324.6545454545454, 464.778, 'SSC_p <= 59.98\\ngini = 0.431\\nsamples = 172\\nvalue = [54, 118]\\nclass = Placed'),\n",
       " Text(81.16363636363636, 415.85400000000004, 'High School_p <= 58.5\\ngini = 0.343\\nsamples = 41\\nvalue = [32, 9]\\nclass = Not_placed'),\n",
       " Text(54.10909090909091, 366.93, 'gini = 0.0\\nsamples = 19\\nvalue = [19, 0]\\nclass = Not_placed'),\n",
       " Text(108.21818181818182, 366.93, 'Gender <= 0.5\\ngini = 0.483\\nsamples = 22\\nvalue = [13, 9]\\nclass = Not_placed'),\n",
       " Text(81.16363636363636, 318.006, 'gini = 0.0\\nsamples = 5\\nvalue = [5, 0]\\nclass = Not_placed'),\n",
       " Text(135.27272727272728, 318.006, 'Degree_p <= 59.95\\ngini = 0.498\\nsamples = 17\\nvalue = [8, 9]\\nclass = Placed'),\n",
       " Text(54.10909090909091, 269.082, 'SSC_p <= 55.04\\ngini = 0.245\\nsamples = 7\\nvalue = [6, 1]\\nclass = Not_placed'),\n",
       " Text(27.054545454545455, 220.15800000000002, 'gini = 0.0\\nsamples = 5\\nvalue = [5, 0]\\nclass = Not_placed'),\n",
       " Text(81.16363636363636, 220.15800000000002, 'Degree_p <= 57.435\\ngini = 0.5\\nsamples = 2\\nvalue = [1, 1]\\nclass = Not_placed'),\n",
       " Text(54.10909090909091, 171.23400000000004, 'gini = 0.0\\nsamples = 1\\nvalue = [0, 1]\\nclass = Placed'),\n",
       " Text(108.21818181818182, 171.23400000000004, 'gini = 0.0\\nsamples = 1\\nvalue = [1, 0]\\nclass = Not_placed'),\n",
       " Text(216.43636363636364, 269.082, 'High School_p <= 67.79\\ngini = 0.32\\nsamples = 10\\nvalue = [2, 8]\\nclass = Placed'),\n",
       " Text(189.38181818181818, 220.15800000000002, 'SSC_p <= 52.3\\ngini = 0.198\\nsamples = 9\\nvalue = [1, 8]\\nclass = Placed'),\n",
       " Text(162.3272727272727, 171.23400000000004, 'Specialisation <= 0.5\\ngini = 0.5\\nsamples = 2\\nvalue = [1, 1]\\nclass = Not_placed'),\n",
       " Text(135.27272727272728, 122.31, 'gini = 0.0\\nsamples = 1\\nvalue = [0, 1]\\nclass = Placed'),\n",
       " Text(189.38181818181818, 122.31, 'gini = 0.0\\nsamples = 1\\nvalue = [1, 0]\\nclass = Not_placed'),\n",
       " Text(216.43636363636364, 171.23400000000004, 'gini = 0.0\\nsamples = 7\\nvalue = [0, 7]\\nclass = Placed'),\n",
       " Text(243.4909090909091, 220.15800000000002, 'gini = 0.0\\nsamples = 1\\nvalue = [1, 0]\\nclass = Not_placed'),\n",
       " Text(568.1454545454545, 415.85400000000004, 'High School_p <= 50.415\\ngini = 0.279\\nsamples = 131\\nvalue = [22, 109]\\nclass = Placed'),\n",
       " Text(541.0909090909091, 366.93, 'gini = 0.0\\nsamples = 4\\nvalue = [4, 0]\\nclass = Not_placed'),\n",
       " Text(595.2, 366.93, 'Degree_p <= 65.8\\ngini = 0.243\\nsamples = 127\\nvalue = [18, 109]\\nclass = Placed'),\n",
       " Text(459.92727272727274, 318.006, 'Work Experience <= 0.5\\ngini = 0.429\\nsamples = 45\\nvalue = [14, 31]\\nclass = Placed'),\n",
       " Text(432.8727272727273, 269.082, 'Specialisation <= 0.5\\ngini = 0.499\\nsamples = 29\\nvalue = [14, 15]\\nclass = Placed'),\n",
       " Text(324.6545454545454, 220.15800000000002, 'Degree_p <= 61.2\\ngini = 0.391\\nsamples = 15\\nvalue = [4, 11]\\nclass = Placed'),\n",
       " Text(270.54545454545456, 171.23400000000004, 'High School_p <= 78.1\\ngini = 0.5\\nsamples = 6\\nvalue = [3, 3]\\nclass = Not_placed'),\n",
       " Text(243.4909090909091, 122.31, 'Gender <= 0.5\\ngini = 0.375\\nsamples = 4\\nvalue = [3, 1]\\nclass = Not_placed'),\n",
       " Text(216.43636363636364, 73.38600000000002, 'gini = 0.0\\nsamples = 2\\nvalue = [2, 0]\\nclass = Not_placed'),\n",
       " Text(270.54545454545456, 73.38600000000002, 'SSC_p <= 64.25\\ngini = 0.5\\nsamples = 2\\nvalue = [1, 1]\\nclass = Not_placed'),\n",
       " Text(243.4909090909091, 24.46199999999999, 'gini = 0.0\\nsamples = 1\\nvalue = [1, 0]\\nclass = Not_placed'),\n",
       " Text(297.6, 24.46199999999999, 'gini = 0.0\\nsamples = 1\\nvalue = [0, 1]\\nclass = Placed'),\n",
       " Text(297.6, 122.31, 'gini = 0.0\\nsamples = 2\\nvalue = [0, 2]\\nclass = Placed'),\n",
       " Text(378.76363636363635, 171.23400000000004, 'Techinal Degree <= 1.0\\ngini = 0.198\\nsamples = 9\\nvalue = [1, 8]\\nclass = Placed'),\n",
       " Text(351.7090909090909, 122.31, 'gini = 0.0\\nsamples = 6\\nvalue = [0, 6]\\nclass = Placed'),\n",
       " Text(405.8181818181818, 122.31, 'SSC_p <= 74.0\\ngini = 0.444\\nsamples = 3\\nvalue = [1, 2]\\nclass = Placed'),\n",
       " Text(378.76363636363635, 73.38600000000002, 'gini = 0.0\\nsamples = 1\\nvalue = [1, 0]\\nclass = Not_placed'),\n",
       " Text(432.8727272727273, 73.38600000000002, 'gini = 0.0\\nsamples = 2\\nvalue = [0, 2]\\nclass = Placed'),\n",
       " Text(541.0909090909091, 220.15800000000002, 'Degree_p <= 59.0\\ngini = 0.408\\nsamples = 14\\nvalue = [10, 4]\\nclass = Not_placed'),\n",
       " Text(486.9818181818182, 171.23400000000004, 'Degree_p <= 54.5\\ngini = 0.375\\nsamples = 4\\nvalue = [1, 3]\\nclass = Placed'),\n",
       " Text(459.92727272727274, 122.31, 'gini = 0.0\\nsamples = 1\\nvalue = [1, 0]\\nclass = Not_placed'),\n",
       " Text(514.0363636363636, 122.31, 'gini = 0.0\\nsamples = 3\\nvalue = [0, 3]\\nclass = Placed'),\n",
       " Text(595.2, 171.23400000000004, 'SSC_p <= 60.7\\ngini = 0.18\\nsamples = 10\\nvalue = [9, 1]\\nclass = Not_placed'),\n",
       " Text(568.1454545454545, 122.31, 'gini = 0.0\\nsamples = 1\\nvalue = [0, 1]\\nclass = Placed'),\n",
       " Text(622.2545454545455, 122.31, 'gini = 0.0\\nsamples = 9\\nvalue = [9, 0]\\nclass = Not_placed'),\n",
       " Text(486.9818181818182, 269.082, 'gini = 0.0\\nsamples = 16\\nvalue = [0, 16]\\nclass = Placed'),\n",
       " Text(730.4727272727273, 318.006, 'SSC_p <= 63.95\\ngini = 0.093\\nsamples = 82\\nvalue = [4, 78]\\nclass = Placed'),\n",
       " Text(676.3636363636364, 269.082, 'Degree_p <= 72.0\\ngini = 0.32\\nsamples = 10\\nvalue = [2, 8]\\nclass = Placed'),\n",
       " Text(649.3090909090909, 220.15800000000002, 'gini = 0.0\\nsamples = 8\\nvalue = [0, 8]\\nclass = Placed'),\n",
       " Text(703.4181818181818, 220.15800000000002, 'gini = 0.0\\nsamples = 2\\nvalue = [2, 0]\\nclass = Not_placed'),\n",
       " Text(784.5818181818182, 269.082, 'High School_p <= 64.1\\ngini = 0.054\\nsamples = 72\\nvalue = [2, 70]\\nclass = Placed'),\n",
       " Text(757.5272727272727, 220.15800000000002, 'SSC_p <= 67.95\\ngini = 0.18\\nsamples = 20\\nvalue = [2, 18]\\nclass = Placed'),\n",
       " Text(703.4181818181818, 171.23400000000004, 'Techinal Degree <= 1.0\\ngini = 0.5\\nsamples = 2\\nvalue = [1, 1]\\nclass = Not_placed'),\n",
       " Text(676.3636363636364, 122.31, 'gini = 0.0\\nsamples = 1\\nvalue = [0, 1]\\nclass = Placed'),\n",
       " Text(730.4727272727273, 122.31, 'gini = 0.0\\nsamples = 1\\nvalue = [1, 0]\\nclass = Not_placed'),\n",
       " Text(811.6363636363636, 171.23400000000004, 'High School_p <= 63.5\\ngini = 0.105\\nsamples = 18\\nvalue = [1, 17]\\nclass = Placed'),\n",
       " Text(784.5818181818182, 122.31, 'gini = 0.0\\nsamples = 14\\nvalue = [0, 14]\\nclass = Placed'),\n",
       " Text(838.6909090909091, 122.31, 'Work Experience <= 0.5\\ngini = 0.375\\nsamples = 4\\nvalue = [1, 3]\\nclass = Placed'),\n",
       " Text(811.6363636363636, 73.38600000000002, 'gini = 0.0\\nsamples = 1\\nvalue = [1, 0]\\nclass = Not_placed'),\n",
       " Text(865.7454545454545, 73.38600000000002, 'gini = 0.0\\nsamples = 3\\nvalue = [0, 3]\\nclass = Placed'),\n",
       " Text(811.6363636363636, 220.15800000000002, 'gini = 0.0\\nsamples = 52\\nvalue = [0, 52]\\nclass = Placed')]"
      ]
     },
     "execution_count": 50,
     "metadata": {},
     "output_type": "execute_result"
    },
    {
     "data": {
      "image/png": "[encoded data removed]",
      "text/plain": [
       "<Figure size 1152x648 with 1 Axes>"
      ]
     },
     "metadata": {
      "needs_background": "light"
     },
     "output_type": "display_data"
    }
   ],
   "source": [
    "dc = DecisionTreeClassifier()\n",
    "dc.fit(X_train,y_train)\n",
    "plt.figure(figsize=(16,9))\n",
    "tree.plot_tree(dc,filled=True,class_names=['Not_placed','Placed'],feature_names=train.columns)"
   ]
  },
  {
   "cell_type": "code",
   "execution_count": 51,
   "id": "5447e4a2",
   "metadata": {},
   "outputs": [],
   "source": [
    "costpath = dc.cost_complexity_pruning_path(train,test)\n",
    "ccp_alpha,impurities = costpath.ccp_alphas,costpath.impurities"
   ]
  },
  {
   "cell_type": "code",
   "execution_count": 52,
   "id": "0ce5756b",
   "metadata": {},
   "outputs": [],
   "source": [
    "modellist = []\n",
    "for alpha in ccp_alpha:\n",
    "    dc = DecisionTreeClassifier(ccp_alpha=alpha)\n",
    "    dc.fit(X_train,y_train)\n",
    "    modellist.append(dc)\n",
    "    "
   ]
  },
  {
   "cell_type": "code",
   "execution_count": 53,
   "id": "090bb63f",
   "metadata": {},
   "outputs": [
    {
     "data": {
      "image/png": "[encoded data removed]",
      "text/plain": [
       "<Figure size 432x288 with 1 Axes>"
      ]
     },
     "metadata": {
      "needs_background": "light"
     },
     "output_type": "display_data"
    }
   ],
   "source": [
    "train_score = [clf.score(X_train,y_train) for clf in modellist]\n",
    "test_score = [clf.score(X_test,y_test) for clf in modellist]\n",
    "\n",
    "plt.xlabel('alpha_value')\n",
    "plt.ylabel('accuracy')\n",
    "plt.plot(ccp_alpha,train_score,label = 'train_score',marker = '+',color = 'magenta')\n",
    "plt.plot(ccp_alpha,test_score,label = 'test_score',marker = '*',color = 'red')\n",
    "plt.legend()\n",
    "plt.show()"
   ]
  },
  {
   "cell_type": "code",
   "execution_count": 54,
   "id": "399b3b6d",
   "metadata": {},
   "outputs": [
    {
     "data": {
      "text/plain": [
       "[Text(418.5, 317.09999999999997, 'SSC_p <= 59.98\\ngini = 0.431\\nsamples = 172\\nvalue = [54, 118]\\nclass = Placed'),\n",
       " Text(209.25, 190.26, 'High School_p <= 58.5\\ngini = 0.343\\nsamples = 41\\nvalue = [32, 9]\\nclass = Not_placed'),\n",
       " Text(104.625, 63.420000000000016, 'gini = 0.0\\nsamples = 19\\nvalue = [19, 0]\\nclass = Not_placed'),\n",
       " Text(313.875, 63.420000000000016, 'gini = 0.483\\nsamples = 22\\nvalue = [13, 9]\\nclass = Not_placed'),\n",
       " Text(627.75, 190.26, 'Degree_p <= 55.19\\ngini = 0.279\\nsamples = 131\\nvalue = [22, 109]\\nclass = Placed'),\n",
       " Text(523.125, 63.420000000000016, 'gini = 0.0\\nsamples = 4\\nvalue = [4, 0]\\nclass = Not_placed'),\n",
       " Text(732.375, 63.420000000000016, 'gini = 0.243\\nsamples = 127\\nvalue = [18, 109]\\nclass = Placed')]"
      ]
     },
     "execution_count": 54,
     "metadata": {},
     "output_type": "execute_result"
    },
    {
     "data": {
      "image/png": "[encoded data removed]",
      "text/plain": [
       "<Figure size 1080x504 with 1 Axes>"
      ]
     },
     "metadata": {
      "needs_background": "light"
     },
     "output_type": "display_data"
    }
   ],
   "source": [
    "dc = DecisionTreeClassifier(ccp_alpha=0.0195)\n",
    "dc.fit(X_train,y_train)\n",
    "plt.figure(figsize=(15,7))\n",
    "tree.plot_tree(dc,filled=True,class_names=['Not_placed','Placed'],feature_names=train.columns)"
   ]
  },
  {
   "cell_type": "markdown",
   "id": "53aa6583",
   "metadata": {},
   "source": [
    "# Hyperparameter Tuning"
   ]
  },
  {
   "cell_type": "code",
   "execution_count": 55,
   "id": "617d5be9",
   "metadata": {},
   "outputs": [],
   "source": [
    "params = {\n",
    "    'RandomForest':{\n",
    "        'model': RandomForestClassifier(),\n",
    "        'params':{\n",
    "            'n_estimators': [int(x) for x in np.linspace(start=1,stop=1200,num=10)],\n",
    "            'max_depth':[int(x) for x in np.linspace(start=1,stop=30,num=5)],\n",
    "            'min_samples_split':[2,5,10,12],\n",
    "            'min_samples_leaf':[2,5,10,12],\n",
    "            'max_features':['auto','sqrt'],\n",
    "            'ccp_alpha':[0.0185,0.0190,0.0195,0.0200],\n",
    "        }\n",
    "    },\n",
    "    \n",
    "    'logistic':{\n",
    "        'model':LogisticRegression(),\n",
    "        'params':{\n",
    "            'penalty':['l1', 'l2', 'elasticnet'],\n",
    "            'C':[0.25,0.50,0.75,1.0],\n",
    "            'tol':[1e-10,1e-5,1e-4,1e-3,0.025,0.25,0.50],\n",
    "            'solver':['lbfgs','liblinear','saga','newton-cg'],\n",
    "            'multi_class':['auto', 'ovr', 'multinomial'],\n",
    "            'max_iter':[int(x) for x in np.linspace(start=1,stop=250,num=10)],\n",
    "        }\n",
    "    },\n",
    "    'D-tree':{\n",
    "        'model':DecisionTreeClassifier(),\n",
    "        'params':{\n",
    "            'criterion':['gini','entropy'],\n",
    "            'splitter':['best','random'],\n",
    "            'min_samples_split':[1,2,5,10,12],\n",
    "            'min_samples_leaf':[1,2,5,10,12],\n",
    "            'max_features':['auto','sqrt'],\n",
    "            'ccp_alpha':[0.0185,0.0190,0.0195,0.0200],\n",
    "        }\n",
    "    },\n",
    "    'SVM':{\n",
    "        'model':SVC(),\n",
    "        'params':{\n",
    "            'C':[0.25,0.50,0.75,1.0],\n",
    "            'tol':[1e-10,1e-5,1e-4,0.025,0.50,0.75],\n",
    "            'kernel':['linear','poly','sigmoid','rbf'],\n",
    "            'max_iter':[int(x) for x in np.linspace(start=1,stop=250,num=10)],\n",
    "        }\n",
    "    }\n",
    "}"
   ]
  },
  {
   "cell_type": "code",
   "execution_count": 56,
   "id": "18b0ec8f",
   "metadata": {},
   "outputs": [
    {
     "name": "stderr",
     "output_type": "stream",
     "text": [
      "C:\\Users\\91939\\anaconda3\\lib\\site-packages\\sklearn\\model_selection\\_search.py:918: UserWarning: One or more of the test scores are non-finite: [0.71512605        nan 0.75596639 0.84352941        nan 0.66285714\n",
      "        nan        nan 0.86067227        nan]\n",
      "  warnings.warn(\n",
      "C:\\Users\\91939\\anaconda3\\lib\\site-packages\\sklearn\\model_selection\\_search.py:918: UserWarning: One or more of the test scores are non-finite: [0.78521008 0.79092437 0.7789916         nan        nan 0.77882353\n",
      "        nan 0.80184874        nan 0.72689076]\n",
      "  warnings.warn(\n"
     ]
    }
   ],
   "source": [
    "scores = []\n",
    "for model_name,mp in params.items():\n",
    "    \n",
    "    clf = RandomizedSearchCV(mp['model'],param_distributions=mp['params'],cv=5,n_iter=10,n_jobs=-1,scoring='accuracy')\n",
    "    clf.fit(X_train,y_train)\n",
    "    scores.append({\n",
    "        'model_name':model_name,\n",
    "        'best_score':clf.best_score_,\n",
    "        'best_estimator':clf.best_estimator_\n",
    "    })"
   ]
  },
  {
   "cell_type": "code",
   "execution_count": 57,
   "id": "639a80c2",
   "metadata": {},
   "outputs": [
    {
     "data": {
      "text/html": [
       "<div>\n",
       "<style scoped>\n",
       "    .dataframe tbody tr th:only-of-type {\n",
       "        vertical-align: middle;\n",
       "    }\n",
       "\n",
       "    .dataframe tbody tr th {\n",
       "        vertical-align: top;\n",
       "    }\n",
       "\n",
       "    .dataframe thead th {\n",
       "        text-align: right;\n",
       "    }\n",
       "</style>\n",
       "<table border=\"1\" class=\"dataframe\">\n",
       "  <thead>\n",
       "    <tr style=\"text-align: right;\">\n",
       "      <th></th>\n",
       "      <th>model_name</th>\n",
       "      <th>best_score</th>\n",
       "      <th>best_estimator</th>\n",
       "    </tr>\n",
       "  </thead>\n",
       "  <tbody>\n",
       "    <tr>\n",
       "      <th>0</th>\n",
       "      <td>RandomForest</td>\n",
       "      <td>0.837647</td>\n",
       "      <td>(DecisionTreeClassifier(ccp_alpha=0.02, max_de...</td>\n",
       "    </tr>\n",
       "    <tr>\n",
       "      <th>1</th>\n",
       "      <td>logistic</td>\n",
       "      <td>0.860672</td>\n",
       "      <td>LogisticRegression(max_iter=139, multi_class='...</td>\n",
       "    </tr>\n",
       "    <tr>\n",
       "      <th>2</th>\n",
       "      <td>D-tree</td>\n",
       "      <td>0.801849</td>\n",
       "      <td>DecisionTreeClassifier(ccp_alpha=0.0195, max_f...</td>\n",
       "    </tr>\n",
       "    <tr>\n",
       "      <th>3</th>\n",
       "      <td>SVM</td>\n",
       "      <td>0.837479</td>\n",
       "      <td>SVC(C=0.25, kernel='poly', max_iter=167, tol=0...</td>\n",
       "    </tr>\n",
       "  </tbody>\n",
       "</table>\n",
       "</div>"
      ],
      "text/plain": [
       "     model_name  best_score                                     best_estimator\n",
       "0  RandomForest    0.837647  (DecisionTreeClassifier(ccp_alpha=0.02, max_de...\n",
       "1      logistic    0.860672  LogisticRegression(max_iter=139, multi_class='...\n",
       "2        D-tree    0.801849  DecisionTreeClassifier(ccp_alpha=0.0195, max_f...\n",
       "3           SVM    0.837479  SVC(C=0.25, kernel='poly', max_iter=167, tol=0..."
      ]
     },
     "execution_count": 57,
     "metadata": {},
     "output_type": "execute_result"
    }
   ],
   "source": [
    "scores_df = pd.DataFrame(data = scores,columns = ['model_name','best_score','best_estimator'])\n",
    "scores_df.head()"
   ]
  },
  {
   "cell_type": "code",
   "execution_count": 58,
   "id": "89f2589a",
   "metadata": {},
   "outputs": [
    {
     "data": {
      "text/plain": [
       "[{'model_name': 'RandomForest',\n",
       "  'best_score': 0.8376470588235294,\n",
       "  'best_estimator': RandomForestClassifier(ccp_alpha=0.02, max_depth=22, max_features='sqrt',\n",
       "                         min_samples_leaf=2, n_estimators=267)},\n",
       " {'model_name': 'logistic',\n",
       "  'best_score': 0.860672268907563,\n",
       "  'best_estimator': LogisticRegression(max_iter=139, multi_class='multinomial', tol=0.25)},\n",
       " {'model_name': 'D-tree',\n",
       "  'best_score': 0.8018487394957983,\n",
       "  'best_estimator': DecisionTreeClassifier(ccp_alpha=0.0195, max_features='sqrt',\n",
       "                         min_samples_split=5)},\n",
       " {'model_name': 'SVM',\n",
       "  'best_score': 0.8374789915966387,\n",
       "  'best_estimator': SVC(C=0.25, kernel='poly', max_iter=167, tol=0.025)}]"
      ]
     },
     "execution_count": 58,
     "metadata": {},
     "output_type": "execute_result"
    }
   ],
   "source": [
    "scores"
   ]
  },
  {
   "cell_type": "code",
   "execution_count": 59,
   "id": "f7e47d34",
   "metadata": {},
   "outputs": [
    {
     "name": "stdout",
     "output_type": "stream",
     "text": [
      "0.8604651162790697\n"
     ]
    }
   ],
   "source": [
    "# random forest model\n",
    "\n",
    "\n",
    "rf = RandomForestClassifier(ccp_alpha=0.02, max_depth=30, max_features='sqrt',\n",
    "                         min_samples_leaf=2, min_samples_split=12,\n",
    "                         n_estimators=267)\n",
    "rf.fit(X_train,y_train)\n",
    "y_pred = rf.predict(X_test)\n",
    "print(metrics.accuracy_score(y_test,y_pred))"
   ]
  },
  {
   "cell_type": "code",
   "execution_count": 60,
   "id": "790fddc0",
   "metadata": {},
   "outputs": [
    {
     "name": "stdout",
     "output_type": "stream",
     "text": [
      "0.9302325581395349\n"
     ]
    }
   ],
   "source": [
    "# logistic regression\n",
    "\n",
    "lr = LogisticRegression(C=0.25, max_iter=111, multi_class='ovr', solver='newton-cg',\n",
    "                     tol=1e-05)\n",
    "\n",
    "lr.fit(X_train,y_train)\n",
    "y_pred = lr.predict(X_test)\n",
    "print(metrics.accuracy_score(y_test,y_pred))\n"
   ]
  },
  {
   "cell_type": "code",
   "execution_count": 61,
   "id": "5ed1f0d9",
   "metadata": {},
   "outputs": [
    {
     "name": "stdout",
     "output_type": "stream",
     "text": [
      "0.8604651162790697\n"
     ]
    }
   ],
   "source": [
    "# decision tree\n",
    "\n",
    "dc = DecisionTreeClassifier(ccp_alpha=0.019, criterion='entropy',\n",
    "                         max_features='auto', min_samples_leaf=5,\n",
    "                         min_samples_split=5, splitter='random')\n",
    "dc.fit(X_train,y_train)\n",
    "y_pred = dc.predict(X_test)\n",
    "print(metrics.accuracy_score(y_test,y_pred))"
   ]
  },
  {
   "cell_type": "code",
   "execution_count": 62,
   "id": "2c34674d",
   "metadata": {},
   "outputs": [
    {
     "name": "stdout",
     "output_type": "stream",
     "text": [
      "              precision    recall  f1-score   support\n",
      "\n",
      "           0       0.89      0.62      0.73        13\n",
      "           1       0.85      0.97      0.91        30\n",
      "\n",
      "    accuracy                           0.86        43\n",
      "   macro avg       0.87      0.79      0.82        43\n",
      "weighted avg       0.86      0.86      0.85        43\n",
      "\n"
     ]
    }
   ],
   "source": [
    "print(metrics.classification_report(y_test,rf.predict(X_test)))"
   ]
  },
  {
   "cell_type": "code",
   "execution_count": 63,
   "id": "e8f797a4",
   "metadata": {},
   "outputs": [
    {
     "data": {
      "text/plain": [
       "<AxesSubplot:>"
      ]
     },
     "execution_count": 63,
     "metadata": {},
     "output_type": "execute_result"
    },
    {
     "data": {
      "image/png": "[encoded data removed]",
      "text/plain": [
       "<Figure size 432x288 with 2 Axes>"
      ]
     },
     "metadata": {
      "needs_background": "light"
     },
     "output_type": "display_data"
    }
   ],
   "source": [
    "cn = metrics.confusion_matrix(y_test,rf.predict(X_test))\n",
    "sns.heatmap(cn,annot=True,cmap='plasma')"
   ]
  },
  {
   "cell_type": "markdown",
   "id": "57ff8518",
   "metadata": {},
   "source": [
    "# Model Testing"
   ]
  },
  {
   "cell_type": "code",
   "execution_count": 64,
   "id": "96a132fb",
   "metadata": {},
   "outputs": [
    {
     "data": {
      "text/plain": [
       "[array([1]),\n",
       " array([1]),\n",
       " array([1]),\n",
       " array([0]),\n",
       " array([1]),\n",
       " array([0]),\n",
       " array([0]),\n",
       " array([1]),\n",
       " array([1]),\n",
       " array([1]),\n",
       " array([1]),\n",
       " array([1]),\n",
       " array([0]),\n",
       " array([1]),\n",
       " array([0]),\n",
       " array([1]),\n",
       " array([1]),\n",
       " array([0]),\n",
       " array([1]),\n",
       " array([1]),\n",
       " array([1]),\n",
       " array([1]),\n",
       " array([1]),\n",
       " array([1]),\n",
       " array([1]),\n",
       " array([0]),\n",
       " array([1]),\n",
       " array([1]),\n",
       " array([1]),\n",
       " array([1]),\n",
       " array([1]),\n",
       " array([0]),\n",
       " array([1]),\n",
       " array([1]),\n",
       " array([0]),\n",
       " array([1]),\n",
       " array([0]),\n",
       " array([1]),\n",
       " array([1]),\n",
       " array([1]),\n",
       " array([1]),\n",
       " array([1]),\n",
       " array([0]),\n",
       " array([1]),\n",
       " array([1]),\n",
       " array([1]),\n",
       " array([1]),\n",
       " array([1]),\n",
       " array([1]),\n",
       " array([0]),\n",
       " array([1]),\n",
       " array([0]),\n",
       " array([0]),\n",
       " array([1]),\n",
       " array([1]),\n",
       " array([1]),\n",
       " array([1]),\n",
       " array([1]),\n",
       " array([1]),\n",
       " array([1]),\n",
       " array([1]),\n",
       " array([1]),\n",
       " array([1]),\n",
       " array([1]),\n",
       " array([1]),\n",
       " array([0]),\n",
       " array([1]),\n",
       " array([1]),\n",
       " array([0]),\n",
       " array([1]),\n",
       " array([1]),\n",
       " array([1]),\n",
       " array([1]),\n",
       " array([1]),\n",
       " array([1]),\n",
       " array([1]),\n",
       " array([1]),\n",
       " array([1]),\n",
       " array([1]),\n",
       " array([1]),\n",
       " array([1]),\n",
       " array([1]),\n",
       " array([1]),\n",
       " array([1]),\n",
       " array([1]),\n",
       " array([1]),\n",
       " array([1]),\n",
       " array([0]),\n",
       " array([1]),\n",
       " array([1]),\n",
       " array([1]),\n",
       " array([0]),\n",
       " array([1]),\n",
       " array([0]),\n",
       " array([1]),\n",
       " array([1]),\n",
       " array([1]),\n",
       " array([1]),\n",
       " array([1]),\n",
       " array([1]),\n",
       " array([0]),\n",
       " array([1]),\n",
       " array([1]),\n",
       " array([1]),\n",
       " array([1]),\n",
       " array([0]),\n",
       " array([0]),\n",
       " array([1]),\n",
       " array([1]),\n",
       " array([0]),\n",
       " array([1]),\n",
       " array([0]),\n",
       " array([0]),\n",
       " array([1]),\n",
       " array([1]),\n",
       " array([1]),\n",
       " array([1]),\n",
       " array([1]),\n",
       " array([1]),\n",
       " array([1]),\n",
       " array([0]),\n",
       " array([1]),\n",
       " array([1]),\n",
       " array([1]),\n",
       " array([1]),\n",
       " array([1]),\n",
       " array([1]),\n",
       " array([1]),\n",
       " array([1]),\n",
       " array([1]),\n",
       " array([1]),\n",
       " array([1]),\n",
       " array([1]),\n",
       " array([1]),\n",
       " array([1]),\n",
       " array([1]),\n",
       " array([0]),\n",
       " array([1]),\n",
       " array([1]),\n",
       " array([1]),\n",
       " array([1]),\n",
       " array([1]),\n",
       " array([1]),\n",
       " array([1]),\n",
       " array([0]),\n",
       " array([1]),\n",
       " array([1]),\n",
       " array([1]),\n",
       " array([1]),\n",
       " array([0]),\n",
       " array([1]),\n",
       " array([1]),\n",
       " array([1]),\n",
       " array([1]),\n",
       " array([0]),\n",
       " array([0]),\n",
       " array([1]),\n",
       " array([1]),\n",
       " array([1]),\n",
       " array([0]),\n",
       " array([1]),\n",
       " array([0]),\n",
       " array([1]),\n",
       " array([1]),\n",
       " array([1]),\n",
       " array([1]),\n",
       " array([1]),\n",
       " array([1]),\n",
       " array([0]),\n",
       " array([0]),\n",
       " array([0]),\n",
       " array([1]),\n",
       " array([1]),\n",
       " array([0]),\n",
       " array([1]),\n",
       " array([1]),\n",
       " array([0]),\n",
       " array([1]),\n",
       " array([1]),\n",
       " array([1]),\n",
       " array([1]),\n",
       " array([0]),\n",
       " array([0]),\n",
       " array([1]),\n",
       " array([0]),\n",
       " array([1]),\n",
       " array([0]),\n",
       " array([1]),\n",
       " array([0]),\n",
       " array([1]),\n",
       " array([1]),\n",
       " array([1]),\n",
       " array([1]),\n",
       " array([1]),\n",
       " array([0]),\n",
       " array([1]),\n",
       " array([1]),\n",
       " array([1]),\n",
       " array([1]),\n",
       " array([1]),\n",
       " array([1]),\n",
       " array([0]),\n",
       " array([1]),\n",
       " array([0]),\n",
       " array([1]),\n",
       " array([1]),\n",
       " array([0]),\n",
       " array([1]),\n",
       " array([0]),\n",
       " array([1]),\n",
       " array([1]),\n",
       " array([1]),\n",
       " array([1]),\n",
       " array([1]),\n",
       " array([0])]"
      ]
     },
     "execution_count": 64,
     "metadata": {},
     "output_type": "execute_result"
    }
   ],
   "source": [
    "traindata = np.array(train)\n",
    "predicted = []\n",
    "for i in range(len(traindata)):\n",
    "    predicted.append(rf.predict([traindata[i]]))\n",
    "    \n",
    "predicted"
   ]
  },
  {
   "cell_type": "code",
   "execution_count": 65,
   "id": "11ccbf4d",
   "metadata": {},
   "outputs": [
    {
     "data": {
      "text/html": [
       "<div>\n",
       "<style scoped>\n",
       "    .dataframe tbody tr th:only-of-type {\n",
       "        vertical-align: middle;\n",
       "    }\n",
       "\n",
       "    .dataframe tbody tr th {\n",
       "        vertical-align: top;\n",
       "    }\n",
       "\n",
       "    .dataframe thead th {\n",
       "        text-align: right;\n",
       "    }\n",
       "</style>\n",
       "<table border=\"1\" class=\"dataframe\">\n",
       "  <thead>\n",
       "    <tr style=\"text-align: right;\">\n",
       "      <th></th>\n",
       "      <th>Gender</th>\n",
       "      <th>Specialisation</th>\n",
       "      <th>Techinal Degree</th>\n",
       "      <th>Work Experience</th>\n",
       "      <th>SSC_p</th>\n",
       "      <th>High School_p</th>\n",
       "      <th>Degree_p</th>\n",
       "      <th>Actual</th>\n",
       "      <th>Predicted</th>\n",
       "    </tr>\n",
       "  </thead>\n",
       "  <tbody>\n",
       "    <tr>\n",
       "      <th>0</th>\n",
       "      <td>1</td>\n",
       "      <td>1</td>\n",
       "      <td>2</td>\n",
       "      <td>0</td>\n",
       "      <td>67.00</td>\n",
       "      <td>91.00</td>\n",
       "      <td>58.00</td>\n",
       "      <td>1</td>\n",
       "      <td>1</td>\n",
       "    </tr>\n",
       "    <tr>\n",
       "      <th>1</th>\n",
       "      <td>1</td>\n",
       "      <td>0</td>\n",
       "      <td>2</td>\n",
       "      <td>1</td>\n",
       "      <td>79.33</td>\n",
       "      <td>78.33</td>\n",
       "      <td>77.48</td>\n",
       "      <td>1</td>\n",
       "      <td>1</td>\n",
       "    </tr>\n",
       "    <tr>\n",
       "      <th>2</th>\n",
       "      <td>1</td>\n",
       "      <td>0</td>\n",
       "      <td>0</td>\n",
       "      <td>0</td>\n",
       "      <td>65.00</td>\n",
       "      <td>68.00</td>\n",
       "      <td>64.00</td>\n",
       "      <td>1</td>\n",
       "      <td>1</td>\n",
       "    </tr>\n",
       "    <tr>\n",
       "      <th>3</th>\n",
       "      <td>1</td>\n",
       "      <td>1</td>\n",
       "      <td>2</td>\n",
       "      <td>0</td>\n",
       "      <td>56.00</td>\n",
       "      <td>52.00</td>\n",
       "      <td>52.00</td>\n",
       "      <td>0</td>\n",
       "      <td>0</td>\n",
       "    </tr>\n",
       "    <tr>\n",
       "      <th>4</th>\n",
       "      <td>1</td>\n",
       "      <td>0</td>\n",
       "      <td>0</td>\n",
       "      <td>0</td>\n",
       "      <td>85.80</td>\n",
       "      <td>73.60</td>\n",
       "      <td>73.30</td>\n",
       "      <td>1</td>\n",
       "      <td>1</td>\n",
       "    </tr>\n",
       "  </tbody>\n",
       "</table>\n",
       "</div>"
      ],
      "text/plain": [
       "   Gender  Specialisation  Techinal Degree  Work Experience  SSC_p  \\\n",
       "0       1               1                2                0  67.00   \n",
       "1       1               0                2                1  79.33   \n",
       "2       1               0                0                0  65.00   \n",
       "3       1               1                2                0  56.00   \n",
       "4       1               0                0                0  85.80   \n",
       "\n",
       "   High School_p  Degree_p  Actual  Predicted  \n",
       "0          91.00     58.00       1          1  \n",
       "1          78.33     77.48       1          1  \n",
       "2          68.00     64.00       1          1  \n",
       "3          52.00     52.00       0          0  \n",
       "4          73.60     73.30       1          1  "
      ]
     },
     "execution_count": 65,
     "metadata": {},
     "output_type": "execute_result"
    }
   ],
   "source": [
    "resultdf = train.copy()\n",
    "resultdf['Actual'] = np.array(test)\n",
    "resultdf['Predicted'] = np.array(predicted)\n",
    "resultdf.head()"
   ]
  },
  {
   "cell_type": "code",
   "execution_count": 66,
   "id": "1e1ab400",
   "metadata": {},
   "outputs": [
    {
     "data": {
      "text/plain": [
       "1    148\n",
       "0     67\n",
       "Name: Actual, dtype: int64"
      ]
     },
     "execution_count": 66,
     "metadata": {},
     "output_type": "execute_result"
    }
   ],
   "source": [
    "resultdf['Actual'].value_counts()"
   ]
  },
  {
   "cell_type": "code",
   "execution_count": 67,
   "id": "761625be",
   "metadata": {},
   "outputs": [
    {
     "data": {
      "text/plain": [
       "1    166\n",
       "0     49\n",
       "Name: Predicted, dtype: int64"
      ]
     },
     "execution_count": 67,
     "metadata": {},
     "output_type": "execute_result"
    }
   ],
   "source": [
    "resultdf['Predicted'].value_counts()"
   ]
  },
  {
   "cell_type": "code",
   "execution_count": 68,
   "id": "f28f3ca6",
   "metadata": {},
   "outputs": [
    {
     "data": {
      "text/plain": [
       "{'gender': {'F': 0, 'M': 1},\n",
       " 'ssc_b': {'Central': 0, 'Others': 1},\n",
       " 'hsc_b': {'Central': 0, 'Others': 1},\n",
       " 'hsc_s': {'Arts': 0, 'Commerce': 1, 'Science': 2},\n",
       " 'degree_t': {'Comm&Mgmt': 0, 'Others': 1, 'Sci&Tech': 2},\n",
       " 'workex': {'No': 0, 'Yes': 1},\n",
       " 'specialisation': {'Mkt&Fin': 0, 'Mkt&HR': 1},\n",
       " 'status': {'Not Placed': 0, 'Placed': 1}}"
      ]
     },
     "execution_count": 68,
     "metadata": {},
     "output_type": "execute_result"
    }
   ],
   "source": [
    "getmappings"
   ]
  },
  {
   "cell_type": "markdown",
   "id": "1b4ca2e2",
   "metadata": {},
   "source": [
    "### Predicted Probability"
   ]
  },
  {
   "cell_type": "code",
   "execution_count": 69,
   "id": "d280cf1a",
   "metadata": {},
   "outputs": [
    {
     "data": {
      "text/plain": [
       "[array([[0.36831538, 0.63168462]]),\n",
       " array([[0.07347613, 0.92652387]]),\n",
       " array([[0.24495023, 0.75504977]]),\n",
       " array([[0.89003352, 0.10996648]]),\n",
       " array([[0.07834067, 0.92165933]]),\n",
       " array([[0.65903146, 0.34096854]]),\n",
       " array([[0.72990147, 0.27009853]]),\n",
       " array([[0.08683314, 0.91316686]]),\n",
       " array([[0.07834067, 0.92165933]]),\n",
       " array([[0.49739005, 0.50260995]]),\n",
       " array([[0.41823582, 0.58176418]]),\n",
       " array([[0.07603501, 0.92396499]]),\n",
       " array([[0.84112511, 0.15887489]]),\n",
       " array([[0.22261755, 0.77738245]]),\n",
       " array([[0.83749984, 0.16250016]]),\n",
       " array([[0.08900442, 0.91099558]]),\n",
       " array([[0.14005106, 0.85994894]]),\n",
       " array([[0.57483364, 0.42516636]]),\n",
       " array([[0.47372453, 0.52627547]]),\n",
       " array([[0.12814181, 0.87185819]]),\n",
       " array([[0.19085161, 0.80914839]]),\n",
       " array([[0.08389884, 0.91610116]]),\n",
       " array([[0.17972642, 0.82027358]]),\n",
       " array([[0.12311786, 0.87688214]]),\n",
       " array([[0.08730345, 0.91269655]]),\n",
       " array([[0.81518114, 0.18481886]]),\n",
       " array([[0.08339947, 0.91660053]]),\n",
       " array([[0.18469916, 0.81530084]]),\n",
       " array([[0.07294853, 0.92705147]]),\n",
       " array([[0.49777446, 0.50222554]]),\n",
       " array([[0.20713703, 0.79286297]]),\n",
       " array([[0.67028387, 0.32971613]]),\n",
       " array([[0.23285032, 0.76714968]]),\n",
       " array([[0.07814847, 0.92185153]]),\n",
       " array([[0.84050827, 0.15949173]]),\n",
       " array([[0.12475957, 0.87524043]]),\n",
       " array([[0.88449646, 0.11550354]]),\n",
       " array([[0.21010576, 0.78989424]]),\n",
       " array([[0.22782276, 0.77217724]]),\n",
       " array([[0.17494893, 0.82505107]]),\n",
       " array([[0.08389884, 0.91610116]]),\n",
       " array([[0.16282947, 0.83717053]]),\n",
       " array([[0.78444958, 0.21555042]]),\n",
       " array([[0.09678167, 0.90321833]]),\n",
       " array([[0.07270069, 0.92729931]]),\n",
       " array([[0.15726526, 0.84273474]]),\n",
       " array([[0.25788962, 0.74211038]]),\n",
       " array([[0.37116462, 0.62883538]]),\n",
       " array([[0.16842358, 0.83157642]]),\n",
       " array([[0.90602408, 0.09397592]]),\n",
       " array([[0.10610031, 0.89389969]]),\n",
       " array([[0.73060068, 0.26939932]]),\n",
       " array([[0.91222698, 0.08777302]]),\n",
       " array([[0.12909829, 0.87090171]]),\n",
       " array([[0.12436568, 0.87563432]]),\n",
       " array([[0.33881437, 0.66118563]]),\n",
       " array([[0.30921703, 0.69078297]]),\n",
       " array([[0.09028017, 0.90971983]]),\n",
       " array([[0.09082198, 0.90917802]]),\n",
       " array([[0.38346612, 0.61653388]]),\n",
       " array([[0.07508205, 0.92491795]]),\n",
       " array([[0.07922978, 0.92077022]]),\n",
       " array([[0.11524791, 0.88475209]]),\n",
       " array([[0.42216072, 0.57783928]]),\n",
       " array([[0.07784129, 0.92215871]]),\n",
       " array([[0.9011643, 0.0988357]]),\n",
       " array([[0.09767078, 0.90232922]]),\n",
       " array([[0.07922978, 0.92077022]]),\n",
       " array([[0.50596653, 0.49403347]]),\n",
       " array([[0.0753038, 0.9246962]]),\n",
       " array([[0.19992275, 0.80007725]]),\n",
       " array([[0.08549359, 0.91450641]]),\n",
       " array([[0.08955461, 0.91044539]]),\n",
       " array([[0.09349254, 0.90650746]]),\n",
       " array([[0.23931396, 0.76068604]]),\n",
       " array([[0.38393318, 0.61606682]]),\n",
       " array([[0.13316995, 0.86683005]]),\n",
       " array([[0.16370065, 0.83629935]]),\n",
       " array([[0.12685469, 0.87314531]]),\n",
       " array([[0.20810527, 0.79189473]]),\n",
       " array([[0.11394783, 0.88605217]]),\n",
       " array([[0.07857598, 0.92142402]]),\n",
       " array([[0.18803887, 0.81196113]]),\n",
       " array([[0.07414717, 0.92585283]]),\n",
       " array([[0.10102561, 0.89897439]]),\n",
       " array([[0.07270069, 0.92729931]]),\n",
       " array([[0.32613808, 0.67386192]]),\n",
       " array([[0.86987591, 0.13012409]]),\n",
       " array([[0.19617397, 0.80382603]]),\n",
       " array([[0.09456896, 0.90543104]]),\n",
       " array([[0.08389884, 0.91610116]]),\n",
       " array([[0.85771705, 0.14228295]]),\n",
       " array([[0.22438226, 0.77561774]]),\n",
       " array([[0.75879868, 0.24120132]]),\n",
       " array([[0.38400193, 0.61599807]]),\n",
       " array([[0.0826844, 0.9173156]]),\n",
       " array([[0.08007835, 0.91992165]]),\n",
       " array([[0.36244091, 0.63755909]]),\n",
       " array([[0.17234579, 0.82765421]]),\n",
       " array([[0.47035271, 0.52964729]]),\n",
       " array([[0.75116713, 0.24883287]]),\n",
       " array([[0.17282958, 0.82717042]]),\n",
       " array([[0.08073727, 0.91926273]]),\n",
       " array([[0.08781022, 0.91218978]]),\n",
       " array([[0.15880068, 0.84119932]]),\n",
       " array([[0.65232909, 0.34767091]]),\n",
       " array([[0.81136592, 0.18863408]]),\n",
       " array([[0.09628229, 0.90371771]]),\n",
       " array([[0.15264432, 0.84735568]]),\n",
       " array([[0.50655413, 0.49344587]]),\n",
       " array([[0.16383506, 0.83616494]]),\n",
       " array([[0.88363169, 0.11636831]]),\n",
       " array([[0.57215942, 0.42784058]]),\n",
       " array([[0.08845644, 0.91154356]]),\n",
       " array([[0.12997156, 0.87002844]]),\n",
       " array([[0.109334, 0.890666]]),\n",
       " array([[0.08024823, 0.91975177]]),\n",
       " array([[0.0877248, 0.9122752]]),\n",
       " array([[0.08738887, 0.91261113]]),\n",
       " array([[0.15929544, 0.84070456]]),\n",
       " array([[0.87258169, 0.12741831]]),\n",
       " array([[0.18267942, 0.81732058]]),\n",
       " array([[0.0959842, 0.9040158]]),\n",
       " array([[0.1151999, 0.8848001]]),\n",
       " array([[0.20242119, 0.79757881]]),\n",
       " array([[0.08439821, 0.91560179]]),\n",
       " array([[0.08898104, 0.91101896]]),\n",
       " array([[0.12686255, 0.87313745]]),\n",
       " array([[0.08738887, 0.91261113]]),\n",
       " array([[0.07142993, 0.92857007]]),\n",
       " array([[0.49351539, 0.50648461]]),\n",
       " array([[0.22810124, 0.77189876]]),\n",
       " array([[0.18662975, 0.81337025]]),\n",
       " array([[0.09281138, 0.90718862]]),\n",
       " array([[0.07320007, 0.92679993]]),\n",
       " array([[0.27614086, 0.72385914]]),\n",
       " array([[0.67505928, 0.32494072]]),\n",
       " array([[0.1475394, 0.8524606]]),\n",
       " array([[0.08753948, 0.91246052]]),\n",
       " array([[0.19445169, 0.80554831]]),\n",
       " array([[0.0859541, 0.9140459]]),\n",
       " array([[0.47743548, 0.52256452]]),\n",
       " array([[0.08567013, 0.91432987]]),\n",
       " array([[0.08733953, 0.91266047]]),\n",
       " array([[0.86135494, 0.13864506]]),\n",
       " array([[0.13024245, 0.86975755]]),\n",
       " array([[0.20908667, 0.79091333]]),\n",
       " array([[0.12783304, 0.87216696]]),\n",
       " array([[0.22993788, 0.77006212]]),\n",
       " array([[0.73974149, 0.26025851]]),\n",
       " array([[0.24244313, 0.75755687]]),\n",
       " array([[0.11522652, 0.88477348]]),\n",
       " array([[0.11609791, 0.88390209]]),\n",
       " array([[0.47315031, 0.52684969]]),\n",
       " array([[0.51748096, 0.48251904]]),\n",
       " array([[0.5922799, 0.4077201]]),\n",
       " array([[0.14378069, 0.85621931]]),\n",
       " array([[0.34463562, 0.65536438]]),\n",
       " array([[0.30343495, 0.69656505]]),\n",
       " array([[0.90735909, 0.09264091]]),\n",
       " array([[0.1372286, 0.8627714]]),\n",
       " array([[0.89290053, 0.10709947]]),\n",
       " array([[0.06977392, 0.93022608]]),\n",
       " array([[0.35263579, 0.64736421]]),\n",
       " array([[0.20296179, 0.79703821]]),\n",
       " array([[0.22756944, 0.77243056]]),\n",
       " array([[0.33931136, 0.66068864]]),\n",
       " array([[0.13503848, 0.86496152]]),\n",
       " array([[0.82579947, 0.17420053]]),\n",
       " array([[0.83645015, 0.16354985]]),\n",
       " array([[0.5705577, 0.4294423]]),\n",
       " array([[0.0702733, 0.9297267]]),\n",
       " array([[0.41928412, 0.58071588]]),\n",
       " array([[0.90483281, 0.09516719]]),\n",
       " array([[0.37660356, 0.62339644]]),\n",
       " array([[0.42678864, 0.57321136]]),\n",
       " array([[0.66453049, 0.33546951]]),\n",
       " array([[0.07270069, 0.92729931]]),\n",
       " array([[0.31498398, 0.68501602]]),\n",
       " array([[0.34451537, 0.65548463]]),\n",
       " array([[0.13366937, 0.86633063]]),\n",
       " array([[0.51031742, 0.48968258]]),\n",
       " array([[0.62131195, 0.37868805]]),\n",
       " array([[0.114933, 0.885067]]),\n",
       " array([[0.70865683, 0.29134317]]),\n",
       " array([[0.12461492, 0.87538508]]),\n",
       " array([[0.71421981, 0.28578019]]),\n",
       " array([[0.0810779, 0.9189221]]),\n",
       " array([[0.80529057, 0.19470943]]),\n",
       " array([[0.42275464, 0.57724536]]),\n",
       " array([[0.48858653, 0.51141347]]),\n",
       " array([[0.11539603, 0.88460397]]),\n",
       " array([[0.12752869, 0.87247131]]),\n",
       " array([[0.42407408, 0.57592592]]),\n",
       " array([[0.87143364, 0.12856636]]),\n",
       " array([[0.09367507, 0.90632493]]),\n",
       " array([[0.08339922, 0.91660078]]),\n",
       " array([[0.43380991, 0.56619009]]),\n",
       " array([[0.39876197, 0.60123803]]),\n",
       " array([[0.37279229, 0.62720771]]),\n",
       " array([[0.16786028, 0.83213972]]),\n",
       " array([[0.72849953, 0.27150047]]),\n",
       " array([[0.16627692, 0.83372308]]),\n",
       " array([[0.67355223, 0.32644777]]),\n",
       " array([[0.07320007, 0.92679993]]),\n",
       " array([[0.25721804, 0.74278196]]),\n",
       " array([[0.8728144, 0.1271856]]),\n",
       " array([[0.1528566, 0.8471434]]),\n",
       " array([[0.67073161, 0.32926839]]),\n",
       " array([[0.20962752, 0.79037248]]),\n",
       " array([[0.07784129, 0.92215871]]),\n",
       " array([[0.27155508, 0.72844492]]),\n",
       " array([[0.0841655, 0.9158345]]),\n",
       " array([[0.33543759, 0.66456241]]),\n",
       " array([[0.70612222, 0.29387778]])]"
      ]
     },
     "execution_count": 69,
     "metadata": {},
     "output_type": "execute_result"
    }
   ],
   "source": [
    "traindata = np.array(train)\n",
    "predicted = []\n",
    "for i in range(len(traindata)):\n",
    "    predicted.append(rf.predict_proba([traindata[i]]))\n",
    "    \n",
    "predicted"
   ]
  },
  {
   "cell_type": "code",
   "execution_count": 70,
   "id": "d88fbacc",
   "metadata": {},
   "outputs": [
    {
     "data": {
      "text/plain": [
       "(array([0.36831538, 0.63168462]), 0.3683153775532913, 0.6316846224467092)"
      ]
     },
     "execution_count": 70,
     "metadata": {},
     "output_type": "execute_result"
    }
   ],
   "source": [
    "predicted[0][0],predicted[0][0][0],predicted[0][0][1]"
   ]
  },
  {
   "cell_type": "code",
   "execution_count": 71,
   "id": "339d401d",
   "metadata": {},
   "outputs": [
    {
     "data": {
      "text/html": [
       "<div>\n",
       "<style scoped>\n",
       "    .dataframe tbody tr th:only-of-type {\n",
       "        vertical-align: middle;\n",
       "    }\n",
       "\n",
       "    .dataframe tbody tr th {\n",
       "        vertical-align: top;\n",
       "    }\n",
       "\n",
       "    .dataframe thead th {\n",
       "        text-align: right;\n",
       "    }\n",
       "</style>\n",
       "<table border=\"1\" class=\"dataframe\">\n",
       "  <thead>\n",
       "    <tr style=\"text-align: right;\">\n",
       "      <th></th>\n",
       "      <th>Gender</th>\n",
       "      <th>Specialisation</th>\n",
       "      <th>Techinal Degree</th>\n",
       "      <th>Work Experience</th>\n",
       "      <th>SSC_p</th>\n",
       "      <th>High School_p</th>\n",
       "      <th>Degree_p</th>\n",
       "      <th>Actual</th>\n",
       "      <th>Predicted</th>\n",
       "      <th>Prob_not_getting_placed</th>\n",
       "      <th>Prob_getting_placed</th>\n",
       "    </tr>\n",
       "  </thead>\n",
       "  <tbody>\n",
       "    <tr>\n",
       "      <th>0</th>\n",
       "      <td>1</td>\n",
       "      <td>1</td>\n",
       "      <td>2</td>\n",
       "      <td>0</td>\n",
       "      <td>67.00</td>\n",
       "      <td>91.00</td>\n",
       "      <td>58.00</td>\n",
       "      <td>1</td>\n",
       "      <td>1</td>\n",
       "      <td>0.368315</td>\n",
       "      <td>0.631685</td>\n",
       "    </tr>\n",
       "    <tr>\n",
       "      <th>1</th>\n",
       "      <td>1</td>\n",
       "      <td>0</td>\n",
       "      <td>2</td>\n",
       "      <td>1</td>\n",
       "      <td>79.33</td>\n",
       "      <td>78.33</td>\n",
       "      <td>77.48</td>\n",
       "      <td>1</td>\n",
       "      <td>1</td>\n",
       "      <td>0.073476</td>\n",
       "      <td>0.926524</td>\n",
       "    </tr>\n",
       "    <tr>\n",
       "      <th>2</th>\n",
       "      <td>1</td>\n",
       "      <td>0</td>\n",
       "      <td>0</td>\n",
       "      <td>0</td>\n",
       "      <td>65.00</td>\n",
       "      <td>68.00</td>\n",
       "      <td>64.00</td>\n",
       "      <td>1</td>\n",
       "      <td>1</td>\n",
       "      <td>0.244950</td>\n",
       "      <td>0.755050</td>\n",
       "    </tr>\n",
       "    <tr>\n",
       "      <th>3</th>\n",
       "      <td>1</td>\n",
       "      <td>1</td>\n",
       "      <td>2</td>\n",
       "      <td>0</td>\n",
       "      <td>56.00</td>\n",
       "      <td>52.00</td>\n",
       "      <td>52.00</td>\n",
       "      <td>0</td>\n",
       "      <td>0</td>\n",
       "      <td>0.890034</td>\n",
       "      <td>0.109966</td>\n",
       "    </tr>\n",
       "    <tr>\n",
       "      <th>4</th>\n",
       "      <td>1</td>\n",
       "      <td>0</td>\n",
       "      <td>0</td>\n",
       "      <td>0</td>\n",
       "      <td>85.80</td>\n",
       "      <td>73.60</td>\n",
       "      <td>73.30</td>\n",
       "      <td>1</td>\n",
       "      <td>1</td>\n",
       "      <td>0.078341</td>\n",
       "      <td>0.921659</td>\n",
       "    </tr>\n",
       "    <tr>\n",
       "      <th>...</th>\n",
       "      <td>...</td>\n",
       "      <td>...</td>\n",
       "      <td>...</td>\n",
       "      <td>...</td>\n",
       "      <td>...</td>\n",
       "      <td>...</td>\n",
       "      <td>...</td>\n",
       "      <td>...</td>\n",
       "      <td>...</td>\n",
       "      <td>...</td>\n",
       "      <td>...</td>\n",
       "    </tr>\n",
       "    <tr>\n",
       "      <th>210</th>\n",
       "      <td>1</td>\n",
       "      <td>0</td>\n",
       "      <td>0</td>\n",
       "      <td>0</td>\n",
       "      <td>80.60</td>\n",
       "      <td>82.00</td>\n",
       "      <td>77.60</td>\n",
       "      <td>1</td>\n",
       "      <td>1</td>\n",
       "      <td>0.077841</td>\n",
       "      <td>0.922159</td>\n",
       "    </tr>\n",
       "    <tr>\n",
       "      <th>211</th>\n",
       "      <td>1</td>\n",
       "      <td>0</td>\n",
       "      <td>2</td>\n",
       "      <td>0</td>\n",
       "      <td>58.00</td>\n",
       "      <td>60.00</td>\n",
       "      <td>72.00</td>\n",
       "      <td>1</td>\n",
       "      <td>1</td>\n",
       "      <td>0.271555</td>\n",
       "      <td>0.728445</td>\n",
       "    </tr>\n",
       "    <tr>\n",
       "      <th>212</th>\n",
       "      <td>1</td>\n",
       "      <td>0</td>\n",
       "      <td>0</td>\n",
       "      <td>1</td>\n",
       "      <td>67.00</td>\n",
       "      <td>67.00</td>\n",
       "      <td>73.00</td>\n",
       "      <td>1</td>\n",
       "      <td>1</td>\n",
       "      <td>0.084166</td>\n",
       "      <td>0.915834</td>\n",
       "    </tr>\n",
       "    <tr>\n",
       "      <th>213</th>\n",
       "      <td>0</td>\n",
       "      <td>1</td>\n",
       "      <td>0</td>\n",
       "      <td>0</td>\n",
       "      <td>74.00</td>\n",
       "      <td>66.00</td>\n",
       "      <td>58.00</td>\n",
       "      <td>1</td>\n",
       "      <td>1</td>\n",
       "      <td>0.335438</td>\n",
       "      <td>0.664562</td>\n",
       "    </tr>\n",
       "    <tr>\n",
       "      <th>214</th>\n",
       "      <td>1</td>\n",
       "      <td>1</td>\n",
       "      <td>0</td>\n",
       "      <td>0</td>\n",
       "      <td>62.00</td>\n",
       "      <td>58.00</td>\n",
       "      <td>53.00</td>\n",
       "      <td>0</td>\n",
       "      <td>0</td>\n",
       "      <td>0.706122</td>\n",
       "      <td>0.293878</td>\n",
       "    </tr>\n",
       "  </tbody>\n",
       "</table>\n",
       "<p>215 rows × 11 columns</p>\n",
       "</div>"
      ],
      "text/plain": [
       "     Gender  Specialisation  Techinal Degree  Work Experience  SSC_p  \\\n",
       "0         1               1                2                0  67.00   \n",
       "1         1               0                2                1  79.33   \n",
       "2         1               0                0                0  65.00   \n",
       "3         1               1                2                0  56.00   \n",
       "4         1               0                0                0  85.80   \n",
       "..      ...             ...              ...              ...    ...   \n",
       "210       1               0                0                0  80.60   \n",
       "211       1               0                2                0  58.00   \n",
       "212       1               0                0                1  67.00   \n",
       "213       0               1                0                0  74.00   \n",
       "214       1               1                0                0  62.00   \n",
       "\n",
       "     High School_p  Degree_p  Actual  Predicted  Prob_not_getting_placed  \\\n",
       "0            91.00     58.00       1          1                 0.368315   \n",
       "1            78.33     77.48       1          1                 0.073476   \n",
       "2            68.00     64.00       1          1                 0.244950   \n",
       "3            52.00     52.00       0          0                 0.890034   \n",
       "4            73.60     73.30       1          1                 0.078341   \n",
       "..             ...       ...     ...        ...                      ...   \n",
       "210          82.00     77.60       1          1                 0.077841   \n",
       "211          60.00     72.00       1          1                 0.271555   \n",
       "212          67.00     73.00       1          1                 0.084166   \n",
       "213          66.00     58.00       1          1                 0.335438   \n",
       "214          58.00     53.00       0          0                 0.706122   \n",
       "\n",
       "     Prob_getting_placed  \n",
       "0               0.631685  \n",
       "1               0.926524  \n",
       "2               0.755050  \n",
       "3               0.109966  \n",
       "4               0.921659  \n",
       "..                   ...  \n",
       "210             0.922159  \n",
       "211             0.728445  \n",
       "212             0.915834  \n",
       "213             0.664562  \n",
       "214             0.293878  \n",
       "\n",
       "[215 rows x 11 columns]"
      ]
     },
     "execution_count": 71,
     "metadata": {},
     "output_type": "execute_result"
    }
   ],
   "source": [
    "resultdf['Prob_not_getting_placed'] = np.array([predicted[i][0][0] for i in range(len(predicted))])\n",
    "resultdf['Prob_getting_placed'] = np.array([predicted[i][0][1] for i in range(len(predicted))])\n",
    "resultdf"
   ]
  },
  {
   "cell_type": "code",
   "execution_count": 72,
   "id": "25004d9e",
   "metadata": {},
   "outputs": [],
   "source": [
    "# saving the model\n",
    "\n",
    "import pickle\n",
    "file = open('campusplacementpredictor.pkl','wb')\n",
    "pickle.dump(rf,file)\n",
    "file.close()"
   ]
  },
  {
   "cell_type": "markdown",
   "id": "997f7da3",
   "metadata": {},
   "source": [
    "### Conclusions\n",
    "\n",
    "\n",
    " + 16 records were missclassified,resulting in the accuracy of 93% on testing data\n",
    " + Random Forest model gave the best results\n",
    " "
   ]
  }
 ],
 "metadata": {
  "kernelspec": {
   "display_name": "Python 3",
   "language": "python",
   "name": "python3"
  },
  "language_info": {
   "codemirror_mode": {
    "name": "ipython",
    "version": 3
   },
   "file_extension": ".py",
   "mimetype": "text/x-python",
   "name": "python",
   "nbconvert_exporter": "python",
   "pygments_lexer": "ipython3",
   "version": "3.8.8"
  },
  "vscode": {
   "interpreter": {
    "hash": "fed54a58973894f01c91b9bf4b39133f9413114d3d2792e2343cb37cfb0c3683"
   }
  }
 },
 "nbformat": 4,
 "nbformat_minor": 5
}
