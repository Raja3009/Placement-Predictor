{
 "cells": [
  {
   "cell_type": "code",
   "execution_count": 1,
   "id": "2525674b",
   "metadata": {},
   "outputs": [],
   "source": [
    "import pandas as pd\n",
    "import numpy as np\n",
    "import seaborn as sns\n",
    "import matplotlib.pyplot as plt\n",
    "%matplotlib inline"
   ]
  },
  {
   "cell_type": "code",
   "execution_count": 2,
   "id": "2d893e81",
   "metadata": {},
   "outputs": [
    {
     "data": {
      "text/html": [
       "<div>\n",
       "<style scoped>\n",
       "    .dataframe tbody tr th:only-of-type {\n",
       "        vertical-align: middle;\n",
       "    }\n",
       "\n",
       "    .dataframe tbody tr th {\n",
       "        vertical-align: top;\n",
       "    }\n",
       "\n",
       "    .dataframe thead th {\n",
       "        text-align: right;\n",
       "    }\n",
       "</style>\n",
       "<table border=\"1\" class=\"dataframe\">\n",
       "  <thead>\n",
       "    <tr style=\"text-align: right;\">\n",
       "      <th></th>\n",
       "      <th>sl_no</th>\n",
       "      <th>gender</th>\n",
       "      <th>ssc_p</th>\n",
       "      <th>ssc_b</th>\n",
       "      <th>hsc_p</th>\n",
       "      <th>hsc_b</th>\n",
       "      <th>hsc_s</th>\n",
       "      <th>degree_p</th>\n",
       "      <th>degree_t</th>\n",
       "      <th>workex</th>\n",
       "      <th>etest_p</th>\n",
       "      <th>specialisation</th>\n",
       "      <th>status</th>\n",
       "      <th>salary</th>\n",
       "    </tr>\n",
       "  </thead>\n",
       "  <tbody>\n",
       "    <tr>\n",
       "      <th>0</th>\n",
       "      <td>1</td>\n",
       "      <td>M</td>\n",
       "      <td>67.00</td>\n",
       "      <td>Others</td>\n",
       "      <td>91.00</td>\n",
       "      <td>Others</td>\n",
       "      <td>Commerce</td>\n",
       "      <td>58.00</td>\n",
       "      <td>Sci&amp;Tech</td>\n",
       "      <td>No</td>\n",
       "      <td>55.0</td>\n",
       "      <td>Mkt&amp;HR</td>\n",
       "      <td>Placed</td>\n",
       "      <td>270000.0</td>\n",
       "    </tr>\n",
       "    <tr>\n",
       "      <th>1</th>\n",
       "      <td>2</td>\n",
       "      <td>M</td>\n",
       "      <td>79.33</td>\n",
       "      <td>Central</td>\n",
       "      <td>78.33</td>\n",
       "      <td>Others</td>\n",
       "      <td>Science</td>\n",
       "      <td>77.48</td>\n",
       "      <td>Sci&amp;Tech</td>\n",
       "      <td>Yes</td>\n",
       "      <td>86.5</td>\n",
       "      <td>Mkt&amp;Fin</td>\n",
       "      <td>Placed</td>\n",
       "      <td>200000.0</td>\n",
       "    </tr>\n",
       "    <tr>\n",
       "      <th>2</th>\n",
       "      <td>3</td>\n",
       "      <td>M</td>\n",
       "      <td>65.00</td>\n",
       "      <td>Central</td>\n",
       "      <td>68.00</td>\n",
       "      <td>Central</td>\n",
       "      <td>Arts</td>\n",
       "      <td>64.00</td>\n",
       "      <td>Comm&amp;Mgmt</td>\n",
       "      <td>No</td>\n",
       "      <td>75.0</td>\n",
       "      <td>Mkt&amp;Fin</td>\n",
       "      <td>Placed</td>\n",
       "      <td>250000.0</td>\n",
       "    </tr>\n",
       "    <tr>\n",
       "      <th>3</th>\n",
       "      <td>4</td>\n",
       "      <td>M</td>\n",
       "      <td>56.00</td>\n",
       "      <td>Central</td>\n",
       "      <td>52.00</td>\n",
       "      <td>Central</td>\n",
       "      <td>Science</td>\n",
       "      <td>52.00</td>\n",
       "      <td>Sci&amp;Tech</td>\n",
       "      <td>No</td>\n",
       "      <td>66.0</td>\n",
       "      <td>Mkt&amp;HR</td>\n",
       "      <td>Not Placed</td>\n",
       "      <td>NaN</td>\n",
       "    </tr>\n",
       "    <tr>\n",
       "      <th>4</th>\n",
       "      <td>5</td>\n",
       "      <td>M</td>\n",
       "      <td>85.80</td>\n",
       "      <td>Central</td>\n",
       "      <td>73.60</td>\n",
       "      <td>Central</td>\n",
       "      <td>Commerce</td>\n",
       "      <td>73.30</td>\n",
       "      <td>Comm&amp;Mgmt</td>\n",
       "      <td>No</td>\n",
       "      <td>96.8</td>\n",
       "      <td>Mkt&amp;Fin</td>\n",
       "      <td>Placed</td>\n",
       "      <td>425000.0</td>\n",
       "    </tr>\n",
       "  </tbody>\n",
       "</table>\n",
       "</div>"
      ],
      "text/plain": [
       "   sl_no gender  ssc_p    ssc_b  hsc_p    hsc_b     hsc_s  degree_p  \\\n",
       "0      1      M  67.00   Others  91.00   Others  Commerce     58.00   \n",
       "1      2      M  79.33  Central  78.33   Others   Science     77.48   \n",
       "2      3      M  65.00  Central  68.00  Central      Arts     64.00   \n",
       "3      4      M  56.00  Central  52.00  Central   Science     52.00   \n",
       "4      5      M  85.80  Central  73.60  Central  Commerce     73.30   \n",
       "\n",
       "    degree_t workex  etest_p specialisation      status    salary  \n",
       "0   Sci&Tech     No     55.0         Mkt&HR      Placed  270000.0  \n",
       "1   Sci&Tech    Yes     86.5        Mkt&Fin      Placed  200000.0  \n",
       "2  Comm&Mgmt     No     75.0        Mkt&Fin      Placed  250000.0  \n",
       "3   Sci&Tech     No     66.0         Mkt&HR  Not Placed       NaN  \n",
       "4  Comm&Mgmt     No     96.8        Mkt&Fin      Placed  425000.0  "
      ]
     },
     "execution_count": 2,
     "metadata": {},
     "output_type": "execute_result"
    }
   ],
   "source": [
    "df = pd.read_csv('Placement_Data_Full_Class.csv')\n",
    "df.head()"
   ]
  },
  {
   "cell_type": "code",
   "execution_count": 3,
   "id": "a776d552",
   "metadata": {
    "scrolled": true
   },
   "outputs": [
    {
     "name": "stdout",
     "output_type": "stream",
     "text": [
      "<class 'pandas.core.frame.DataFrame'>\n",
      "RangeIndex: 215 entries, 0 to 214\n",
      "Data columns (total 14 columns):\n",
      " #   Column          Non-Null Count  Dtype  \n",
      "---  ------          --------------  -----  \n",
      " 0   sl_no           215 non-null    int64  \n",
      " 1   gender          215 non-null    object \n",
      " 2   ssc_p           215 non-null    float64\n",
      " 3   ssc_b           215 non-null    object \n",
      " 4   hsc_p           215 non-null    float64\n",
      " 5   hsc_b           215 non-null    object \n",
      " 6   hsc_s           215 non-null    object \n",
      " 7   degree_p        215 non-null    float64\n",
      " 8   degree_t        215 non-null    object \n",
      " 9   workex          215 non-null    object \n",
      " 10  etest_p         215 non-null    float64\n",
      " 11  specialisation  215 non-null    object \n",
      " 12  status          215 non-null    object \n",
      " 13  salary          148 non-null    float64\n",
      "dtypes: float64(5), int64(1), object(8)\n",
      "memory usage: 23.6+ KB\n"
     ]
    }
   ],
   "source": [
    "df.info()"
   ]
  },
  {
   "cell_type": "code",
   "execution_count": 4,
   "id": "1c880b62",
   "metadata": {},
   "outputs": [
    {
     "name": "stdout",
     "output_type": "stream",
     "text": [
      "['gender', 'ssc_b', 'hsc_b', 'hsc_s', 'degree_t', 'workex', 'specialisation', 'status'] ['sl_no', 'ssc_p', 'hsc_p', 'degree_p', 'etest_p', 'salary']\n"
     ]
    }
   ],
   "source": [
    "# seperating the categorical and numerical columns\n",
    "\n",
    "catvars = list(df.select_dtypes(include=['object']).columns)\n",
    "\n",
    "numvars = list(df.select_dtypes(include=['int32','int64','float32','float64']).columns)\n",
    "\n",
    "\n",
    "print(catvars,numvars)"
   ]
  },
  {
   "cell_type": "code",
   "execution_count": 5,
   "id": "ec157315",
   "metadata": {
    "scrolled": false
   },
   "outputs": [
    {
     "data": {
      "text/plain": [
       "sl_no              0\n",
       "gender             0\n",
       "ssc_p              0\n",
       "ssc_b              0\n",
       "hsc_p              0\n",
       "hsc_b              0\n",
       "hsc_s              0\n",
       "degree_p           0\n",
       "degree_t           0\n",
       "workex             0\n",
       "etest_p            0\n",
       "specialisation     0\n",
       "status             0\n",
       "salary            67\n",
       "dtype: int64"
      ]
     },
     "execution_count": 5,
     "metadata": {},
     "output_type": "execute_result"
    }
   ],
   "source": [
    "df.isnull().sum()"
   ]
  },
  {
   "cell_type": "markdown",
   "id": "fcf9febc",
   "metadata": {},
   "source": [
    "### Handling Null values"
   ]
  },
  {
   "cell_type": "code",
   "execution_count": 6,
   "id": "2390ae4e",
   "metadata": {},
   "outputs": [
    {
     "data": {
      "text/plain": [
       "(215, 14)"
      ]
     },
     "execution_count": 6,
     "metadata": {},
     "output_type": "execute_result"
    }
   ],
   "source": [
    "df.shape"
   ]
  },
  {
   "cell_type": "code",
   "execution_count": 7,
   "id": "162953cb",
   "metadata": {},
   "outputs": [],
   "source": [
    "def plotdistplot(col):\n",
    "    \n",
    "    plt.figure(figsize=(15,7))\n",
    "    sns.distplot(df['salary'],kde=True,hist=False,label='Actual Salary',color='orange')\n",
    "    sns.distplot(df[col],kde=True,hist=False,label=col,color='black')\n",
    "    "
   ]
  },
  {
   "cell_type": "code",
   "execution_count": 8,
   "id": "2d30055d",
   "metadata": {},
   "outputs": [
    {
     "data": {
      "text/plain": [
       "(300000.0, 22)"
      ]
     },
     "execution_count": 8,
     "metadata": {},
     "output_type": "execute_result"
    }
   ],
   "source": [
    "mostfreq = list(dict(df['salary'].value_counts()).items())[0]\n",
    "mostfreq"
   ]
  },
  {
   "cell_type": "code",
   "execution_count": 9,
   "id": "c1afa735",
   "metadata": {},
   "outputs": [
    {
     "data": {
      "text/plain": [
       "300000.0"
      ]
     },
     "execution_count": 9,
     "metadata": {},
     "output_type": "execute_result"
    }
   ],
   "source": [
    "df['salary'].mode()[0]"
   ]
  },
  {
   "cell_type": "code",
   "execution_count": 10,
   "id": "e97f55cf",
   "metadata": {},
   "outputs": [
    {
     "data": {
      "text/html": [
       "<div>\n",
       "<style scoped>\n",
       "    .dataframe tbody tr th:only-of-type {\n",
       "        vertical-align: middle;\n",
       "    }\n",
       "\n",
       "    .dataframe tbody tr th {\n",
       "        vertical-align: top;\n",
       "    }\n",
       "\n",
       "    .dataframe thead th {\n",
       "        text-align: right;\n",
       "    }\n",
       "</style>\n",
       "<table border=\"1\" class=\"dataframe\">\n",
       "  <thead>\n",
       "    <tr style=\"text-align: right;\">\n",
       "      <th></th>\n",
       "      <th>sl_no</th>\n",
       "      <th>gender</th>\n",
       "      <th>ssc_p</th>\n",
       "      <th>ssc_b</th>\n",
       "      <th>hsc_p</th>\n",
       "      <th>hsc_b</th>\n",
       "      <th>hsc_s</th>\n",
       "      <th>degree_p</th>\n",
       "      <th>degree_t</th>\n",
       "      <th>workex</th>\n",
       "      <th>etest_p</th>\n",
       "      <th>specialisation</th>\n",
       "      <th>status</th>\n",
       "      <th>salary</th>\n",
       "      <th>salary_mean</th>\n",
       "      <th>salary_median</th>\n",
       "      <th>salary_mode</th>\n",
       "    </tr>\n",
       "  </thead>\n",
       "  <tbody>\n",
       "    <tr>\n",
       "      <th>0</th>\n",
       "      <td>1</td>\n",
       "      <td>M</td>\n",
       "      <td>67.00</td>\n",
       "      <td>Others</td>\n",
       "      <td>91.00</td>\n",
       "      <td>Others</td>\n",
       "      <td>Commerce</td>\n",
       "      <td>58.00</td>\n",
       "      <td>Sci&amp;Tech</td>\n",
       "      <td>No</td>\n",
       "      <td>55.0</td>\n",
       "      <td>Mkt&amp;HR</td>\n",
       "      <td>Placed</td>\n",
       "      <td>270000.0</td>\n",
       "      <td>270000.000000</td>\n",
       "      <td>270000.0</td>\n",
       "      <td>270000.0</td>\n",
       "    </tr>\n",
       "    <tr>\n",
       "      <th>1</th>\n",
       "      <td>2</td>\n",
       "      <td>M</td>\n",
       "      <td>79.33</td>\n",
       "      <td>Central</td>\n",
       "      <td>78.33</td>\n",
       "      <td>Others</td>\n",
       "      <td>Science</td>\n",
       "      <td>77.48</td>\n",
       "      <td>Sci&amp;Tech</td>\n",
       "      <td>Yes</td>\n",
       "      <td>86.5</td>\n",
       "      <td>Mkt&amp;Fin</td>\n",
       "      <td>Placed</td>\n",
       "      <td>200000.0</td>\n",
       "      <td>200000.000000</td>\n",
       "      <td>200000.0</td>\n",
       "      <td>200000.0</td>\n",
       "    </tr>\n",
       "    <tr>\n",
       "      <th>2</th>\n",
       "      <td>3</td>\n",
       "      <td>M</td>\n",
       "      <td>65.00</td>\n",
       "      <td>Central</td>\n",
       "      <td>68.00</td>\n",
       "      <td>Central</td>\n",
       "      <td>Arts</td>\n",
       "      <td>64.00</td>\n",
       "      <td>Comm&amp;Mgmt</td>\n",
       "      <td>No</td>\n",
       "      <td>75.0</td>\n",
       "      <td>Mkt&amp;Fin</td>\n",
       "      <td>Placed</td>\n",
       "      <td>250000.0</td>\n",
       "      <td>250000.000000</td>\n",
       "      <td>250000.0</td>\n",
       "      <td>250000.0</td>\n",
       "    </tr>\n",
       "    <tr>\n",
       "      <th>3</th>\n",
       "      <td>4</td>\n",
       "      <td>M</td>\n",
       "      <td>56.00</td>\n",
       "      <td>Central</td>\n",
       "      <td>52.00</td>\n",
       "      <td>Central</td>\n",
       "      <td>Science</td>\n",
       "      <td>52.00</td>\n",
       "      <td>Sci&amp;Tech</td>\n",
       "      <td>No</td>\n",
       "      <td>66.0</td>\n",
       "      <td>Mkt&amp;HR</td>\n",
       "      <td>Not Placed</td>\n",
       "      <td>NaN</td>\n",
       "      <td>288655.405405</td>\n",
       "      <td>265000.0</td>\n",
       "      <td>300000.0</td>\n",
       "    </tr>\n",
       "    <tr>\n",
       "      <th>4</th>\n",
       "      <td>5</td>\n",
       "      <td>M</td>\n",
       "      <td>85.80</td>\n",
       "      <td>Central</td>\n",
       "      <td>73.60</td>\n",
       "      <td>Central</td>\n",
       "      <td>Commerce</td>\n",
       "      <td>73.30</td>\n",
       "      <td>Comm&amp;Mgmt</td>\n",
       "      <td>No</td>\n",
       "      <td>96.8</td>\n",
       "      <td>Mkt&amp;Fin</td>\n",
       "      <td>Placed</td>\n",
       "      <td>425000.0</td>\n",
       "      <td>425000.000000</td>\n",
       "      <td>425000.0</td>\n",
       "      <td>425000.0</td>\n",
       "    </tr>\n",
       "  </tbody>\n",
       "</table>\n",
       "</div>"
      ],
      "text/plain": [
       "   sl_no gender  ssc_p    ssc_b  hsc_p    hsc_b     hsc_s  degree_p  \\\n",
       "0      1      M  67.00   Others  91.00   Others  Commerce     58.00   \n",
       "1      2      M  79.33  Central  78.33   Others   Science     77.48   \n",
       "2      3      M  65.00  Central  68.00  Central      Arts     64.00   \n",
       "3      4      M  56.00  Central  52.00  Central   Science     52.00   \n",
       "4      5      M  85.80  Central  73.60  Central  Commerce     73.30   \n",
       "\n",
       "    degree_t workex  etest_p specialisation      status    salary  \\\n",
       "0   Sci&Tech     No     55.0         Mkt&HR      Placed  270000.0   \n",
       "1   Sci&Tech    Yes     86.5        Mkt&Fin      Placed  200000.0   \n",
       "2  Comm&Mgmt     No     75.0        Mkt&Fin      Placed  250000.0   \n",
       "3   Sci&Tech     No     66.0         Mkt&HR  Not Placed       NaN   \n",
       "4  Comm&Mgmt     No     96.8        Mkt&Fin      Placed  425000.0   \n",
       "\n",
       "     salary_mean  salary_median  salary_mode  \n",
       "0  270000.000000       270000.0     270000.0  \n",
       "1  200000.000000       200000.0     200000.0  \n",
       "2  250000.000000       250000.0     250000.0  \n",
       "3  288655.405405       265000.0     300000.0  \n",
       "4  425000.000000       425000.0     425000.0  "
      ]
     },
     "execution_count": 10,
     "metadata": {},
     "output_type": "execute_result"
    }
   ],
   "source": [
    "df['salary_mean'] = df['salary'].fillna(df['salary'].mean())\n",
    "df['salary_median'] = df['salary'].fillna(df['salary'].median())\n",
    "df['salary_mode'] = df['salary'].fillna(df['salary'].mode()[0])\n",
    "df.head()"
   ]
  },
  {
   "cell_type": "code",
   "execution_count": 11,
   "id": "fb2b4c4f",
   "metadata": {
    "scrolled": true
   },
   "outputs": [
    {
     "name": "stderr",
     "output_type": "stream",
     "text": [
      "C:\\Users\\91939\\anaconda3\\lib\\site-packages\\seaborn\\distributions.py:2557: FutureWarning: `distplot` is a deprecated function and will be removed in a future version. Please adapt your code to use either `displot` (a figure-level function with similar flexibility) or `kdeplot` (an axes-level function for kernel density plots).\n",
      "  warnings.warn(msg, FutureWarning)\n",
      "C:\\Users\\91939\\anaconda3\\lib\\site-packages\\seaborn\\distributions.py:2557: FutureWarning: `distplot` is a deprecated function and will be removed in a future version. Please adapt your code to use either `displot` (a figure-level function with similar flexibility) or `kdeplot` (an axes-level function for kernel density plots).\n",
      "  warnings.warn(msg, FutureWarning)\n",
      "C:\\Users\\91939\\anaconda3\\lib\\site-packages\\seaborn\\distributions.py:2557: FutureWarning: `distplot` is a deprecated function and will be removed in a future version. Please adapt your code to use either `displot` (a figure-level function with similar flexibility) or `kdeplot` (an axes-level function for kernel density plots).\n",
      "  warnings.warn(msg, FutureWarning)\n",
      "C:\\Users\\91939\\anaconda3\\lib\\site-packages\\seaborn\\distributions.py:2557: FutureWarning: `distplot` is a deprecated function and will be removed in a future version. Please adapt your code to use either `displot` (a figure-level function with similar flexibility) or `kdeplot` (an axes-level function for kernel density plots).\n",
      "  warnings.warn(msg, FutureWarning)\n",
      "C:\\Users\\91939\\anaconda3\\lib\\site-packages\\seaborn\\distributions.py:2557: FutureWarning: `distplot` is a deprecated function and will be removed in a future version. Please adapt your code to use either `displot` (a figure-level function with similar flexibility) or `kdeplot` (an axes-level function for kernel density plots).\n",
      "  warnings.warn(msg, FutureWarning)\n",
      "C:\\Users\\91939\\anaconda3\\lib\\site-packages\\seaborn\\distributions.py:2557: FutureWarning: `distplot` is a deprecated function and will be removed in a future version. Please adapt your code to use either `displot` (a figure-level function with similar flexibility) or `kdeplot` (an axes-level function for kernel density plots).\n",
      "  warnings.warn(msg, FutureWarning)\n"
     ]
    },
    {
     "data": {
      "image/png": "[encoded data removed]",
      "text/plain": [
       "<Figure size 1080x504 with 1 Axes>"
      ]
     },
     "metadata": {
      "needs_background": "light"
     },
     "output_type": "display_data"
    },
    {
     "data": {
      "image/png": "[encoded data removed]",
      "text/plain": [
       "<Figure size 1080x504 with 1 Axes>"
      ]
     },
     "metadata": {
      "needs_background": "light"
     },
     "output_type": "display_data"
    },
    {
     "data": {
      "image/png": "[encoded data removed]",
      "text/plain": [
       "<Figure size 1080x504 with 1 Axes>"
      ]
     },
     "metadata": {
      "needs_background": "light"
     },
     "output_type": "display_data"
    }
   ],
   "source": [
    "sallist = ['salary_mean','salary_median','salary_mode']\n",
    "for sal in sallist:\n",
    "    plotdistplot(sal)"
   ]
  },
  {
   "cell_type": "code",
   "execution_count": 12,
   "id": "67b5c71b",
   "metadata": {},
   "outputs": [
    {
     "data": {
      "text/html": [
       "<div>\n",
       "<style scoped>\n",
       "    .dataframe tbody tr th:only-of-type {\n",
       "        vertical-align: middle;\n",
       "    }\n",
       "\n",
       "    .dataframe tbody tr th {\n",
       "        vertical-align: top;\n",
       "    }\n",
       "\n",
       "    .dataframe thead th {\n",
       "        text-align: right;\n",
       "    }\n",
       "</style>\n",
       "<table border=\"1\" class=\"dataframe\">\n",
       "  <thead>\n",
       "    <tr style=\"text-align: right;\">\n",
       "      <th></th>\n",
       "      <th>sl_no</th>\n",
       "      <th>gender</th>\n",
       "      <th>ssc_p</th>\n",
       "      <th>ssc_b</th>\n",
       "      <th>hsc_p</th>\n",
       "      <th>hsc_b</th>\n",
       "      <th>hsc_s</th>\n",
       "      <th>degree_p</th>\n",
       "      <th>degree_t</th>\n",
       "      <th>workex</th>\n",
       "      <th>etest_p</th>\n",
       "      <th>specialisation</th>\n",
       "      <th>status</th>\n",
       "      <th>salary</th>\n",
       "      <th>salary_mean</th>\n",
       "      <th>salary_median</th>\n",
       "      <th>salary_mode</th>\n",
       "    </tr>\n",
       "  </thead>\n",
       "  <tbody>\n",
       "    <tr>\n",
       "      <th>0</th>\n",
       "      <td>1</td>\n",
       "      <td>M</td>\n",
       "      <td>67.00</td>\n",
       "      <td>Others</td>\n",
       "      <td>91.00</td>\n",
       "      <td>Others</td>\n",
       "      <td>Commerce</td>\n",
       "      <td>58.00</td>\n",
       "      <td>Sci&amp;Tech</td>\n",
       "      <td>No</td>\n",
       "      <td>55.0</td>\n",
       "      <td>Mkt&amp;HR</td>\n",
       "      <td>Placed</td>\n",
       "      <td>270000.000000</td>\n",
       "      <td>270000.000000</td>\n",
       "      <td>270000.0</td>\n",
       "      <td>270000.0</td>\n",
       "    </tr>\n",
       "    <tr>\n",
       "      <th>1</th>\n",
       "      <td>2</td>\n",
       "      <td>M</td>\n",
       "      <td>79.33</td>\n",
       "      <td>Central</td>\n",
       "      <td>78.33</td>\n",
       "      <td>Others</td>\n",
       "      <td>Science</td>\n",
       "      <td>77.48</td>\n",
       "      <td>Sci&amp;Tech</td>\n",
       "      <td>Yes</td>\n",
       "      <td>86.5</td>\n",
       "      <td>Mkt&amp;Fin</td>\n",
       "      <td>Placed</td>\n",
       "      <td>200000.000000</td>\n",
       "      <td>200000.000000</td>\n",
       "      <td>200000.0</td>\n",
       "      <td>200000.0</td>\n",
       "    </tr>\n",
       "    <tr>\n",
       "      <th>2</th>\n",
       "      <td>3</td>\n",
       "      <td>M</td>\n",
       "      <td>65.00</td>\n",
       "      <td>Central</td>\n",
       "      <td>68.00</td>\n",
       "      <td>Central</td>\n",
       "      <td>Arts</td>\n",
       "      <td>64.00</td>\n",
       "      <td>Comm&amp;Mgmt</td>\n",
       "      <td>No</td>\n",
       "      <td>75.0</td>\n",
       "      <td>Mkt&amp;Fin</td>\n",
       "      <td>Placed</td>\n",
       "      <td>250000.000000</td>\n",
       "      <td>250000.000000</td>\n",
       "      <td>250000.0</td>\n",
       "      <td>250000.0</td>\n",
       "    </tr>\n",
       "    <tr>\n",
       "      <th>3</th>\n",
       "      <td>4</td>\n",
       "      <td>M</td>\n",
       "      <td>56.00</td>\n",
       "      <td>Central</td>\n",
       "      <td>52.00</td>\n",
       "      <td>Central</td>\n",
       "      <td>Science</td>\n",
       "      <td>52.00</td>\n",
       "      <td>Sci&amp;Tech</td>\n",
       "      <td>No</td>\n",
       "      <td>66.0</td>\n",
       "      <td>Mkt&amp;HR</td>\n",
       "      <td>Not Placed</td>\n",
       "      <td>288655.405405</td>\n",
       "      <td>288655.405405</td>\n",
       "      <td>265000.0</td>\n",
       "      <td>300000.0</td>\n",
       "    </tr>\n",
       "    <tr>\n",
       "      <th>4</th>\n",
       "      <td>5</td>\n",
       "      <td>M</td>\n",
       "      <td>85.80</td>\n",
       "      <td>Central</td>\n",
       "      <td>73.60</td>\n",
       "      <td>Central</td>\n",
       "      <td>Commerce</td>\n",
       "      <td>73.30</td>\n",
       "      <td>Comm&amp;Mgmt</td>\n",
       "      <td>No</td>\n",
       "      <td>96.8</td>\n",
       "      <td>Mkt&amp;Fin</td>\n",
       "      <td>Placed</td>\n",
       "      <td>425000.000000</td>\n",
       "      <td>425000.000000</td>\n",
       "      <td>425000.0</td>\n",
       "      <td>425000.0</td>\n",
       "    </tr>\n",
       "  </tbody>\n",
       "</table>\n",
       "</div>"
      ],
      "text/plain": [
       "   sl_no gender  ssc_p    ssc_b  hsc_p    hsc_b     hsc_s  degree_p  \\\n",
       "0      1      M  67.00   Others  91.00   Others  Commerce     58.00   \n",
       "1      2      M  79.33  Central  78.33   Others   Science     77.48   \n",
       "2      3      M  65.00  Central  68.00  Central      Arts     64.00   \n",
       "3      4      M  56.00  Central  52.00  Central   Science     52.00   \n",
       "4      5      M  85.80  Central  73.60  Central  Commerce     73.30   \n",
       "\n",
       "    degree_t workex  etest_p specialisation      status         salary  \\\n",
       "0   Sci&Tech     No     55.0         Mkt&HR      Placed  270000.000000   \n",
       "1   Sci&Tech    Yes     86.5        Mkt&Fin      Placed  200000.000000   \n",
       "2  Comm&Mgmt     No     75.0        Mkt&Fin      Placed  250000.000000   \n",
       "3   Sci&Tech     No     66.0         Mkt&HR  Not Placed  288655.405405   \n",
       "4  Comm&Mgmt     No     96.8        Mkt&Fin      Placed  425000.000000   \n",
       "\n",
       "     salary_mean  salary_median  salary_mode  \n",
       "0  270000.000000       270000.0     270000.0  \n",
       "1  200000.000000       200000.0     200000.0  \n",
       "2  250000.000000       250000.0     250000.0  \n",
       "3  288655.405405       265000.0     300000.0  \n",
       "4  425000.000000       425000.0     425000.0  "
      ]
     },
     "execution_count": 12,
     "metadata": {},
     "output_type": "execute_result"
    }
   ],
   "source": [
    "# filling the salary with mean\n",
    "\n",
    "df['salary'] = df['salary'].fillna(df['salary'].mean())\n",
    "df.head()"
   ]
  },
  {
   "cell_type": "code",
   "execution_count": 13,
   "id": "b67468ff",
   "metadata": {},
   "outputs": [
    {
     "data": {
      "text/plain": [
       "sl_no             0\n",
       "gender            0\n",
       "ssc_p             0\n",
       "ssc_b             0\n",
       "hsc_p             0\n",
       "hsc_b             0\n",
       "hsc_s             0\n",
       "degree_p          0\n",
       "degree_t          0\n",
       "workex            0\n",
       "etest_p           0\n",
       "specialisation    0\n",
       "status            0\n",
       "salary            0\n",
       "dtype: int64"
      ]
     },
     "execution_count": 13,
     "metadata": {},
     "output_type": "execute_result"
    }
   ],
   "source": [
    "df = df.drop(columns=['salary_mean', 'salary_median', 'salary_mode'],axis=1)\n",
    "df.isnull().sum()"
   ]
  },
  {
   "cell_type": "markdown",
   "id": "81e2e84e",
   "metadata": {},
   "source": [
    "## EDA"
   ]
  },
  {
   "cell_type": "code",
   "execution_count": 14,
   "id": "ace02cd1",
   "metadata": {},
   "outputs": [
    {
     "name": "stderr",
     "output_type": "stream",
     "text": [
      "C:\\Users\\91939\\anaconda3\\lib\\site-packages\\seaborn\\_decorators.py:36: FutureWarning: Pass the following variable as a keyword arg: x. From version 0.12, the only valid positional argument will be `data`, and passing other arguments without an explicit keyword will result in an error or misinterpretation.\n",
      "  warnings.warn(\n"
     ]
    },
    {
     "data": {
      "text/plain": [
       "<AxesSubplot:xlabel='status', ylabel='count'>"
      ]
     },
     "execution_count": 14,
     "metadata": {},
     "output_type": "execute_result"
    },
    {
     "data": {
      "image/png": "[encoded data removed]",
      "text/plain": [
       "<Figure size 432x288 with 1 Axes>"
      ]
     },
     "metadata": {
      "needs_background": "light"
     },
     "output_type": "display_data"
    }
   ],
   "source": [
    "sns.countplot(df['status'],palette='plasma')"
   ]
  },
  {
   "cell_type": "code",
   "execution_count": 15,
   "id": "6f934e89",
   "metadata": {},
   "outputs": [
    {
     "name": "stdout",
     "output_type": "stream",
     "text": [
      "Count Plot for feature gender is shown ↓\n"
     ]
    },
    {
     "name": "stderr",
     "output_type": "stream",
     "text": [
      "C:\\Users\\91939\\anaconda3\\lib\\site-packages\\seaborn\\_decorators.py:36: FutureWarning: Pass the following variable as a keyword arg: x. From version 0.12, the only valid positional argument will be `data`, and passing other arguments without an explicit keyword will result in an error or misinterpretation.\n",
      "  warnings.warn(\n"
     ]
    },
    {
     "data": {
      "image/png": "[encoded data removed]",
      "text/plain": [
       "<Figure size 432x288 with 1 Axes>"
      ]
     },
     "metadata": {
      "needs_background": "light"
     },
     "output_type": "display_data"
    },
    {
     "name": "stdout",
     "output_type": "stream",
     "text": [
      "===========================================================================\n",
      "Count Plot for feature ssc_b is shown ↓\n"
     ]
    },
    {
     "name": "stderr",
     "output_type": "stream",
     "text": [
      "C:\\Users\\91939\\anaconda3\\lib\\site-packages\\seaborn\\_decorators.py:36: FutureWarning: Pass the following variable as a keyword arg: x. From version 0.12, the only valid positional argument will be `data`, and passing other arguments without an explicit keyword will result in an error or misinterpretation.\n",
      "  warnings.warn(\n"
     ]
    },
    {
     "data": {
      "image/png": "[encoded data removed]",
      "text/plain": [
       "<Figure size 432x288 with 1 Axes>"
      ]
     },
     "metadata": {
      "needs_background": "light"
     },
     "output_type": "display_data"
    },
    {
     "name": "stdout",
     "output_type": "stream",
     "text": [
      "===========================================================================\n",
      "Count Plot for feature hsc_b is shown ↓\n"
     ]
    },
    {
     "name": "stderr",
     "output_type": "stream",
     "text": [
      "C:\\Users\\91939\\anaconda3\\lib\\site-packages\\seaborn\\_decorators.py:36: FutureWarning: Pass the following variable as a keyword arg: x. From version 0.12, the only valid positional argument will be `data`, and passing other arguments without an explicit keyword will result in an error or misinterpretation.\n",
      "  warnings.warn(\n"
     ]
    },
    {
     "data": {
      "image/png": "[encoded data removed]",
      "text/plain": [
       "<Figure size 432x288 with 1 Axes>"
      ]
     },
     "metadata": {
      "needs_background": "light"
     },
     "output_type": "display_data"
    },
    {
     "name": "stdout",
     "output_type": "stream",
     "text": [
      "===========================================================================\n",
      "Count Plot for feature hsc_s is shown ↓\n"
     ]
    },
    {
     "name": "stderr",
     "output_type": "stream",
     "text": [
      "C:\\Users\\91939\\anaconda3\\lib\\site-packages\\seaborn\\_decorators.py:36: FutureWarning: Pass the following variable as a keyword arg: x. From version 0.12, the only valid positional argument will be `data`, and passing other arguments without an explicit keyword will result in an error or misinterpretation.\n",
      "  warnings.warn(\n"
     ]
    },
    {
     "data": {
      "image/png": "[encoded data removed]",
      "text/plain": [
       "<Figure size 432x288 with 1 Axes>"
      ]
     },
     "metadata": {
      "needs_background": "light"
     },
     "output_type": "display_data"
    },
    {
     "name": "stdout",
     "output_type": "stream",
     "text": [
      "===========================================================================\n",
      "Count Plot for feature degree_t is shown ↓\n"
     ]
    },
    {
     "name": "stderr",
     "output_type": "stream",
     "text": [
      "C:\\Users\\91939\\anaconda3\\lib\\site-packages\\seaborn\\_decorators.py:36: FutureWarning: Pass the following variable as a keyword arg: x. From version 0.12, the only valid positional argument will be `data`, and passing other arguments without an explicit keyword will result in an error or misinterpretation.\n",
      "  warnings.warn(\n"
     ]
    },
    {
     "data": {
      "image/png": "[encoded data removed]",
      "text/plain": [
       "<Figure size 432x288 with 1 Axes>"
      ]
     },
     "metadata": {
      "needs_background": "light"
     },
     "output_type": "display_data"
    },
    {
     "name": "stdout",
     "output_type": "stream",
     "text": [
      "===========================================================================\n",
      "Count Plot for feature workex is shown ↓\n"
     ]
    },
    {
     "name": "stderr",
     "output_type": "stream",
     "text": [
      "C:\\Users\\91939\\anaconda3\\lib\\site-packages\\seaborn\\_decorators.py:36: FutureWarning: Pass the following variable as a keyword arg: x. From version 0.12, the only valid positional argument will be `data`, and passing other arguments without an explicit keyword will result in an error or misinterpretation.\n",
      "  warnings.warn(\n"
     ]
    },
    {
     "data": {
      "image/png": "[encoded data removed]",
      "text/plain": [
       "<Figure size 432x288 with 1 Axes>"
      ]
     },
     "metadata": {
      "needs_background": "light"
     },
     "output_type": "display_data"
    },
    {
     "name": "stdout",
     "output_type": "stream",
     "text": [
      "===========================================================================\n",
      "Count Plot for feature specialisation is shown ↓\n"
     ]
    },
    {
     "name": "stderr",
     "output_type": "stream",
     "text": [
      "C:\\Users\\91939\\anaconda3\\lib\\site-packages\\seaborn\\_decorators.py:36: FutureWarning: Pass the following variable as a keyword arg: x. From version 0.12, the only valid positional argument will be `data`, and passing other arguments without an explicit keyword will result in an error or misinterpretation.\n",
      "  warnings.warn(\n"
     ]
    },
    {
     "data": {
      "image/png": "[encoded data removed]",
      "text/plain": [
       "<Figure size 432x288 with 1 Axes>"
      ]
     },
     "metadata": {
      "needs_background": "light"
     },
     "output_type": "display_data"
    },
    {
     "name": "stdout",
     "output_type": "stream",
     "text": [
      "===========================================================================\n",
      "Count Plot for feature status is shown ↓\n"
     ]
    },
    {
     "name": "stderr",
     "output_type": "stream",
     "text": [
      "C:\\Users\\91939\\anaconda3\\lib\\site-packages\\seaborn\\_decorators.py:36: FutureWarning: Pass the following variable as a keyword arg: x. From version 0.12, the only valid positional argument will be `data`, and passing other arguments without an explicit keyword will result in an error or misinterpretation.\n",
      "  warnings.warn(\n"
     ]
    },
    {
     "data": {
      "image/png": "[encoded data removed]",
      "text/plain": [
       "<Figure size 432x288 with 1 Axes>"
      ]
     },
     "metadata": {
      "needs_background": "light"
     },
     "output_type": "display_data"
    },
    {
     "name": "stdout",
     "output_type": "stream",
     "text": [
      "===========================================================================\n"
     ]
    }
   ],
   "source": [
    "def valuecount(col):\n",
    "    \n",
    "    return dict(df[col].value_counts())\n",
    "\n",
    "def getcountplot(col):\n",
    "    \n",
    "    sns.countplot(df[col],palette='plasma')\n",
    "    plt.xticks(rotation = '45',fontweight = 'bold',fontsize = '10')\n",
    "    plt.yticks(rotation = '45',fontweight = 'bold',fontsize = '10')\n",
    "    plt.show()\n",
    "    \n",
    "\n",
    "for col in catvars:\n",
    "    print(f'Count Plot for feature {col} is shown ↓')\n",
    "    getcountplot(col)\n",
    "    print('='*75)"
   ]
  },
  {
   "cell_type": "code",
   "execution_count": 16,
   "id": "03903e41",
   "metadata": {},
   "outputs": [
    {
     "data": {
      "text/plain": [
       "{'gender': {'M': 139, 'F': 76},\n",
       " 'ssc_b': {'Central': 116, 'Others': 99},\n",
       " 'hsc_b': {'Others': 131, 'Central': 84},\n",
       " 'hsc_s': {'Commerce': 113, 'Science': 91, 'Arts': 11},\n",
       " 'degree_t': {'Comm&Mgmt': 145, 'Sci&Tech': 59, 'Others': 11},\n",
       " 'workex': {'No': 141, 'Yes': 74},\n",
       " 'specialisation': {'Mkt&Fin': 120, 'Mkt&HR': 95},\n",
       " 'status': {'Placed': 148, 'Not Placed': 67}}"
      ]
     },
     "execution_count": 16,
     "metadata": {},
     "output_type": "execute_result"
    }
   ],
   "source": [
    "getfinaldict = {}\n",
    "for col in catvars:\n",
    "    getfinaldict[col] = valuecount(col)\n",
    "    \n",
    "getfinaldict"
   ]
  },
  {
   "cell_type": "code",
   "execution_count": 17,
   "id": "e0312088",
   "metadata": {
    "scrolled": true
   },
   "outputs": [
    {
     "data": {
      "text/html": [
       "<div>\n",
       "<style scoped>\n",
       "    .dataframe tbody tr th:only-of-type {\n",
       "        vertical-align: middle;\n",
       "    }\n",
       "\n",
       "    .dataframe tbody tr th {\n",
       "        vertical-align: top;\n",
       "    }\n",
       "\n",
       "    .dataframe thead th {\n",
       "        text-align: right;\n",
       "    }\n",
       "</style>\n",
       "<table border=\"1\" class=\"dataframe\">\n",
       "  <thead>\n",
       "    <tr style=\"text-align: right;\">\n",
       "      <th></th>\n",
       "      <th>index</th>\n",
       "      <th>sl_no</th>\n",
       "      <th>gender</th>\n",
       "      <th>ssc_p</th>\n",
       "      <th>ssc_b</th>\n",
       "      <th>hsc_p</th>\n",
       "      <th>hsc_b</th>\n",
       "      <th>hsc_s</th>\n",
       "      <th>degree_p</th>\n",
       "      <th>degree_t</th>\n",
       "      <th>workex</th>\n",
       "      <th>etest_p</th>\n",
       "      <th>specialisation</th>\n",
       "      <th>status</th>\n",
       "      <th>salary</th>\n",
       "    </tr>\n",
       "  </thead>\n",
       "  <tbody>\n",
       "    <tr>\n",
       "      <th>0</th>\n",
       "      <td>150</td>\n",
       "      <td>151</td>\n",
       "      <td>M</td>\n",
       "      <td>71.00</td>\n",
       "      <td>Central</td>\n",
       "      <td>58.66</td>\n",
       "      <td>Central</td>\n",
       "      <td>Science</td>\n",
       "      <td>58.00</td>\n",
       "      <td>Sci&amp;Tech</td>\n",
       "      <td>Yes</td>\n",
       "      <td>56.0</td>\n",
       "      <td>Mkt&amp;Fin</td>\n",
       "      <td>Placed</td>\n",
       "      <td>690000.0</td>\n",
       "    </tr>\n",
       "    <tr>\n",
       "      <th>1</th>\n",
       "      <td>77</td>\n",
       "      <td>78</td>\n",
       "      <td>M</td>\n",
       "      <td>64.00</td>\n",
       "      <td>Others</td>\n",
       "      <td>80.00</td>\n",
       "      <td>Others</td>\n",
       "      <td>Science</td>\n",
       "      <td>65.00</td>\n",
       "      <td>Sci&amp;Tech</td>\n",
       "      <td>Yes</td>\n",
       "      <td>69.0</td>\n",
       "      <td>Mkt&amp;Fin</td>\n",
       "      <td>Placed</td>\n",
       "      <td>500000.0</td>\n",
       "    </tr>\n",
       "    <tr>\n",
       "      <th>2</th>\n",
       "      <td>163</td>\n",
       "      <td>164</td>\n",
       "      <td>M</td>\n",
       "      <td>63.00</td>\n",
       "      <td>Others</td>\n",
       "      <td>67.00</td>\n",
       "      <td>Others</td>\n",
       "      <td>Science</td>\n",
       "      <td>64.00</td>\n",
       "      <td>Sci&amp;Tech</td>\n",
       "      <td>No</td>\n",
       "      <td>75.0</td>\n",
       "      <td>Mkt&amp;Fin</td>\n",
       "      <td>Placed</td>\n",
       "      <td>500000.0</td>\n",
       "    </tr>\n",
       "    <tr>\n",
       "      <th>3</th>\n",
       "      <td>174</td>\n",
       "      <td>175</td>\n",
       "      <td>M</td>\n",
       "      <td>73.24</td>\n",
       "      <td>Others</td>\n",
       "      <td>50.83</td>\n",
       "      <td>Others</td>\n",
       "      <td>Science</td>\n",
       "      <td>64.27</td>\n",
       "      <td>Sci&amp;Tech</td>\n",
       "      <td>Yes</td>\n",
       "      <td>64.0</td>\n",
       "      <td>Mkt&amp;Fin</td>\n",
       "      <td>Placed</td>\n",
       "      <td>500000.0</td>\n",
       "    </tr>\n",
       "    <tr>\n",
       "      <th>4</th>\n",
       "      <td>53</td>\n",
       "      <td>54</td>\n",
       "      <td>M</td>\n",
       "      <td>80.00</td>\n",
       "      <td>Others</td>\n",
       "      <td>70.00</td>\n",
       "      <td>Others</td>\n",
       "      <td>Science</td>\n",
       "      <td>72.00</td>\n",
       "      <td>Sci&amp;Tech</td>\n",
       "      <td>No</td>\n",
       "      <td>87.0</td>\n",
       "      <td>Mkt&amp;HR</td>\n",
       "      <td>Placed</td>\n",
       "      <td>450000.0</td>\n",
       "    </tr>\n",
       "  </tbody>\n",
       "</table>\n",
       "</div>"
      ],
      "text/plain": [
       "   index  sl_no gender  ssc_p    ssc_b  hsc_p    hsc_b    hsc_s  degree_p  \\\n",
       "0    150    151      M  71.00  Central  58.66  Central  Science     58.00   \n",
       "1     77     78      M  64.00   Others  80.00   Others  Science     65.00   \n",
       "2    163    164      M  63.00   Others  67.00   Others  Science     64.00   \n",
       "3    174    175      M  73.24   Others  50.83   Others  Science     64.27   \n",
       "4     53     54      M  80.00   Others  70.00   Others  Science     72.00   \n",
       "\n",
       "   degree_t workex  etest_p specialisation  status    salary  \n",
       "0  Sci&Tech    Yes     56.0        Mkt&Fin  Placed  690000.0  \n",
       "1  Sci&Tech    Yes     69.0        Mkt&Fin  Placed  500000.0  \n",
       "2  Sci&Tech     No     75.0        Mkt&Fin  Placed  500000.0  \n",
       "3  Sci&Tech    Yes     64.0        Mkt&Fin  Placed  500000.0  \n",
       "4  Sci&Tech     No     87.0         Mkt&HR  Placed  450000.0  "
      ]
     },
     "execution_count": 17,
     "metadata": {},
     "output_type": "execute_result"
    }
   ],
   "source": [
    "# top science students placed\n",
    "\n",
    "df[(df['degree_t']=='Sci&Tech')&(df['status']=='Placed')].sort_values(by = 'salary',ascending = False).reset_index().head(5)\n",
    "    "
   ]
  },
  {
   "cell_type": "code",
   "execution_count": 18,
   "id": "9ff64669",
   "metadata": {},
   "outputs": [
    {
     "data": {
      "text/html": [
       "<div>\n",
       "<style scoped>\n",
       "    .dataframe tbody tr th:only-of-type {\n",
       "        vertical-align: middle;\n",
       "    }\n",
       "\n",
       "    .dataframe tbody tr th {\n",
       "        vertical-align: top;\n",
       "    }\n",
       "\n",
       "    .dataframe thead th {\n",
       "        text-align: right;\n",
       "    }\n",
       "</style>\n",
       "<table border=\"1\" class=\"dataframe\">\n",
       "  <thead>\n",
       "    <tr style=\"text-align: right;\">\n",
       "      <th></th>\n",
       "      <th>index</th>\n",
       "      <th>sl_no</th>\n",
       "      <th>gender</th>\n",
       "      <th>ssc_p</th>\n",
       "      <th>ssc_b</th>\n",
       "      <th>hsc_p</th>\n",
       "      <th>hsc_b</th>\n",
       "      <th>hsc_s</th>\n",
       "      <th>degree_p</th>\n",
       "      <th>degree_t</th>\n",
       "      <th>workex</th>\n",
       "      <th>etest_p</th>\n",
       "      <th>specialisation</th>\n",
       "      <th>status</th>\n",
       "      <th>salary</th>\n",
       "    </tr>\n",
       "  </thead>\n",
       "  <tbody>\n",
       "    <tr>\n",
       "      <th>0</th>\n",
       "      <td>119</td>\n",
       "      <td>120</td>\n",
       "      <td>M</td>\n",
       "      <td>60.8</td>\n",
       "      <td>Central</td>\n",
       "      <td>68.4</td>\n",
       "      <td>Central</td>\n",
       "      <td>Commerce</td>\n",
       "      <td>64.6</td>\n",
       "      <td>Comm&amp;Mgmt</td>\n",
       "      <td>Yes</td>\n",
       "      <td>82.66</td>\n",
       "      <td>Mkt&amp;Fin</td>\n",
       "      <td>Placed</td>\n",
       "      <td>940000.0</td>\n",
       "    </tr>\n",
       "    <tr>\n",
       "      <th>1</th>\n",
       "      <td>177</td>\n",
       "      <td>178</td>\n",
       "      <td>F</td>\n",
       "      <td>73.0</td>\n",
       "      <td>Central</td>\n",
       "      <td>97.0</td>\n",
       "      <td>Others</td>\n",
       "      <td>Commerce</td>\n",
       "      <td>79.0</td>\n",
       "      <td>Comm&amp;Mgmt</td>\n",
       "      <td>Yes</td>\n",
       "      <td>89.00</td>\n",
       "      <td>Mkt&amp;Fin</td>\n",
       "      <td>Placed</td>\n",
       "      <td>650000.0</td>\n",
       "    </tr>\n",
       "    <tr>\n",
       "      <th>2</th>\n",
       "      <td>4</td>\n",
       "      <td>5</td>\n",
       "      <td>M</td>\n",
       "      <td>85.8</td>\n",
       "      <td>Central</td>\n",
       "      <td>73.6</td>\n",
       "      <td>Central</td>\n",
       "      <td>Commerce</td>\n",
       "      <td>73.3</td>\n",
       "      <td>Comm&amp;Mgmt</td>\n",
       "      <td>No</td>\n",
       "      <td>96.80</td>\n",
       "      <td>Mkt&amp;Fin</td>\n",
       "      <td>Placed</td>\n",
       "      <td>425000.0</td>\n",
       "    </tr>\n",
       "    <tr>\n",
       "      <th>3</th>\n",
       "      <td>95</td>\n",
       "      <td>96</td>\n",
       "      <td>M</td>\n",
       "      <td>73.0</td>\n",
       "      <td>Central</td>\n",
       "      <td>78.0</td>\n",
       "      <td>Others</td>\n",
       "      <td>Commerce</td>\n",
       "      <td>65.0</td>\n",
       "      <td>Comm&amp;Mgmt</td>\n",
       "      <td>Yes</td>\n",
       "      <td>95.46</td>\n",
       "      <td>Mkt&amp;Fin</td>\n",
       "      <td>Placed</td>\n",
       "      <td>420000.0</td>\n",
       "    </tr>\n",
       "    <tr>\n",
       "      <th>4</th>\n",
       "      <td>210</td>\n",
       "      <td>211</td>\n",
       "      <td>M</td>\n",
       "      <td>80.6</td>\n",
       "      <td>Others</td>\n",
       "      <td>82.0</td>\n",
       "      <td>Others</td>\n",
       "      <td>Commerce</td>\n",
       "      <td>77.6</td>\n",
       "      <td>Comm&amp;Mgmt</td>\n",
       "      <td>No</td>\n",
       "      <td>91.00</td>\n",
       "      <td>Mkt&amp;Fin</td>\n",
       "      <td>Placed</td>\n",
       "      <td>400000.0</td>\n",
       "    </tr>\n",
       "  </tbody>\n",
       "</table>\n",
       "</div>"
      ],
      "text/plain": [
       "   index  sl_no gender  ssc_p    ssc_b  hsc_p    hsc_b     hsc_s  degree_p  \\\n",
       "0    119    120      M   60.8  Central   68.4  Central  Commerce      64.6   \n",
       "1    177    178      F   73.0  Central   97.0   Others  Commerce      79.0   \n",
       "2      4      5      M   85.8  Central   73.6  Central  Commerce      73.3   \n",
       "3     95     96      M   73.0  Central   78.0   Others  Commerce      65.0   \n",
       "4    210    211      M   80.6   Others   82.0   Others  Commerce      77.6   \n",
       "\n",
       "    degree_t workex  etest_p specialisation  status    salary  \n",
       "0  Comm&Mgmt    Yes    82.66        Mkt&Fin  Placed  940000.0  \n",
       "1  Comm&Mgmt    Yes    89.00        Mkt&Fin  Placed  650000.0  \n",
       "2  Comm&Mgmt     No    96.80        Mkt&Fin  Placed  425000.0  \n",
       "3  Comm&Mgmt    Yes    95.46        Mkt&Fin  Placed  420000.0  \n",
       "4  Comm&Mgmt     No    91.00        Mkt&Fin  Placed  400000.0  "
      ]
     },
     "execution_count": 18,
     "metadata": {},
     "output_type": "execute_result"
    }
   ],
   "source": [
    "# top Comm&Mgt students placed\n",
    "\n",
    "df[(df['degree_t']=='Comm&Mgmt')&(df['status']=='Placed')].sort_values(by = 'salary',ascending = False).reset_index().head(5)\n",
    " "
   ]
  },
  {
   "cell_type": "code",
   "execution_count": 19,
   "id": "23da2f87",
   "metadata": {},
   "outputs": [
    {
     "data": {
      "text/html": [
       "<div>\n",
       "<style scoped>\n",
       "    .dataframe tbody tr th:only-of-type {\n",
       "        vertical-align: middle;\n",
       "    }\n",
       "\n",
       "    .dataframe tbody tr th {\n",
       "        vertical-align: top;\n",
       "    }\n",
       "\n",
       "    .dataframe thead th {\n",
       "        text-align: right;\n",
       "    }\n",
       "</style>\n",
       "<table border=\"1\" class=\"dataframe\">\n",
       "  <thead>\n",
       "    <tr style=\"text-align: right;\">\n",
       "      <th></th>\n",
       "      <th>sl_no</th>\n",
       "      <th>gender</th>\n",
       "      <th>ssc_p</th>\n",
       "      <th>ssc_b</th>\n",
       "      <th>hsc_p</th>\n",
       "      <th>hsc_b</th>\n",
       "      <th>hsc_s</th>\n",
       "      <th>degree_p</th>\n",
       "      <th>degree_t</th>\n",
       "      <th>workex</th>\n",
       "      <th>etest_p</th>\n",
       "      <th>specialisation</th>\n",
       "      <th>status</th>\n",
       "      <th>salary</th>\n",
       "    </tr>\n",
       "  </thead>\n",
       "  <tbody>\n",
       "    <tr>\n",
       "      <th>1</th>\n",
       "      <td>2</td>\n",
       "      <td>M</td>\n",
       "      <td>79.33</td>\n",
       "      <td>Central</td>\n",
       "      <td>78.33</td>\n",
       "      <td>Others</td>\n",
       "      <td>Science</td>\n",
       "      <td>77.48</td>\n",
       "      <td>Sci&amp;Tech</td>\n",
       "      <td>Yes</td>\n",
       "      <td>86.50</td>\n",
       "      <td>Mkt&amp;Fin</td>\n",
       "      <td>Placed</td>\n",
       "      <td>200000.0</td>\n",
       "    </tr>\n",
       "    <tr>\n",
       "      <th>15</th>\n",
       "      <td>16</td>\n",
       "      <td>F</td>\n",
       "      <td>65.00</td>\n",
       "      <td>Central</td>\n",
       "      <td>75.00</td>\n",
       "      <td>Central</td>\n",
       "      <td>Commerce</td>\n",
       "      <td>69.00</td>\n",
       "      <td>Comm&amp;Mgmt</td>\n",
       "      <td>Yes</td>\n",
       "      <td>72.00</td>\n",
       "      <td>Mkt&amp;Fin</td>\n",
       "      <td>Placed</td>\n",
       "      <td>200000.0</td>\n",
       "    </tr>\n",
       "    <tr>\n",
       "      <th>44</th>\n",
       "      <td>45</td>\n",
       "      <td>F</td>\n",
       "      <td>77.00</td>\n",
       "      <td>Others</td>\n",
       "      <td>73.00</td>\n",
       "      <td>Others</td>\n",
       "      <td>Commerce</td>\n",
       "      <td>81.00</td>\n",
       "      <td>Comm&amp;Mgmt</td>\n",
       "      <td>Yes</td>\n",
       "      <td>89.00</td>\n",
       "      <td>Mkt&amp;Fin</td>\n",
       "      <td>Placed</td>\n",
       "      <td>200000.0</td>\n",
       "    </tr>\n",
       "    <tr>\n",
       "      <th>50</th>\n",
       "      <td>51</td>\n",
       "      <td>F</td>\n",
       "      <td>75.20</td>\n",
       "      <td>Central</td>\n",
       "      <td>73.20</td>\n",
       "      <td>Central</td>\n",
       "      <td>Science</td>\n",
       "      <td>68.40</td>\n",
       "      <td>Comm&amp;Mgmt</td>\n",
       "      <td>No</td>\n",
       "      <td>65.00</td>\n",
       "      <td>Mkt&amp;HR</td>\n",
       "      <td>Placed</td>\n",
       "      <td>200000.0</td>\n",
       "    </tr>\n",
       "    <tr>\n",
       "      <th>107</th>\n",
       "      <td>108</td>\n",
       "      <td>M</td>\n",
       "      <td>82.00</td>\n",
       "      <td>Others</td>\n",
       "      <td>90.00</td>\n",
       "      <td>Others</td>\n",
       "      <td>Commerce</td>\n",
       "      <td>83.00</td>\n",
       "      <td>Comm&amp;Mgmt</td>\n",
       "      <td>No</td>\n",
       "      <td>80.00</td>\n",
       "      <td>Mkt&amp;HR</td>\n",
       "      <td>Placed</td>\n",
       "      <td>200000.0</td>\n",
       "    </tr>\n",
       "    <tr>\n",
       "      <th>119</th>\n",
       "      <td>120</td>\n",
       "      <td>M</td>\n",
       "      <td>60.80</td>\n",
       "      <td>Central</td>\n",
       "      <td>68.40</td>\n",
       "      <td>Central</td>\n",
       "      <td>Commerce</td>\n",
       "      <td>64.60</td>\n",
       "      <td>Comm&amp;Mgmt</td>\n",
       "      <td>Yes</td>\n",
       "      <td>82.66</td>\n",
       "      <td>Mkt&amp;Fin</td>\n",
       "      <td>Placed</td>\n",
       "      <td>940000.0</td>\n",
       "    </tr>\n",
       "    <tr>\n",
       "      <th>135</th>\n",
       "      <td>136</td>\n",
       "      <td>F</td>\n",
       "      <td>72.00</td>\n",
       "      <td>Central</td>\n",
       "      <td>56.00</td>\n",
       "      <td>Others</td>\n",
       "      <td>Science</td>\n",
       "      <td>69.00</td>\n",
       "      <td>Comm&amp;Mgmt</td>\n",
       "      <td>No</td>\n",
       "      <td>55.60</td>\n",
       "      <td>Mkt&amp;HR</td>\n",
       "      <td>Placed</td>\n",
       "      <td>200000.0</td>\n",
       "    </tr>\n",
       "  </tbody>\n",
       "</table>\n",
       "</div>"
      ],
      "text/plain": [
       "     sl_no gender  ssc_p    ssc_b  hsc_p    hsc_b     hsc_s  degree_p  \\\n",
       "1        2      M  79.33  Central  78.33   Others   Science     77.48   \n",
       "15      16      F  65.00  Central  75.00  Central  Commerce     69.00   \n",
       "44      45      F  77.00   Others  73.00   Others  Commerce     81.00   \n",
       "50      51      F  75.20  Central  73.20  Central   Science     68.40   \n",
       "107    108      M  82.00   Others  90.00   Others  Commerce     83.00   \n",
       "119    120      M  60.80  Central  68.40  Central  Commerce     64.60   \n",
       "135    136      F  72.00  Central  56.00   Others   Science     69.00   \n",
       "\n",
       "      degree_t workex  etest_p specialisation  status    salary  \n",
       "1     Sci&Tech    Yes    86.50        Mkt&Fin  Placed  200000.0  \n",
       "15   Comm&Mgmt    Yes    72.00        Mkt&Fin  Placed  200000.0  \n",
       "44   Comm&Mgmt    Yes    89.00        Mkt&Fin  Placed  200000.0  \n",
       "50   Comm&Mgmt     No    65.00         Mkt&HR  Placed  200000.0  \n",
       "107  Comm&Mgmt     No    80.00         Mkt&HR  Placed  200000.0  \n",
       "119  Comm&Mgmt    Yes    82.66        Mkt&Fin  Placed  940000.0  \n",
       "135  Comm&Mgmt     No    55.60         Mkt&HR  Placed  200000.0  "
      ]
     },
     "execution_count": 19,
     "metadata": {},
     "output_type": "execute_result"
    }
   ],
   "source": [
    "# max and min salary\n",
    "# observation : max salary : 9,40,000 and min salary : 2,00,000\n",
    "\n",
    "df[(df['salary']==max(df['salary'])) | (df['salary']==min(df['salary']))]"
   ]
  },
  {
   "cell_type": "code",
   "execution_count": 20,
   "id": "08fa61f5",
   "metadata": {
    "scrolled": true
   },
   "outputs": [
    {
     "data": {
      "text/html": [
       "<div>\n",
       "<style scoped>\n",
       "    .dataframe tbody tr th:only-of-type {\n",
       "        vertical-align: middle;\n",
       "    }\n",
       "\n",
       "    .dataframe tbody tr th {\n",
       "        vertical-align: top;\n",
       "    }\n",
       "\n",
       "    .dataframe thead th {\n",
       "        text-align: right;\n",
       "    }\n",
       "</style>\n",
       "<table border=\"1\" class=\"dataframe\">\n",
       "  <thead>\n",
       "    <tr style=\"text-align: right;\">\n",
       "      <th></th>\n",
       "      <th>index</th>\n",
       "      <th>sl_no</th>\n",
       "      <th>gender</th>\n",
       "      <th>ssc_p</th>\n",
       "      <th>ssc_b</th>\n",
       "      <th>hsc_p</th>\n",
       "      <th>hsc_b</th>\n",
       "      <th>hsc_s</th>\n",
       "      <th>degree_p</th>\n",
       "      <th>degree_t</th>\n",
       "      <th>workex</th>\n",
       "      <th>etest_p</th>\n",
       "      <th>specialisation</th>\n",
       "      <th>status</th>\n",
       "      <th>salary</th>\n",
       "    </tr>\n",
       "  </thead>\n",
       "  <tbody>\n",
       "    <tr>\n",
       "      <th>0</th>\n",
       "      <td>150</td>\n",
       "      <td>151</td>\n",
       "      <td>M</td>\n",
       "      <td>71.00</td>\n",
       "      <td>Central</td>\n",
       "      <td>58.66</td>\n",
       "      <td>Central</td>\n",
       "      <td>Science</td>\n",
       "      <td>58.00</td>\n",
       "      <td>Sci&amp;Tech</td>\n",
       "      <td>Yes</td>\n",
       "      <td>56.00</td>\n",
       "      <td>Mkt&amp;Fin</td>\n",
       "      <td>Placed</td>\n",
       "      <td>690000.000000</td>\n",
       "    </tr>\n",
       "    <tr>\n",
       "      <th>1</th>\n",
       "      <td>77</td>\n",
       "      <td>78</td>\n",
       "      <td>M</td>\n",
       "      <td>64.00</td>\n",
       "      <td>Others</td>\n",
       "      <td>80.00</td>\n",
       "      <td>Others</td>\n",
       "      <td>Science</td>\n",
       "      <td>65.00</td>\n",
       "      <td>Sci&amp;Tech</td>\n",
       "      <td>Yes</td>\n",
       "      <td>69.00</td>\n",
       "      <td>Mkt&amp;Fin</td>\n",
       "      <td>Placed</td>\n",
       "      <td>500000.000000</td>\n",
       "    </tr>\n",
       "    <tr>\n",
       "      <th>2</th>\n",
       "      <td>174</td>\n",
       "      <td>175</td>\n",
       "      <td>M</td>\n",
       "      <td>73.24</td>\n",
       "      <td>Others</td>\n",
       "      <td>50.83</td>\n",
       "      <td>Others</td>\n",
       "      <td>Science</td>\n",
       "      <td>64.27</td>\n",
       "      <td>Sci&amp;Tech</td>\n",
       "      <td>Yes</td>\n",
       "      <td>64.00</td>\n",
       "      <td>Mkt&amp;Fin</td>\n",
       "      <td>Placed</td>\n",
       "      <td>500000.000000</td>\n",
       "    </tr>\n",
       "    <tr>\n",
       "      <th>3</th>\n",
       "      <td>163</td>\n",
       "      <td>164</td>\n",
       "      <td>M</td>\n",
       "      <td>63.00</td>\n",
       "      <td>Others</td>\n",
       "      <td>67.00</td>\n",
       "      <td>Others</td>\n",
       "      <td>Science</td>\n",
       "      <td>64.00</td>\n",
       "      <td>Sci&amp;Tech</td>\n",
       "      <td>No</td>\n",
       "      <td>75.00</td>\n",
       "      <td>Mkt&amp;Fin</td>\n",
       "      <td>Placed</td>\n",
       "      <td>500000.000000</td>\n",
       "    </tr>\n",
       "    <tr>\n",
       "      <th>4</th>\n",
       "      <td>53</td>\n",
       "      <td>54</td>\n",
       "      <td>M</td>\n",
       "      <td>80.00</td>\n",
       "      <td>Others</td>\n",
       "      <td>70.00</td>\n",
       "      <td>Others</td>\n",
       "      <td>Science</td>\n",
       "      <td>72.00</td>\n",
       "      <td>Sci&amp;Tech</td>\n",
       "      <td>No</td>\n",
       "      <td>87.00</td>\n",
       "      <td>Mkt&amp;HR</td>\n",
       "      <td>Placed</td>\n",
       "      <td>450000.000000</td>\n",
       "    </tr>\n",
       "    <tr>\n",
       "      <th>5</th>\n",
       "      <td>39</td>\n",
       "      <td>40</td>\n",
       "      <td>M</td>\n",
       "      <td>81.00</td>\n",
       "      <td>Others</td>\n",
       "      <td>68.00</td>\n",
       "      <td>Others</td>\n",
       "      <td>Science</td>\n",
       "      <td>64.00</td>\n",
       "      <td>Sci&amp;Tech</td>\n",
       "      <td>No</td>\n",
       "      <td>93.00</td>\n",
       "      <td>Mkt&amp;Fin</td>\n",
       "      <td>Placed</td>\n",
       "      <td>411000.000000</td>\n",
       "    </tr>\n",
       "    <tr>\n",
       "      <th>6</th>\n",
       "      <td>145</td>\n",
       "      <td>146</td>\n",
       "      <td>M</td>\n",
       "      <td>89.40</td>\n",
       "      <td>Others</td>\n",
       "      <td>65.66</td>\n",
       "      <td>Others</td>\n",
       "      <td>Science</td>\n",
       "      <td>71.25</td>\n",
       "      <td>Sci&amp;Tech</td>\n",
       "      <td>No</td>\n",
       "      <td>72.00</td>\n",
       "      <td>Mkt&amp;HR</td>\n",
       "      <td>Placed</td>\n",
       "      <td>400000.000000</td>\n",
       "    </tr>\n",
       "    <tr>\n",
       "      <th>7</th>\n",
       "      <td>128</td>\n",
       "      <td>129</td>\n",
       "      <td>M</td>\n",
       "      <td>80.40</td>\n",
       "      <td>Central</td>\n",
       "      <td>73.40</td>\n",
       "      <td>Central</td>\n",
       "      <td>Science</td>\n",
       "      <td>77.72</td>\n",
       "      <td>Sci&amp;Tech</td>\n",
       "      <td>Yes</td>\n",
       "      <td>81.20</td>\n",
       "      <td>Mkt&amp;HR</td>\n",
       "      <td>Placed</td>\n",
       "      <td>400000.000000</td>\n",
       "    </tr>\n",
       "    <tr>\n",
       "      <th>8</th>\n",
       "      <td>22</td>\n",
       "      <td>23</td>\n",
       "      <td>F</td>\n",
       "      <td>69.80</td>\n",
       "      <td>Others</td>\n",
       "      <td>60.80</td>\n",
       "      <td>Others</td>\n",
       "      <td>Science</td>\n",
       "      <td>72.23</td>\n",
       "      <td>Sci&amp;Tech</td>\n",
       "      <td>No</td>\n",
       "      <td>55.53</td>\n",
       "      <td>Mkt&amp;HR</td>\n",
       "      <td>Placed</td>\n",
       "      <td>360000.000000</td>\n",
       "    </tr>\n",
       "    <tr>\n",
       "      <th>9</th>\n",
       "      <td>24</td>\n",
       "      <td>25</td>\n",
       "      <td>M</td>\n",
       "      <td>76.50</td>\n",
       "      <td>Others</td>\n",
       "      <td>97.70</td>\n",
       "      <td>Others</td>\n",
       "      <td>Science</td>\n",
       "      <td>78.86</td>\n",
       "      <td>Sci&amp;Tech</td>\n",
       "      <td>No</td>\n",
       "      <td>97.40</td>\n",
       "      <td>Mkt&amp;Fin</td>\n",
       "      <td>Placed</td>\n",
       "      <td>360000.000000</td>\n",
       "    </tr>\n",
       "    <tr>\n",
       "      <th>10</th>\n",
       "      <td>70</td>\n",
       "      <td>71</td>\n",
       "      <td>M</td>\n",
       "      <td>82.00</td>\n",
       "      <td>Others</td>\n",
       "      <td>61.00</td>\n",
       "      <td>Others</td>\n",
       "      <td>Science</td>\n",
       "      <td>62.00</td>\n",
       "      <td>Sci&amp;Tech</td>\n",
       "      <td>No</td>\n",
       "      <td>89.00</td>\n",
       "      <td>Mkt&amp;Fin</td>\n",
       "      <td>Placed</td>\n",
       "      <td>360000.000000</td>\n",
       "    </tr>\n",
       "    <tr>\n",
       "      <th>11</th>\n",
       "      <td>178</td>\n",
       "      <td>179</td>\n",
       "      <td>M</td>\n",
       "      <td>68.00</td>\n",
       "      <td>Others</td>\n",
       "      <td>56.00</td>\n",
       "      <td>Others</td>\n",
       "      <td>Science</td>\n",
       "      <td>68.00</td>\n",
       "      <td>Sci&amp;Tech</td>\n",
       "      <td>No</td>\n",
       "      <td>73.00</td>\n",
       "      <td>Mkt&amp;HR</td>\n",
       "      <td>Placed</td>\n",
       "      <td>350000.000000</td>\n",
       "    </tr>\n",
       "    <tr>\n",
       "      <th>12</th>\n",
       "      <td>153</td>\n",
       "      <td>154</td>\n",
       "      <td>M</td>\n",
       "      <td>49.00</td>\n",
       "      <td>Others</td>\n",
       "      <td>59.00</td>\n",
       "      <td>Others</td>\n",
       "      <td>Science</td>\n",
       "      <td>65.00</td>\n",
       "      <td>Sci&amp;Tech</td>\n",
       "      <td>Yes</td>\n",
       "      <td>86.00</td>\n",
       "      <td>Mkt&amp;Fin</td>\n",
       "      <td>Placed</td>\n",
       "      <td>340000.000000</td>\n",
       "    </tr>\n",
       "    <tr>\n",
       "      <th>13</th>\n",
       "      <td>37</td>\n",
       "      <td>38</td>\n",
       "      <td>F</td>\n",
       "      <td>79.00</td>\n",
       "      <td>Central</td>\n",
       "      <td>76.00</td>\n",
       "      <td>Central</td>\n",
       "      <td>Science</td>\n",
       "      <td>65.60</td>\n",
       "      <td>Sci&amp;Tech</td>\n",
       "      <td>No</td>\n",
       "      <td>58.00</td>\n",
       "      <td>Mkt&amp;HR</td>\n",
       "      <td>Placed</td>\n",
       "      <td>320000.000000</td>\n",
       "    </tr>\n",
       "    <tr>\n",
       "      <th>14</th>\n",
       "      <td>83</td>\n",
       "      <td>84</td>\n",
       "      <td>M</td>\n",
       "      <td>84.00</td>\n",
       "      <td>Others</td>\n",
       "      <td>79.00</td>\n",
       "      <td>Others</td>\n",
       "      <td>Science</td>\n",
       "      <td>68.00</td>\n",
       "      <td>Sci&amp;Tech</td>\n",
       "      <td>Yes</td>\n",
       "      <td>84.00</td>\n",
       "      <td>Mkt&amp;Fin</td>\n",
       "      <td>Placed</td>\n",
       "      <td>300000.000000</td>\n",
       "    </tr>\n",
       "    <tr>\n",
       "      <th>15</th>\n",
       "      <td>84</td>\n",
       "      <td>85</td>\n",
       "      <td>M</td>\n",
       "      <td>70.00</td>\n",
       "      <td>Central</td>\n",
       "      <td>63.00</td>\n",
       "      <td>Others</td>\n",
       "      <td>Science</td>\n",
       "      <td>70.00</td>\n",
       "      <td>Sci&amp;Tech</td>\n",
       "      <td>Yes</td>\n",
       "      <td>55.00</td>\n",
       "      <td>Mkt&amp;Fin</td>\n",
       "      <td>Placed</td>\n",
       "      <td>300000.000000</td>\n",
       "    </tr>\n",
       "    <tr>\n",
       "      <th>16</th>\n",
       "      <td>160</td>\n",
       "      <td>161</td>\n",
       "      <td>M</td>\n",
       "      <td>87.00</td>\n",
       "      <td>Central</td>\n",
       "      <td>74.00</td>\n",
       "      <td>Central</td>\n",
       "      <td>Science</td>\n",
       "      <td>65.00</td>\n",
       "      <td>Sci&amp;Tech</td>\n",
       "      <td>Yes</td>\n",
       "      <td>75.00</td>\n",
       "      <td>Mkt&amp;HR</td>\n",
       "      <td>Placed</td>\n",
       "      <td>300000.000000</td>\n",
       "    </tr>\n",
       "    <tr>\n",
       "      <th>17</th>\n",
       "      <td>23</td>\n",
       "      <td>24</td>\n",
       "      <td>F</td>\n",
       "      <td>77.40</td>\n",
       "      <td>Others</td>\n",
       "      <td>60.00</td>\n",
       "      <td>Others</td>\n",
       "      <td>Science</td>\n",
       "      <td>64.74</td>\n",
       "      <td>Sci&amp;Tech</td>\n",
       "      <td>Yes</td>\n",
       "      <td>92.00</td>\n",
       "      <td>Mkt&amp;Fin</td>\n",
       "      <td>Placed</td>\n",
       "      <td>300000.000000</td>\n",
       "    </tr>\n",
       "    <tr>\n",
       "      <th>18</th>\n",
       "      <td>158</td>\n",
       "      <td>159</td>\n",
       "      <td>M</td>\n",
       "      <td>67.00</td>\n",
       "      <td>Others</td>\n",
       "      <td>63.00</td>\n",
       "      <td>Others</td>\n",
       "      <td>Science</td>\n",
       "      <td>64.00</td>\n",
       "      <td>Sci&amp;Tech</td>\n",
       "      <td>No</td>\n",
       "      <td>60.00</td>\n",
       "      <td>Mkt&amp;Fin</td>\n",
       "      <td>Not Placed</td>\n",
       "      <td>288655.405405</td>\n",
       "    </tr>\n",
       "    <tr>\n",
       "      <th>19</th>\n",
       "      <td>173</td>\n",
       "      <td>174</td>\n",
       "      <td>F</td>\n",
       "      <td>52.00</td>\n",
       "      <td>Others</td>\n",
       "      <td>52.00</td>\n",
       "      <td>Others</td>\n",
       "      <td>Science</td>\n",
       "      <td>55.00</td>\n",
       "      <td>Sci&amp;Tech</td>\n",
       "      <td>No</td>\n",
       "      <td>67.00</td>\n",
       "      <td>Mkt&amp;HR</td>\n",
       "      <td>Not Placed</td>\n",
       "      <td>288655.405405</td>\n",
       "    </tr>\n",
       "    <tr>\n",
       "      <th>20</th>\n",
       "      <td>169</td>\n",
       "      <td>170</td>\n",
       "      <td>M</td>\n",
       "      <td>59.96</td>\n",
       "      <td>Others</td>\n",
       "      <td>42.16</td>\n",
       "      <td>Others</td>\n",
       "      <td>Science</td>\n",
       "      <td>61.26</td>\n",
       "      <td>Sci&amp;Tech</td>\n",
       "      <td>No</td>\n",
       "      <td>54.48</td>\n",
       "      <td>Mkt&amp;HR</td>\n",
       "      <td>Not Placed</td>\n",
       "      <td>288655.405405</td>\n",
       "    </tr>\n",
       "    <tr>\n",
       "      <th>21</th>\n",
       "      <td>167</td>\n",
       "      <td>168</td>\n",
       "      <td>M</td>\n",
       "      <td>67.90</td>\n",
       "      <td>Others</td>\n",
       "      <td>62.00</td>\n",
       "      <td>Others</td>\n",
       "      <td>Science</td>\n",
       "      <td>67.00</td>\n",
       "      <td>Sci&amp;Tech</td>\n",
       "      <td>Yes</td>\n",
       "      <td>58.10</td>\n",
       "      <td>Mkt&amp;Fin</td>\n",
       "      <td>Not Placed</td>\n",
       "      <td>288655.405405</td>\n",
       "    </tr>\n",
       "    <tr>\n",
       "      <th>22</th>\n",
       "      <td>175</td>\n",
       "      <td>176</td>\n",
       "      <td>M</td>\n",
       "      <td>63.00</td>\n",
       "      <td>Others</td>\n",
       "      <td>62.00</td>\n",
       "      <td>Others</td>\n",
       "      <td>Science</td>\n",
       "      <td>65.00</td>\n",
       "      <td>Sci&amp;Tech</td>\n",
       "      <td>No</td>\n",
       "      <td>87.50</td>\n",
       "      <td>Mkt&amp;HR</td>\n",
       "      <td>Not Placed</td>\n",
       "      <td>288655.405405</td>\n",
       "    </tr>\n",
       "    <tr>\n",
       "      <th>23</th>\n",
       "      <td>179</td>\n",
       "      <td>180</td>\n",
       "      <td>F</td>\n",
       "      <td>77.80</td>\n",
       "      <td>Central</td>\n",
       "      <td>64.00</td>\n",
       "      <td>Central</td>\n",
       "      <td>Science</td>\n",
       "      <td>64.20</td>\n",
       "      <td>Sci&amp;Tech</td>\n",
       "      <td>No</td>\n",
       "      <td>75.50</td>\n",
       "      <td>Mkt&amp;HR</td>\n",
       "      <td>Not Placed</td>\n",
       "      <td>288655.405405</td>\n",
       "    </tr>\n",
       "    <tr>\n",
       "      <th>24</th>\n",
       "      <td>3</td>\n",
       "      <td>4</td>\n",
       "      <td>M</td>\n",
       "      <td>56.00</td>\n",
       "      <td>Central</td>\n",
       "      <td>52.00</td>\n",
       "      <td>Central</td>\n",
       "      <td>Science</td>\n",
       "      <td>52.00</td>\n",
       "      <td>Sci&amp;Tech</td>\n",
       "      <td>No</td>\n",
       "      <td>66.00</td>\n",
       "      <td>Mkt&amp;HR</td>\n",
       "      <td>Not Placed</td>\n",
       "      <td>288655.405405</td>\n",
       "    </tr>\n",
       "    <tr>\n",
       "      <th>25</th>\n",
       "      <td>106</td>\n",
       "      <td>107</td>\n",
       "      <td>M</td>\n",
       "      <td>61.08</td>\n",
       "      <td>Others</td>\n",
       "      <td>50.00</td>\n",
       "      <td>Others</td>\n",
       "      <td>Science</td>\n",
       "      <td>54.00</td>\n",
       "      <td>Sci&amp;Tech</td>\n",
       "      <td>No</td>\n",
       "      <td>71.00</td>\n",
       "      <td>Mkt&amp;Fin</td>\n",
       "      <td>Not Placed</td>\n",
       "      <td>288655.405405</td>\n",
       "    </tr>\n",
       "    <tr>\n",
       "      <th>26</th>\n",
       "      <td>111</td>\n",
       "      <td>112</td>\n",
       "      <td>M</td>\n",
       "      <td>51.00</td>\n",
       "      <td>Others</td>\n",
       "      <td>54.00</td>\n",
       "      <td>Others</td>\n",
       "      <td>Science</td>\n",
       "      <td>61.00</td>\n",
       "      <td>Sci&amp;Tech</td>\n",
       "      <td>No</td>\n",
       "      <td>60.00</td>\n",
       "      <td>Mkt&amp;HR</td>\n",
       "      <td>Not Placed</td>\n",
       "      <td>288655.405405</td>\n",
       "    </tr>\n",
       "    <tr>\n",
       "      <th>27</th>\n",
       "      <td>109</td>\n",
       "      <td>110</td>\n",
       "      <td>M</td>\n",
       "      <td>52.00</td>\n",
       "      <td>Central</td>\n",
       "      <td>63.00</td>\n",
       "      <td>Others</td>\n",
       "      <td>Science</td>\n",
       "      <td>65.00</td>\n",
       "      <td>Sci&amp;Tech</td>\n",
       "      <td>Yes</td>\n",
       "      <td>86.00</td>\n",
       "      <td>Mkt&amp;HR</td>\n",
       "      <td>Not Placed</td>\n",
       "      <td>288655.405405</td>\n",
       "    </tr>\n",
       "    <tr>\n",
       "      <th>28</th>\n",
       "      <td>5</td>\n",
       "      <td>6</td>\n",
       "      <td>M</td>\n",
       "      <td>55.00</td>\n",
       "      <td>Others</td>\n",
       "      <td>49.80</td>\n",
       "      <td>Others</td>\n",
       "      <td>Science</td>\n",
       "      <td>67.25</td>\n",
       "      <td>Sci&amp;Tech</td>\n",
       "      <td>Yes</td>\n",
       "      <td>55.00</td>\n",
       "      <td>Mkt&amp;Fin</td>\n",
       "      <td>Not Placed</td>\n",
       "      <td>288655.405405</td>\n",
       "    </tr>\n",
       "    <tr>\n",
       "      <th>29</th>\n",
       "      <td>105</td>\n",
       "      <td>106</td>\n",
       "      <td>M</td>\n",
       "      <td>59.00</td>\n",
       "      <td>Central</td>\n",
       "      <td>64.00</td>\n",
       "      <td>Others</td>\n",
       "      <td>Science</td>\n",
       "      <td>58.00</td>\n",
       "      <td>Sci&amp;Tech</td>\n",
       "      <td>No</td>\n",
       "      <td>85.00</td>\n",
       "      <td>Mkt&amp;HR</td>\n",
       "      <td>Not Placed</td>\n",
       "      <td>288655.405405</td>\n",
       "    </tr>\n",
       "    <tr>\n",
       "      <th>30</th>\n",
       "      <td>99</td>\n",
       "      <td>100</td>\n",
       "      <td>M</td>\n",
       "      <td>54.00</td>\n",
       "      <td>Central</td>\n",
       "      <td>82.00</td>\n",
       "      <td>Others</td>\n",
       "      <td>Commerce</td>\n",
       "      <td>63.00</td>\n",
       "      <td>Sci&amp;Tech</td>\n",
       "      <td>No</td>\n",
       "      <td>50.00</td>\n",
       "      <td>Mkt&amp;Fin</td>\n",
       "      <td>Not Placed</td>\n",
       "      <td>288655.405405</td>\n",
       "    </tr>\n",
       "    <tr>\n",
       "      <th>31</th>\n",
       "      <td>79</td>\n",
       "      <td>80</td>\n",
       "      <td>F</td>\n",
       "      <td>69.00</td>\n",
       "      <td>Central</td>\n",
       "      <td>62.00</td>\n",
       "      <td>Central</td>\n",
       "      <td>Science</td>\n",
       "      <td>66.00</td>\n",
       "      <td>Sci&amp;Tech</td>\n",
       "      <td>No</td>\n",
       "      <td>75.00</td>\n",
       "      <td>Mkt&amp;HR</td>\n",
       "      <td>Not Placed</td>\n",
       "      <td>288655.405405</td>\n",
       "    </tr>\n",
       "    <tr>\n",
       "      <th>32</th>\n",
       "      <td>68</td>\n",
       "      <td>69</td>\n",
       "      <td>F</td>\n",
       "      <td>69.70</td>\n",
       "      <td>Central</td>\n",
       "      <td>47.00</td>\n",
       "      <td>Central</td>\n",
       "      <td>Commerce</td>\n",
       "      <td>72.70</td>\n",
       "      <td>Sci&amp;Tech</td>\n",
       "      <td>No</td>\n",
       "      <td>79.00</td>\n",
       "      <td>Mkt&amp;HR</td>\n",
       "      <td>Not Placed</td>\n",
       "      <td>288655.405405</td>\n",
       "    </tr>\n",
       "    <tr>\n",
       "      <th>33</th>\n",
       "      <td>45</td>\n",
       "      <td>46</td>\n",
       "      <td>F</td>\n",
       "      <td>76.00</td>\n",
       "      <td>Central</td>\n",
       "      <td>64.00</td>\n",
       "      <td>Central</td>\n",
       "      <td>Science</td>\n",
       "      <td>72.00</td>\n",
       "      <td>Sci&amp;Tech</td>\n",
       "      <td>No</td>\n",
       "      <td>58.00</td>\n",
       "      <td>Mkt&amp;HR</td>\n",
       "      <td>Not Placed</td>\n",
       "      <td>288655.405405</td>\n",
       "    </tr>\n",
       "    <tr>\n",
       "      <th>34</th>\n",
       "      <td>31</td>\n",
       "      <td>32</td>\n",
       "      <td>F</td>\n",
       "      <td>67.00</td>\n",
       "      <td>Central</td>\n",
       "      <td>53.00</td>\n",
       "      <td>Central</td>\n",
       "      <td>Science</td>\n",
       "      <td>65.00</td>\n",
       "      <td>Sci&amp;Tech</td>\n",
       "      <td>No</td>\n",
       "      <td>64.00</td>\n",
       "      <td>Mkt&amp;HR</td>\n",
       "      <td>Not Placed</td>\n",
       "      <td>288655.405405</td>\n",
       "    </tr>\n",
       "    <tr>\n",
       "      <th>35</th>\n",
       "      <td>181</td>\n",
       "      <td>182</td>\n",
       "      <td>M</td>\n",
       "      <td>62.00</td>\n",
       "      <td>Central</td>\n",
       "      <td>60.33</td>\n",
       "      <td>Others</td>\n",
       "      <td>Science</td>\n",
       "      <td>64.21</td>\n",
       "      <td>Sci&amp;Tech</td>\n",
       "      <td>No</td>\n",
       "      <td>63.00</td>\n",
       "      <td>Mkt&amp;HR</td>\n",
       "      <td>Not Placed</td>\n",
       "      <td>288655.405405</td>\n",
       "    </tr>\n",
       "  </tbody>\n",
       "</table>\n",
       "</div>"
      ],
      "text/plain": [
       "    index  sl_no gender  ssc_p    ssc_b  hsc_p    hsc_b     hsc_s  degree_p  \\\n",
       "0     150    151      M  71.00  Central  58.66  Central   Science     58.00   \n",
       "1      77     78      M  64.00   Others  80.00   Others   Science     65.00   \n",
       "2     174    175      M  73.24   Others  50.83   Others   Science     64.27   \n",
       "3     163    164      M  63.00   Others  67.00   Others   Science     64.00   \n",
       "4      53     54      M  80.00   Others  70.00   Others   Science     72.00   \n",
       "5      39     40      M  81.00   Others  68.00   Others   Science     64.00   \n",
       "6     145    146      M  89.40   Others  65.66   Others   Science     71.25   \n",
       "7     128    129      M  80.40  Central  73.40  Central   Science     77.72   \n",
       "8      22     23      F  69.80   Others  60.80   Others   Science     72.23   \n",
       "9      24     25      M  76.50   Others  97.70   Others   Science     78.86   \n",
       "10     70     71      M  82.00   Others  61.00   Others   Science     62.00   \n",
       "11    178    179      M  68.00   Others  56.00   Others   Science     68.00   \n",
       "12    153    154      M  49.00   Others  59.00   Others   Science     65.00   \n",
       "13     37     38      F  79.00  Central  76.00  Central   Science     65.60   \n",
       "14     83     84      M  84.00   Others  79.00   Others   Science     68.00   \n",
       "15     84     85      M  70.00  Central  63.00   Others   Science     70.00   \n",
       "16    160    161      M  87.00  Central  74.00  Central   Science     65.00   \n",
       "17     23     24      F  77.40   Others  60.00   Others   Science     64.74   \n",
       "18    158    159      M  67.00   Others  63.00   Others   Science     64.00   \n",
       "19    173    174      F  52.00   Others  52.00   Others   Science     55.00   \n",
       "20    169    170      M  59.96   Others  42.16   Others   Science     61.26   \n",
       "21    167    168      M  67.90   Others  62.00   Others   Science     67.00   \n",
       "22    175    176      M  63.00   Others  62.00   Others   Science     65.00   \n",
       "23    179    180      F  77.80  Central  64.00  Central   Science     64.20   \n",
       "24      3      4      M  56.00  Central  52.00  Central   Science     52.00   \n",
       "25    106    107      M  61.08   Others  50.00   Others   Science     54.00   \n",
       "26    111    112      M  51.00   Others  54.00   Others   Science     61.00   \n",
       "27    109    110      M  52.00  Central  63.00   Others   Science     65.00   \n",
       "28      5      6      M  55.00   Others  49.80   Others   Science     67.25   \n",
       "29    105    106      M  59.00  Central  64.00   Others   Science     58.00   \n",
       "30     99    100      M  54.00  Central  82.00   Others  Commerce     63.00   \n",
       "31     79     80      F  69.00  Central  62.00  Central   Science     66.00   \n",
       "32     68     69      F  69.70  Central  47.00  Central  Commerce     72.70   \n",
       "33     45     46      F  76.00  Central  64.00  Central   Science     72.00   \n",
       "34     31     32      F  67.00  Central  53.00  Central   Science     65.00   \n",
       "35    181    182      M  62.00  Central  60.33   Others   Science     64.21   \n",
       "\n",
       "    degree_t workex  etest_p specialisation      status         salary  \n",
       "0   Sci&Tech    Yes    56.00        Mkt&Fin      Placed  690000.000000  \n",
       "1   Sci&Tech    Yes    69.00        Mkt&Fin      Placed  500000.000000  \n",
       "2   Sci&Tech    Yes    64.00        Mkt&Fin      Placed  500000.000000  \n",
       "3   Sci&Tech     No    75.00        Mkt&Fin      Placed  500000.000000  \n",
       "4   Sci&Tech     No    87.00         Mkt&HR      Placed  450000.000000  \n",
       "5   Sci&Tech     No    93.00        Mkt&Fin      Placed  411000.000000  \n",
       "6   Sci&Tech     No    72.00         Mkt&HR      Placed  400000.000000  \n",
       "7   Sci&Tech    Yes    81.20         Mkt&HR      Placed  400000.000000  \n",
       "8   Sci&Tech     No    55.53         Mkt&HR      Placed  360000.000000  \n",
       "9   Sci&Tech     No    97.40        Mkt&Fin      Placed  360000.000000  \n",
       "10  Sci&Tech     No    89.00        Mkt&Fin      Placed  360000.000000  \n",
       "11  Sci&Tech     No    73.00         Mkt&HR      Placed  350000.000000  \n",
       "12  Sci&Tech    Yes    86.00        Mkt&Fin      Placed  340000.000000  \n",
       "13  Sci&Tech     No    58.00         Mkt&HR      Placed  320000.000000  \n",
       "14  Sci&Tech    Yes    84.00        Mkt&Fin      Placed  300000.000000  \n",
       "15  Sci&Tech    Yes    55.00        Mkt&Fin      Placed  300000.000000  \n",
       "16  Sci&Tech    Yes    75.00         Mkt&HR      Placed  300000.000000  \n",
       "17  Sci&Tech    Yes    92.00        Mkt&Fin      Placed  300000.000000  \n",
       "18  Sci&Tech     No    60.00        Mkt&Fin  Not Placed  288655.405405  \n",
       "19  Sci&Tech     No    67.00         Mkt&HR  Not Placed  288655.405405  \n",
       "20  Sci&Tech     No    54.48         Mkt&HR  Not Placed  288655.405405  \n",
       "21  Sci&Tech    Yes    58.10        Mkt&Fin  Not Placed  288655.405405  \n",
       "22  Sci&Tech     No    87.50         Mkt&HR  Not Placed  288655.405405  \n",
       "23  Sci&Tech     No    75.50         Mkt&HR  Not Placed  288655.405405  \n",
       "24  Sci&Tech     No    66.00         Mkt&HR  Not Placed  288655.405405  \n",
       "25  Sci&Tech     No    71.00        Mkt&Fin  Not Placed  288655.405405  \n",
       "26  Sci&Tech     No    60.00         Mkt&HR  Not Placed  288655.405405  \n",
       "27  Sci&Tech    Yes    86.00         Mkt&HR  Not Placed  288655.405405  \n",
       "28  Sci&Tech    Yes    55.00        Mkt&Fin  Not Placed  288655.405405  \n",
       "29  Sci&Tech     No    85.00         Mkt&HR  Not Placed  288655.405405  \n",
       "30  Sci&Tech     No    50.00        Mkt&Fin  Not Placed  288655.405405  \n",
       "31  Sci&Tech     No    75.00         Mkt&HR  Not Placed  288655.405405  \n",
       "32  Sci&Tech     No    79.00         Mkt&HR  Not Placed  288655.405405  \n",
       "33  Sci&Tech     No    58.00         Mkt&HR  Not Placed  288655.405405  \n",
       "34  Sci&Tech     No    64.00         Mkt&HR  Not Placed  288655.405405  \n",
       "35  Sci&Tech     No    63.00         Mkt&HR  Not Placed  288655.405405  "
      ]
     },
     "execution_count": 20,
     "metadata": {},
     "output_type": "execute_result"
    }
   ],
   "source": [
    "# students with salary more than avg salary science dept\n",
    "\n",
    "df[(df['degree_t']=='Sci&Tech')&(df['salary']>df['salary'].mean())].sort_values(by = 'salary',ascending = False).reset_index()"
   ]
  },
  {
   "cell_type": "code",
   "execution_count": 21,
   "id": "a6e1f713",
   "metadata": {
    "scrolled": true
   },
   "outputs": [
    {
     "data": {
      "text/html": [
       "<div>\n",
       "<style scoped>\n",
       "    .dataframe tbody tr th:only-of-type {\n",
       "        vertical-align: middle;\n",
       "    }\n",
       "\n",
       "    .dataframe tbody tr th {\n",
       "        vertical-align: top;\n",
       "    }\n",
       "\n",
       "    .dataframe thead th {\n",
       "        text-align: right;\n",
       "    }\n",
       "</style>\n",
       "<table border=\"1\" class=\"dataframe\">\n",
       "  <thead>\n",
       "    <tr style=\"text-align: right;\">\n",
       "      <th></th>\n",
       "      <th>index</th>\n",
       "      <th>sl_no</th>\n",
       "      <th>gender</th>\n",
       "      <th>ssc_p</th>\n",
       "      <th>ssc_b</th>\n",
       "      <th>hsc_p</th>\n",
       "      <th>hsc_b</th>\n",
       "      <th>hsc_s</th>\n",
       "      <th>degree_p</th>\n",
       "      <th>degree_t</th>\n",
       "      <th>workex</th>\n",
       "      <th>etest_p</th>\n",
       "      <th>specialisation</th>\n",
       "      <th>status</th>\n",
       "      <th>salary</th>\n",
       "    </tr>\n",
       "  </thead>\n",
       "  <tbody>\n",
       "    <tr>\n",
       "      <th>0</th>\n",
       "      <td>119</td>\n",
       "      <td>120</td>\n",
       "      <td>M</td>\n",
       "      <td>60.8</td>\n",
       "      <td>Central</td>\n",
       "      <td>68.4</td>\n",
       "      <td>Central</td>\n",
       "      <td>Commerce</td>\n",
       "      <td>64.6</td>\n",
       "      <td>Comm&amp;Mgmt</td>\n",
       "      <td>Yes</td>\n",
       "      <td>82.66</td>\n",
       "      <td>Mkt&amp;Fin</td>\n",
       "      <td>Placed</td>\n",
       "      <td>940000.000000</td>\n",
       "    </tr>\n",
       "    <tr>\n",
       "      <th>1</th>\n",
       "      <td>177</td>\n",
       "      <td>178</td>\n",
       "      <td>F</td>\n",
       "      <td>73.0</td>\n",
       "      <td>Central</td>\n",
       "      <td>97.0</td>\n",
       "      <td>Others</td>\n",
       "      <td>Commerce</td>\n",
       "      <td>79.0</td>\n",
       "      <td>Comm&amp;Mgmt</td>\n",
       "      <td>Yes</td>\n",
       "      <td>89.00</td>\n",
       "      <td>Mkt&amp;Fin</td>\n",
       "      <td>Placed</td>\n",
       "      <td>650000.000000</td>\n",
       "    </tr>\n",
       "    <tr>\n",
       "      <th>2</th>\n",
       "      <td>4</td>\n",
       "      <td>5</td>\n",
       "      <td>M</td>\n",
       "      <td>85.8</td>\n",
       "      <td>Central</td>\n",
       "      <td>73.6</td>\n",
       "      <td>Central</td>\n",
       "      <td>Commerce</td>\n",
       "      <td>73.3</td>\n",
       "      <td>Comm&amp;Mgmt</td>\n",
       "      <td>No</td>\n",
       "      <td>96.80</td>\n",
       "      <td>Mkt&amp;Fin</td>\n",
       "      <td>Placed</td>\n",
       "      <td>425000.000000</td>\n",
       "    </tr>\n",
       "    <tr>\n",
       "      <th>3</th>\n",
       "      <td>95</td>\n",
       "      <td>96</td>\n",
       "      <td>M</td>\n",
       "      <td>73.0</td>\n",
       "      <td>Central</td>\n",
       "      <td>78.0</td>\n",
       "      <td>Others</td>\n",
       "      <td>Commerce</td>\n",
       "      <td>65.0</td>\n",
       "      <td>Comm&amp;Mgmt</td>\n",
       "      <td>Yes</td>\n",
       "      <td>95.46</td>\n",
       "      <td>Mkt&amp;Fin</td>\n",
       "      <td>Placed</td>\n",
       "      <td>420000.000000</td>\n",
       "    </tr>\n",
       "    <tr>\n",
       "      <th>4</th>\n",
       "      <td>210</td>\n",
       "      <td>211</td>\n",
       "      <td>M</td>\n",
       "      <td>80.6</td>\n",
       "      <td>Others</td>\n",
       "      <td>82.0</td>\n",
       "      <td>Others</td>\n",
       "      <td>Commerce</td>\n",
       "      <td>77.6</td>\n",
       "      <td>Comm&amp;Mgmt</td>\n",
       "      <td>No</td>\n",
       "      <td>91.00</td>\n",
       "      <td>Mkt&amp;Fin</td>\n",
       "      <td>Placed</td>\n",
       "      <td>400000.000000</td>\n",
       "    </tr>\n",
       "    <tr>\n",
       "      <th>...</th>\n",
       "      <td>...</td>\n",
       "      <td>...</td>\n",
       "      <td>...</td>\n",
       "      <td>...</td>\n",
       "      <td>...</td>\n",
       "      <td>...</td>\n",
       "      <td>...</td>\n",
       "      <td>...</td>\n",
       "      <td>...</td>\n",
       "      <td>...</td>\n",
       "      <td>...</td>\n",
       "      <td>...</td>\n",
       "      <td>...</td>\n",
       "      <td>...</td>\n",
       "      <td>...</td>\n",
       "    </tr>\n",
       "    <tr>\n",
       "      <th>70</th>\n",
       "      <td>120</td>\n",
       "      <td>121</td>\n",
       "      <td>M</td>\n",
       "      <td>58.0</td>\n",
       "      <td>Others</td>\n",
       "      <td>40.0</td>\n",
       "      <td>Others</td>\n",
       "      <td>Science</td>\n",
       "      <td>59.0</td>\n",
       "      <td>Comm&amp;Mgmt</td>\n",
       "      <td>No</td>\n",
       "      <td>73.00</td>\n",
       "      <td>Mkt&amp;HR</td>\n",
       "      <td>Not Placed</td>\n",
       "      <td>288655.405405</td>\n",
       "    </tr>\n",
       "    <tr>\n",
       "      <th>71</th>\n",
       "      <td>29</td>\n",
       "      <td>30</td>\n",
       "      <td>M</td>\n",
       "      <td>62.0</td>\n",
       "      <td>Central</td>\n",
       "      <td>67.0</td>\n",
       "      <td>Central</td>\n",
       "      <td>Commerce</td>\n",
       "      <td>58.0</td>\n",
       "      <td>Comm&amp;Mgmt</td>\n",
       "      <td>No</td>\n",
       "      <td>77.00</td>\n",
       "      <td>Mkt&amp;Fin</td>\n",
       "      <td>Not Placed</td>\n",
       "      <td>288655.405405</td>\n",
       "    </tr>\n",
       "    <tr>\n",
       "      <th>72</th>\n",
       "      <td>36</td>\n",
       "      <td>37</td>\n",
       "      <td>M</td>\n",
       "      <td>51.0</td>\n",
       "      <td>Central</td>\n",
       "      <td>44.0</td>\n",
       "      <td>Central</td>\n",
       "      <td>Commerce</td>\n",
       "      <td>57.0</td>\n",
       "      <td>Comm&amp;Mgmt</td>\n",
       "      <td>No</td>\n",
       "      <td>64.00</td>\n",
       "      <td>Mkt&amp;Fin</td>\n",
       "      <td>Not Placed</td>\n",
       "      <td>288655.405405</td>\n",
       "    </tr>\n",
       "    <tr>\n",
       "      <th>73</th>\n",
       "      <td>136</td>\n",
       "      <td>137</td>\n",
       "      <td>F</td>\n",
       "      <td>47.0</td>\n",
       "      <td>Central</td>\n",
       "      <td>59.0</td>\n",
       "      <td>Central</td>\n",
       "      <td>Arts</td>\n",
       "      <td>64.0</td>\n",
       "      <td>Comm&amp;Mgmt</td>\n",
       "      <td>No</td>\n",
       "      <td>78.00</td>\n",
       "      <td>Mkt&amp;Fin</td>\n",
       "      <td>Not Placed</td>\n",
       "      <td>288655.405405</td>\n",
       "    </tr>\n",
       "    <tr>\n",
       "      <th>74</th>\n",
       "      <td>214</td>\n",
       "      <td>215</td>\n",
       "      <td>M</td>\n",
       "      <td>62.0</td>\n",
       "      <td>Central</td>\n",
       "      <td>58.0</td>\n",
       "      <td>Others</td>\n",
       "      <td>Science</td>\n",
       "      <td>53.0</td>\n",
       "      <td>Comm&amp;Mgmt</td>\n",
       "      <td>No</td>\n",
       "      <td>89.00</td>\n",
       "      <td>Mkt&amp;HR</td>\n",
       "      <td>Not Placed</td>\n",
       "      <td>288655.405405</td>\n",
       "    </tr>\n",
       "  </tbody>\n",
       "</table>\n",
       "<p>75 rows × 15 columns</p>\n",
       "</div>"
      ],
      "text/plain": [
       "    index  sl_no gender  ssc_p    ssc_b  hsc_p    hsc_b     hsc_s  degree_p  \\\n",
       "0     119    120      M   60.8  Central   68.4  Central  Commerce      64.6   \n",
       "1     177    178      F   73.0  Central   97.0   Others  Commerce      79.0   \n",
       "2       4      5      M   85.8  Central   73.6  Central  Commerce      73.3   \n",
       "3      95     96      M   73.0  Central   78.0   Others  Commerce      65.0   \n",
       "4     210    211      M   80.6   Others   82.0   Others  Commerce      77.6   \n",
       "..    ...    ...    ...    ...      ...    ...      ...       ...       ...   \n",
       "70    120    121      M   58.0   Others   40.0   Others   Science      59.0   \n",
       "71     29     30      M   62.0  Central   67.0  Central  Commerce      58.0   \n",
       "72     36     37      M   51.0  Central   44.0  Central  Commerce      57.0   \n",
       "73    136    137      F   47.0  Central   59.0  Central      Arts      64.0   \n",
       "74    214    215      M   62.0  Central   58.0   Others   Science      53.0   \n",
       "\n",
       "     degree_t workex  etest_p specialisation      status         salary  \n",
       "0   Comm&Mgmt    Yes    82.66        Mkt&Fin      Placed  940000.000000  \n",
       "1   Comm&Mgmt    Yes    89.00        Mkt&Fin      Placed  650000.000000  \n",
       "2   Comm&Mgmt     No    96.80        Mkt&Fin      Placed  425000.000000  \n",
       "3   Comm&Mgmt    Yes    95.46        Mkt&Fin      Placed  420000.000000  \n",
       "4   Comm&Mgmt     No    91.00        Mkt&Fin      Placed  400000.000000  \n",
       "..        ...    ...      ...            ...         ...            ...  \n",
       "70  Comm&Mgmt     No    73.00         Mkt&HR  Not Placed  288655.405405  \n",
       "71  Comm&Mgmt     No    77.00        Mkt&Fin  Not Placed  288655.405405  \n",
       "72  Comm&Mgmt     No    64.00        Mkt&Fin  Not Placed  288655.405405  \n",
       "73  Comm&Mgmt     No    78.00        Mkt&Fin  Not Placed  288655.405405  \n",
       "74  Comm&Mgmt     No    89.00         Mkt&HR  Not Placed  288655.405405  \n",
       "\n",
       "[75 rows x 15 columns]"
      ]
     },
     "execution_count": 21,
     "metadata": {},
     "output_type": "execute_result"
    }
   ],
   "source": [
    "# students with salary more than avg salary Comm&Mgmt dept\n",
    "\n",
    "df[(df['degree_t']=='Comm&Mgmt')&(df['salary']>df['salary'].mean())].sort_values(by = 'salary',ascending = False).reset_index()"
   ]
  },
  {
   "cell_type": "code",
   "execution_count": 22,
   "id": "056786cc",
   "metadata": {},
   "outputs": [
    {
     "data": {
      "text/plain": [
       "<AxesSubplot:xlabel='degree_t'>"
      ]
     },
     "execution_count": 22,
     "metadata": {},
     "output_type": "execute_result"
    },
    {
     "data": {
      "image/png": "[encoded data removed]",
      "text/plain": [
       "<Figure size 432x288 with 1 Axes>"
      ]
     },
     "metadata": {
      "needs_background": "light"
     },
     "output_type": "display_data"
    }
   ],
   "source": [
    "# maximum students placed are from comm&mgt\n",
    "\n",
    "df.groupby(['degree_t'])['status'].count().plot(kind = 'bar',color = 'magenta')"
   ]
  },
  {
   "cell_type": "code",
   "execution_count": 23,
   "id": "a9460ccb",
   "metadata": {},
   "outputs": [
    {
     "data": {
      "text/plain": [
       "<AxesSubplot:xlabel='specialisation'>"
      ]
     },
     "execution_count": 23,
     "metadata": {},
     "output_type": "execute_result"
    },
    {
     "data": {
      "image/png": "[encoded data removed]",
      "text/plain": [
       "<Figure size 432x288 with 1 Axes>"
      ]
     },
     "metadata": {
      "needs_background": "light"
     },
     "output_type": "display_data"
    }
   ],
   "source": [
    "# Marketing and Finance specialisation are placed more\n",
    "\n",
    "df.groupby(['specialisation'])['status'].count().plot(kind = 'bar',color = 'magenta')"
   ]
  },
  {
   "cell_type": "code",
   "execution_count": 24,
   "id": "38a6447d",
   "metadata": {},
   "outputs": [
    {
     "data": {
      "text/plain": [
       "<AxesSubplot:ylabel='status'>"
      ]
     },
     "execution_count": 24,
     "metadata": {},
     "output_type": "execute_result"
    },
    {
     "data": {
      "image/png": "[encoded data removed]",
      "text/plain": [
       "<Figure size 432x288 with 1 Axes>"
      ]
     },
     "metadata": {},
     "output_type": "display_data"
    }
   ],
   "source": [
    "# females placed 35% and males 65%\n",
    "\n",
    "df.groupby(['gender'])['status'].count().plot(kind = 'pie',autopct='%1.0f%%')"
   ]
  },
  {
   "cell_type": "code",
   "execution_count": 25,
   "id": "486d1475",
   "metadata": {},
   "outputs": [
    {
     "data": {
      "text/html": [
       "<style  type=\"text/css\" >\n",
       "#T_1888d_row0_col0,#T_1888d_row0_col2,#T_1888d_row0_col4,#T_1888d_row0_col7,#T_1888d_row0_col10,#T_1888d_row0_col13{\n",
       "            background-color:  #0d0887;\n",
       "            color:  #f1f1f1;\n",
       "        }</style><table id=\"T_1888d_\" ><thead>    <tr>        <th class=\"blank level0\" ></th>        <th class=\"col_heading level0 col0\" >sl_no</th>        <th class=\"col_heading level0 col1\" >gender</th>        <th class=\"col_heading level0 col2\" >ssc_p</th>        <th class=\"col_heading level0 col3\" >ssc_b</th>        <th class=\"col_heading level0 col4\" >hsc_p</th>        <th class=\"col_heading level0 col5\" >hsc_b</th>        <th class=\"col_heading level0 col6\" >hsc_s</th>        <th class=\"col_heading level0 col7\" >degree_p</th>        <th class=\"col_heading level0 col8\" >degree_t</th>        <th class=\"col_heading level0 col9\" >workex</th>        <th class=\"col_heading level0 col10\" >etest_p</th>        <th class=\"col_heading level0 col11\" >specialisation</th>        <th class=\"col_heading level0 col12\" >status</th>        <th class=\"col_heading level0 col13\" >salary</th>    </tr></thead><tbody>\n",
       "                <tr>\n",
       "                        <th id=\"T_1888d_level0_row0\" class=\"row_heading level0 row0\" >177</th>\n",
       "                        <td id=\"T_1888d_row0_col0\" class=\"data row0 col0\" >178</td>\n",
       "                        <td id=\"T_1888d_row0_col1\" class=\"data row0 col1\" >F</td>\n",
       "                        <td id=\"T_1888d_row0_col2\" class=\"data row0 col2\" >73.000000</td>\n",
       "                        <td id=\"T_1888d_row0_col3\" class=\"data row0 col3\" >Central</td>\n",
       "                        <td id=\"T_1888d_row0_col4\" class=\"data row0 col4\" >97.000000</td>\n",
       "                        <td id=\"T_1888d_row0_col5\" class=\"data row0 col5\" >Others</td>\n",
       "                        <td id=\"T_1888d_row0_col6\" class=\"data row0 col6\" >Commerce</td>\n",
       "                        <td id=\"T_1888d_row0_col7\" class=\"data row0 col7\" >79.000000</td>\n",
       "                        <td id=\"T_1888d_row0_col8\" class=\"data row0 col8\" >Comm&Mgmt</td>\n",
       "                        <td id=\"T_1888d_row0_col9\" class=\"data row0 col9\" >Yes</td>\n",
       "                        <td id=\"T_1888d_row0_col10\" class=\"data row0 col10\" >89.000000</td>\n",
       "                        <td id=\"T_1888d_row0_col11\" class=\"data row0 col11\" >Mkt&Fin</td>\n",
       "                        <td id=\"T_1888d_row0_col12\" class=\"data row0 col12\" >Placed</td>\n",
       "                        <td id=\"T_1888d_row0_col13\" class=\"data row0 col13\" >650000.000000</td>\n",
       "            </tr>\n",
       "    </tbody></table>"
      ],
      "text/plain": [
       "<pandas.io.formats.style.Styler at 0x198081ab2b0>"
      ]
     },
     "execution_count": 25,
     "metadata": {},
     "output_type": "execute_result"
    }
   ],
   "source": [
    "# max female salary ~ 6,50,000\n",
    "\n",
    "temp = df[df['gender']=='F']\n",
    "temp[temp['salary']==max(temp['salary'])].style.background_gradient(cmap = 'plasma')"
   ]
  },
  {
   "cell_type": "code",
   "execution_count": 26,
   "id": "93aa0662",
   "metadata": {},
   "outputs": [
    {
     "data": {
      "text/plain": [
       "<AxesSubplot:ylabel='status'>"
      ]
     },
     "execution_count": 26,
     "metadata": {},
     "output_type": "execute_result"
    },
    {
     "data": {
      "image/png": "[encoded data removed]",
      "text/plain": [
       "<Figure size 1080x504 with 1 Axes>"
      ]
     },
     "metadata": {},
     "output_type": "display_data"
    }
   ],
   "source": [
    "df.groupby(['hsc_s'])['status'].count().plot(kind = 'pie',autopct='%1.0f%%',figsize=(15,7))"
   ]
  },
  {
   "cell_type": "code",
   "execution_count": 27,
   "id": "dbb990d3",
   "metadata": {},
   "outputs": [
    {
     "data": {
      "text/html": [
       "<div>\n",
       "<style scoped>\n",
       "    .dataframe tbody tr th:only-of-type {\n",
       "        vertical-align: middle;\n",
       "    }\n",
       "\n",
       "    .dataframe tbody tr th {\n",
       "        vertical-align: top;\n",
       "    }\n",
       "\n",
       "    .dataframe thead th {\n",
       "        text-align: right;\n",
       "    }\n",
       "</style>\n",
       "<table border=\"1\" class=\"dataframe\">\n",
       "  <thead>\n",
       "    <tr style=\"text-align: right;\">\n",
       "      <th></th>\n",
       "      <th>sl_no</th>\n",
       "      <th>gender</th>\n",
       "      <th>ssc_p</th>\n",
       "      <th>ssc_b</th>\n",
       "      <th>hsc_p</th>\n",
       "      <th>hsc_b</th>\n",
       "      <th>hsc_s</th>\n",
       "      <th>degree_p</th>\n",
       "      <th>degree_t</th>\n",
       "      <th>workex</th>\n",
       "      <th>etest_p</th>\n",
       "      <th>specialisation</th>\n",
       "      <th>status</th>\n",
       "      <th>salary</th>\n",
       "    </tr>\n",
       "  </thead>\n",
       "  <tbody>\n",
       "    <tr>\n",
       "      <th>0</th>\n",
       "      <td>1</td>\n",
       "      <td>M</td>\n",
       "      <td>67.00</td>\n",
       "      <td>Others</td>\n",
       "      <td>91.00</td>\n",
       "      <td>Others</td>\n",
       "      <td>Commerce</td>\n",
       "      <td>58.00</td>\n",
       "      <td>Sci&amp;Tech</td>\n",
       "      <td>No</td>\n",
       "      <td>55.0</td>\n",
       "      <td>Mkt&amp;HR</td>\n",
       "      <td>Placed</td>\n",
       "      <td>270000.000000</td>\n",
       "    </tr>\n",
       "    <tr>\n",
       "      <th>1</th>\n",
       "      <td>2</td>\n",
       "      <td>M</td>\n",
       "      <td>79.33</td>\n",
       "      <td>Central</td>\n",
       "      <td>78.33</td>\n",
       "      <td>Others</td>\n",
       "      <td>Science</td>\n",
       "      <td>77.48</td>\n",
       "      <td>Sci&amp;Tech</td>\n",
       "      <td>Yes</td>\n",
       "      <td>86.5</td>\n",
       "      <td>Mkt&amp;Fin</td>\n",
       "      <td>Placed</td>\n",
       "      <td>200000.000000</td>\n",
       "    </tr>\n",
       "    <tr>\n",
       "      <th>2</th>\n",
       "      <td>3</td>\n",
       "      <td>M</td>\n",
       "      <td>65.00</td>\n",
       "      <td>Central</td>\n",
       "      <td>68.00</td>\n",
       "      <td>Central</td>\n",
       "      <td>Arts</td>\n",
       "      <td>64.00</td>\n",
       "      <td>Comm&amp;Mgmt</td>\n",
       "      <td>No</td>\n",
       "      <td>75.0</td>\n",
       "      <td>Mkt&amp;Fin</td>\n",
       "      <td>Placed</td>\n",
       "      <td>250000.000000</td>\n",
       "    </tr>\n",
       "    <tr>\n",
       "      <th>3</th>\n",
       "      <td>4</td>\n",
       "      <td>M</td>\n",
       "      <td>56.00</td>\n",
       "      <td>Central</td>\n",
       "      <td>52.00</td>\n",
       "      <td>Central</td>\n",
       "      <td>Science</td>\n",
       "      <td>52.00</td>\n",
       "      <td>Sci&amp;Tech</td>\n",
       "      <td>No</td>\n",
       "      <td>66.0</td>\n",
       "      <td>Mkt&amp;HR</td>\n",
       "      <td>Not Placed</td>\n",
       "      <td>288655.405405</td>\n",
       "    </tr>\n",
       "    <tr>\n",
       "      <th>4</th>\n",
       "      <td>5</td>\n",
       "      <td>M</td>\n",
       "      <td>85.80</td>\n",
       "      <td>Central</td>\n",
       "      <td>73.60</td>\n",
       "      <td>Central</td>\n",
       "      <td>Commerce</td>\n",
       "      <td>73.30</td>\n",
       "      <td>Comm&amp;Mgmt</td>\n",
       "      <td>No</td>\n",
       "      <td>96.8</td>\n",
       "      <td>Mkt&amp;Fin</td>\n",
       "      <td>Placed</td>\n",
       "      <td>425000.000000</td>\n",
       "    </tr>\n",
       "  </tbody>\n",
       "</table>\n",
       "</div>"
      ],
      "text/plain": [
       "   sl_no gender  ssc_p    ssc_b  hsc_p    hsc_b     hsc_s  degree_p  \\\n",
       "0      1      M  67.00   Others  91.00   Others  Commerce     58.00   \n",
       "1      2      M  79.33  Central  78.33   Others   Science     77.48   \n",
       "2      3      M  65.00  Central  68.00  Central      Arts     64.00   \n",
       "3      4      M  56.00  Central  52.00  Central   Science     52.00   \n",
       "4      5      M  85.80  Central  73.60  Central  Commerce     73.30   \n",
       "\n",
       "    degree_t workex  etest_p specialisation      status         salary  \n",
       "0   Sci&Tech     No     55.0         Mkt&HR      Placed  270000.000000  \n",
       "1   Sci&Tech    Yes     86.5        Mkt&Fin      Placed  200000.000000  \n",
       "2  Comm&Mgmt     No     75.0        Mkt&Fin      Placed  250000.000000  \n",
       "3   Sci&Tech     No     66.0         Mkt&HR  Not Placed  288655.405405  \n",
       "4  Comm&Mgmt     No     96.8        Mkt&Fin      Placed  425000.000000  "
      ]
     },
     "execution_count": 27,
     "metadata": {},
     "output_type": "execute_result"
    }
   ],
   "source": [
    "df.head()"
   ]
  },
  {
   "cell_type": "code",
   "execution_count": 28,
   "id": "3ce3a231",
   "metadata": {},
   "outputs": [
    {
     "data": {
      "text/plain": [
       "{'gender': {'M': 139, 'F': 76},\n",
       " 'ssc_b': {'Central': 116, 'Others': 99},\n",
       " 'hsc_b': {'Others': 131, 'Central': 84},\n",
       " 'hsc_s': {'Commerce': 113, 'Science': 91, 'Arts': 11},\n",
       " 'degree_t': {'Comm&Mgmt': 145, 'Sci&Tech': 59, 'Others': 11},\n",
       " 'workex': {'No': 141, 'Yes': 74},\n",
       " 'specialisation': {'Mkt&Fin': 120, 'Mkt&HR': 95},\n",
       " 'status': {'Placed': 148, 'Not Placed': 67}}"
      ]
     },
     "execution_count": 28,
     "metadata": {},
     "output_type": "execute_result"
    }
   ],
   "source": [
    "getfinaldict"
   ]
  },
  {
   "cell_type": "code",
   "execution_count": 29,
   "id": "403c884c",
   "metadata": {},
   "outputs": [
    {
     "data": {
      "text/plain": [
       "(2, 3)"
      ]
     },
     "execution_count": 29,
     "metadata": {},
     "output_type": "execute_result"
    }
   ],
   "source": [
    "len(getfinaldict['status']),len(getfinaldict['degree_t'])"
   ]
  },
  {
   "cell_type": "code",
   "execution_count": 30,
   "id": "5b3a1ea2",
   "metadata": {},
   "outputs": [
    {
     "name": "stdout",
     "output_type": "stream",
     "text": [
      "['gender', 'ssc_b', 'hsc_b', 'workex', 'specialisation', 'status'] ['hsc_s', 'degree_t']\n"
     ]
    }
   ],
   "source": [
    "boolcols = [key for key,value in getfinaldict.items() if len(getfinaldict[key])==2]\n",
    "tripcols = [key for key in list(getfinaldict.keys()) if key not in boolcols]\n",
    "\n",
    "print(boolcols,tripcols)"
   ]
  },
  {
   "cell_type": "markdown",
   "id": "0677b89c",
   "metadata": {},
   "source": [
    "## Label Encoding process"
   ]
  },
  {
   "cell_type": "code",
   "execution_count": 31,
   "id": "46809739",
   "metadata": {},
   "outputs": [
    {
     "data": {
      "text/html": [
       "<div>\n",
       "<style scoped>\n",
       "    .dataframe tbody tr th:only-of-type {\n",
       "        vertical-align: middle;\n",
       "    }\n",
       "\n",
       "    .dataframe tbody tr th {\n",
       "        vertical-align: top;\n",
       "    }\n",
       "\n",
       "    .dataframe thead th {\n",
       "        text-align: right;\n",
       "    }\n",
       "</style>\n",
       "<table border=\"1\" class=\"dataframe\">\n",
       "  <thead>\n",
       "    <tr style=\"text-align: right;\">\n",
       "      <th></th>\n",
       "      <th>sl_no</th>\n",
       "      <th>gender</th>\n",
       "      <th>ssc_p</th>\n",
       "      <th>ssc_b</th>\n",
       "      <th>hsc_p</th>\n",
       "      <th>hsc_b</th>\n",
       "      <th>hsc_s</th>\n",
       "      <th>degree_p</th>\n",
       "      <th>degree_t</th>\n",
       "      <th>workex</th>\n",
       "      <th>etest_p</th>\n",
       "      <th>specialisation</th>\n",
       "      <th>status</th>\n",
       "      <th>salary</th>\n",
       "    </tr>\n",
       "  </thead>\n",
       "  <tbody>\n",
       "    <tr>\n",
       "      <th>0</th>\n",
       "      <td>1</td>\n",
       "      <td>1</td>\n",
       "      <td>67.00</td>\n",
       "      <td>1</td>\n",
       "      <td>91.00</td>\n",
       "      <td>1</td>\n",
       "      <td>1</td>\n",
       "      <td>58.00</td>\n",
       "      <td>2</td>\n",
       "      <td>0</td>\n",
       "      <td>55.0</td>\n",
       "      <td>1</td>\n",
       "      <td>1</td>\n",
       "      <td>270000.000000</td>\n",
       "    </tr>\n",
       "    <tr>\n",
       "      <th>1</th>\n",
       "      <td>2</td>\n",
       "      <td>1</td>\n",
       "      <td>79.33</td>\n",
       "      <td>0</td>\n",
       "      <td>78.33</td>\n",
       "      <td>1</td>\n",
       "      <td>2</td>\n",
       "      <td>77.48</td>\n",
       "      <td>2</td>\n",
       "      <td>1</td>\n",
       "      <td>86.5</td>\n",
       "      <td>0</td>\n",
       "      <td>1</td>\n",
       "      <td>200000.000000</td>\n",
       "    </tr>\n",
       "    <tr>\n",
       "      <th>2</th>\n",
       "      <td>3</td>\n",
       "      <td>1</td>\n",
       "      <td>65.00</td>\n",
       "      <td>0</td>\n",
       "      <td>68.00</td>\n",
       "      <td>0</td>\n",
       "      <td>0</td>\n",
       "      <td>64.00</td>\n",
       "      <td>0</td>\n",
       "      <td>0</td>\n",
       "      <td>75.0</td>\n",
       "      <td>0</td>\n",
       "      <td>1</td>\n",
       "      <td>250000.000000</td>\n",
       "    </tr>\n",
       "    <tr>\n",
       "      <th>3</th>\n",
       "      <td>4</td>\n",
       "      <td>1</td>\n",
       "      <td>56.00</td>\n",
       "      <td>0</td>\n",
       "      <td>52.00</td>\n",
       "      <td>0</td>\n",
       "      <td>2</td>\n",
       "      <td>52.00</td>\n",
       "      <td>2</td>\n",
       "      <td>0</td>\n",
       "      <td>66.0</td>\n",
       "      <td>1</td>\n",
       "      <td>0</td>\n",
       "      <td>288655.405405</td>\n",
       "    </tr>\n",
       "    <tr>\n",
       "      <th>4</th>\n",
       "      <td>5</td>\n",
       "      <td>1</td>\n",
       "      <td>85.80</td>\n",
       "      <td>0</td>\n",
       "      <td>73.60</td>\n",
       "      <td>0</td>\n",
       "      <td>1</td>\n",
       "      <td>73.30</td>\n",
       "      <td>0</td>\n",
       "      <td>0</td>\n",
       "      <td>96.8</td>\n",
       "      <td>0</td>\n",
       "      <td>1</td>\n",
       "      <td>425000.000000</td>\n",
       "    </tr>\n",
       "  </tbody>\n",
       "</table>\n",
       "</div>"
      ],
      "text/plain": [
       "   sl_no  gender  ssc_p  ssc_b  hsc_p  hsc_b  hsc_s  degree_p  degree_t  \\\n",
       "0      1       1  67.00      1  91.00      1      1     58.00         2   \n",
       "1      2       1  79.33      0  78.33      1      2     77.48         2   \n",
       "2      3       1  65.00      0  68.00      0      0     64.00         0   \n",
       "3      4       1  56.00      0  52.00      0      2     52.00         2   \n",
       "4      5       1  85.80      0  73.60      0      1     73.30         0   \n",
       "\n",
       "   workex  etest_p  specialisation  status         salary  \n",
       "0       0     55.0               1       1  270000.000000  \n",
       "1       1     86.5               0       1  200000.000000  \n",
       "2       0     75.0               0       1  250000.000000  \n",
       "3       0     66.0               1       0  288655.405405  \n",
       "4       0     96.8               0       1  425000.000000  "
      ]
     },
     "execution_count": 31,
     "metadata": {},
     "output_type": "execute_result"
    }
   ],
   "source": [
    "def labelencode(le,col):\n",
    "    \n",
    "    df[col] = le.fit_transform(df[col])\n",
    "    \n",
    "    \n",
    "getmappings = {}\n",
    "from sklearn.preprocessing import LabelEncoder\n",
    "le = LabelEncoder()\n",
    "for col in list(getfinaldict.keys()):\n",
    "    labelencode(le,col)\n",
    "    getmappings[col] = dict(zip(le.classes_,le.transform(le.classes_)))\n",
    "    \n",
    "\n",
    "df.head()\n"
   ]
  },
  {
   "cell_type": "code",
   "execution_count": 32,
   "id": "50031634",
   "metadata": {},
   "outputs": [
    {
     "data": {
      "text/plain": [
       "{'gender': {'F': 0, 'M': 1},\n",
       " 'ssc_b': {'Central': 0, 'Others': 1},\n",
       " 'hsc_b': {'Central': 0, 'Others': 1},\n",
       " 'hsc_s': {'Arts': 0, 'Commerce': 1, 'Science': 2},\n",
       " 'degree_t': {'Comm&Mgmt': 0, 'Others': 1, 'Sci&Tech': 2},\n",
       " 'workex': {'No': 0, 'Yes': 1},\n",
       " 'specialisation': {'Mkt&Fin': 0, 'Mkt&HR': 1},\n",
       " 'status': {'Not Placed': 0, 'Placed': 1}}"
      ]
     },
     "execution_count": 32,
     "metadata": {},
     "output_type": "execute_result"
    }
   ],
   "source": [
    "# this was the internal mapping structure followed by label encoder for mapping\n",
    "\n",
    "getmappings"
   ]
  },
  {
   "cell_type": "code",
   "execution_count": 33,
   "id": "01b54656",
   "metadata": {},
   "outputs": [
    {
     "data": {
      "text/html": [
       "<div>\n",
       "<style scoped>\n",
       "    .dataframe tbody tr th:only-of-type {\n",
       "        vertical-align: middle;\n",
       "    }\n",
       "\n",
       "    .dataframe tbody tr th {\n",
       "        vertical-align: top;\n",
       "    }\n",
       "\n",
       "    .dataframe thead th {\n",
       "        text-align: right;\n",
       "    }\n",
       "</style>\n",
       "<table border=\"1\" class=\"dataframe\">\n",
       "  <thead>\n",
       "    <tr style=\"text-align: right;\">\n",
       "      <th></th>\n",
       "      <th>gender</th>\n",
       "      <th>ssc_p</th>\n",
       "      <th>ssc_b</th>\n",
       "      <th>hsc_p</th>\n",
       "      <th>hsc_b</th>\n",
       "      <th>hsc_s</th>\n",
       "      <th>degree_p</th>\n",
       "      <th>degree_t</th>\n",
       "      <th>workex</th>\n",
       "      <th>etest_p</th>\n",
       "      <th>specialisation</th>\n",
       "      <th>status</th>\n",
       "      <th>salary</th>\n",
       "    </tr>\n",
       "  </thead>\n",
       "  <tbody>\n",
       "    <tr>\n",
       "      <th>0</th>\n",
       "      <td>1</td>\n",
       "      <td>67.00</td>\n",
       "      <td>1</td>\n",
       "      <td>91.00</td>\n",
       "      <td>1</td>\n",
       "      <td>1</td>\n",
       "      <td>58.00</td>\n",
       "      <td>2</td>\n",
       "      <td>0</td>\n",
       "      <td>55.0</td>\n",
       "      <td>1</td>\n",
       "      <td>1</td>\n",
       "      <td>270000.0</td>\n",
       "    </tr>\n",
       "    <tr>\n",
       "      <th>1</th>\n",
       "      <td>1</td>\n",
       "      <td>79.33</td>\n",
       "      <td>0</td>\n",
       "      <td>78.33</td>\n",
       "      <td>1</td>\n",
       "      <td>2</td>\n",
       "      <td>77.48</td>\n",
       "      <td>2</td>\n",
       "      <td>1</td>\n",
       "      <td>86.5</td>\n",
       "      <td>0</td>\n",
       "      <td>1</td>\n",
       "      <td>200000.0</td>\n",
       "    </tr>\n",
       "  </tbody>\n",
       "</table>\n",
       "</div>"
      ],
      "text/plain": [
       "   gender  ssc_p  ssc_b  hsc_p  hsc_b  hsc_s  degree_p  degree_t  workex  \\\n",
       "0       1  67.00      1  91.00      1      1     58.00         2       0   \n",
       "1       1  79.33      0  78.33      1      2     77.48         2       1   \n",
       "\n",
       "   etest_p  specialisation  status    salary  \n",
       "0     55.0               1       1  270000.0  \n",
       "1     86.5               0       1  200000.0  "
      ]
     },
     "execution_count": 33,
     "metadata": {},
     "output_type": "execute_result"
    }
   ],
   "source": [
    "# removing unwated columns\n",
    "\n",
    "df = df.drop(['sl_no'],axis=1)\n",
    "df.head(2)"
   ]
  },
  {
   "cell_type": "markdown",
   "id": "c3771a22",
   "metadata": {},
   "source": [
    "## Numerical Columns EDA"
   ]
  },
  {
   "cell_type": "code",
   "execution_count": 34,
   "id": "2e98d3ae",
   "metadata": {},
   "outputs": [
    {
     "data": {
      "text/plain": [
       "['ssc_p', 'hsc_p', 'degree_p', 'etest_p', 'salary']"
      ]
     },
     "execution_count": 34,
     "metadata": {},
     "output_type": "execute_result"
    }
   ],
   "source": [
    "numvars[1:]"
   ]
  },
  {
   "cell_type": "code",
   "execution_count": 35,
   "id": "eb3430c6",
   "metadata": {
    "scrolled": true
   },
   "outputs": [
    {
     "name": "stdout",
     "output_type": "stream",
     "text": [
      "Distribution plots for col : ssc_p are shown ↓\n"
     ]
    },
    {
     "name": "stderr",
     "output_type": "stream",
     "text": [
      "C:\\Users\\91939\\anaconda3\\lib\\site-packages\\seaborn\\_decorators.py:36: FutureWarning: Pass the following variable as a keyword arg: x. From version 0.12, the only valid positional argument will be `data`, and passing other arguments without an explicit keyword will result in an error or misinterpretation.\n",
      "  warnings.warn(\n"
     ]
    },
    {
     "data": {
      "image/png": "[encoded data removed]",
      "text/plain": [
       "<Figure size 1080x504 with 3 Axes>"
      ]
     },
     "metadata": {
      "needs_background": "light"
     },
     "output_type": "display_data"
    },
    {
     "name": "stdout",
     "output_type": "stream",
     "text": [
      "==========\n",
      "Distribution plots for col : hsc_p are shown ↓\n"
     ]
    },
    {
     "name": "stderr",
     "output_type": "stream",
     "text": [
      "C:\\Users\\91939\\anaconda3\\lib\\site-packages\\seaborn\\_decorators.py:36: FutureWarning: Pass the following variable as a keyword arg: x. From version 0.12, the only valid positional argument will be `data`, and passing other arguments without an explicit keyword will result in an error or misinterpretation.\n",
      "  warnings.warn(\n"
     ]
    },
    {
     "data": {
      "image/png": "[encoded data removed]",
      "text/plain": [
       "<Figure size 1080x504 with 3 Axes>"
      ]
     },
     "metadata": {
      "needs_background": "light"
     },
     "output_type": "display_data"
    },
    {
     "name": "stdout",
     "output_type": "stream",
     "text": [
      "==========\n",
      "Distribution plots for col : degree_p are shown ↓\n"
     ]
    },
    {
     "name": "stderr",
     "output_type": "stream",
     "text": [
      "C:\\Users\\91939\\anaconda3\\lib\\site-packages\\seaborn\\_decorators.py:36: FutureWarning: Pass the following variable as a keyword arg: x. From version 0.12, the only valid positional argument will be `data`, and passing other arguments without an explicit keyword will result in an error or misinterpretation.\n",
      "  warnings.warn(\n"
     ]
    },
    {
     "data": {
      "image/png": "[encoded data removed]",
      "text/plain": [
       "<Figure size 1080x504 with 3 Axes>"
      ]
     },
     "metadata": {
      "needs_background": "light"
     },
     "output_type": "display_data"
    },
    {
     "name": "stdout",
     "output_type": "stream",
     "text": [
      "==========\n",
      "Distribution plots for col : etest_p are shown ↓\n"
     ]
    },
    {
     "name": "stderr",
     "output_type": "stream",
     "text": [
      "C:\\Users\\91939\\anaconda3\\lib\\site-packages\\seaborn\\_decorators.py:36: FutureWarning: Pass the following variable as a keyword arg: x. From version 0.12, the only valid positional argument will be `data`, and passing other arguments without an explicit keyword will result in an error or misinterpretation.\n",
      "  warnings.warn(\n"
     ]
    },
    {
     "data": {
      "image/png": "[encoded data removed]",
      "text/plain": [
       "<Figure size 1080x504 with 3 Axes>"
      ]
     },
     "metadata": {
      "needs_background": "light"
     },
     "output_type": "display_data"
    },
    {
     "name": "stdout",
     "output_type": "stream",
     "text": [
      "==========\n",
      "Distribution plots for col : salary are shown ↓\n"
     ]
    },
    {
     "name": "stderr",
     "output_type": "stream",
     "text": [
      "C:\\Users\\91939\\anaconda3\\lib\\site-packages\\seaborn\\_decorators.py:36: FutureWarning: Pass the following variable as a keyword arg: x. From version 0.12, the only valid positional argument will be `data`, and passing other arguments without an explicit keyword will result in an error or misinterpretation.\n",
      "  warnings.warn(\n"
     ]
    },
    {
     "data": {
      "image/png": "[encoded data removed]",
      "text/plain": [
       "<Figure size 1080x504 with 3 Axes>"
      ]
     },
     "metadata": {
      "needs_background": "light"
     },
     "output_type": "display_data"
    },
    {
     "name": "stdout",
     "output_type": "stream",
     "text": [
      "==========\n"
     ]
    }
   ],
   "source": [
    "import scipy.stats as stats\n",
    "\n",
    "def getplots(df,col):\n",
    "    \n",
    "    plt.figure(figsize=(15,7))\n",
    "    plt.subplot(1,3,1)\n",
    "    plt.hist(df[col],color='magenta')\n",
    "    \n",
    "    plt.subplot(1,3,2)\n",
    "    stats.probplot(df[col],dist='norm',plot=plt)\n",
    "    \n",
    "    plt.subplot(1,3,3)\n",
    "    sns.boxplot(df[col],color='magenta')\n",
    "    \n",
    "    plt.show()\n",
    "    \n",
    "    \n",
    "for col in numvars[1:]:\n",
    "    print(f'Distribution plots for col : {col} are shown ↓')\n",
    "    getplots(df,col)\n",
    "    print('='*10)"
   ]
  },
  {
   "cell_type": "markdown",
   "id": "72e1a610",
   "metadata": {},
   "source": [
    "# Feature Selection"
   ]
  },
  {
   "cell_type": "code",
   "execution_count": 36,
   "id": "3ff7194e",
   "metadata": {},
   "outputs": [
    {
     "data": {
      "text/plain": [
       "<AxesSubplot:>"
      ]
     },
     "execution_count": 36,
     "metadata": {},
     "output_type": "execute_result"
    },
    {
     "data": {
      "image/png": "[encoded data removed]",
      "text/plain": [
       "<Figure size 1080x504 with 2 Axes>"
      ]
     },
     "metadata": {
      "needs_background": "light"
     },
     "output_type": "display_data"
    }
   ],
   "source": [
    "# checking for tightly correlated features\n",
    "\n",
    "plt.figure(figsize=(15,7))\n",
    "sns.heatmap(df.corr(),annot=True,cmap='plasma')"
   ]
  },
  {
   "cell_type": "code",
   "execution_count": 37,
   "id": "fe7dcad9",
   "metadata": {},
   "outputs": [
    {
     "data": {
      "text/html": [
       "<div>\n",
       "<style scoped>\n",
       "    .dataframe tbody tr th:only-of-type {\n",
       "        vertical-align: middle;\n",
       "    }\n",
       "\n",
       "    .dataframe tbody tr th {\n",
       "        vertical-align: top;\n",
       "    }\n",
       "\n",
       "    .dataframe thead th {\n",
       "        text-align: right;\n",
       "    }\n",
       "</style>\n",
       "<table border=\"1\" class=\"dataframe\">\n",
       "  <thead>\n",
       "    <tr style=\"text-align: right;\">\n",
       "      <th></th>\n",
       "      <th>gender</th>\n",
       "      <th>ssc_p</th>\n",
       "      <th>ssc_b</th>\n",
       "      <th>hsc_p</th>\n",
       "      <th>hsc_b</th>\n",
       "      <th>hsc_s</th>\n",
       "      <th>degree_p</th>\n",
       "      <th>degree_t</th>\n",
       "      <th>workex</th>\n",
       "      <th>etest_p</th>\n",
       "      <th>specialisation</th>\n",
       "    </tr>\n",
       "  </thead>\n",
       "  <tbody>\n",
       "    <tr>\n",
       "      <th>0</th>\n",
       "      <td>1</td>\n",
       "      <td>67.00</td>\n",
       "      <td>1</td>\n",
       "      <td>91.00</td>\n",
       "      <td>1</td>\n",
       "      <td>1</td>\n",
       "      <td>58.00</td>\n",
       "      <td>2</td>\n",
       "      <td>0</td>\n",
       "      <td>55.0</td>\n",
       "      <td>1</td>\n",
       "    </tr>\n",
       "    <tr>\n",
       "      <th>1</th>\n",
       "      <td>1</td>\n",
       "      <td>79.33</td>\n",
       "      <td>0</td>\n",
       "      <td>78.33</td>\n",
       "      <td>1</td>\n",
       "      <td>2</td>\n",
       "      <td>77.48</td>\n",
       "      <td>2</td>\n",
       "      <td>1</td>\n",
       "      <td>86.5</td>\n",
       "      <td>0</td>\n",
       "    </tr>\n",
       "  </tbody>\n",
       "</table>\n",
       "</div>"
      ],
      "text/plain": [
       "   gender  ssc_p  ssc_b  hsc_p  hsc_b  hsc_s  degree_p  degree_t  workex  \\\n",
       "0       1  67.00      1  91.00      1      1     58.00         2       0   \n",
       "1       1  79.33      0  78.33      1      2     77.48         2       1   \n",
       "\n",
       "   etest_p  specialisation  \n",
       "0     55.0               1  \n",
       "1     86.5               0  "
      ]
     },
     "execution_count": 37,
     "metadata": {},
     "output_type": "execute_result"
    }
   ],
   "source": [
    "'''\n",
    "We will drop the salary column as well\n",
    "coz after getting the placement we will get to know the salary right!\n",
    "\n",
    "'''\n",
    "\n",
    "\n",
    "data = df.copy()\n",
    "test = data['status']\n",
    "train = data.drop(['status','salary'],axis = 1)\n",
    "train.head(2)\n"
   ]
  },
  {
   "cell_type": "code",
   "execution_count": 38,
   "id": "ef2e6f09",
   "metadata": {},
   "outputs": [
    {
     "data": {
      "text/plain": [
       "ExtraTreesClassifier()"
      ]
     },
     "execution_count": 38,
     "metadata": {},
     "output_type": "execute_result"
    }
   ],
   "source": [
    "## extratrees classifier\n",
    "\n",
    "from sklearn.ensemble import ExtraTreesClassifier\n",
    "ec = ExtraTreesClassifier()\n",
    "ec.fit(train,test)"
   ]
  },
  {
   "cell_type": "code",
   "execution_count": 39,
   "id": "a6d5f61a",
   "metadata": {},
   "outputs": [
    {
     "data": {
      "text/plain": [
       "<AxesSubplot:>"
      ]
     },
     "execution_count": 39,
     "metadata": {},
     "output_type": "execute_result"
    },
    {
     "data": {
      "image/png": "[encoded data removed]",
      "text/plain": [
       "<Figure size 432x288 with 1 Axes>"
      ]
     },
     "metadata": {
      "needs_background": "light"
     },
     "output_type": "display_data"
    }
   ],
   "source": [
    "featbar = pd.Series(ec.feature_importances_,index=train.columns)\n",
    "featbar.nlargest(7).plot(kind = 'barh')"
   ]
  },
  {
   "cell_type": "code",
   "execution_count": 40,
   "id": "770290a4",
   "metadata": {},
   "outputs": [
    {
     "name": "stderr",
     "output_type": "stream",
     "text": [
      "C:\\Users\\91939\\anaconda3\\lib\\site-packages\\pandas\\plotting\\_matplotlib\\core.py:1583: MatplotlibDeprecationWarning: normalize=None does not normalize if the sum is less than 1 but this behavior is deprecated since 3.3 until two minor releases later. After the deprecation period the default value will be normalize=True. To prevent normalization pass normalize=False \n",
      "  results = ax.pie(y, labels=blabels, **kwds)\n"
     ]
    },
    {
     "data": {
      "text/plain": [
       "<AxesSubplot:ylabel='None'>"
      ]
     },
     "execution_count": 40,
     "metadata": {},
     "output_type": "execute_result"
    },
    {
     "data": {
      "image/png": "[encoded data removed]",
      "text/plain": [
       "<Figure size 1080x504 with 1 Axes>"
      ]
     },
     "metadata": {},
     "output_type": "display_data"
    }
   ],
   "source": [
    "featbar.nlargest(7).plot(kind='pie',autopct='%1.0f%%',figsize = (15,7))"
   ]
  },
  {
   "cell_type": "code",
   "execution_count": 41,
   "id": "8d76a5fd",
   "metadata": {},
   "outputs": [
    {
     "data": {
      "text/plain": [
       "<AxesSubplot:>"
      ]
     },
     "execution_count": 41,
     "metadata": {},
     "output_type": "execute_result"
    },
    {
     "data": {
      "image/png": "[encoded data removed]",
      "text/plain": [
       "<Figure size 432x288 with 1 Axes>"
      ]
     },
     "metadata": {
      "needs_background": "light"
     },
     "output_type": "display_data"
    }
   ],
   "source": [
    "# mutual classif\n",
    "\n",
    "from sklearn.feature_selection import mutual_info_classif\n",
    "mc = mutual_info_classif(train,test)\n",
    "ax = pd.Series(mc,index=train.columns)\n",
    "ax.nlargest(7).plot(kind = 'barh')"
   ]
  },
  {
   "cell_type": "code",
   "execution_count": 42,
   "id": "781f6be4",
   "metadata": {},
   "outputs": [
    {
     "name": "stderr",
     "output_type": "stream",
     "text": [
      "C:\\Users\\91939\\anaconda3\\lib\\site-packages\\pandas\\plotting\\_matplotlib\\core.py:1583: MatplotlibDeprecationWarning: normalize=None does not normalize if the sum is less than 1 but this behavior is deprecated since 3.3 until two minor releases later. After the deprecation period the default value will be normalize=True. To prevent normalization pass normalize=False \n",
      "  results = ax.pie(y, labels=blabels, **kwds)\n"
     ]
    },
    {
     "data": {
      "text/plain": [
       "<AxesSubplot:ylabel='None'>"
      ]
     },
     "execution_count": 42,
     "metadata": {},
     "output_type": "execute_result"
    },
    {
     "data": {
      "image/png": "[encoded data removed]",
      "text/plain": [
       "<Figure size 1080x504 with 1 Axes>"
      ]
     },
     "metadata": {},
     "output_type": "display_data"
    }
   ],
   "source": [
    "pd.Series(mc,index=train.columns).plot(kind = 'pie',autopct='%1.0f%%',figsize = (15,7))"
   ]
  },
  {
   "cell_type": "code",
   "execution_count": 43,
   "id": "c5e10a7a",
   "metadata": {},
   "outputs": [
    {
     "name": "stdout",
     "output_type": "stream",
     "text": [
      "['ssc_p', 'ssc_b', 'degree_t', 'workex', 'hsc_p', 'hsc_s', 'gender', 'degree_p', 'specialisation']\n"
     ]
    }
   ],
   "source": [
    "'''\n",
    "Selecting the top 10 contributing features in both cases\n",
    "and then we will do the intersection of both the results\n",
    "so that we will get atleast top 5 most contributing features!\n",
    "\n",
    "'''\n",
    "\n",
    "featcol = list(featbar.nlargest(10).index)\n",
    "mutclasif = list(ax.nlargest(10).index)\n",
    "commoncols = list(set(featcol).intersection(set(mutclasif)))\n",
    "print(commoncols)"
   ]
  },
  {
   "cell_type": "code",
   "execution_count": 44,
   "id": "2930a587",
   "metadata": {},
   "outputs": [
    {
     "data": {
      "text/html": [
       "<div>\n",
       "<style scoped>\n",
       "    .dataframe tbody tr th:only-of-type {\n",
       "        vertical-align: middle;\n",
       "    }\n",
       "\n",
       "    .dataframe tbody tr th {\n",
       "        vertical-align: top;\n",
       "    }\n",
       "\n",
       "    .dataframe thead th {\n",
       "        text-align: right;\n",
       "    }\n",
       "</style>\n",
       "<table border=\"1\" class=\"dataframe\">\n",
       "  <thead>\n",
       "    <tr style=\"text-align: right;\">\n",
       "      <th></th>\n",
       "      <th>ssc_p</th>\n",
       "      <th>ssc_b</th>\n",
       "      <th>degree_t</th>\n",
       "      <th>workex</th>\n",
       "      <th>hsc_p</th>\n",
       "      <th>hsc_s</th>\n",
       "      <th>gender</th>\n",
       "      <th>degree_p</th>\n",
       "      <th>specialisation</th>\n",
       "    </tr>\n",
       "  </thead>\n",
       "  <tbody>\n",
       "    <tr>\n",
       "      <th>0</th>\n",
       "      <td>67.00</td>\n",
       "      <td>1</td>\n",
       "      <td>2</td>\n",
       "      <td>0</td>\n",
       "      <td>91.00</td>\n",
       "      <td>1</td>\n",
       "      <td>1</td>\n",
       "      <td>58.00</td>\n",
       "      <td>1</td>\n",
       "    </tr>\n",
       "    <tr>\n",
       "      <th>1</th>\n",
       "      <td>79.33</td>\n",
       "      <td>0</td>\n",
       "      <td>2</td>\n",
       "      <td>1</td>\n",
       "      <td>78.33</td>\n",
       "      <td>2</td>\n",
       "      <td>1</td>\n",
       "      <td>77.48</td>\n",
       "      <td>0</td>\n",
       "    </tr>\n",
       "    <tr>\n",
       "      <th>2</th>\n",
       "      <td>65.00</td>\n",
       "      <td>0</td>\n",
       "      <td>0</td>\n",
       "      <td>0</td>\n",
       "      <td>68.00</td>\n",
       "      <td>0</td>\n",
       "      <td>1</td>\n",
       "      <td>64.00</td>\n",
       "      <td>0</td>\n",
       "    </tr>\n",
       "    <tr>\n",
       "      <th>3</th>\n",
       "      <td>56.00</td>\n",
       "      <td>0</td>\n",
       "      <td>2</td>\n",
       "      <td>0</td>\n",
       "      <td>52.00</td>\n",
       "      <td>2</td>\n",
       "      <td>1</td>\n",
       "      <td>52.00</td>\n",
       "      <td>1</td>\n",
       "    </tr>\n",
       "    <tr>\n",
       "      <th>4</th>\n",
       "      <td>85.80</td>\n",
       "      <td>0</td>\n",
       "      <td>0</td>\n",
       "      <td>0</td>\n",
       "      <td>73.60</td>\n",
       "      <td>1</td>\n",
       "      <td>1</td>\n",
       "      <td>73.30</td>\n",
       "      <td>0</td>\n",
       "    </tr>\n",
       "  </tbody>\n",
       "</table>\n",
       "</div>"
      ],
      "text/plain": [
       "   ssc_p  ssc_b  degree_t  workex  hsc_p  hsc_s  gender  degree_p  \\\n",
       "0  67.00      1         2       0  91.00      1       1     58.00   \n",
       "1  79.33      0         2       1  78.33      2       1     77.48   \n",
       "2  65.00      0         0       0  68.00      0       1     64.00   \n",
       "3  56.00      0         2       0  52.00      2       1     52.00   \n",
       "4  85.80      0         0       0  73.60      1       1     73.30   \n",
       "\n",
       "   specialisation  \n",
       "0               1  \n",
       "1               0  \n",
       "2               0  \n",
       "3               1  \n",
       "4               0  "
      ]
     },
     "execution_count": 44,
     "metadata": {},
     "output_type": "execute_result"
    }
   ],
   "source": [
    "# selecting the common cols and will do training on these cols!\n",
    "# these cols were selected as a nlargest result of 2 feature selection techniques!\n",
    "\n",
    "train = df[commoncols]\n",
    "train.head()"
   ]
  },
  {
   "cell_type": "code",
   "execution_count": 45,
   "id": "54a3d1db",
   "metadata": {},
   "outputs": [
    {
     "data": {
      "text/plain": [
       "{'gender': {'F': 0, 'M': 1},\n",
       " 'ssc_b': {'Central': 0, 'Others': 1},\n",
       " 'hsc_b': {'Central': 0, 'Others': 1},\n",
       " 'hsc_s': {'Arts': 0, 'Commerce': 1, 'Science': 2},\n",
       " 'degree_t': {'Comm&Mgmt': 0, 'Others': 1, 'Sci&Tech': 2},\n",
       " 'workex': {'No': 0, 'Yes': 1},\n",
       " 'specialisation': {'Mkt&Fin': 0, 'Mkt&HR': 1},\n",
       " 'status': {'Not Placed': 0, 'Placed': 1}}"
      ]
     },
     "execution_count": 45,
     "metadata": {},
     "output_type": "execute_result"
    }
   ],
   "source": [
    "'''\n",
    "From the above DF we notice that gender,specialisation,degree_t,workex are the \n",
    "categorical columns and they make sense isn't it?,for any placement drive\n",
    "students are first filtered on basis of their boards,sem scores which in this case are {mba_p,ssc_p,degree_p,hsc_p}\n",
    "and then workexperience also matters a lot!,then specialisation as well,gender is also important\n",
    "because now-a-days few companies focus on women empowerment,so yes,all the features make perfect sense!\n",
    "\n",
    "'''\n",
    "getmappings"
   ]
  },
  {
   "cell_type": "code",
   "execution_count": 46,
   "id": "71e5ac5e",
   "metadata": {},
   "outputs": [
    {
     "data": {
      "text/html": [
       "<div>\n",
       "<style scoped>\n",
       "    .dataframe tbody tr th:only-of-type {\n",
       "        vertical-align: middle;\n",
       "    }\n",
       "\n",
       "    .dataframe tbody tr th {\n",
       "        vertical-align: top;\n",
       "    }\n",
       "\n",
       "    .dataframe thead th {\n",
       "        text-align: right;\n",
       "    }\n",
       "</style>\n",
       "<table border=\"1\" class=\"dataframe\">\n",
       "  <thead>\n",
       "    <tr style=\"text-align: right;\">\n",
       "      <th></th>\n",
       "      <th>Gender</th>\n",
       "      <th>Specialisation</th>\n",
       "      <th>Techinal Degree</th>\n",
       "      <th>Work Experience</th>\n",
       "      <th>SSC_p</th>\n",
       "      <th>High School_p</th>\n",
       "      <th>Degree_p</th>\n",
       "    </tr>\n",
       "  </thead>\n",
       "  <tbody>\n",
       "    <tr>\n",
       "      <th>0</th>\n",
       "      <td>1</td>\n",
       "      <td>1</td>\n",
       "      <td>2</td>\n",
       "      <td>0</td>\n",
       "      <td>67.00</td>\n",
       "      <td>91.00</td>\n",
       "      <td>58.00</td>\n",
       "    </tr>\n",
       "    <tr>\n",
       "      <th>1</th>\n",
       "      <td>1</td>\n",
       "      <td>0</td>\n",
       "      <td>2</td>\n",
       "      <td>1</td>\n",
       "      <td>79.33</td>\n",
       "      <td>78.33</td>\n",
       "      <td>77.48</td>\n",
       "    </tr>\n",
       "    <tr>\n",
       "      <th>2</th>\n",
       "      <td>1</td>\n",
       "      <td>0</td>\n",
       "      <td>0</td>\n",
       "      <td>0</td>\n",
       "      <td>65.00</td>\n",
       "      <td>68.00</td>\n",
       "      <td>64.00</td>\n",
       "    </tr>\n",
       "    <tr>\n",
       "      <th>3</th>\n",
       "      <td>1</td>\n",
       "      <td>1</td>\n",
       "      <td>2</td>\n",
       "      <td>0</td>\n",
       "      <td>56.00</td>\n",
       "      <td>52.00</td>\n",
       "      <td>52.00</td>\n",
       "    </tr>\n",
       "    <tr>\n",
       "      <th>4</th>\n",
       "      <td>1</td>\n",
       "      <td>0</td>\n",
       "      <td>0</td>\n",
       "      <td>0</td>\n",
       "      <td>85.80</td>\n",
       "      <td>73.60</td>\n",
       "      <td>73.30</td>\n",
       "    </tr>\n",
       "  </tbody>\n",
       "</table>\n",
       "</div>"
      ],
      "text/plain": [
       "   Gender  Specialisation  Techinal Degree  Work Experience  SSC_p  \\\n",
       "0       1               1                2                0  67.00   \n",
       "1       1               0                2                1  79.33   \n",
       "2       1               0                0                0  65.00   \n",
       "3       1               1                2                0  56.00   \n",
       "4       1               0                0                0  85.80   \n",
       "\n",
       "   High School_p  Degree_p  \n",
       "0          91.00     58.00  \n",
       "1          78.33     77.48  \n",
       "2          68.00     64.00  \n",
       "3          52.00     52.00  \n",
       "4          73.60     73.30  "
      ]
     },
     "execution_count": 46,
     "metadata": {},
     "output_type": "execute_result"
    }
   ],
   "source": [
    "# renaming the cols\n",
    "\n",
    "train = train[['gender','specialisation','degree_t','workex','ssc_p','hsc_p','degree_p']]\n",
    "train.columns = ['Gender','Specialisation','Techinal Degree','Work Experience','SSC_p','High School_p','Degree_p']\n",
    "train.head()"
   ]
  },
  {
   "cell_type": "code",
   "execution_count": 47,
   "id": "6af6c716",
   "metadata": {},
   "outputs": [
    {
     "data": {
      "text/plain": [
       "0    145\n",
       "2     59\n",
       "1     11\n",
       "Name: Techinal Degree, dtype: int64"
      ]
     },
     "execution_count": 47,
     "metadata": {},
     "output_type": "execute_result"
    }
   ],
   "source": [
    "train['Techinal Degree'].value_counts()"
   ]
  },
  {
   "cell_type": "markdown",
   "id": "4a1c275e",
   "metadata": {},
   "source": [
    "## Model Building"
   ]
  },
  {
   "cell_type": "code",
   "execution_count": 48,
   "id": "0eb4e950",
   "metadata": {},
   "outputs": [],
   "source": [
    "from sklearn.linear_model import LogisticRegression\n",
    "from sklearn.tree import DecisionTreeClassifier\n",
    "from sklearn.ensemble import RandomForestClassifier\n",
    "from sklearn import tree\n",
    "from sklearn.svm import SVC\n",
    "from sklearn.model_selection import train_test_split,RandomizedSearchCV,cross_val_score\n",
    "from sklearn import metrics"
   ]
  },
  {
   "cell_type": "code",
   "execution_count": 49,
   "id": "9df7c1a0",
   "metadata": {},
   "outputs": [
    {
     "data": {
      "text/plain": [
       "((172, 7), (43, 7))"
      ]
     },
     "execution_count": 49,
     "metadata": {},
     "output_type": "execute_result"
    }
   ],
   "source": [
    "X_train, X_test, y_train, y_test = train_test_split(train,test,test_size=0.2)\n",
    "X_train.shape,X_test.shape"
   ]
  },
  {
   "cell_type": "code",
   "execution_count": 50,
   "id": "d673737a",
   "metadata": {},
   "outputs": [
    {
     "data": {
      "text/plain": [
       "[Text(278.45825242718445, 467.0018181818182, 'SSC_p <= 55.64\\ngini = 0.443\\nsamples = 172\\nvalue = [57, 115]\\nclass = Placed'),\n",
       " Text(69.34368932038835, 422.5254545454545, 'High School_p <= 58.5\\ngini = 0.18\\nsamples = 30\\nvalue = [27, 3]\\nclass = Not_placed'),\n",
       " Text(34.671844660194175, 378.0490909090909, 'gini = 0.0\\nsamples = 17\\nvalue = [17, 0]\\nclass = Not_placed'),\n",
       " Text(104.01553398058252, 378.0490909090909, 'Degree_p <= 70.655\\ngini = 0.355\\nsamples = 13\\nvalue = [10, 3]\\nclass = Not_placed'),\n",
       " Text(69.34368932038835, 333.5727272727273, 'Work Experience <= 0.5\\ngini = 0.278\\nsamples = 12\\nvalue = [10, 2]\\nclass = Not_placed'),\n",
       " Text(34.671844660194175, 289.09636363636366, 'gini = 0.0\\nsamples = 8\\nvalue = [8, 0]\\nclass = Not_placed'),\n",
       " Text(104.01553398058252, 289.09636363636366, 'Specialisation <= 0.5\\ngini = 0.5\\nsamples = 4\\nvalue = [2, 2]\\nclass = Not_placed'),\n",
       " Text(69.34368932038835, 244.62, 'gini = 0.0\\nsamples = 2\\nvalue = [0, 2]\\nclass = Placed'),\n",
       " Text(138.6873786407767, 244.62, 'gini = 0.0\\nsamples = 2\\nvalue = [2, 0]\\nclass = Not_placed'),\n",
       " Text(138.6873786407767, 333.5727272727273, 'gini = 0.0\\nsamples = 1\\nvalue = [0, 1]\\nclass = Placed'),\n",
       " Text(487.5728155339806, 422.5254545454545, 'High School_p <= 52.5\\ngini = 0.333\\nsamples = 142\\nvalue = [30, 112]\\nclass = Placed'),\n",
       " Text(452.90097087378643, 378.0490909090909, 'gini = 0.0\\nsamples = 7\\nvalue = [7, 0]\\nclass = Not_placed'),\n",
       " Text(522.2446601941748, 378.0490909090909, 'Degree_p <= 65.8\\ngini = 0.283\\nsamples = 135\\nvalue = [23, 112]\\nclass = Placed'),\n",
       " Text(342.38446601941746, 333.5727272727273, 'Work Experience <= 0.5\\ngini = 0.453\\nsamples = 52\\nvalue = [18, 34]\\nclass = Placed'),\n",
       " Text(242.70291262135922, 289.09636363636366, 'High School_p <= 71.99\\ngini = 0.5\\nsamples = 35\\nvalue = [17, 18]\\nclass = Placed'),\n",
       " Text(208.03106796116504, 244.62, 'Degree_p <= 57.5\\ngini = 0.485\\nsamples = 29\\nvalue = [17, 12]\\nclass = Not_placed'),\n",
       " Text(112.68349514563107, 200.14363636363635, 'Degree_p <= 54.5\\ngini = 0.32\\nsamples = 5\\nvalue = [1, 4]\\nclass = Placed'),\n",
       " Text(78.01165048543689, 155.66727272727275, 'gini = 0.0\\nsamples = 1\\nvalue = [1, 0]\\nclass = Not_placed'),\n",
       " Text(147.35533980582525, 155.66727272727275, 'gini = 0.0\\nsamples = 4\\nvalue = [0, 4]\\nclass = Placed'),\n",
       " Text(303.37864077669906, 200.14363636363635, 'Specialisation <= 0.5\\ngini = 0.444\\nsamples = 24\\nvalue = [16, 8]\\nclass = Not_placed'),\n",
       " Text(216.6990291262136, 155.66727272727275, 'Degree_p <= 61.2\\ngini = 0.486\\nsamples = 12\\nvalue = [5, 7]\\nclass = Placed'),\n",
       " Text(147.35533980582525, 111.19090909090909, 'SSC_p <= 65.25\\ngini = 0.32\\nsamples = 5\\nvalue = [4, 1]\\nclass = Not_placed'),\n",
       " Text(112.68349514563107, 66.71454545454549, 'gini = 0.0\\nsamples = 3\\nvalue = [3, 0]\\nclass = Not_placed'),\n",
       " Text(182.0271844660194, 66.71454545454549, 'Degree_p <= 60.95\\ngini = 0.5\\nsamples = 2\\nvalue = [1, 1]\\nclass = Not_placed'),\n",
       " Text(147.35533980582525, 22.23818181818183, 'gini = 0.0\\nsamples = 1\\nvalue = [0, 1]\\nclass = Placed'),\n",
       " Text(216.6990291262136, 22.23818181818183, 'gini = 0.0\\nsamples = 1\\nvalue = [1, 0]\\nclass = Not_placed'),\n",
       " Text(286.04271844660195, 111.19090909090909, 'SSC_p <= 66.0\\ngini = 0.245\\nsamples = 7\\nvalue = [1, 6]\\nclass = Placed'),\n",
       " Text(251.37087378640777, 66.71454545454549, 'gini = 0.0\\nsamples = 4\\nvalue = [0, 4]\\nclass = Placed'),\n",
       " Text(320.7145631067961, 66.71454545454549, 'SSC_p <= 68.0\\ngini = 0.444\\nsamples = 3\\nvalue = [1, 2]\\nclass = Placed'),\n",
       " Text(286.04271844660195, 22.23818181818183, 'gini = 0.0\\nsamples = 1\\nvalue = [1, 0]\\nclass = Not_placed'),\n",
       " Text(355.3864077669903, 22.23818181818183, 'gini = 0.0\\nsamples = 2\\nvalue = [0, 2]\\nclass = Placed'),\n",
       " Text(390.05825242718447, 155.66727272727275, 'SSC_p <= 72.445\\ngini = 0.153\\nsamples = 12\\nvalue = [11, 1]\\nclass = Not_placed'),\n",
       " Text(355.3864077669903, 111.19090909090909, 'gini = 0.0\\nsamples = 10\\nvalue = [10, 0]\\nclass = Not_placed'),\n",
       " Text(424.7300970873786, 111.19090909090909, 'Techinal Degree <= 1.0\\ngini = 0.5\\nsamples = 2\\nvalue = [1, 1]\\nclass = Not_placed'),\n",
       " Text(390.05825242718447, 66.71454545454549, 'gini = 0.0\\nsamples = 1\\nvalue = [0, 1]\\nclass = Placed'),\n",
       " Text(459.40194174757283, 66.71454545454549, 'gini = 0.0\\nsamples = 1\\nvalue = [1, 0]\\nclass = Not_placed'),\n",
       " Text(277.3747572815534, 244.62, 'gini = 0.0\\nsamples = 6\\nvalue = [0, 6]\\nclass = Placed'),\n",
       " Text(442.06601941747573, 289.09636363636366, 'Gender <= 0.5\\ngini = 0.111\\nsamples = 17\\nvalue = [1, 16]\\nclass = Placed'),\n",
       " Text(407.3941747572816, 244.62, 'Degree_p <= 64.87\\ngini = 0.444\\nsamples = 3\\nvalue = [1, 2]\\nclass = Placed'),\n",
       " Text(372.72233009708737, 200.14363636363635, 'gini = 0.0\\nsamples = 2\\nvalue = [0, 2]\\nclass = Placed'),\n",
       " Text(442.06601941747573, 200.14363636363635, 'gini = 0.0\\nsamples = 1\\nvalue = [1, 0]\\nclass = Not_placed'),\n",
       " Text(476.7378640776699, 244.62, 'gini = 0.0\\nsamples = 14\\nvalue = [0, 14]\\nclass = Placed'),\n",
       " Text(702.104854368932, 333.5727272727273, 'SSC_p <= 69.25\\ngini = 0.113\\nsamples = 83\\nvalue = [5, 78]\\nclass = Placed'),\n",
       " Text(615.4252427184466, 289.09636363636366, 'Techinal Degree <= 1.0\\ngini = 0.238\\nsamples = 29\\nvalue = [4, 25]\\nclass = Placed'),\n",
       " Text(546.0815533980583, 244.62, 'Degree_p <= 73.5\\ngini = 0.142\\nsamples = 26\\nvalue = [2, 24]\\nclass = Placed'),\n",
       " Text(511.4097087378641, 200.14363636363635, 'gini = 0.0\\nsamples = 22\\nvalue = [0, 22]\\nclass = Placed'),\n",
       " Text(580.7533980582524, 200.14363636363635, 'SSC_p <= 64.15\\ngini = 0.5\\nsamples = 4\\nvalue = [2, 2]\\nclass = Not_placed'),\n",
       " Text(546.0815533980583, 155.66727272727275, 'gini = 0.0\\nsamples = 2\\nvalue = [2, 0]\\nclass = Not_placed'),\n",
       " Text(615.4252427184466, 155.66727272727275, 'gini = 0.0\\nsamples = 2\\nvalue = [0, 2]\\nclass = Placed'),\n",
       " Text(684.7689320388349, 244.62, 'Degree_p <= 68.3\\ngini = 0.444\\nsamples = 3\\nvalue = [2, 1]\\nclass = Not_placed'),\n",
       " Text(650.0970873786408, 200.14363636363635, 'gini = 0.0\\nsamples = 2\\nvalue = [2, 0]\\nclass = Not_placed'),\n",
       " Text(719.4407766990291, 200.14363636363635, 'gini = 0.0\\nsamples = 1\\nvalue = [0, 1]\\nclass = Placed'),\n",
       " Text(788.7844660194174, 289.09636363636366, 'Specialisation <= 0.5\\ngini = 0.036\\nsamples = 54\\nvalue = [1, 53]\\nclass = Placed'),\n",
       " Text(754.1126213592233, 244.62, 'gini = 0.0\\nsamples = 36\\nvalue = [0, 36]\\nclass = Placed'),\n",
       " Text(823.4563106796116, 244.62, 'High School_p <= 64.83\\ngini = 0.105\\nsamples = 18\\nvalue = [1, 17]\\nclass = Placed'),\n",
       " Text(788.7844660194174, 200.14363636363635, 'High School_p <= 62.4\\ngini = 0.219\\nsamples = 8\\nvalue = [1, 7]\\nclass = Placed'),\n",
       " Text(754.1126213592233, 155.66727272727275, 'gini = 0.0\\nsamples = 7\\nvalue = [0, 7]\\nclass = Placed'),\n",
       " Text(823.4563106796116, 155.66727272727275, 'gini = 0.0\\nsamples = 1\\nvalue = [1, 0]\\nclass = Not_placed'),\n",
       " Text(858.1281553398059, 200.14363636363635, 'gini = 0.0\\nsamples = 10\\nvalue = [0, 10]\\nclass = Placed')]"
      ]
     },
     "execution_count": 50,
     "metadata": {},
     "output_type": "execute_result"
    },
    {
     "data": {
      "image/png": "[encoded data removed]",
      "text/plain": [
       "<Figure size 1152x648 with 1 Axes>"
      ]
     },
     "metadata": {
      "needs_background": "light"
     },
     "output_type": "display_data"
    }
   ],
   "source": [
    "dc = DecisionTreeClassifier()\n",
    "dc.fit(X_train,y_train)\n",
    "plt.figure(figsize=(16,9))\n",
    "tree.plot_tree(dc,filled=True,class_names=['Not_placed','Placed'],feature_names=train.columns)"
   ]
  },
  {
   "cell_type": "code",
   "execution_count": 51,
   "id": "5447e4a2",
   "metadata": {},
   "outputs": [],
   "source": [
    "costpath = dc.cost_complexity_pruning_path(train,test)\n",
    "ccp_alpha,impurities = costpath.ccp_alphas,costpath.impurities"
   ]
  },
  {
   "cell_type": "code",
   "execution_count": 52,
   "id": "0ce5756b",
   "metadata": {},
   "outputs": [],
   "source": [
    "modellist = []\n",
    "for alpha in ccp_alpha:\n",
    "    dc = DecisionTreeClassifier(ccp_alpha=alpha)\n",
    "    dc.fit(X_train,y_train)\n",
    "    modellist.append(dc)\n",
    "    "
   ]
  },
  {
   "cell_type": "code",
   "execution_count": 53,
   "id": "090bb63f",
   "metadata": {},
   "outputs": [
    {
     "data": {
      "image/png": "[encoded data removed]",
      "text/plain": [
       "<Figure size 432x288 with 1 Axes>"
      ]
     },
     "metadata": {
      "needs_background": "light"
     },
     "output_type": "display_data"
    }
   ],
   "source": [
    "train_score = [clf.score(X_train,y_train) for clf in modellist]\n",
    "test_score = [clf.score(X_test,y_test) for clf in modellist]\n",
    "\n",
    "plt.xlabel('alpha_value')\n",
    "plt.ylabel('accuracy')\n",
    "plt.plot(ccp_alpha,train_score,label = 'train_score',marker = '+',color = 'magenta')\n",
    "plt.plot(ccp_alpha,test_score,label = 'test_score',marker = '*',color = 'red')\n",
    "plt.legend()\n",
    "plt.show()"
   ]
  },
  {
   "cell_type": "code",
   "execution_count": 54,
   "id": "399b3b6d",
   "metadata": {},
   "outputs": [
    {
     "data": {
      "text/plain": [
       "[Text(279.0, 348.81, 'SSC_p <= 55.64\\ngini = 0.443\\nsamples = 172\\nvalue = [57, 115]\\nclass = Placed'),\n",
       " Text(139.5, 285.39, 'gini = 0.18\\nsamples = 30\\nvalue = [27, 3]\\nclass = Not_placed'),\n",
       " Text(418.5, 285.39, 'High School_p <= 52.5\\ngini = 0.333\\nsamples = 142\\nvalue = [30, 112]\\nclass = Placed'),\n",
       " Text(279.0, 221.97, 'gini = 0.0\\nsamples = 7\\nvalue = [7, 0]\\nclass = Not_placed'),\n",
       " Text(558.0, 221.97, 'Degree_p <= 65.8\\ngini = 0.283\\nsamples = 135\\nvalue = [23, 112]\\nclass = Placed'),\n",
       " Text(418.5, 158.55, 'Work Experience <= 0.5\\ngini = 0.453\\nsamples = 52\\nvalue = [18, 34]\\nclass = Placed'),\n",
       " Text(279.0, 95.13, 'High School_p <= 71.99\\ngini = 0.5\\nsamples = 35\\nvalue = [17, 18]\\nclass = Placed'),\n",
       " Text(139.5, 31.710000000000036, 'gini = 0.485\\nsamples = 29\\nvalue = [17, 12]\\nclass = Not_placed'),\n",
       " Text(418.5, 31.710000000000036, 'gini = 0.0\\nsamples = 6\\nvalue = [0, 6]\\nclass = Placed'),\n",
       " Text(558.0, 95.13, 'gini = 0.111\\nsamples = 17\\nvalue = [1, 16]\\nclass = Placed'),\n",
       " Text(697.5, 158.55, 'gini = 0.113\\nsamples = 83\\nvalue = [5, 78]\\nclass = Placed')]"
      ]
     },
     "execution_count": 54,
     "metadata": {},
     "output_type": "execute_result"
    },
    {
     "data": {
      "image/png": "[encoded data removed]",
      "text/plain": [
       "<Figure size 1080x504 with 1 Axes>"
      ]
     },
     "metadata": {
      "needs_background": "light"
     },
     "output_type": "display_data"
    }
   ],
   "source": [
    "dc = DecisionTreeClassifier(ccp_alpha=0.0195)\n",
    "dc.fit(X_train,y_train)\n",
    "plt.figure(figsize=(15,7))\n",
    "tree.plot_tree(dc,filled=True,class_names=['Not_placed','Placed'],feature_names=train.columns)"
   ]
  },
  {
   "cell_type": "markdown",
   "id": "53aa6583",
   "metadata": {},
   "source": [
    "# Hyperparameter Tuning"
   ]
  },
  {
   "cell_type": "code",
   "execution_count": 55,
   "id": "617d5be9",
   "metadata": {},
   "outputs": [],
   "source": [
    "params = {\n",
    "    'RandomForest':{\n",
    "        'model': RandomForestClassifier(),\n",
    "        'params':{\n",
    "            'n_estimators': [int(x) for x in np.linspace(start=1,stop=1200,num=10)],\n",
    "            'max_depth':[int(x) for x in np.linspace(start=1,stop=30,num=5)],\n",
    "            'min_samples_split':[2,5,10,12],\n",
    "            'min_samples_leaf':[2,5,10,12],\n",
    "            'max_features':['auto','sqrt'],\n",
    "            'ccp_alpha':[0.0185,0.0190,0.0195,0.0200],\n",
    "        }\n",
    "    },\n",
    "    \n",
    "    'logistic':{\n",
    "        'model':LogisticRegression(),\n",
    "        'params':{\n",
    "            'penalty':['l1', 'l2', 'elasticnet'],\n",
    "            'C':[0.25,0.50,0.75,1.0],\n",
    "            'tol':[1e-10,1e-5,1e-4,1e-3,0.025,0.25,0.50],\n",
    "            'solver':['lbfgs','liblinear','saga','newton-cg'],\n",
    "            'multi_class':['auto', 'ovr', 'multinomial'],\n",
    "            'max_iter':[int(x) for x in np.linspace(start=1,stop=250,num=10)],\n",
    "        }\n",
    "    },\n",
    "    'D-tree':{\n",
    "        'model':DecisionTreeClassifier(),\n",
    "        'params':{\n",
    "            'criterion':['gini','entropy'],\n",
    "            'splitter':['best','random'],\n",
    "            'min_samples_split':[1,2,5,10,12],\n",
    "            'min_samples_leaf':[1,2,5,10,12],\n",
    "            'max_features':['auto','sqrt'],\n",
    "            'ccp_alpha':[0.0185,0.0190,0.0195,0.0200],\n",
    "        }\n",
    "    },\n",
    "    'SVM':{\n",
    "        'model':SVC(),\n",
    "        'params':{\n",
    "            'C':[0.25,0.50,0.75,1.0],\n",
    "            'tol':[1e-10,1e-5,1e-4,0.025,0.50,0.75],\n",
    "            'kernel':['linear','poly','sigmoid','rbf'],\n",
    "            'max_iter':[int(x) for x in np.linspace(start=1,stop=250,num=10)],\n",
    "        }\n",
    "    }\n",
    "}"
   ]
  },
  {
   "cell_type": "code",
   "execution_count": 56,
   "id": "18b0ec8f",
   "metadata": {},
   "outputs": [
    {
     "name": "stderr",
     "output_type": "stream",
     "text": [
      "C:\\Users\\91939\\anaconda3\\lib\\site-packages\\sklearn\\model_selection\\_search.py:918: UserWarning: One or more of the test scores are non-finite: [       nan 0.73243697        nan 0.82605042 0.8487395         nan\n",
      "        nan        nan 0.79647059        nan]\n",
      "  warnings.warn(\n",
      "C:\\Users\\91939\\anaconda3\\lib\\site-packages\\sklearn\\model_selection\\_search.py:918: UserWarning: One or more of the test scores are non-finite: [0.78991597 0.71478992        nan 0.74453782        nan        nan\n",
      " 0.78554622        nan 0.80857143 0.73915966]\n",
      "  warnings.warn(\n"
     ]
    }
   ],
   "source": [
    "scores = []\n",
    "for model_name,mp in params.items():\n",
    "    \n",
    "    clf = RandomizedSearchCV(mp['model'],param_distributions=mp['params'],cv=5,n_iter=10,n_jobs=-1,scoring='accuracy')\n",
    "    clf.fit(X_train,y_train)\n",
    "    scores.append({\n",
    "        'model_name':model_name,\n",
    "        'best_score':clf.best_score_,\n",
    "        'best_estimator':clf.best_estimator_\n",
    "    })"
   ]
  },
  {
   "cell_type": "code",
   "execution_count": 57,
   "id": "639a80c2",
   "metadata": {},
   "outputs": [
    {
     "data": {
      "text/html": [
       "<div>\n",
       "<style scoped>\n",
       "    .dataframe tbody tr th:only-of-type {\n",
       "        vertical-align: middle;\n",
       "    }\n",
       "\n",
       "    .dataframe tbody tr th {\n",
       "        vertical-align: top;\n",
       "    }\n",
       "\n",
       "    .dataframe thead th {\n",
       "        text-align: right;\n",
       "    }\n",
       "</style>\n",
       "<table border=\"1\" class=\"dataframe\">\n",
       "  <thead>\n",
       "    <tr style=\"text-align: right;\">\n",
       "      <th></th>\n",
       "      <th>model_name</th>\n",
       "      <th>best_score</th>\n",
       "      <th>best_estimator</th>\n",
       "    </tr>\n",
       "  </thead>\n",
       "  <tbody>\n",
       "    <tr>\n",
       "      <th>0</th>\n",
       "      <td>RandomForest</td>\n",
       "      <td>0.848571</td>\n",
       "      <td>(DecisionTreeClassifier(ccp_alpha=0.0195, max_...</td>\n",
       "    </tr>\n",
       "    <tr>\n",
       "      <th>1</th>\n",
       "      <td>logistic</td>\n",
       "      <td>0.848739</td>\n",
       "      <td>LogisticRegression(C=0.25, max_iter=250, multi...</td>\n",
       "    </tr>\n",
       "    <tr>\n",
       "      <th>2</th>\n",
       "      <td>D-tree</td>\n",
       "      <td>0.808571</td>\n",
       "      <td>DecisionTreeClassifier(ccp_alpha=0.0185, max_f...</td>\n",
       "    </tr>\n",
       "    <tr>\n",
       "      <th>3</th>\n",
       "      <td>SVM</td>\n",
       "      <td>0.825714</td>\n",
       "      <td>SVC(kernel='poly', max_iter=194, tol=0.025)</td>\n",
       "    </tr>\n",
       "  </tbody>\n",
       "</table>\n",
       "</div>"
      ],
      "text/plain": [
       "     model_name  best_score                                     best_estimator\n",
       "0  RandomForest    0.848571  (DecisionTreeClassifier(ccp_alpha=0.0195, max_...\n",
       "1      logistic    0.848739  LogisticRegression(C=0.25, max_iter=250, multi...\n",
       "2        D-tree    0.808571  DecisionTreeClassifier(ccp_alpha=0.0185, max_f...\n",
       "3           SVM    0.825714        SVC(kernel='poly', max_iter=194, tol=0.025)"
      ]
     },
     "execution_count": 57,
     "metadata": {},
     "output_type": "execute_result"
    }
   ],
   "source": [
    "scores_df = pd.DataFrame(data = scores,columns = ['model_name','best_score','best_estimator'])\n",
    "scores_df.head()"
   ]
  },
  {
   "cell_type": "code",
   "execution_count": 58,
   "id": "89f2589a",
   "metadata": {},
   "outputs": [
    {
     "data": {
      "text/plain": [
       "[{'model_name': 'RandomForest',\n",
       "  'best_score': 0.8485714285714285,\n",
       "  'best_estimator': RandomForestClassifier(ccp_alpha=0.0195, max_depth=30, min_samples_leaf=2,\n",
       "                         min_samples_split=5, n_estimators=933)},\n",
       " {'model_name': 'logistic',\n",
       "  'best_score': 0.8487394957983193,\n",
       "  'best_estimator': LogisticRegression(C=0.25, max_iter=250, multi_class='ovr', tol=0.025)},\n",
       " {'model_name': 'D-tree',\n",
       "  'best_score': 0.8085714285714285,\n",
       "  'best_estimator': DecisionTreeClassifier(ccp_alpha=0.0185, max_features='auto',\n",
       "                         min_samples_leaf=12)},\n",
       " {'model_name': 'SVM',\n",
       "  'best_score': 0.8257142857142856,\n",
       "  'best_estimator': SVC(kernel='poly', max_iter=194, tol=0.025)}]"
      ]
     },
     "execution_count": 58,
     "metadata": {},
     "output_type": "execute_result"
    }
   ],
   "source": [
    "scores"
   ]
  },
  {
   "cell_type": "code",
   "execution_count": 59,
   "id": "f7e47d34",
   "metadata": {},
   "outputs": [
    {
     "name": "stdout",
     "output_type": "stream",
     "text": [
      "0.9302325581395349\n"
     ]
    }
   ],
   "source": [
    "# random forest model\n",
    "\n",
    "\n",
    "rf = RandomForestClassifier(ccp_alpha=0.02, max_depth=30, max_features='sqrt',\n",
    "                         min_samples_leaf=2, min_samples_split=12,\n",
    "                         n_estimators=267)\n",
    "rf.fit(X_train,y_train)\n",
    "y_pred = rf.predict(X_test)\n",
    "print(metrics.accuracy_score(y_test,y_pred))"
   ]
  },
  {
   "cell_type": "code",
   "execution_count": 60,
   "id": "790fddc0",
   "metadata": {},
   "outputs": [
    {
     "name": "stdout",
     "output_type": "stream",
     "text": [
      "0.8837209302325582\n"
     ]
    }
   ],
   "source": [
    "# logistic regression\n",
    "\n",
    "lr = LogisticRegression(C=0.25, max_iter=111, multi_class='ovr', solver='newton-cg',\n",
    "                     tol=1e-05)\n",
    "\n",
    "lr.fit(X_train,y_train)\n",
    "y_pred = lr.predict(X_test)\n",
    "print(metrics.accuracy_score(y_test,y_pred))\n"
   ]
  },
  {
   "cell_type": "code",
   "execution_count": 61,
   "id": "5ed1f0d9",
   "metadata": {},
   "outputs": [
    {
     "name": "stdout",
     "output_type": "stream",
     "text": [
      "0.7906976744186046\n"
     ]
    }
   ],
   "source": [
    "# decision tree\n",
    "\n",
    "dc = DecisionTreeClassifier(ccp_alpha=0.019, criterion='entropy',\n",
    "                         max_features='auto', min_samples_leaf=5,\n",
    "                         min_samples_split=5, splitter='random')\n",
    "dc.fit(X_train,y_train)\n",
    "y_pred = dc.predict(X_test)\n",
    "print(metrics.accuracy_score(y_test,y_pred))"
   ]
  },
  {
   "cell_type": "code",
   "execution_count": 62,
   "id": "2c34674d",
   "metadata": {},
   "outputs": [
    {
     "name": "stdout",
     "output_type": "stream",
     "text": [
      "              precision    recall  f1-score   support\n",
      "\n",
      "           0       0.89      0.80      0.84        10\n",
      "           1       0.94      0.97      0.96        33\n",
      "\n",
      "    accuracy                           0.93        43\n",
      "   macro avg       0.92      0.88      0.90        43\n",
      "weighted avg       0.93      0.93      0.93        43\n",
      "\n"
     ]
    }
   ],
   "source": [
    "print(metrics.classification_report(y_test,rf.predict(X_test)))"
   ]
  },
  {
   "cell_type": "code",
   "execution_count": 63,
   "id": "e8f797a4",
   "metadata": {},
   "outputs": [
    {
     "data": {
      "text/plain": [
       "<AxesSubplot:>"
      ]
     },
     "execution_count": 63,
     "metadata": {},
     "output_type": "execute_result"
    },
    {
     "data": {
      "image/png": "[encoded data removed]",
      "text/plain": [
       "<Figure size 432x288 with 2 Axes>"
      ]
     },
     "metadata": {
      "needs_background": "light"
     },
     "output_type": "display_data"
    }
   ],
   "source": [
    "cn = metrics.confusion_matrix(y_test,rf.predict(X_test))\n",
    "sns.heatmap(cn,annot=True,cmap='plasma')"
   ]
  },
  {
   "cell_type": "markdown",
   "id": "57ff8518",
   "metadata": {},
   "source": [
    "# Model Testing"
   ]
  },
  {
   "cell_type": "code",
   "execution_count": 64,
   "id": "96a132fb",
   "metadata": {},
   "outputs": [
    {
     "data": {
      "text/plain": [
       "[array([1]),\n",
       " array([1]),\n",
       " array([1]),\n",
       " array([0]),\n",
       " array([1]),\n",
       " array([0]),\n",
       " array([0]),\n",
       " array([1]),\n",
       " array([1]),\n",
       " array([1]),\n",
       " array([1]),\n",
       " array([1]),\n",
       " array([0]),\n",
       " array([1]),\n",
       " array([0]),\n",
       " array([1]),\n",
       " array([1]),\n",
       " array([0]),\n",
       " array([0]),\n",
       " array([1]),\n",
       " array([1]),\n",
       " array([1]),\n",
       " array([1]),\n",
       " array([1]),\n",
       " array([1]),\n",
       " array([0]),\n",
       " array([1]),\n",
       " array([1]),\n",
       " array([1]),\n",
       " array([1]),\n",
       " array([1]),\n",
       " array([0]),\n",
       " array([1]),\n",
       " array([1]),\n",
       " array([0]),\n",
       " array([1]),\n",
       " array([0]),\n",
       " array([1]),\n",
       " array([1]),\n",
       " array([1]),\n",
       " array([1]),\n",
       " array([1]),\n",
       " array([0]),\n",
       " array([1]),\n",
       " array([1]),\n",
       " array([1]),\n",
       " array([1]),\n",
       " array([1]),\n",
       " array([1]),\n",
       " array([0]),\n",
       " array([1]),\n",
       " array([0]),\n",
       " array([0]),\n",
       " array([1]),\n",
       " array([1]),\n",
       " array([1]),\n",
       " array([1]),\n",
       " array([1]),\n",
       " array([1]),\n",
       " array([1]),\n",
       " array([1]),\n",
       " array([1]),\n",
       " array([1]),\n",
       " array([0]),\n",
       " array([1]),\n",
       " array([0]),\n",
       " array([1]),\n",
       " array([1]),\n",
       " array([1]),\n",
       " array([1]),\n",
       " array([1]),\n",
       " array([1]),\n",
       " array([1]),\n",
       " array([1]),\n",
       " array([1]),\n",
       " array([1]),\n",
       " array([1]),\n",
       " array([1]),\n",
       " array([1]),\n",
       " array([1]),\n",
       " array([1]),\n",
       " array([1]),\n",
       " array([1]),\n",
       " array([1]),\n",
       " array([1]),\n",
       " array([1]),\n",
       " array([1]),\n",
       " array([0]),\n",
       " array([1]),\n",
       " array([1]),\n",
       " array([1]),\n",
       " array([0]),\n",
       " array([1]),\n",
       " array([0]),\n",
       " array([1]),\n",
       " array([1]),\n",
       " array([1]),\n",
       " array([1]),\n",
       " array([1]),\n",
       " array([0]),\n",
       " array([0]),\n",
       " array([1]),\n",
       " array([1]),\n",
       " array([1]),\n",
       " array([1]),\n",
       " array([0]),\n",
       " array([0]),\n",
       " array([1]),\n",
       " array([1]),\n",
       " array([0]),\n",
       " array([1]),\n",
       " array([0]),\n",
       " array([0]),\n",
       " array([1]),\n",
       " array([1]),\n",
       " array([1]),\n",
       " array([1]),\n",
       " array([1]),\n",
       " array([1]),\n",
       " array([1]),\n",
       " array([0]),\n",
       " array([1]),\n",
       " array([1]),\n",
       " array([1]),\n",
       " array([1]),\n",
       " array([1]),\n",
       " array([1]),\n",
       " array([1]),\n",
       " array([1]),\n",
       " array([1]),\n",
       " array([1]),\n",
       " array([1]),\n",
       " array([1]),\n",
       " array([1]),\n",
       " array([1]),\n",
       " array([1]),\n",
       " array([0]),\n",
       " array([1]),\n",
       " array([1]),\n",
       " array([1]),\n",
       " array([1]),\n",
       " array([1]),\n",
       " array([1]),\n",
       " array([1]),\n",
       " array([0]),\n",
       " array([1]),\n",
       " array([1]),\n",
       " array([1]),\n",
       " array([1]),\n",
       " array([0]),\n",
       " array([1]),\n",
       " array([1]),\n",
       " array([1]),\n",
       " array([0]),\n",
       " array([0]),\n",
       " array([0]),\n",
       " array([1]),\n",
       " array([1]),\n",
       " array([1]),\n",
       " array([0]),\n",
       " array([1]),\n",
       " array([0]),\n",
       " array([1]),\n",
       " array([1]),\n",
       " array([1]),\n",
       " array([1]),\n",
       " array([1]),\n",
       " array([1]),\n",
       " array([0]),\n",
       " array([0]),\n",
       " array([0]),\n",
       " array([1]),\n",
       " array([1]),\n",
       " array([0]),\n",
       " array([1]),\n",
       " array([0]),\n",
       " array([0]),\n",
       " array([1]),\n",
       " array([1]),\n",
       " array([1]),\n",
       " array([1]),\n",
       " array([0]),\n",
       " array([0]),\n",
       " array([1]),\n",
       " array([0]),\n",
       " array([1]),\n",
       " array([0]),\n",
       " array([1]),\n",
       " array([0]),\n",
       " array([1]),\n",
       " array([1]),\n",
       " array([1]),\n",
       " array([1]),\n",
       " array([1]),\n",
       " array([0]),\n",
       " array([1]),\n",
       " array([1]),\n",
       " array([1]),\n",
       " array([1]),\n",
       " array([1]),\n",
       " array([1]),\n",
       " array([0]),\n",
       " array([1]),\n",
       " array([0]),\n",
       " array([1]),\n",
       " array([1]),\n",
       " array([0]),\n",
       " array([1]),\n",
       " array([0]),\n",
       " array([1]),\n",
       " array([1]),\n",
       " array([1]),\n",
       " array([1]),\n",
       " array([1]),\n",
       " array([0])]"
      ]
     },
     "execution_count": 64,
     "metadata": {},
     "output_type": "execute_result"
    }
   ],
   "source": [
    "traindata = np.array(train)\n",
    "predicted = []\n",
    "for i in range(len(traindata)):\n",
    "    predicted.append(rf.predict([traindata[i]]))\n",
    "    \n",
    "predicted"
   ]
  },
  {
   "cell_type": "code",
   "execution_count": 65,
   "id": "11ccbf4d",
   "metadata": {},
   "outputs": [
    {
     "data": {
      "text/html": [
       "<div>\n",
       "<style scoped>\n",
       "    .dataframe tbody tr th:only-of-type {\n",
       "        vertical-align: middle;\n",
       "    }\n",
       "\n",
       "    .dataframe tbody tr th {\n",
       "        vertical-align: top;\n",
       "    }\n",
       "\n",
       "    .dataframe thead th {\n",
       "        text-align: right;\n",
       "    }\n",
       "</style>\n",
       "<table border=\"1\" class=\"dataframe\">\n",
       "  <thead>\n",
       "    <tr style=\"text-align: right;\">\n",
       "      <th></th>\n",
       "      <th>Gender</th>\n",
       "      <th>Specialisation</th>\n",
       "      <th>Techinal Degree</th>\n",
       "      <th>Work Experience</th>\n",
       "      <th>SSC_p</th>\n",
       "      <th>High School_p</th>\n",
       "      <th>Degree_p</th>\n",
       "      <th>Actual</th>\n",
       "      <th>Predicted</th>\n",
       "    </tr>\n",
       "  </thead>\n",
       "  <tbody>\n",
       "    <tr>\n",
       "      <th>0</th>\n",
       "      <td>1</td>\n",
       "      <td>1</td>\n",
       "      <td>2</td>\n",
       "      <td>0</td>\n",
       "      <td>67.00</td>\n",
       "      <td>91.00</td>\n",
       "      <td>58.00</td>\n",
       "      <td>1</td>\n",
       "      <td>1</td>\n",
       "    </tr>\n",
       "    <tr>\n",
       "      <th>1</th>\n",
       "      <td>1</td>\n",
       "      <td>0</td>\n",
       "      <td>2</td>\n",
       "      <td>1</td>\n",
       "      <td>79.33</td>\n",
       "      <td>78.33</td>\n",
       "      <td>77.48</td>\n",
       "      <td>1</td>\n",
       "      <td>1</td>\n",
       "    </tr>\n",
       "    <tr>\n",
       "      <th>2</th>\n",
       "      <td>1</td>\n",
       "      <td>0</td>\n",
       "      <td>0</td>\n",
       "      <td>0</td>\n",
       "      <td>65.00</td>\n",
       "      <td>68.00</td>\n",
       "      <td>64.00</td>\n",
       "      <td>1</td>\n",
       "      <td>1</td>\n",
       "    </tr>\n",
       "    <tr>\n",
       "      <th>3</th>\n",
       "      <td>1</td>\n",
       "      <td>1</td>\n",
       "      <td>2</td>\n",
       "      <td>0</td>\n",
       "      <td>56.00</td>\n",
       "      <td>52.00</td>\n",
       "      <td>52.00</td>\n",
       "      <td>0</td>\n",
       "      <td>0</td>\n",
       "    </tr>\n",
       "    <tr>\n",
       "      <th>4</th>\n",
       "      <td>1</td>\n",
       "      <td>0</td>\n",
       "      <td>0</td>\n",
       "      <td>0</td>\n",
       "      <td>85.80</td>\n",
       "      <td>73.60</td>\n",
       "      <td>73.30</td>\n",
       "      <td>1</td>\n",
       "      <td>1</td>\n",
       "    </tr>\n",
       "  </tbody>\n",
       "</table>\n",
       "</div>"
      ],
      "text/plain": [
       "   Gender  Specialisation  Techinal Degree  Work Experience  SSC_p  \\\n",
       "0       1               1                2                0  67.00   \n",
       "1       1               0                2                1  79.33   \n",
       "2       1               0                0                0  65.00   \n",
       "3       1               1                2                0  56.00   \n",
       "4       1               0                0                0  85.80   \n",
       "\n",
       "   High School_p  Degree_p  Actual  Predicted  \n",
       "0          91.00     58.00       1          1  \n",
       "1          78.33     77.48       1          1  \n",
       "2          68.00     64.00       1          1  \n",
       "3          52.00     52.00       0          0  \n",
       "4          73.60     73.30       1          1  "
      ]
     },
     "execution_count": 65,
     "metadata": {},
     "output_type": "execute_result"
    }
   ],
   "source": [
    "resultdf = train.copy()\n",
    "resultdf['Actual'] = np.array(test)\n",
    "resultdf['Predicted'] = np.array(predicted)\n",
    "resultdf.head()"
   ]
  },
  {
   "cell_type": "code",
   "execution_count": 66,
   "id": "1e1ab400",
   "metadata": {},
   "outputs": [
    {
     "data": {
      "text/plain": [
       "1    148\n",
       "0     67\n",
       "Name: Actual, dtype: int64"
      ]
     },
     "execution_count": 66,
     "metadata": {},
     "output_type": "execute_result"
    }
   ],
   "source": [
    "resultdf['Actual'].value_counts()"
   ]
  },
  {
   "cell_type": "code",
   "execution_count": 67,
   "id": "761625be",
   "metadata": {},
   "outputs": [
    {
     "data": {
      "text/plain": [
       "1    162\n",
       "0     53\n",
       "Name: Predicted, dtype: int64"
      ]
     },
     "execution_count": 67,
     "metadata": {},
     "output_type": "execute_result"
    }
   ],
   "source": [
    "resultdf['Predicted'].value_counts()"
   ]
  },
  {
   "cell_type": "code",
   "execution_count": 68,
   "id": "f28f3ca6",
   "metadata": {},
   "outputs": [
    {
     "data": {
      "text/plain": [
       "{'gender': {'F': 0, 'M': 1},\n",
       " 'ssc_b': {'Central': 0, 'Others': 1},\n",
       " 'hsc_b': {'Central': 0, 'Others': 1},\n",
       " 'hsc_s': {'Arts': 0, 'Commerce': 1, 'Science': 2},\n",
       " 'degree_t': {'Comm&Mgmt': 0, 'Others': 1, 'Sci&Tech': 2},\n",
       " 'workex': {'No': 0, 'Yes': 1},\n",
       " 'specialisation': {'Mkt&Fin': 0, 'Mkt&HR': 1},\n",
       " 'status': {'Not Placed': 0, 'Placed': 1}}"
      ]
     },
     "execution_count": 68,
     "metadata": {},
     "output_type": "execute_result"
    }
   ],
   "source": [
    "getmappings"
   ]
  },
  {
   "cell_type": "markdown",
   "id": "1b4ca2e2",
   "metadata": {},
   "source": [
    "### Predicted Probability"
   ]
  },
  {
   "cell_type": "code",
   "execution_count": 69,
   "id": "d280cf1a",
   "metadata": {},
   "outputs": [
    {
     "data": {
      "text/plain": [
       "[array([[0.32363863, 0.67636137]]),\n",
       " array([[0.08342803, 0.91657197]]),\n",
       " array([[0.25104713, 0.74895287]]),\n",
       " array([[0.88979101, 0.11020899]]),\n",
       " array([[0.08373193, 0.91626807]]),\n",
       " array([[0.65801546, 0.34198454]]),\n",
       " array([[0.69412487, 0.30587513]]),\n",
       " array([[0.11629972, 0.88370028]]),\n",
       " array([[0.08373193, 0.91626807]]),\n",
       " array([[0.473338, 0.526662]]),\n",
       " array([[0.42879067, 0.57120933]]),\n",
       " array([[0.08565403, 0.91434597]]),\n",
       " array([[0.86374865, 0.13625135]]),\n",
       " array([[0.21199893, 0.78800107]]),\n",
       " array([[0.84574667, 0.15425333]]),\n",
       " array([[0.09398851, 0.90601149]]),\n",
       " array([[0.16509893, 0.83490107]]),\n",
       " array([[0.67380685, 0.32619315]]),\n",
       " array([[0.56883201, 0.43116799]]),\n",
       " array([[0.16526898, 0.83473102]]),\n",
       " array([[0.24467498, 0.75532502]]),\n",
       " array([[0.09896048, 0.90103952]]),\n",
       " array([[0.18908191, 0.81091809]]),\n",
       " array([[0.20945635, 0.79054365]]),\n",
       " array([[0.09921723, 0.90078277]]),\n",
       " array([[0.80174474, 0.19825526]]),\n",
       " array([[0.08189022, 0.91810978]]),\n",
       " array([[0.20527003, 0.79472997]]),\n",
       " array([[0.08032928, 0.91967072]]),\n",
       " array([[0.48131093, 0.51868907]]),\n",
       " array([[0.15644392, 0.84355608]]),\n",
       " array([[0.6772648, 0.3227352]]),\n",
       " array([[0.25406648, 0.74593352]]),\n",
       " array([[0.09221124, 0.90778876]]),\n",
       " array([[0.85470528, 0.14529472]]),\n",
       " array([[0.12536611, 0.87463389]]),\n",
       " array([[0.88066056, 0.11933944]]),\n",
       " array([[0.2656446, 0.7343554]]),\n",
       " array([[0.2366294, 0.7633706]]),\n",
       " array([[0.21382753, 0.78617247]]),\n",
       " array([[0.09896048, 0.90103952]]),\n",
       " array([[0.30910408, 0.69089592]]),\n",
       " array([[0.79487357, 0.20512643]]),\n",
       " array([[0.08635359, 0.91364641]]),\n",
       " array([[0.08591498, 0.91408502]]),\n",
       " array([[0.16413411, 0.83586589]]),\n",
       " array([[0.33063211, 0.66936789]]),\n",
       " array([[0.24899444, 0.75100556]]),\n",
       " array([[0.17292059, 0.82707941]]),\n",
       " array([[0.90006642, 0.09993358]]),\n",
       " array([[0.10340099, 0.89659901]]),\n",
       " array([[0.7343369, 0.2656631]]),\n",
       " array([[0.89666232, 0.10333768]]),\n",
       " array([[0.11088123, 0.88911877]]),\n",
       " array([[0.12484325, 0.87515675]]),\n",
       " array([[0.49302806, 0.50697194]]),\n",
       " array([[0.31732877, 0.68267123]]),\n",
       " array([[0.09383206, 0.90616794]]),\n",
       " array([[0.10123666, 0.89876334]]),\n",
       " array([[0.41027438, 0.58972562]]),\n",
       " array([[0.07944933, 0.92055067]]),\n",
       " array([[0.08647437, 0.91352563]]),\n",
       " array([[0.16226255, 0.83773745]]),\n",
       " array([[0.51324603, 0.48675397]]),\n",
       " array([[0.08354467, 0.91645533]]),\n",
       " array([[0.8977678, 0.1022322]]),\n",
       " array([[0.10876545, 0.89123455]]),\n",
       " array([[0.08647437, 0.91352563]]),\n",
       " array([[0.45949772, 0.54050228]]),\n",
       " array([[0.09735825, 0.90264175]]),\n",
       " array([[0.2733175, 0.7266825]]),\n",
       " array([[0.0888949, 0.9111051]]),\n",
       " array([[0.09515209, 0.90484791]]),\n",
       " array([[0.09337891, 0.90662109]]),\n",
       " array([[0.25832323, 0.74167677]]),\n",
       " array([[0.30718981, 0.69281019]]),\n",
       " array([[0.12998475, 0.87001525]]),\n",
       " array([[0.1595464, 0.8404536]]),\n",
       " array([[0.17031059, 0.82968941]]),\n",
       " array([[0.27554874, 0.72445126]]),\n",
       " array([[0.12521792, 0.87478208]]),\n",
       " array([[0.09916092, 0.90083908]]),\n",
       " array([[0.17272668, 0.82727332]]),\n",
       " array([[0.08980724, 0.91019276]]),\n",
       " array([[0.09953962, 0.90046038]]),\n",
       " array([[0.08413818, 0.91586182]]),\n",
       " array([[0.42619759, 0.57380241]]),\n",
       " array([[0.84938056, 0.15061944]]),\n",
       " array([[0.15583409, 0.84416591]]),\n",
       " array([[0.1098238, 0.8901762]]),\n",
       " array([[0.09810441, 0.90189559]]),\n",
       " array([[0.88128107, 0.11871893]]),\n",
       " array([[0.27379778, 0.72620222]]),\n",
       " array([[0.75710981, 0.24289019]]),\n",
       " array([[0.47002052, 0.52997948]]),\n",
       " array([[0.10259209, 0.89740791]]),\n",
       " array([[0.08693313, 0.91306687]]),\n",
       " array([[0.35769795, 0.64230205]]),\n",
       " array([[0.22036589, 0.77963411]]),\n",
       " array([[0.57316306, 0.42683694]]),\n",
       " array([[0.83262566, 0.16737434]]),\n",
       " array([[0.15581719, 0.84418281]]),\n",
       " array([[0.09124699, 0.90875301]]),\n",
       " array([[0.09548379, 0.90451621]]),\n",
       " array([[0.23625799, 0.76374201]]),\n",
       " array([[0.63668033, 0.36331967]]),\n",
       " array([[0.82121478, 0.17878522]]),\n",
       " array([[0.08727431, 0.91272569]]),\n",
       " array([[0.18433775, 0.81566225]]),\n",
       " array([[0.62796904, 0.37203096]]),\n",
       " array([[0.16252259, 0.83747741]]),\n",
       " array([[0.8934713, 0.1065287]]),\n",
       " array([[0.61155469, 0.38844531]]),\n",
       " array([[0.10161152, 0.89838848]]),\n",
       " array([[0.10725394, 0.89274606]]),\n",
       " array([[0.14714678, 0.85285322]]),\n",
       " array([[0.08954872, 0.91045128]]),\n",
       " array([[0.0982965, 0.9017035]]),\n",
       " array([[0.09529653, 0.90470347]]),\n",
       " array([[0.23490925, 0.76509075]]),\n",
       " array([[0.85041569, 0.14958431]]),\n",
       " array([[0.1552664, 0.8447336]]),\n",
       " array([[0.09999597, 0.90000403]]),\n",
       " array([[0.116272, 0.883728]]),\n",
       " array([[0.24619528, 0.75380472]]),\n",
       " array([[0.09803976, 0.90196024]]),\n",
       " array([[0.09695558, 0.90304442]]),\n",
       " array([[0.12484325, 0.87515675]]),\n",
       " array([[0.09467231, 0.90532769]]),\n",
       " array([[0.08189022, 0.91810978]]),\n",
       " array([[0.47288303, 0.52711697]]),\n",
       " array([[0.41425882, 0.58574118]]),\n",
       " array([[0.22831595, 0.77168405]]),\n",
       " array([[0.09306072, 0.90693928]]),\n",
       " array([[0.08432545, 0.91567455]]),\n",
       " array([[0.25623714, 0.74376286]]),\n",
       " array([[0.72649564, 0.27350436]]),\n",
       " array([[0.12064605, 0.87935395]]),\n",
       " array([[0.09986671, 0.90013329]]),\n",
       " array([[0.15334954, 0.84665046]]),\n",
       " array([[0.08757802, 0.91242198]]),\n",
       " array([[0.4245596, 0.5754404]]),\n",
       " array([[0.09135862, 0.90864138]]),\n",
       " array([[0.09360353, 0.90639647]]),\n",
       " array([[0.86529435, 0.13470565]]),\n",
       " array([[0.11942351, 0.88057649]]),\n",
       " array([[0.25644434, 0.74355566]]),\n",
       " array([[0.15002401, 0.84997599]]),\n",
       " array([[0.21483883, 0.78516117]]),\n",
       " array([[0.78823362, 0.21176638]]),\n",
       " array([[0.20848251, 0.79151749]]),\n",
       " array([[0.10652891, 0.89347109]]),\n",
       " array([[0.14039636, 0.85960364]]),\n",
       " array([[0.5357934, 0.4642066]]),\n",
       " array([[0.52332566, 0.47667434]]),\n",
       " array([[0.63275296, 0.36724704]]),\n",
       " array([[0.22806291, 0.77193709]]),\n",
       " array([[0.29527899, 0.70472101]]),\n",
       " array([[0.32657229, 0.67342771]]),\n",
       " array([[0.90310973, 0.09689027]]),\n",
       " array([[0.20658201, 0.79341799]]),\n",
       " array([[0.89399962, 0.10600038]]),\n",
       " array([[0.07739958, 0.92260042]]),\n",
       " array([[0.38332063, 0.61667937]]),\n",
       " array([[0.27326482, 0.72673518]]),\n",
       " array([[0.20993027, 0.79006973]]),\n",
       " array([[0.3704375, 0.6295625]]),\n",
       " array([[0.15144288, 0.84855712]]),\n",
       " array([[0.8582809, 0.1417191]]),\n",
       " array([[0.84048992, 0.15951008]]),\n",
       " array([[0.57803528, 0.42196472]]),\n",
       " array([[0.07758685, 0.92241315]]),\n",
       " array([[0.40578332, 0.59421668]]),\n",
       " array([[0.89715671, 0.10284329]]),\n",
       " array([[0.47021805, 0.52978195]]),\n",
       " array([[0.52255934, 0.47744066]]),\n",
       " array([[0.60013744, 0.39986256]]),\n",
       " array([[0.08524617, 0.91475383]]),\n",
       " array([[0.34296935, 0.65703065]]),\n",
       " array([[0.44669371, 0.55330629]]),\n",
       " array([[0.15662534, 0.84337466]]),\n",
       " array([[0.61753675, 0.38246325]]),\n",
       " array([[0.55325742, 0.44674258]]),\n",
       " array([[0.09810218, 0.90189782]]),\n",
       " array([[0.68424534, 0.31575466]]),\n",
       " array([[0.11296744, 0.88703256]]),\n",
       " array([[0.72385022, 0.27614978]]),\n",
       " array([[0.10419117, 0.89580883]]),\n",
       " array([[0.82415627, 0.17584373]]),\n",
       " array([[0.44350796, 0.55649204]]),\n",
       " array([[0.41929289, 0.58070711]]),\n",
       " array([[0.11350172, 0.88649828]]),\n",
       " array([[0.14079469, 0.85920531]]),\n",
       " array([[0.42546867, 0.57453133]]),\n",
       " array([[0.86890707, 0.13109293]]),\n",
       " array([[0.09109126, 0.90890874]]),\n",
       " array([[0.09010405, 0.90989595]]),\n",
       " array([[0.33502099, 0.66497901]]),\n",
       " array([[0.44613277, 0.55386723]]),\n",
       " array([[0.332192, 0.667808]]),\n",
       " array([[0.22375063, 0.77624937]]),\n",
       " array([[0.72585829, 0.27414171]]),\n",
       " array([[0.22347404, 0.77652596]]),\n",
       " array([[0.62683201, 0.37316799]]),\n",
       " array([[0.08499425, 0.91500575]]),\n",
       " array([[0.37818684, 0.62181316]]),\n",
       " array([[0.87241046, 0.12758954]]),\n",
       " array([[0.13618824, 0.86381176]]),\n",
       " array([[0.75512646, 0.24487354]]),\n",
       " array([[0.29652015, 0.70347985]]),\n",
       " array([[0.08354467, 0.91645533]]),\n",
       " array([[0.29012609, 0.70987391]]),\n",
       " array([[0.08931385, 0.91068615]]),\n",
       " array([[0.36457997, 0.63542003]]),\n",
       " array([[0.70740175, 0.29259825]])]"
      ]
     },
     "execution_count": 69,
     "metadata": {},
     "output_type": "execute_result"
    }
   ],
   "source": [
    "traindata = np.array(train)\n",
    "predicted = []\n",
    "for i in range(len(traindata)):\n",
    "    predicted.append(rf.predict_proba([traindata[i]]))\n",
    "    \n",
    "predicted"
   ]
  },
  {
   "cell_type": "code",
   "execution_count": 70,
   "id": "d88fbacc",
   "metadata": {},
   "outputs": [
    {
     "data": {
      "text/plain": [
       "(array([0.32363863, 0.67636137]), 0.32363862602570465, 0.6763613739742952)"
      ]
     },
     "execution_count": 70,
     "metadata": {},
     "output_type": "execute_result"
    }
   ],
   "source": [
    "predicted[0][0],predicted[0][0][0],predicted[0][0][1]"
   ]
  },
  {
   "cell_type": "code",
   "execution_count": 71,
   "id": "339d401d",
   "metadata": {},
   "outputs": [
    {
     "data": {
      "text/html": [
       "<div>\n",
       "<style scoped>\n",
       "    .dataframe tbody tr th:only-of-type {\n",
       "        vertical-align: middle;\n",
       "    }\n",
       "\n",
       "    .dataframe tbody tr th {\n",
       "        vertical-align: top;\n",
       "    }\n",
       "\n",
       "    .dataframe thead th {\n",
       "        text-align: right;\n",
       "    }\n",
       "</style>\n",
       "<table border=\"1\" class=\"dataframe\">\n",
       "  <thead>\n",
       "    <tr style=\"text-align: right;\">\n",
       "      <th></th>\n",
       "      <th>Gender</th>\n",
       "      <th>Specialisation</th>\n",
       "      <th>Techinal Degree</th>\n",
       "      <th>Work Experience</th>\n",
       "      <th>SSC_p</th>\n",
       "      <th>High School_p</th>\n",
       "      <th>Degree_p</th>\n",
       "      <th>Actual</th>\n",
       "      <th>Predicted</th>\n",
       "      <th>Prob_not_getting_placed</th>\n",
       "      <th>Prob_getting_placed</th>\n",
       "    </tr>\n",
       "  </thead>\n",
       "  <tbody>\n",
       "    <tr>\n",
       "      <th>0</th>\n",
       "      <td>1</td>\n",
       "      <td>1</td>\n",
       "      <td>2</td>\n",
       "      <td>0</td>\n",
       "      <td>67.00</td>\n",
       "      <td>91.00</td>\n",
       "      <td>58.00</td>\n",
       "      <td>1</td>\n",
       "      <td>1</td>\n",
       "      <td>0.323639</td>\n",
       "      <td>0.676361</td>\n",
       "    </tr>\n",
       "    <tr>\n",
       "      <th>1</th>\n",
       "      <td>1</td>\n",
       "      <td>0</td>\n",
       "      <td>2</td>\n",
       "      <td>1</td>\n",
       "      <td>79.33</td>\n",
       "      <td>78.33</td>\n",
       "      <td>77.48</td>\n",
       "      <td>1</td>\n",
       "      <td>1</td>\n",
       "      <td>0.083428</td>\n",
       "      <td>0.916572</td>\n",
       "    </tr>\n",
       "    <tr>\n",
       "      <th>2</th>\n",
       "      <td>1</td>\n",
       "      <td>0</td>\n",
       "      <td>0</td>\n",
       "      <td>0</td>\n",
       "      <td>65.00</td>\n",
       "      <td>68.00</td>\n",
       "      <td>64.00</td>\n",
       "      <td>1</td>\n",
       "      <td>1</td>\n",
       "      <td>0.251047</td>\n",
       "      <td>0.748953</td>\n",
       "    </tr>\n",
       "    <tr>\n",
       "      <th>3</th>\n",
       "      <td>1</td>\n",
       "      <td>1</td>\n",
       "      <td>2</td>\n",
       "      <td>0</td>\n",
       "      <td>56.00</td>\n",
       "      <td>52.00</td>\n",
       "      <td>52.00</td>\n",
       "      <td>0</td>\n",
       "      <td>0</td>\n",
       "      <td>0.889791</td>\n",
       "      <td>0.110209</td>\n",
       "    </tr>\n",
       "    <tr>\n",
       "      <th>4</th>\n",
       "      <td>1</td>\n",
       "      <td>0</td>\n",
       "      <td>0</td>\n",
       "      <td>0</td>\n",
       "      <td>85.80</td>\n",
       "      <td>73.60</td>\n",
       "      <td>73.30</td>\n",
       "      <td>1</td>\n",
       "      <td>1</td>\n",
       "      <td>0.083732</td>\n",
       "      <td>0.916268</td>\n",
       "    </tr>\n",
       "    <tr>\n",
       "      <th>...</th>\n",
       "      <td>...</td>\n",
       "      <td>...</td>\n",
       "      <td>...</td>\n",
       "      <td>...</td>\n",
       "      <td>...</td>\n",
       "      <td>...</td>\n",
       "      <td>...</td>\n",
       "      <td>...</td>\n",
       "      <td>...</td>\n",
       "      <td>...</td>\n",
       "      <td>...</td>\n",
       "    </tr>\n",
       "    <tr>\n",
       "      <th>210</th>\n",
       "      <td>1</td>\n",
       "      <td>0</td>\n",
       "      <td>0</td>\n",
       "      <td>0</td>\n",
       "      <td>80.60</td>\n",
       "      <td>82.00</td>\n",
       "      <td>77.60</td>\n",
       "      <td>1</td>\n",
       "      <td>1</td>\n",
       "      <td>0.083545</td>\n",
       "      <td>0.916455</td>\n",
       "    </tr>\n",
       "    <tr>\n",
       "      <th>211</th>\n",
       "      <td>1</td>\n",
       "      <td>0</td>\n",
       "      <td>2</td>\n",
       "      <td>0</td>\n",
       "      <td>58.00</td>\n",
       "      <td>60.00</td>\n",
       "      <td>72.00</td>\n",
       "      <td>1</td>\n",
       "      <td>1</td>\n",
       "      <td>0.290126</td>\n",
       "      <td>0.709874</td>\n",
       "    </tr>\n",
       "    <tr>\n",
       "      <th>212</th>\n",
       "      <td>1</td>\n",
       "      <td>0</td>\n",
       "      <td>0</td>\n",
       "      <td>1</td>\n",
       "      <td>67.00</td>\n",
       "      <td>67.00</td>\n",
       "      <td>73.00</td>\n",
       "      <td>1</td>\n",
       "      <td>1</td>\n",
       "      <td>0.089314</td>\n",
       "      <td>0.910686</td>\n",
       "    </tr>\n",
       "    <tr>\n",
       "      <th>213</th>\n",
       "      <td>0</td>\n",
       "      <td>1</td>\n",
       "      <td>0</td>\n",
       "      <td>0</td>\n",
       "      <td>74.00</td>\n",
       "      <td>66.00</td>\n",
       "      <td>58.00</td>\n",
       "      <td>1</td>\n",
       "      <td>1</td>\n",
       "      <td>0.364580</td>\n",
       "      <td>0.635420</td>\n",
       "    </tr>\n",
       "    <tr>\n",
       "      <th>214</th>\n",
       "      <td>1</td>\n",
       "      <td>1</td>\n",
       "      <td>0</td>\n",
       "      <td>0</td>\n",
       "      <td>62.00</td>\n",
       "      <td>58.00</td>\n",
       "      <td>53.00</td>\n",
       "      <td>0</td>\n",
       "      <td>0</td>\n",
       "      <td>0.707402</td>\n",
       "      <td>0.292598</td>\n",
       "    </tr>\n",
       "  </tbody>\n",
       "</table>\n",
       "<p>215 rows × 11 columns</p>\n",
       "</div>"
      ],
      "text/plain": [
       "     Gender  Specialisation  Techinal Degree  Work Experience  SSC_p  \\\n",
       "0         1               1                2                0  67.00   \n",
       "1         1               0                2                1  79.33   \n",
       "2         1               0                0                0  65.00   \n",
       "3         1               1                2                0  56.00   \n",
       "4         1               0                0                0  85.80   \n",
       "..      ...             ...              ...              ...    ...   \n",
       "210       1               0                0                0  80.60   \n",
       "211       1               0                2                0  58.00   \n",
       "212       1               0                0                1  67.00   \n",
       "213       0               1                0                0  74.00   \n",
       "214       1               1                0                0  62.00   \n",
       "\n",
       "     High School_p  Degree_p  Actual  Predicted  Prob_not_getting_placed  \\\n",
       "0            91.00     58.00       1          1                 0.323639   \n",
       "1            78.33     77.48       1          1                 0.083428   \n",
       "2            68.00     64.00       1          1                 0.251047   \n",
       "3            52.00     52.00       0          0                 0.889791   \n",
       "4            73.60     73.30       1          1                 0.083732   \n",
       "..             ...       ...     ...        ...                      ...   \n",
       "210          82.00     77.60       1          1                 0.083545   \n",
       "211          60.00     72.00       1          1                 0.290126   \n",
       "212          67.00     73.00       1          1                 0.089314   \n",
       "213          66.00     58.00       1          1                 0.364580   \n",
       "214          58.00     53.00       0          0                 0.707402   \n",
       "\n",
       "     Prob_getting_placed  \n",
       "0               0.676361  \n",
       "1               0.916572  \n",
       "2               0.748953  \n",
       "3               0.110209  \n",
       "4               0.916268  \n",
       "..                   ...  \n",
       "210             0.916455  \n",
       "211             0.709874  \n",
       "212             0.910686  \n",
       "213             0.635420  \n",
       "214             0.292598  \n",
       "\n",
       "[215 rows x 11 columns]"
      ]
     },
     "execution_count": 71,
     "metadata": {},
     "output_type": "execute_result"
    }
   ],
   "source": [
    "resultdf['Prob_not_getting_placed'] = np.array([predicted[i][0][0] for i in range(len(predicted))])\n",
    "resultdf['Prob_getting_placed'] = np.array([predicted[i][0][1] for i in range(len(predicted))])\n",
    "resultdf"
   ]
  },
  {
   "cell_type": "code",
   "execution_count": 72,
   "id": "25004d9e",
   "metadata": {},
   "outputs": [],
   "source": [
    "# saving the model\n",
    "\n",
    "import pickle\n",
    "file = open('campusplacementpredictor.pkl','wb')\n",
    "pickle.dump(rf,file)\n",
    "file.close()"
   ]
  },
  {
   "cell_type": "markdown",
   "id": "997f7da3",
   "metadata": {},
   "source": [
    "### Conclusions\n",
    "\n",
    "\n",
    " + 16 records were missclassified,resulting in the accuracy of 93% on testing data\n",
    " + Random Forest model gave the best results\n",
    " "
   ]
  }
 ],
 "metadata": {
  "kernelspec": {
   "display_name": "Python 3",
   "language": "python",
   "name": "python3"
  },
  "language_info": {
   "codemirror_mode": {
    "name": "ipython",
    "version": 3
   },
   "file_extension": ".py",
   "mimetype": "text/x-python",
   "name": "python",
   "nbconvert_exporter": "python",
   "pygments_lexer": "ipython3",
   "version": "3.8.8"
  },
  "vscode": {
   "interpreter": {
    "hash": "fed54a58973894f01c91b9bf4b39133f9413114d3d2792e2343cb37cfb0c3683"
   }
  }
 },
 "nbformat": 4,
 "nbformat_minor": 5
}
